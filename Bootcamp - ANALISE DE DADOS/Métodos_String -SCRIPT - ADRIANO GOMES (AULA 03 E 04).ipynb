{
  "cells": [
    {
      "cell_type": "markdown",
      "metadata": {
        "id": "Jq3WfWbF6SZD"
      },
      "source": [
        "##Criação de Strings##"
      ]
    },
    {
      "cell_type": "code",
      "execution_count": null,
      "metadata": {
        "id": "cEqCcY7m6WhJ"
      },
      "outputs": [],
      "source": [
        "# Strings podem ser criadas usandos aspas simples ou duplas\n",
        "s1 = 'Hello, World!'\n",
        "s2 = \"Hello, World!\"\n",
        "\n",
        "# Strings de múltiplas linhas usando três aspas simples ou duplas\n",
        "s3 = ''' Essa é minha frase\n",
        "contendo múltiplas linhas\n",
        "na mesma variáveis '''\n",
        "\n",
        "s4 = \"\"\" Essa é minha frase\n",
        "contendo múltiplas linhas\n",
        "na mesma variáveis \"\"\""
      ]
    },
    {
      "cell_type": "markdown",
      "metadata": {
        "id": "mB04FAzp8tIL"
      },
      "source": [
        "##Acessando Caracteres e Substrings##"
      ]
    },
    {
      "cell_type": "code",
      "execution_count": null,
      "metadata": {
        "colab": {
          "base_uri": "https://localhost:8080/"
        },
        "id": "zsEMm_QR8422",
        "outputId": "0c4d23d7-208b-4fef-d867-ee764b66dc11"
      },
      "outputs": [
        {
          "name": "stdout",
          "output_type": "stream",
          "text": [
            "H\n",
            "!\n",
            "Hello\n",
            "World!\n",
            "Hello\n"
          ]
        }
      ],
      "source": [
        "s = \"Hello, World!\"\n",
        "\n",
        "#Acessar um caractere\n",
        "print(s[0])\n",
        "print(s[-1])\n",
        "\n",
        "#Acessar uma substring\n",
        "print(s[0:5]) # acessa a substring do início até o índice 5 (excluindo o 5).\n",
        "print(s[7:])  # acessa a substring do índice 7 até o final da string.\n",
        "print(s[:5])  # acessa a substring do início até o índice 5 (excluindo o 5)."
      ]
    },
    {
      "cell_type": "markdown",
      "metadata": {
        "id": "WDhW98o0-5x8"
      },
      "source": [
        "##Métodos Comuns de Strings##"
      ]
    },
    {
      "cell_type": "markdown",
      "metadata": {
        "id": "EzgZD3li-_s-"
      },
      "source": [
        "**len()** - Retorna o comprimento da string"
      ]
    },
    {
      "cell_type": "code",
      "execution_count": null,
      "metadata": {
        "colab": {
          "base_uri": "https://localhost:8080/"
        },
        "id": "RQKmRj8d_Gud",
        "outputId": "104e6b6e-5681-46ef-b781-bc4ac874e909"
      },
      "outputs": [
        {
          "name": "stdout",
          "output_type": "stream",
          "text": [
            "64\n"
          ]
        }
      ],
      "source": [
        "s = \"Essa é minha frase contendo múltiplas linhas na mesma variáveis \"\n",
        "print(len(s))"
      ]
    },
    {
      "cell_type": "markdown",
      "metadata": {
        "id": "g45I0qFn_3tW"
      },
      "source": [
        "**lower()** - Converter todos os caracteres da string para minúsculas."
      ]
    },
    {
      "cell_type": "code",
      "execution_count": null,
      "metadata": {
        "colab": {
          "base_uri": "https://localhost:8080/"
        },
        "collapsed": true,
        "id": "ctauGvLZAC66",
        "outputId": "0830b0dd-177d-4ae4-82f4-0c8b6fbbe933"
      },
      "outputs": [
        {
          "name": "stdout",
          "output_type": "stream",
          "text": [
            "essa é minha frase contendo múltiplas linhas na mesma variáveis \n"
          ]
        }
      ],
      "source": [
        "s = \"Essa é minha frase contendo múltiplas linhas na mesma variáveis \"\n",
        "print(s.lower())"
      ]
    },
    {
      "cell_type": "markdown",
      "metadata": {
        "id": "0YE4oE4aAXHL"
      },
      "source": [
        "**upper()** - Converter todos os caracteres da string para maiúsculas."
      ]
    },
    {
      "cell_type": "code",
      "execution_count": null,
      "metadata": {
        "colab": {
          "base_uri": "https://localhost:8080/"
        },
        "collapsed": true,
        "id": "ul8w76hGAdHV",
        "outputId": "8fc64e1f-e3ec-4716-d0f4-472b36fba641"
      },
      "outputs": [
        {
          "name": "stdout",
          "output_type": "stream",
          "text": [
            "Digite uma frase: minha frase\n",
            "minha frase\n",
            "MINHA FRASE\n",
            "minha frase\n",
            "Digite uma frase: minha frase\n",
            "MINHA FRASE\n"
          ]
        }
      ],
      "source": [
        "s = input(\"Digite uma frase: \")\n",
        "print(s)\n",
        "print(s.upper())\n",
        "print(s)\n",
        "\n",
        "s2 = input(\"Digite uma frase: \").upper()\n",
        "print(s2)"
      ]
    },
    {
      "cell_type": "markdown",
      "metadata": {
        "id": "IHjK9AqeB3h-"
      },
      "source": [
        "**strip()** - Remove espaços em branco do início e do fim de uma string"
      ]
    },
    {
      "cell_type": "code",
      "execution_count": null,
      "metadata": {
        "colab": {
          "base_uri": "https://localhost:8080/"
        },
        "collapsed": true,
        "id": "vwxW5codGJcn",
        "outputId": "c0c970a0-fc02-462c-acbb-71db35e6eb86"
      },
      "outputs": [
        {
          "name": "stdout",
          "output_type": "stream",
          "text": [
            "Digite uma frase:  minha frase de efeito       \n",
            "29\n",
            "21\n",
            "Digite uma frase:  minha frase de efeito       \n",
            "21\n"
          ]
        }
      ],
      "source": [
        "s = input(\"Digite uma frase: \")\n",
        "print(len(s))\n",
        "s = s.strip()\n",
        "print(len(s))\n",
        "\n",
        "s2 = input(\"Digite uma frase: \").strip()\n",
        "print(len(s))"
      ]
    },
    {
      "cell_type": "markdown",
      "metadata": {
        "id": "-xRVgL49IC7H"
      },
      "source": [
        "**split()** - Divide a string em uma lista de substrings com base em um delimitador"
      ]
    },
    {
      "cell_type": "code",
      "execution_count": null,
      "metadata": {
        "colab": {
          "base_uri": "https://localhost:8080/"
        },
        "collapsed": true,
        "id": "b0Ka2MO6IeST",
        "outputId": "0508a509-8d4d-40bd-92a0-c90fdc49a0bd"
      },
      "outputs": [
        {
          "name": "stdout",
          "output_type": "stream",
          "text": [
            "Digite uma frase: Hello, World!\n",
            "['Hello,', 'World!']\n",
            "['Hello, World!']\n",
            "['Hello', '', 'World!']\n"
          ]
        }
      ],
      "source": [
        "import re\n",
        "\n",
        "s = input(\"Digite uma frase: \")\n",
        "print (s.split())\n",
        "print (s.split('-'))\n",
        "\n",
        "s.upper()\n",
        "resultado = re.split(r'[ ,]', s)\n",
        "print(resultado)"
      ]
    },
    {
      "cell_type": "markdown",
      "metadata": {
        "id": "okM3K2u5Kjes"
      },
      "source": [
        "**replace()** - substitui as ocorrências de uma string por outra substring"
      ]
    },
    {
      "cell_type": "code",
      "execution_count": null,
      "metadata": {
        "colab": {
          "base_uri": "https://localhost:8080/"
        },
        "id": "uVoOXGGGKqt0",
        "outputId": "75014883-01eb-4a3a-b845-40742ec41ed5"
      },
      "outputs": [
        {
          "name": "stdout",
          "output_type": "stream",
          "text": [
            "Hello, Python!\n"
          ]
        }
      ],
      "source": [
        "s = \"Hello, World!\"\n",
        "print(s.replace('World', 'Python'))"
      ]
    },
    {
      "cell_type": "markdown",
      "metadata": {
        "id": "R7SO31QzLB63"
      },
      "source": [
        "**join()** - Une uma lista de strings em uma única string usando delimitador"
      ]
    },
    {
      "cell_type": "code",
      "execution_count": null,
      "metadata": {
        "colab": {
          "base_uri": "https://localhost:8080/"
        },
        "collapsed": true,
        "id": "tn8VgqL7LLlE",
        "outputId": "483b39a7-c0e8-484a-94b1-17c8dcce86c0"
      },
      "outputs": [
        {
          "name": "stdout",
          "output_type": "stream",
          "text": [
            "Hello World Python\n",
            "Hello, World, Python\n"
          ]
        }
      ],
      "source": [
        "words = [\"Hello\", \"World\", \"Python\"]\n",
        "print (' '.join(words))\n",
        "print (', '.join(words))"
      ]
    },
    {
      "cell_type": "markdown",
      "metadata": {
        "id": "7swV2OubLtVv"
      },
      "source": [
        "**find()** - Retorna o indice da primeira ocorrência ou -1 se não encontrar"
      ]
    },
    {
      "cell_type": "code",
      "execution_count": null,
      "metadata": {
        "colab": {
          "base_uri": "https://localhost:8080/"
        },
        "id": "vKzc4ZHpL5EM",
        "outputId": "ef4bf385-623b-4c85-f807-bc2eaba6040b"
      },
      "outputs": [
        {
          "name": "stdout",
          "output_type": "stream",
          "text": [
            "7\n",
            "-1\n"
          ]
        }
      ],
      "source": [
        "s = \"Hello, World!\"\n",
        "print(s.find('World'))\n",
        "print(s.find('Python'))"
      ]
    },
    {
      "cell_type": "markdown",
      "metadata": {
        "id": "X4zMT2p9MIs5"
      },
      "source": [
        "**count()** - Conta o número de ocorrências de uma substring"
      ]
    },
    {
      "cell_type": "code",
      "execution_count": null,
      "metadata": {
        "colab": {
          "base_uri": "https://localhost:8080/"
        },
        "id": "9HrDaifoMQc9",
        "outputId": "99e1c9e3-d889-4830-add8-cbffb745be1e"
      },
      "outputs": [
        {
          "name": "stdout",
          "output_type": "stream",
          "text": [
            "2\n"
          ]
        }
      ],
      "source": [
        "s = \"Hello, World, Hello!\"\n",
        "print(s.count('Hello'))"
      ]
    },
    {
      "cell_type": "markdown",
      "metadata": {
        "id": "BksUpLFSMxV0"
      },
      "source": [
        "**startswith() e endswith()** - Verifica se a string começa ou termina com uma determina substring"
      ]
    },
    {
      "cell_type": "code",
      "execution_count": null,
      "metadata": {
        "colab": {
          "base_uri": "https://localhost:8080/"
        },
        "id": "c76qN-3wNFgQ",
        "outputId": "c8a2562d-ed64-4af2-b8f6-8602086e4668"
      },
      "outputs": [
        {
          "name": "stdout",
          "output_type": "stream",
          "text": [
            "True\n",
            "True\n"
          ]
        }
      ],
      "source": [
        "s = \"Hello, World, Hello!\"\n",
        "\n",
        "print(s.startswith('Hello'))\n",
        "print(s.endswith('!'))"
      ]
    },
    {
      "cell_type": "markdown",
      "metadata": {
        "id": "G1InZJZ5kPr3"
      },
      "source": [
        "**Técnica Slicing** - fatiamento de uma string"
      ]
    },
    {
      "cell_type": "code",
      "execution_count": null,
      "metadata": {
        "colab": {
          "base_uri": "https://localhost:8080/"
        },
        "collapsed": true,
        "id": "mJocp-PwkiEu",
        "outputId": "5e250bfe-2afb-403a-e72a-2358a8816440"
      },
      "outputs": [
        {
          "name": "stdout",
          "output_type": "stream",
          "text": [
            "Digite uma frase: Hello World\n",
            "Hello World\n",
            "Hlo\n"
          ]
        }
      ],
      "source": [
        "#sequencia[inicio:fim:passo]\n",
        "#inicio: índice onde o fatiamento começa (inclusivo). Se omitido, o padrão é o início da sequência.\n",
        "#fim: índice onde o fatiamento termina (exclusivo). Se omitido, o padrão é o final da sequência.\n",
        "#passo: tamanho do passo ou incremento entre índices. Se omitido, o padrão é 1.\n",
        "s = input(\"Digite uma frase: \")\n",
        "print(s)\n",
        "\n",
        "#Inverter uma string usando slicing\n",
        "x = s[::-1] # O slicing [::-1] começa do início até o final da sequência, mas com um passo de -1, o que inverte a string.\n",
        "# y = s[0:5:2]\n",
        "print(x)"
      ]
    },
    {
      "cell_type": "markdown",
      "metadata": {
        "id": "_0yowQiEPGsX"
      },
      "source": [
        "**capitalize()** - Converte o primeiro caractere da string para maiúscula."
      ]
    },
    {
      "cell_type": "code",
      "execution_count": null,
      "metadata": {
        "colab": {
          "base_uri": "https://localhost:8080/"
        },
        "id": "UB-j9LZ_PSY3",
        "outputId": "6f7a35b3-539f-4086-eaf3-8c121fa08645"
      },
      "outputs": [
        {
          "name": "stdout",
          "output_type": "stream",
          "text": [
            "Hello, world!\n"
          ]
        }
      ],
      "source": [
        "s = \"hello, world!\"\n",
        "print(s.capitalize())"
      ]
    },
    {
      "cell_type": "markdown",
      "metadata": {
        "id": "pufRqWdMP3n8"
      },
      "source": [
        "**title()** - Converte a primeira letra de cada palavra para maiúscula."
      ]
    },
    {
      "cell_type": "code",
      "execution_count": null,
      "metadata": {
        "colab": {
          "base_uri": "https://localhost:8080/"
        },
        "collapsed": true,
        "id": "Hz28wmYeQGu5",
        "outputId": "4ea5be77-8bb6-4543-c2df-528855767224"
      },
      "outputs": [
        {
          "name": "stdout",
          "output_type": "stream",
          "text": [
            "Hello, World!\n",
            "Hello, World!\n",
            "Digite sua frase: minha frase preferida\n",
            "MINHA FRASE PREFERIDA\n"
          ]
        }
      ],
      "source": [
        "s = \"hello, world!\"\n",
        "print(s.title())\n",
        "\n",
        "s2 = \"hello, world!\"\n",
        "resposta = ' '.join(word.capitalize() for word in s2.split())\n",
        "print(resposta)\n",
        "\n",
        "def capitalizar(algo):\n",
        "  words = algo.split() # words = [\"hello\",\"world\"]\n",
        "                                        #x = world\n",
        "  capitalizar_palavras = [x.capitalize() for x in words]\n",
        "  return ' '.join(capitalizar_palavras)\n",
        "\n",
        "frase = input(\"Digite sua frase: \")\n",
        "print(capitalizar(frase))"
      ]
    },
    {
      "cell_type": "markdown",
      "metadata": {
        "id": "Xa2cc64JUER6"
      },
      "source": [
        "**casefold()** - É uma maneira mais agressiva que o lower() de converter uma string em minúscula."
      ]
    },
    {
      "cell_type": "code",
      "execution_count": null,
      "metadata": {
        "colab": {
          "base_uri": "https://localhost:8080/"
        },
        "id": "YDKUEzHPUdSK",
        "outputId": "ec6e013f-365c-4ed2-fcb7-5304ccf415b8"
      },
      "outputs": [
        {
          "name": "stdout",
          "output_type": "stream",
          "text": [
            "False\n",
            "True\n"
          ]
        }
      ],
      "source": [
        "# s = \"ß\"\n",
        "# print(s.lower())\n",
        "# print(s.casefold())\n",
        "\n",
        "s1 = \"Große\"\n",
        "s2 = \"Grosse\"\n",
        "\n",
        "print(s1.lower() == s2.lower())\n",
        "print(s1.casefold() == s2.casefold())"
      ]
    },
    {
      "cell_type": "markdown",
      "metadata": {
        "id": "cOr1uNK8W7cC"
      },
      "source": [
        "**center()** - Centraliza a string, preenchendo com caracteres espeficificos, padrão espaço"
      ]
    },
    {
      "cell_type": "code",
      "execution_count": null,
      "metadata": {
        "colab": {
          "base_uri": "https://localhost:8080/"
        },
        "collapsed": true,
        "id": "RzqZHPDlXHTk",
        "outputId": "b2dc1a8f-8b95-4edd-f450-07f13aa9b70d"
      },
      "outputs": [
        {
          "name": "stdout",
          "output_type": "stream",
          "text": [
            "hello\n",
            "  hello   \n",
            "***hello***\n"
          ]
        }
      ],
      "source": [
        "s = \"hello\"\n",
        "print(s)\n",
        "print(s.center(10))\n",
        "print(s.center(11, '*'))"
      ]
    },
    {
      "cell_type": "markdown",
      "metadata": {
        "id": "6RbC3bXkXvpX"
      },
      "source": [
        "**expandtabs()** - Expande tabulações ('\\t')"
      ]
    },
    {
      "cell_type": "code",
      "execution_count": null,
      "metadata": {
        "colab": {
          "base_uri": "https://localhost:8080/"
        },
        "id": "F6tCTUrgX4uw",
        "outputId": "7122e26a-bc45-49dc-f486-e6542188b0b2"
      },
      "outputs": [
        {
          "name": "stdout",
          "output_type": "stream",
          "text": [
            "hello world\n"
          ]
        }
      ],
      "source": [
        "s = \"hello\\tworld\"\n",
        "\n",
        "print(s.expandtabs(1))"
      ]
    },
    {
      "cell_type": "markdown",
      "metadata": {
        "id": "1PTyOLQOYiHK"
      },
      "source": [
        "**isalnum()** - se todos os caracteres sao alfanuméricos"
      ]
    },
    {
      "cell_type": "code",
      "execution_count": null,
      "metadata": {
        "colab": {
          "base_uri": "https://localhost:8080/"
        },
        "id": "wPnloWpKYrFt",
        "outputId": "096f3151-526d-46ca-8cf9-ca84d28b76a5"
      },
      "outputs": [
        {
          "name": "stdout",
          "output_type": "stream",
          "text": [
            "False\n"
          ]
        }
      ],
      "source": [
        "s = \"hello123\"\n",
        "print(s.isalnum())"
      ]
    },
    {
      "cell_type": "markdown",
      "metadata": {
        "id": "w7ypvUSjY8CZ"
      },
      "source": [
        "**isalpha()** - se todos os caracteres sao letras"
      ]
    },
    {
      "cell_type": "code",
      "execution_count": null,
      "metadata": {
        "colab": {
          "base_uri": "https://localhost:8080/"
        },
        "id": "4ckW7x2PZBel",
        "outputId": "0681032f-acde-4d94-c418-5b26b1cf6316"
      },
      "outputs": [
        {
          "name": "stdout",
          "output_type": "stream",
          "text": [
            "False\n"
          ]
        }
      ],
      "source": [
        "s = \"hello1\"\n",
        "print(s.isalpha())"
      ]
    },
    {
      "cell_type": "markdown",
      "metadata": {
        "id": "VYRL94ejZOlU"
      },
      "source": [
        "**isdigit()** - se todos os caracteres sao digitos"
      ]
    },
    {
      "cell_type": "code",
      "execution_count": null,
      "metadata": {
        "colab": {
          "base_uri": "https://localhost:8080/"
        },
        "id": "U_hMSm2cZTlG",
        "outputId": "f12bc23c-9363-40f1-be77-f3c22ce8f831"
      },
      "outputs": [
        {
          "name": "stdout",
          "output_type": "stream",
          "text": [
            "False\n"
          ]
        }
      ],
      "source": [
        "s = \"123456\"\n",
        "print(s.isdigit())"
      ]
    },
    {
      "cell_type": "markdown",
      "metadata": {
        "id": "G-Jht1rLZdPu"
      },
      "source": [
        "**islower()** - se todos são minúsculas\n",
        "**isupper()** - se todos são maiúsculas"
      ]
    },
    {
      "cell_type": "markdown",
      "metadata": {
        "id": "11pHyoAbZsKv"
      },
      "source": [
        "**isspace()** - se todos os caracteres são espaços em branco"
      ]
    },
    {
      "cell_type": "code",
      "execution_count": null,
      "metadata": {
        "colab": {
          "base_uri": "https://localhost:8080/"
        },
        "id": "0EVuhpuvZyQE",
        "outputId": "73936d53-d34a-4bd3-de20-30df59f470e3"
      },
      "outputs": [
        {
          "name": "stdout",
          "output_type": "stream",
          "text": [
            "True\n"
          ]
        }
      ],
      "source": [
        "s = \"       \"\n",
        "print(s.isspace())"
      ]
    },
    {
      "cell_type": "markdown",
      "metadata": {
        "id": "PESGr7Jx84_8"
      },
      "source": [
        "##Formatação de Strings##"
      ]
    },
    {
      "cell_type": "markdown",
      "metadata": {
        "id": "lmC98eNT9KsC"
      },
      "source": [
        "**format()** - Substitui os marcadores {} de posição na string por valores especificados."
      ]
    },
    {
      "cell_type": "code",
      "execution_count": null,
      "metadata": {
        "colab": {
          "base_uri": "https://localhost:8080/"
        },
        "id": "1feuZ11P9Ysd",
        "outputId": "91fa1a0b-b80d-49af-97c2-b875a91d48f9"
      },
      "outputs": [
        {
          "name": "stdout",
          "output_type": "stream",
          "text": [
            "Hello, Helen. You are 30 years old.\n"
          ]
        }
      ],
      "source": [
        "nome = \"Helen\"\n",
        "idade = 30\n",
        "mensagem = \"Hello, {}. You are {} years old.\".format(nome, idade)\n",
        "print(mensagem)"
      ]
    },
    {
      "cell_type": "markdown",
      "metadata": {
        "id": "JCR9GEi--W01"
      },
      "source": [
        "**f-strings** - Funciona a partir do Python 3.6. Permite inserir expressões dentro da string."
      ]
    },
    {
      "cell_type": "code",
      "execution_count": null,
      "metadata": {
        "colab": {
          "base_uri": "https://localhost:8080/"
        },
        "id": "9tWgmRpV-mgY",
        "outputId": "4eecfc2e-a035-44de-851d-2f2e6b6fda1f"
      },
      "outputs": [
        {
          "name": "stdout",
          "output_type": "stream",
          "text": [
            "Hello, Helen. You are 30 years old.\n",
            "Hello, Helen. You are 30 years old.\n"
          ]
        }
      ],
      "source": [
        "nome = \"Helen\"\n",
        "idade = 30\n",
        "\n",
        "mensagem = f\"Hello, {nome}. You are {idade} years old.\"\n",
        "print(mensagem)\n",
        "\n",
        "print(f\"Hello, {nome}. You are {idade} years old.\")"
      ]
    }
  ],
  "metadata": {
    "colab": {
      "provenance": []
    },
    "kernelspec": {
      "display_name": "Python 3",
      "name": "python3"
    },
    "language_info": {
      "name": "python"
    }
  },
  "nbformat": 4,
  "nbformat_minor": 0
}
