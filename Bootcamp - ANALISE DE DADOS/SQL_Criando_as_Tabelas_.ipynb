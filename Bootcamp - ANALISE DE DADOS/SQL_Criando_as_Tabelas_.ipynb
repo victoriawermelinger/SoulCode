{
  "nbformat": 4,
  "nbformat_minor": 0,
  "metadata": {
    "colab": {
      "provenance": []
    },
    "kernelspec": {
      "name": "python3",
      "display_name": "Python 3"
    },
    "language_info": {
      "name": "python"
    }
  },
  "cells": [
    {
      "cell_type": "markdown",
      "source": [
        "## Criando as tabelas\n",
        "\n",
        "**Preechendo as Tabelas**\n",
        "https://www.mockaroo.com/"
      ],
      "metadata": {
        "id": "sqL-jwh93LU6"
      }
    },
    {
      "cell_type": "code",
      "execution_count": null,
      "metadata": {
        "id": "L921xF84RDSW"
      },
      "outputs": [],
      "source": [
        "# Criando Tabela DEPARTAMENTO\n",
        "\n",
        "-- DEPARTAMENTO (numdepto(pk), nome)\n",
        "-- EMPREGADO (matricula(pk), nome, salario, numdepto(fk))\n",
        "\n",
        "CREATE TABLE IF NOT EXISTS DEPARTAMENTO(\n",
        "  numdepto INT AUTO_INCREMENT,\n",
        "  nome_depatamento VARCHAR(60),\n",
        "  CONSTRAINT departamento_PK PRIMARY KEY (numdepto)\n",
        ");\n",
        "\n",
        "Drop TABLE DEPARTAMENTO\n",
        "\n",
        "insert into DEPARTAMENTO (nome_depatamento) values ('Treinamento internor');\n",
        "insert into DEPARTAMENTO (nome_depatamento) values ('Recursos Humanos');\n",
        "insert into DEPARTAMENTO (nome_depatamento) values ('Desenvolvimento de Negócios');\n",
        "insert into DEPARTAMENTO (nome_depatamento) values ('Marketing');\n",
        "insert into DEPARTAMENTO (nome_depatamento) values ('Pesquisa e Desenvolvimento');\n",
        "insert into DEPARTAMENTO (nome_depatamento) values ('Vendas');\n",
        "insert into DEPARTAMENTO (nome_depatamento) values ('Serviços');\n",
        "insert into DEPARTAMENTO (nome_depatamento) values ('Gerenciamento de Produtos');\n",
        "insert into DEPARTAMENTO (nome_depatamento) values ('Engenharia');\n",
        "insert into DEPARTAMENTO (nome_depatamento) values ('Financeiro');\n",
        "insert into DEPARTAMENTO (nome_depatamento) values ('Tecnologia');\n",
        "insert into DEPARTAMENTO (nome_depatamento) values ('Training & Estagiáros');\n",
        "\n",
        "SELECT * from DEPARTAMENTO"
      ]
    },
    {
      "cell_type": "code",
      "source": [
        "# Criando Tabela EMPREGADO\n",
        "\n",
        "CREATE TABLE IF NOT EXISTS EMPREGADO(\n",
        "  matricula INT AUTO_INCREMENT,\n",
        "  nome_funcionario VARCHAR(70) NOT NULL,\n",
        "  salario DECIMAL (10,2),\n",
        "  numdepto INT,\n",
        "  -- CHAVE PRIMÁRIA\n",
        "  CONSTRAINT empregado_PK PRIMARY KEY (matricula),\n",
        "  -- CHAVE ESTRANGEIRA\n",
        "  CONSTRAINT empregado_FK FOREIGN KEY (numdepto) REFERENCES DEPARTAMENTO (numdepto)\n",
        ");\n",
        "\n",
        "insert into EMPREGADO (nome_funcionario , salario, numdepto) values ('Bill', 2162.65, 5);\n",
        ", ('Loydie', 17447.17, 8)\n",
        ", ('Hattie', 9911.64, 10)\n",
        ", ('Corabel', 2239.27, 10)\n",
        ", ('Kip', 9722.33, 9)\n",
        ", ('Raynor', 4027.3, 3)\n",
        ", ('Marnia', 16191.18, 10)\n",
        ", ('Clair', 11923.36, 8)\n",
        ", ('Elenore', 1836.24, 9)\n",
        ", ('Em', 18907.29, 1)\n",
        ", ('Antoni', 2243.74, 9); # tem mais no banco de dados aqui e uma amostra.\n",
        "\n",
        "SELECT * from EMPREGADO\n"
      ],
      "metadata": {
        "id": "CUUvRZweaFYn",
        "colab": {
          "base_uri": "https://localhost:8080/",
          "height": 106
        },
        "outputId": "b6f25fba-0064-452f-c743-349d1aa0d0d1"
      },
      "execution_count": null,
      "outputs": [
        {
          "output_type": "error",
          "ename": "SyntaxError",
          "evalue": "invalid syntax (<ipython-input-2-facb37deb822>, line 3)",
          "traceback": [
            "\u001b[0;36m  File \u001b[0;32m\"<ipython-input-2-facb37deb822>\"\u001b[0;36m, line \u001b[0;32m3\u001b[0m\n\u001b[0;31m    CREATE TABLE IF NOT EXISTS EMPREGADO(\u001b[0m\n\u001b[0m           ^\u001b[0m\n\u001b[0;31mSyntaxError\u001b[0m\u001b[0;31m:\u001b[0m invalid syntax\n"
          ]
        }
      ]
    },
    {
      "cell_type": "code",
      "source": [
        "# Criando Tabela PROJETO\n",
        "-- PROJETO(numproj, nome, lugar)\n",
        "CREATE TABLE IF NOT EXISTS PROJETO(\n",
        "  numproj INT AUTO_INCREMENT,\n",
        "  nome VARCHAR(30),\n",
        "  lugar VARCHAR(40),\n",
        "  -- CHAVE PRIMÁRIA\n",
        "  CONSTRAINT projeto_PK PRIMARY KEY (numproj)\n",
        ");\n",
        "\n",
        "insert into PROJETO (nome, lugar) values ('Trencher', 'San Isidro');\n",
        "insert into PROJETO (nome, lugar) values ('Excavator', 'Augusta');\n",
        "insert into PROJETO (nome, lugar) values ('Grader', 'Qukuhu');\n",
        "insert into PROJETO (nome, lugar) values ('Skid-Steer', 'Ash Shaykh Zuwayd');\n",
        "insert into PROJETO (nome, lugar) values ('Trencher', 'Cape Town');\n",
        "insert into PROJETO (nome, lugar) values ('Bulldozer', 'Timaru');\n",
        "insert into PROJETO (nome, lugar) values ('Scraper', 'Hāgere Hiywet');\n",
        "insert into PROJETO (nome, lugar) values ('Dragline', 'Bagikkedok Lauk');\n",
        "insert into PROJETO (nome, lugar) values ('Backhoe', 'Pedregal');\n",
        "insert into PROJETO (nome, lugar) values ('Skid-Steer', 'Notodden');"
      ],
      "metadata": {
        "id": "4v1unBhlJl4k"
      },
      "execution_count": null,
      "outputs": []
    },
    {
      "cell_type": "code",
      "source": [
        "# Criando Tabela TRABALHA\n",
        "\n",
        "-- TRABALHA (matricula_emp, numproj, horas)\n",
        "CREATE TABLE IF NOT EXISTS TRABALHA(\n",
        "  matricula_emp INT,\n",
        "  numproj INT,\n",
        "  horas VARCHAR(10),\n",
        "  -- CRIAR UMA CHAVE PRIMÁRIA COMPOSTA POR DUAS CHAVES ESTRANGEIRA\n",
        "  CONSTRAINT trabalha_PK PRIMARY KEY(matricula_emp,numproj),\n",
        "  -- CHAVE ESTRANGEIRA\n",
        "  CONSTRAINT trabalha_empregado_FK FOREIGN KEY (matricula_emp) REFERENCES EMPREGADO (matricula),\n",
        "  CONSTRAINT trabalha_projeto_FK FOREIGN KEY (numproj) REFERENCES PROJETO (numproj)\n",
        ");\n",
        "\n",
        "INSERT INTO TRABALHA(matricula_emp, numproj, horas) VALUES\n",
        "(10, 1, 40),\n",
        "(25, 1, 60),\n",
        "(15, 2, 10);"
      ],
      "metadata": {
        "id": "ohVNuY8zJpSh"
      },
      "execution_count": null,
      "outputs": []
    },
    {
      "cell_type": "markdown",
      "source": [
        "## USANDO AS TABELAS"
      ],
      "metadata": {
        "id": "Ny4fpLrXNJ1M"
      }
    },
    {
      "cell_type": "code",
      "source": [
        "# LISTAR A MATRICULA, NOME E O SALARIO DE TODOS OS DEPARTAMENTOS\n",
        "SELECT * FROM EMPREGADO\n",
        "SELECT matricula, nome_funcionario, salario FROM EMPREGADO;"
      ],
      "metadata": {
        "id": "hFF4J999NJF6"
      },
      "execution_count": null,
      "outputs": []
    },
    {
      "cell_type": "code",
      "source": [
        "# LISTAR TODOS OS DADOS DO EMPREGADO, JUNTANDO COM O NOME DO DEPARTAMENTO\n",
        "SELECT\n",
        "  e.matricula,\n",
        "  e.nome_funcionario as nome_empregado1,\n",
        "  e.salario,\n",
        "  e.numdepto,\n",
        "  d.nome_depatamento as nome_departamento\n",
        "FROM\n",
        "  EMPREGADO  e\n",
        "JOIN\n",
        "  DEPARTAMENTO d\n",
        "ON\n",
        "  e.numdepto = d.numdepto"
      ],
      "metadata": {
        "id": "wdIMMdHER3l-"
      },
      "execution_count": null,
      "outputs": []
    },
    {
      "cell_type": "code",
      "source": [
        "# SEM O ALIAS\n",
        "SELECT\n",
        "  EMPREGADO.matricula,\n",
        "  EMPREGADO.nome_funcionario as nome_empregado,\n",
        "  EMPREGADO.salario,\n",
        "  EMPREGADO.numdepto,\n",
        "  DEPARTAMENTO.nome_depatamento as nome_departamento\n",
        "FROM\n",
        "  EMPREGADO\n",
        "JOIN\n",
        "  DEPARTAMENTO\n",
        "ON\n",
        "  EMPREGADO.numdepto = DEPARTAMENTO.numdepto"
      ],
      "metadata": {
        "id": "94EhbwJbR-I8"
      },
      "execution_count": null,
      "outputs": []
    },
    {
      "cell_type": "code",
      "source": [
        "# CLÁUSULA WHERE (OPERADORES RELACIONAIS, OPERADORES LÓGICOS)\n",
        "\n",
        "-- LISTAR NOME, SALARIO DOS EMPREGADOS DO DEPARTAMENTO 10\n",
        "SELECT nome_funcionario, salario, numdepto FROM EMPREGADO WHERE numdepto=10\n",
        "\n",
        "-- LISTAR NOME, SALARIO DOS EMPREGADOS DO DEPARTAMENTO 10, APENAS DE QUEM GANHA ACIMA DE 6000\n",
        "SELECT nome_funcionario, salario, numdepto FROM EMPREGADO WHERE numdepto=1 AND salario>=6000"
      ],
      "metadata": {
        "id": "nE0VLOwySCON"
      },
      "execution_count": null,
      "outputs": []
    },
    {
      "cell_type": "code",
      "source": [
        "# Criando VIEW\n",
        "CREATE VIEW vw_empregado_departamento AS\n",
        "SELECT\n",
        "  e.matricula,\n",
        "  e.nome_funcionario as nome_empregado,\n",
        "  e.salario,\n",
        "  e.numdepto,\n",
        "  d.nome_depatamento as nome_departamento\n",
        "FROM\n",
        "  EMPREGADO  e\n",
        "JOIN\n",
        "  DEPARTAMENTO d\n",
        "ON\n",
        "  e.numdepto = d.numdepto"
      ],
      "metadata": {
        "id": "rORN4Cz1SFDo"
      },
      "execution_count": null,
      "outputs": []
    }
  ]
}