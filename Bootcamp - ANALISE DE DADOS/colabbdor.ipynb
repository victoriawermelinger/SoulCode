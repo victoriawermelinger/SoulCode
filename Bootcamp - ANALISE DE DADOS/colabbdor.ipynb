{
  "nbformat": 4,
  "nbformat_minor": 0,
  "metadata": {
    "colab": {
      "provenance": [],
      "include_colab_link": true
    },
    "kernelspec": {
      "name": "python3",
      "display_name": "Python 3"
    },
    "language_info": {
      "name": "python"
    }
  },
  "cells": [
    {
      "cell_type": "markdown",
      "metadata": {
        "id": "view-in-github",
        "colab_type": "text"
      },
      "source": [
        "<a href=\"https://colab.research.google.com/github/victoriawermelinger/SoulCode/blob/main/colabbdor.ipynb\" target=\"_parent\"><img src=\"https://colab.research.google.com/assets/colab-badge.svg\" alt=\"Open In Colab\"/></a>"
      ]
    },
    {
      "cell_type": "markdown",
      "source": [
        "##Criar tipos compostos (endereço e telefone)"
      ],
      "metadata": {
        "id": "XzH8k95Ieh-2"
      }
    },
    {
      "cell_type": "code",
      "execution_count": null,
      "metadata": {
        "id": "ulJyttBNcjm_"
      },
      "outputs": [],
      "source": [
        "-- Criar tipo para endereço\n",
        "CREATE TYPE tp_endereco AS (\n",
        "    rua VARCHAR(100),\n",
        "    numero INT,\n",
        "    bairro VARCHAR(50),\n",
        "    cidade VARCHAR(50),\n",
        "    cep CHAR(8)\n",
        ");\n",
        "\n",
        "-- Criar tipo para telefone\n",
        "CREATE TYPE tp_telefone AS (\n",
        "    ddd CHAR(3),\n",
        "    numero CHAR(9)\n",
        ");"
      ]
    },
    {
      "cell_type": "markdown",
      "source": [
        "##Criar a tabela PESSOA (tabela \"pai\")"
      ],
      "metadata": {
        "id": "POiNyAb9ezNr"
      }
    },
    {
      "cell_type": "code",
      "source": [
        "CREATE TABLE IF NOT EXISTS PESSOA (\n",
        "    id SERIAL PRIMARY KEY,\n",
        "    nome VARCHAR(100) NOT NULL,\n",
        "    endereco tp_endereco,  -- ROW contendo o tipo composto endereco\n",
        "    telefones tp_telefone[]  -- ARRAY de tipo telefone\n",
        ");"
      ],
      "metadata": {
        "id": "gIEc6b1Qe1LN"
      },
      "execution_count": null,
      "outputs": []
    },
    {
      "cell_type": "markdown",
      "source": [
        "##Criar a tabela PESSOA_FISICA (herança de PESSOA)"
      ],
      "metadata": {
        "id": "oPnDYSWgfROz"
      }
    },
    {
      "cell_type": "code",
      "source": [
        "CREATE TABLE PESSOA_FISICA (\n",
        "    cpf CHAR(11) UNIQUE NOT NULL,  -- Atributo específico de Pessoa Física\n",
        "    data_nascimento DATE\n",
        ") INHERITS (PESSOA);\n"
      ],
      "metadata": {
        "id": "fIlMCqHdf1qm"
      },
      "execution_count": null,
      "outputs": []
    },
    {
      "cell_type": "markdown",
      "source": [
        "##Criar a tabela PESSOA_JURIDICA (herança de PESSOA)"
      ],
      "metadata": {
        "id": "vEQmpeGbhQNw"
      }
    },
    {
      "cell_type": "code",
      "source": [
        "CREATE TABLE PESSOA_JURIDICA (\n",
        "    cnpj CHAR(14) UNIQUE NOT NULL,  -- Atributo específico de Pessoa Jurídica\n",
        "    razao_social VARCHAR(150) NOT NULL,\n",
        "    nome_fantasia VARCHAR(150)\n",
        ") INHERITS (PESSOA);\n"
      ],
      "metadata": {
        "id": "2TPpkvUshR5i"
      },
      "execution_count": null,
      "outputs": []
    },
    {
      "cell_type": "markdown",
      "source": [
        "##Inserindo Pessoa_Fisica"
      ],
      "metadata": {
        "id": "kPrrRwfUm6Rx"
      }
    },
    {
      "cell_type": "code",
      "source": [
        "#Com apenas um telefone\n",
        "INSERT INTO PESSOA_FISICA (nome, endereco, telefones, cpf, data_nascimento) VALUES\n",
        "('João Silva',('Rua das Flores', 123, 'Centro', 'São Paulo', '01000-000'),\n",
        " ARRAY[ROW('011', '987654321')::tp_telefone],  -- Especificar explicitamente o tipo telefone\n",
        " '12345678901', '1980-05-12');\n",
        "\n",
        "#Com mais de um telefone\n",
        "INSERT INTO PESSOA_FISICA (nome, endereco, telefones, cpf, data_nascimento) VALUES\n",
        "('Maria Oliveira',\n",
        " ('Avenida Brasil', 456, 'Jardim América', 'Rio de Janeiro', '22000-000'),\n",
        " ARRAY[ROW('021', '987654322')::tp_telefone, ROW('021', '912345678')::tp_telefone],  -- Inserir múltiplos telefones\n",
        " '98765432100', '1990-08-25');\n"
      ],
      "metadata": {
        "id": "I3uaxGTcm9ru"
      },
      "execution_count": null,
      "outputs": []
    },
    {
      "cell_type": "code",
      "source": [
        "#Consulta Pessoa Fisica\n",
        "SELECT nome, data_nascimento,(endereco).rua, (endereco).numero, (endereco).bairro, (endereco).cidade, (endereco).cep FROM pessoa_fisica"
      ],
      "metadata": {
        "id": "tQjNRDpnm-4U"
      },
      "execution_count": null,
      "outputs": []
    },
    {
      "cell_type": "code",
      "source": [
        "#Criando View\n",
        "CREATE VIEW CONSULTA_PF AS\n",
        "SELECT nome, data_nascimento,(endereco).rua, (endereco).numero, (endereco).bairro, (endereco).cidade, (endereco).cep FROM pessoa_fisica"
      ],
      "metadata": {
        "id": "dOVgSnQypbZV"
      },
      "execution_count": null,
      "outputs": []
    },
    {
      "cell_type": "code",
      "source": [
        "#Inserindo Pessoa Juridica\n",
        "INSERT INTO PESSOA_JURIDICA (nome, endereco, telefones, cnpj, razao_social, nome_fantasia) VALUES\n",
        "('Empresa XYZ',\n",
        "    ('Avenida Brasil', 456, 'Centro', 'Rio de Janeiro', '22000-000'),\n",
        "    ARRAY[ROW('021', '987654322')::tp_telefone],  -- Especificar explicitamente o tipo telefone\n",
        "    '12345678000195', 'XYZ S.A.', 'XYZ');\n"
      ],
      "metadata": {
        "id": "1sijo4tvqR1q"
      },
      "execution_count": null,
      "outputs": []
    },
    {
      "cell_type": "markdown",
      "source": [
        "##BDOR Sem usar ARRAY"
      ],
      "metadata": {
        "id": "FGeJcH8-sMj6"
      }
    },
    {
      "cell_type": "code",
      "source": [
        "-- Criar tipo para endereço\n",
        "CREATE TYPE tp_endereco AS (\n",
        "    rua VARCHAR(100),\n",
        "    numero INT,\n",
        "    bairro VARCHAR(50),\n",
        "    cidade VARCHAR(50),\n",
        "    cep CHAR(8)\n",
        ");\n",
        "\n",
        "-- Criar tipo para telefone\n",
        "CREATE TYPE tp_telefone AS (\n",
        "    ddd CHAR(3),\n",
        "    numero CHAR(9)\n",
        ");\n",
        "\n",
        "CREATE TABLE IF NOT EXISTS PESSOA (\n",
        "    id SERIAL PRIMARY KEY,\n",
        "    nome VARCHAR(100) NOT NULL,\n",
        "    endereco tp_endereco,  -- ROW contendo o tipo composto endereco\n",
        "    telefones tp_telefone  -- ROW de tipo telefone\n",
        ");\n",
        "\n",
        "CREATE TABLE PESSOA_FISICA (\n",
        "    cpf CHAR(11) UNIQUE NOT NULL,  -- Atributo específico de Pessoa Física\n",
        "    data_nascimento DATE\n",
        ") INHERITS (PESSOA);\n",
        "\n",
        "CREATE TABLE PESSOA_JURIDICA (\n",
        "    cnpj CHAR(14) UNIQUE NOT NULL,  -- Atributo específico de Pessoa Jurídica\n",
        "    razao_social VARCHAR(150) NOT NULL,\n",
        "    nome_fantasia VARCHAR(150)\n",
        ") INHERITS (PESSOA);\n",
        "\n",
        "\n",
        "\n"
      ],
      "metadata": {
        "id": "3vZ2iNvSsRhw"
      },
      "execution_count": null,
      "outputs": []
    },
    {
      "cell_type": "markdown",
      "source": [
        "##Inserção de Pessoa Física"
      ],
      "metadata": {
        "id": "eR8g7LfCxvIU"
      }
    },
    {
      "cell_type": "code",
      "source": [
        "INSERT INTO PESSOA_FISICA (nome, endereco, telefones, cpf, data_nascimento)\n",
        "VALUES (\n",
        "    'João da Silva',\n",
        "    ROW('Rua A', 123, 'Centro', 'São Paulo', '12345678'),\n",
        "    ROW('11', '987654321'),\n",
        "    '12345678901',\n",
        "    '1980-01-01'\n",
        ");\n"
      ],
      "metadata": {
        "id": "SsHmnS99w-kI"
      },
      "execution_count": null,
      "outputs": []
    },
    {
      "cell_type": "markdown",
      "source": [
        "##Inserção de Pessoa Jurídica"
      ],
      "metadata": {
        "id": "WJ_hDimYyEWi"
      }
    },
    {
      "cell_type": "code",
      "source": [
        "INSERT INTO PESSOA_JURIDICA (nome, endereco, telefones, cnpj, razao_social, nome_fantasia)\n",
        "VALUES (\n",
        "    'Empresa XYZ Ltda',\n",
        "    ROW('Avenida B', 456, 'Jardim', 'São Paulo', '87654321'),\n",
        "    ROW('11', '912345678'),\n",
        "    '12345678000195',\n",
        "    'Empresa XYZ',\n",
        "    'XYZ'\n",
        ");\n"
      ],
      "metadata": {
        "id": "p3W6MObeyGPj"
      },
      "execution_count": null,
      "outputs": []
    },
    {
      "cell_type": "code",
      "source": [
        "CREATE VIEW DADOS_PESSOA_FISICA AS\n",
        "SELECT nome, cpf, data_nascimento, (endereco).rua, (endereco).numero, (endereco).bairro, (endereco).cidade, (endereco).cep, (telefones).ddd, (telefones).numero as telefone FROM PESSOA_FISICA"
      ],
      "metadata": {
        "id": "KZgBJ9OHzQKN"
      },
      "execution_count": null,
      "outputs": []
    },
    {
      "cell_type": "markdown",
      "source": [
        "##Criando tabelas usando OF"
      ],
      "metadata": {
        "id": "kdkb7-IWU5A9"
      }
    },
    {
      "cell_type": "code",
      "source": [
        "CREATE TYPE tipo_endereco AS (\n",
        "    rua VARCHAR(100),\n",
        "    numero INT,\n",
        "    bairro VARCHAR(50),\n",
        "    cidade VARCHAR(50),\n",
        "    cep CHAR(8)\n",
        ");\n",
        "\n",
        "CREATE TYPE tipo_dados as (\n",
        "  nome VARCHAR(100),\n",
        "  telefone VARCHAR(20),\n",
        "  cpf VARCHAR(14),\n",
        "  endereco_completo tipo_endereco,\n",
        "  email VARCHAR(100)\n",
        ")\n",
        "\n",
        "\n",
        "CREATE TABLE CLIENTE OF tipo_dados;\n",
        "CREATE TABLE ESTUDANTE OF tipo_dados;\n",
        "\n",
        "select * from CLIENTE;\n",
        "\n",
        "\n",
        "\n",
        "CREATE TABLE alunos (\n",
        "    matricula SERIAL PRIMARY KEY,\n",
        "    dados tipo_dados\n",
        ");\n",
        "\n",
        "\n",
        "\n",
        "INSERT INTO alunos (dados) VALUES (\n",
        "    ROW(\n",
        "        'João Silva',              -- nome\n",
        "        '(11) 98765-4321',         -- telefone\n",
        "        '123.456.789-00',          -- cpf\n",
        "        ROW(\n",
        "            'Rua das Flores',     -- rua\n",
        "            123,                  -- numero\n",
        "            'Centro',             -- bairro\n",
        "            'São Paulo',          -- cidade\n",
        "            '12345678'            -- cep\n",
        "        )::tipo_endereco,\n",
        "        'joao.silva@example.com'  -- email\n",
        "    )::tipo_dados\n",
        ");\n",
        "\n",
        "\n",
        "\n",
        "\n",
        "\n",
        "\n",
        "select * from alunos;\n",
        "\n",
        "CREATE VIEW CONSULTA_ALUNOS AS\n",
        "select matricula, (dados).nome, (dados).cpf, (dados).telefone, (dados).endereco_completo.rua, (dados).endereco_completo.numero, (dados).endereco_completo.bairro, (dados).endereco_completo.cidade, (dados).endereco_completo.cep, (dados).email from alunos;\n"
      ],
      "metadata": {
        "id": "lfHu-DQpU7Pt"
      },
      "execution_count": null,
      "outputs": []
    }
  ]
}