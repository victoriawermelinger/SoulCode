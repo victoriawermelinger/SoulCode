{
 "cells": [
  {
   "cell_type": "markdown",
   "metadata": {},
   "source": [
    "### 1. Calculadora Científica\n",
    "\n",
    "Escreva uma função que simule uma calculadora científica, capaz de realizar operações básicas como adição, subtração, multiplicação, e divisão, além de funções trigonométricas\n",
    ", exponenciação, e logaritmos."
   ]
  },
  {
   "cell_type": "code",
   "execution_count": 12,
   "metadata": {},
   "outputs": [
    {
     "name": "stdout",
     "output_type": "stream",
     "text": [
      "Número / Ângulo: 10.0\n",
      "0.17364817766693033\n"
     ]
    }
   ],
   "source": [
    "import math\n",
    "\n",
    "def calculadora():\n",
    "    operacao = input('Digite a operação desejada (+, -, *, /, sen, cos, tan, exp, log, log10): ').lower()\n",
    "  \n",
    "    if operacao in ('+', '-', '*', '/'):\n",
    "        num1 = float(input(\"Digite o primeiro número: \"))\n",
    "        num2 = float(input(\"Digite o segundo número: \"))\n",
    "        print(f'Primeiro número {num1} , segundo número {num2}')\n",
    "\n",
    "        if operacao == '+':\n",
    "            resultado = num1 + num2\n",
    "        elif operacao == '-':\n",
    "            resultado = num1 - num2\n",
    "        elif operacao == '*':\n",
    "            resultado = num1 * num2\n",
    "        elif operacao == '/':\n",
    "            if num2 == 0:\n",
    "                return \"Erro: Divisão por zero\"\n",
    "            else:\n",
    "                resultado = num1 / num2\n",
    "                \n",
    "    elif operacao in ('sen', 'cos', 'tan', 'exp', 'log', 'log10'):\n",
    "        num = float(input('Digite o número / ângulo : '))\n",
    "        print(f'Número / Ângulo: {num}')\n",
    "        rad = math.radians(num)\n",
    "        if operacao in ('sen', 'cos', 'tan'):\n",
    "            if operacao == 'sen':\n",
    "                resultado = math.sin(rad)\n",
    "            elif operacao == 'cos':\n",
    "                resultado = math.cos(rad)\n",
    "            elif operacao == 'tan':\n",
    "                resultado = math.tan(rad)\n",
    "        elif operacao == 'exp':\n",
    "            resultado = math.exp(num)\n",
    "        elif operacao == 'log':\n",
    "            if num <= 0:\n",
    "                return 'Erro: Logaritmo de número não positivo'\n",
    "            else:\n",
    "                resultado = math.log(num)\n",
    "        elif operacao == 'log10':\n",
    "            if num <= 0:\n",
    "                return 'Erro: Logaritmo de número não positivo'\n",
    "            else:\n",
    "                resultado = math.log10(num)\n",
    "    else:\n",
    "        return 'ERRO de OPERAÇÃO'\n",
    "\n",
    "    return resultado\n",
    "\n",
    "print(calculadora())"
   ]
  },
  {
   "cell_type": "markdown",
   "metadata": {},
   "source": [
    "### 2. Conversor de Unidades\n",
    "   \n",
    "   Crie uma função que converta entre diferentes unidades de medida (por exemplo, metros para quilômetros, Celsius para Fahrenheit, etc.). A função deve receber a unidade original e a unidade desejada como parâmetros."
   ]
  },
  {
   "cell_type": "code",
   "execution_count": 28,
   "metadata": {},
   "outputs": [
    {
     "name": "stdout",
     "output_type": "stream",
     "text": [
      "O resultado da conversão é: 10.0 em km, metros\n"
     ]
    }
   ],
   "source": [
    "def medida(valor, origem, convertido):\n",
    "    if origem == 'm' and convertido == 'km':\n",
    "        return valor / 1000\n",
    "    elif origem == 'km' and convertido == 'm':\n",
    "        return valor * 1000\n",
    "    elif origem == 'C' and convertido == 'F':\n",
    "        return (valor * 9/5) + 32\n",
    "    elif origem == 'F' and convertido == 'C':\n",
    "        return (valor - 32) * 5/9\n",
    "    else:\n",
    "        raise ValueError(\"Conversão não suportada para essas unidades.\")\n",
    "\n",
    "t_medida = input('Qual medida você deseja converter (metros ou graus)? ').lower()\n",
    "\n",
    "if t_medida == 'metros':\n",
    "    valor = float(input('Digite o valor em metros ou quilômetros: '))\n",
    "    origem = input('Digite a unidade de origem (m ou km): ').lower()\n",
    "    convertido = input('Digite a unidade de destino (m ou km): ').lower()\n",
    "elif t_medida == 'graus':\n",
    "    valor = float(input('Digite o valor em Celsius ou Fahrenheit: '))\n",
    "    origem = input('Digite a unidade de origem (C ou F): ').upper()\n",
    "    convertido = input('Digite a unidade de destino (C ou F): ').upper()\n",
    "else:\n",
    "    print(\"Tipo de medida não suportado.\")\n",
    "    origem = ''\n",
    "    convertido = ''\n",
    "\n",
    "if origem and convertido:\n",
    "    resul = medida(valor, origem, convertido)\n",
    "    print(f'O resultado da conversão é: {resul} em {convertido}, {t_medida}')"
   ]
  },
  {
   "cell_type": "markdown",
   "metadata": {},
   "source": [
    "### 3. Verificador de Palíndromo\n",
    "\n",
    "Escreva uma função que verifique se uma determinada palavra ou frase é um palíndromo (lê-se da mesma forma de frente para trás). A função deve ignorar espaços e pontuações."
   ]
  },
  {
   "cell_type": "code",
   "execution_count": 59,
   "metadata": {},
   "outputs": [
    {
     "name": "stdout",
     "output_type": "stream",
     "text": [
      "\"Socorram-me, subi no ônibus em Marrocos\" é um palíndromo!\n"
     ]
    }
   ],
   "source": [
    "import unicodedata\n",
    "\n",
    "def palindromo(frase):\n",
    "    frase = ''.join(char.lower() for char in unicodedata.normalize('NFD', frase) if char.isalnum())\n",
    "    return frase == frase[::-1]\n",
    "frase = input(\"Digite uma palavra ou frase para verificar se é um palíndromo: \")\n",
    "if palindromo(frase):\n",
    "    print(f'\"{frase}\" é um palíndromo!')\n",
    "else:\n",
    "    print(f'\"{frase}\" não é um palíndromo.')"
   ]
  },
  {
   "cell_type": "code",
   "execution_count": 64,
   "metadata": {},
   "outputs": [
    {
     "name": "stdout",
     "output_type": "stream",
     "text": [
      "\"Socorram-me, subi no ônibus em Marrocos\" é um palíndromo!\n"
     ]
    }
   ],
   "source": [
    "from unidecode import unidecode\n",
    "\n",
    "def palindromo(frase):\n",
    "    frase = ''.join(char.lower() for char in unidecode(frase) if char.isalnum())\n",
    "    return frase == frase[::-1]\n",
    "\n",
    "frase = input(\"Digite uma palavra ou frase para verificar se é um palíndromo: \")\n",
    "\n",
    "if palindromo(frase):\n",
    "    print(f'\"{frase}\" é um palíndromo!')\n",
    "else:\n",
    "    print(f'\"{frase}\" não é um palíndromo.')"
   ]
  },
  {
   "cell_type": "markdown",
   "metadata": {},
   "source": [
    "### 4. Gerador de Senhas Seguras\n",
    "\n",
    " Desenvolva uma função que gere uma senha segura com um comprimento especificado. A senha deve conter letras maiúsculas e minúsculas, números e símbolos especiais."
   ]
  },
  {
   "cell_type": "code",
   "execution_count": 58,
   "metadata": {},
   "outputs": [
    {
     "name": "stdout",
     "output_type": "stream",
     "text": [
      "Sua senha segura é: :s6Z26E(\n"
     ]
    }
   ],
   "source": [
    "import random\n",
    "import string\n",
    "def gerar(segura_tamanho):\n",
    "    min = string.ascii_lowercase\n",
    "    mai = string.ascii_uppercase\n",
    "    num = string.digits\n",
    "    simb = string.punctuation\n",
    "    caracteres = min + mai + num + simb\n",
    "    senha = [\n",
    "        random.choice(min),\n",
    "        random.choice(mai),\n",
    "        random.choice(num),\n",
    "        random.choice(simb)\n",
    "    ]\n",
    "    senha += random.choices(caracteres, k=segura_tamanho - 4)\n",
    "    random.shuffle(senha)\n",
    "    return ''.join(senha)\n",
    "\n",
    "tamanho = int(input(\"Digite o comprimento desejado para a senha: \"))\n",
    "senha = gerar(tamanho)\n",
    "print(f\"Sua senha segura é: {senha}\")"
   ]
  },
  {
   "cell_type": "markdown",
   "metadata": {},
   "source": [
    "### 5. Ordenação de Listas\n",
    "\n",
    "Implemente uma função que receba uma lista de números ou strings e a ordene usando um algoritmo de ordenação de sua escolha (por exemplo, QuickSort, MergeSort). A função deve permitir escolher entre ordem crescente ou decrescente."
   ]
  },
  {
   "cell_type": "code",
   "execution_count": null,
   "metadata": {},
   "outputs": [],
   "source": []
  }
 ],
 "metadata": {
  "kernelspec": {
   "display_name": "Python 3",
   "language": "python",
   "name": "python3"
  },
  "language_info": {
   "codemirror_mode": {
    "name": "ipython",
    "version": 3
   },
   "file_extension": ".py",
   "mimetype": "text/x-python",
   "name": "python",
   "nbconvert_exporter": "python",
   "pygments_lexer": "ipython3",
   "version": "3.12.5"
  }
 },
 "nbformat": 4,
 "nbformat_minor": 2
}
