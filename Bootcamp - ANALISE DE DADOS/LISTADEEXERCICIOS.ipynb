{
  "nbformat": 4,
  "nbformat_minor": 0,
  "metadata": {
    "colab": {
      "provenance": []
    },
    "kernelspec": {
      "name": "python3",
      "display_name": "Python 3"
    },
    "language_info": {
      "name": "python"
    }
  },
  "cells": [
    {
      "cell_type": "markdown",
      "source": [
        "1. Cálculo de Despesa com Desconto Progressivo\n",
        "\n",
        " Crie um programa que receba o custo de três produtos e calcule o valor total. Se o total exceder RS 500, aplique um desconto progressivo: 10% se o total for entre RS 500 e RS 1.000, e 15% se for acima de R$ 1.000. Mostre o valor final após o desconto."
      ],
      "metadata": {
        "id": "wvuYggOmCN2W"
      }
    },
    {
      "cell_type": "code",
      "source": [
        "produto1 = float(input('Digite o custo do primeiro produto: '))\n",
        "produto2 = float(input('Digite o custo do segundo produto: '))\n",
        "produto3 = float(input('Digite o custo do terceiro produto: '))\n",
        "total = produto1 + produto2 + produto3\n",
        "if 500 >= total >= 1000:\n",
        "  desconto = 0.15\n",
        "elif total > 15500:\n",
        "  desconto = 0.10\n",
        "else:\n",
        "  desconto = 0.00\n",
        "\n",
        "valor_final = total * (1 - desconto)\n",
        "print(f\"O valor final após o desconto é: R$ {valor_final:.2f} com a porcentagem {desconto * 100:.0f}%\")\n"
      ],
      "metadata": {
        "colab": {
          "base_uri": "https://localhost:8080/"
        },
        "id": "TSvnxH9IFoAE",
        "outputId": "5a8e6193-d1fc-4915-b555-3a9c9423fa25"
      },
      "execution_count": null,
      "outputs": [
        {
          "output_type": "stream",
          "name": "stdout",
          "text": [
            "Digite o custo do primeiro produto: 100\n",
            "Digite o custo do segundo produto: 0\n",
            "Digite o custo do terceiro produto: 1500\n",
            "O valor final após o desconto é: R$ 1440.00 com a porcentagem 10%\n"
          ]
        }
      ]
    },
    {
      "cell_type": "markdown",
      "source": [
        "\n",
        "2. Classificação de Idade com Mensagens Personalizadas\n",
        "\n",
        " Desenvolva um programa que receba a idade de uma pessoa e determine sua categoria: \"Criança\" (0-12 anos), \"Adolescente\" (13-17 anos), \"Adulto\" (18-64 anos) ou \"Idoso\" (65 anos ou mais). Exiba uma mensagem personalizada para cada faixa etária, como \"Você é uma criança cheia de energia!\" ou \"Você tem muita sabedoria como idoso!\"."
      ],
      "metadata": {
        "id": "xunbWHyhHo-e"
      }
    },
    {
      "cell_type": "code",
      "source": [
        "# Criança até 12 anos\n",
        "# Adolescente de 13 a 17 anos\n",
        "# Adulto de 18 a 59\n",
        "# Idoso acima de 60\n",
        "\n",
        "idade = int(input(\"Digite sua idade: \"))\n",
        "\n",
        "# Verificar e classificar a faixa etária\n",
        "if 0 <= idade <= 12:\n",
        "  print(\"Criança\", \"Você é uma criança cheia de energia!\")\n",
        "elif 13 <= idade <= 17:\n",
        "  print(\"Adolescente\", \"Você está na fase de muitas descobertas como adolescente!\")\n",
        "elif 18 <= idade <= 64:\n",
        "  print(\"Adulto\", \"Você é um adulto com muitas responsabilidades!\")\n",
        "elif 65 <= idade <= 150:\n",
        "  print (\"Idoso\", \"Você tem muita sabedoria como idoso!\")\n",
        "else:\n",
        "  print (\"A idade digitada é inválida.\")\n"
      ],
      "metadata": {
        "colab": {
          "base_uri": "https://localhost:8080/"
        },
        "id": "klsi0N3mHvqU",
        "outputId": "59eb2769-d3c3-475f-9f6b-af263d0512fe"
      },
      "execution_count": null,
      "outputs": [
        {
          "output_type": "stream",
          "name": "stdout",
          "text": [
            "Digite sua idade: 200\n",
            "A idade digitada é inválida.\n"
          ]
        }
      ]
    },
    {
      "cell_type": "markdown",
      "source": [
        "3. Verificação de Número Par, Ímpar e Positivo/Negativo\n",
        "   \n",
        "   Crie um programa que receba um número inteiro e informe se ele é par ou ímpar e, adicionalmente, se é positivo, negativo ou zero. Inclua uma mensagem especial para números que sejam múltiplos de 10."
      ],
      "metadata": {
        "id": "5LvZaneDL7Ob"
      }
    },
    {
      "cell_type": "code",
      "source": [
        "numero = int(input(\"Digite um número inteiro: \"))\n",
        "\n",
        "if numero % 2 == 0:\n",
        "    paridade = \"par\"\n",
        "else:\n",
        "    paridade = \"ímpar\"\n",
        "\n",
        "if numero > 0:\n",
        "    sinal = \"positivo\"\n",
        "elif numero < 0:\n",
        "    sinal = \"negativo\"\n",
        "else:\n",
        "    sinal = \"zero\"\n",
        "\n",
        "if numero % 10 != 0:\n",
        "    print(f\"O número {numero} não é múltiplo de 10.\")\n",
        "else:\n",
        "    print(f\"O número {numero} é múltiplo de 10.\")\n",
        "\n",
        "print(f\"O número {numero} é {paridade} e {sinal}.\")\n",
        "\n",
        "\n"
      ],
      "metadata": {
        "colab": {
          "base_uri": "https://localhost:8080/"
        },
        "id": "a_meF5ppL6fA",
        "outputId": "e0c725a9-474f-43ba-e3c2-b5008ffa3ee0"
      },
      "execution_count": null,
      "outputs": [
        {
          "output_type": "stream",
          "name": "stdout",
          "text": [
            "Digite um número inteiro: -50\n",
            "O número -50 é múltiplo de 10.\n",
            "O número -50 é par e negativo.\n"
          ]
        }
      ]
    },
    {
      "cell_type": "markdown",
      "source": [
        "4. Cálculo de Média com Condição de Recuperação\n",
        "\n",
        "  Desenvolva um programa que receba as notas de quatro provas e calcule a média. Se a média for menor que 5, informe que o aluno está reprovado. Se estiver entre 5 e 7, informe que o aluno está em recuperação, e se for maior ou igual a 7, informe que o aluno está aprovado."
      ],
      "metadata": {
        "id": "lNV8ujBoQ1ZW"
      }
    },
    {
      "cell_type": "code",
      "source": [
        "nota1 = float(input(\"Digite a nota da primeira prova: \"))\n",
        "nota2 = float(input(\"Digite a nota da segunda prova: \"))\n",
        "nota3 = float(input(\"Digite a nota da terceira prova: \"))\n",
        "nota4 = float(input(\"Digite a nota da quarta prova: \"))\n",
        "\n",
        "media = (nota1 + nota2 + nota3 + nota4) / 4\n",
        "\n",
        "if media < 5:\n",
        "    status = \"reprovado\"\n",
        "elif 5 <= media < 7:\n",
        "    status = \"em recuperação\"\n",
        "else:\n",
        "    status = \"aprovado\"\n",
        "\n",
        "print(f\"A média das notas é: {media:.2f}, o aluno está de {status}\")"
      ],
      "metadata": {
        "colab": {
          "base_uri": "https://localhost:8080/"
        },
        "id": "TKbF-EoJRJCt",
        "outputId": "de725b74-bda2-478b-8199-719941cda6fb"
      },
      "execution_count": null,
      "outputs": [
        {
          "output_type": "stream",
          "name": "stdout",
          "text": [
            "Digite a nota da primeira prova: 10\n",
            "Digite a nota da segunda prova: 2\n",
            "Digite a nota da terceira prova: 7\n",
            "Digite a nota da quarta prova: 3\n",
            "A média das notas é: 5.50, o aluno está de em recuperação\n"
          ]
        }
      ]
    },
    {
      "cell_type": "markdown",
      "source": [
        "5. Classificação e Ajuste de Salário com Reajuste\n",
        "   \n",
        "   Crie um programa que receba o salário de um funcionário e determine sua faixa salarial: \"Baixa\" (até RS 2.500), \"Média\" (de RS 2.501 a RS 5.000) ou \"Alta\" (acima de RS 5.000). Aplique um reajuste de 7% para a faixa baixa, 5% para a faixa média e 3% para a faixa alta. Mostre o salário reajustado."
      ],
      "metadata": {
        "id": "Qt2kuyaFSNx-"
      }
    },
    {
      "cell_type": "code",
      "source": [
        "salario = float(input(\"Digite o salário do funcionário: R$ \"))\n",
        "\n",
        "if salario <= 2500:\n",
        "    faixa = \"Baixa\"\n",
        "    reajuste = 0.07\n",
        "elif 2501 <= salario <= 5000:\n",
        "    faixa = \"Média\"\n",
        "    reajuste = 0.05\n",
        "else:\n",
        "    faixa = \"Alta\"\n",
        "    reajuste = 0.03\n",
        "\n",
        "salario_reajustado = salario * (1 + reajuste)\n",
        "\n",
        "print(f\"A faixa salarial é: {faixa}\")\n",
        "print(f\"O salário reajustado é: R$ {salario_reajustado:.2f}\")\n"
      ],
      "metadata": {
        "colab": {
          "base_uri": "https://localhost:8080/"
        },
        "id": "uwAahGFiSeeL",
        "outputId": "e7fe4a2a-7695-4559-d397-bd52f326a303"
      },
      "execution_count": null,
      "outputs": [
        {
          "output_type": "stream",
          "name": "stdout",
          "text": [
            "Digite o salário do funcionário: R$ 2200\n",
            "A faixa salarial é: Baixa\n",
            "O salário reajustado é: R$ 2354.00\n"
          ]
        }
      ]
    },
    {
      "cell_type": "markdown",
      "source": [
        "6. Verificação de Ano Bissexto com Mensagens\n",
        "\n",
        "   Desenvolva um programa que receba um ano e determine se ele é bissexto. Se for, informe que \"O ano é bissexto e possui 366 dias.\" Caso contrário, informe que \"O ano não é bissexto e possui 365 dias.\""
      ],
      "metadata": {
        "id": "doEh92yeTfT4"
      }
    },
    {
      "cell_type": "code",
      "source": [
        "# Solicitando o ano do usuário\n",
        "ano = int(input(\"Digite um ano: \"))\n",
        "\n",
        "# Determinando se o ano é bissexto\n",
        "if (ano % 4 == 0 and ano % 100 != 0) or (ano % 400 == 0):\n",
        "    bissexto = True\n",
        "    print(f\"O ano {ano} é bissexto e possui 366 dias.\")\n",
        "else:\n",
        "    bissexto = False\n",
        "    print(f\"O ano {ano} não é bissexto e possui 365 dias.\")"
      ],
      "metadata": {
        "colab": {
          "base_uri": "https://localhost:8080/"
        },
        "id": "vajWy-H4Tld_",
        "outputId": "cf640649-a774-4b42-fdaf-305135184ae3"
      },
      "execution_count": null,
      "outputs": [
        {
          "output_type": "stream",
          "name": "stdout",
          "text": [
            "Digite um ano: 2024\n",
            "O ano 2024 é bissexto e possui 366 dias.\n"
          ]
        }
      ]
    },
    {
      "cell_type": "markdown",
      "source": [
        "7. Conversão e Comparação de Temperatura\n",
        "\n",
        "   Crie um programa que receba uma temperatura em graus Celsius e a converta para Fahrenheit. Em seguida, verifique se a temperatura em Fahrenheit é inferior a 32°F (fria), entre 32°F e 68°F (amena), ou superior a 68°F (quente). Mostre a classificação junto com a temperatura convertida."
      ],
      "metadata": {
        "id": "vR3IyVekUnJm"
      }
    },
    {
      "cell_type": "code",
      "source": [
        "celsius = float(input(\"Digite a temperatura em graus Celsius: \"))\n",
        "\n",
        "fahrenheit = (celsius * 9/5) + 32\n",
        "\n",
        "if fahrenheit < 32:\n",
        "    classificacao = \"fria\"\n",
        "elif 32 <= fahrenheit <= 68:\n",
        "    classificacao = \"amena\"\n",
        "else:\n",
        "    classificacao = \"\" # Add a value here to complete the else statement\n",
        "    classificacao = \"quente\"\n",
        "\n",
        "print(f\"A temperatura em Fahrenheit é {fahrenheit:.2f}°F e é considerada {classificacao}.\")"
      ],
      "metadata": {
        "colab": {
          "base_uri": "https://localhost:8080/"
        },
        "id": "y6lDasUlUqFR",
        "outputId": "9d640f06-8990-47be-d33c-19f08bc45e0b"
      },
      "execution_count": null,
      "outputs": [
        {
          "output_type": "stream",
          "name": "stdout",
          "text": [
            "Digite a temperatura em graus Celsius: 40\n",
            "A temperatura em Fahrenheit é 104.00°F e é considerada quente.\n"
          ]
        }
      ]
    },
    {
      "cell_type": "markdown",
      "source": [
        "8. Comparação de Três Números com Verificação de Ordenação\n",
        "\n",
        "   Desenvolva um programa que receba três números inteiros e determine qual é o maior e o menor. Além disso, verifique e informe se os números estão em ordem crescente, decrescente ou se não estão ordenados."
      ],
      "metadata": {
        "id": "ihnWCwpRWHhq"
      }
    },
    {
      "cell_type": "code",
      "source": [
        "num1 = int(input(\"Digite o primeiro número: \"))\n",
        "num2 = int(input(\"Digite o segundo número: \"))\n",
        "num3 = int(input(\"Digite o terceiro número: \"))\n",
        "\n",
        "maior = max(num1, num2, num3)\n",
        "menor = min(num1, num2, num3)\n",
        "\n",
        "if num1 < num2 < num3:\n",
        "    ordem = \"crescente\"\n",
        "elif num1 > num2 > num3:\n",
        "    ordem = \"decrescente\"\n",
        "else:\n",
        "    ordem = \"desordenados\"\n",
        "\n",
        "print(f\"O maior número é: {maior}, O menor número é: {menor}, Os números estão em ordem {ordem}. \")"
      ],
      "metadata": {
        "colab": {
          "base_uri": "https://localhost:8080/"
        },
        "id": "U3ed0WvbWK48",
        "outputId": "ba2b004a-9c1c-41df-c292-3b11a2f37c9a"
      },
      "execution_count": null,
      "outputs": [
        {
          "output_type": "stream",
          "name": "stdout",
          "text": [
            "Digite o primeiro número: 5\n",
            "Digite o segundo número: 4\n",
            "Digite o terceiro número: 3\n",
            "O maior número é: 5, O menor número é: 3, Os números estão em ordem decrescente. \n"
          ]
        }
      ]
    },
    {
      "cell_type": "markdown",
      "source": [
        "9. Calculadora de Desconto com Condição de Pagamento\n",
        "\n",
        "  Crie um programa que receba o valor de uma compra e determine o desconto a ser aplicado. Aplique 20% de desconto para compras acima de RS 1.500, 10% para compras entre RS 800 e RS 1.500, e 5% para compras abaixo de RS 800. Se o pagamento for à vista, aplique um desconto adicional de 5% sobre o valor final com desconto."
      ],
      "metadata": {
        "id": "LtJgYBEBXL5-"
      }
    },
    {
      "cell_type": "code",
      "source": [
        "valor_compra = float(input(\"Digite o valor da compra: R$ \"))\n",
        "\n",
        "if valor_compra > 1500:\n",
        "    desconto = 0.20\n",
        "elif 800 <= valor_compra <= 1500:\n",
        "    desconto = 0.10\n",
        "else:\n",
        "    desconto = 0.05\n",
        "\n",
        "valor_com_desconto = valor_compra * (1 - desconto)\n",
        "\n",
        "pagamento_a_vista = input(\"O pagamento será à vista? (sim/não): \").strip().lower()\n",
        "\n",
        "if pagamento_a_vista == 'sim':\n",
        "    valor_com_desconto = valor_com_desconto - (valor_com_desconto * 0.05)\n",
        "\n",
        "print(f\"O valor final da compra, com descontos aplicados, é: R$ {valor_com_desconto:.2f}\")"
      ],
      "metadata": {
        "colab": {
          "base_uri": "https://localhost:8080/"
        },
        "id": "72n5wg76XLVy",
        "outputId": "290303a8-070d-4c20-b8f2-43607069c310"
      },
      "execution_count": null,
      "outputs": [
        {
          "output_type": "stream",
          "name": "stdout",
          "text": [
            "Digite o valor da compra: R$ 800\n",
            "O pagamento será à vista? (sim/não): sim\n",
            "O valor final da compra, com descontos aplicados, é: R$ 684.00\n"
          ]
        }
      ]
    },
    {
      "cell_type": "markdown",
      "source": [
        "10. Verificação de Senha Segura com Requisitos Adicionais\n",
        "    \n",
        "   Desenvolva um programa que receba uma senha e verifique se ela é segura. Uma senha é considerada segura se tiver pelo menos 8 caracteres, incluir pelo menos uma letra maiúscula, uma letra minúscula, um número e um caractere especial (como !, @, #). Informe se a senha é segura ou não e liste quais requisitos estão faltando."
      ],
      "metadata": {
        "id": "n8tSOPDiaYvO"
      }
    },
    {
      "cell_type": "code",
      "source": [
        "senha = input(\"Digite a senha: \")\n",
        "\n",
        "# Verifica os requisitos\n",
        "tamanho = len(senha) >= 8\n",
        "maiuscula = any(c.isupper() for c in senha)\n",
        "minuscula = any(c.islower() for c in senha)\n",
        "numero = any(c.isdigit() for c in senha)\n",
        "especial = any(c in '!@#$%^&*()-_=+[]{}|;:,.<>?/`~' for c in senha)\n",
        "\n",
        "# Verifica se todos os requisitos são atendidos\n",
        "if tamanho and maiuscula and minuscula and numero and especial:\n",
        "    print(\"A senha é segura.\")\n",
        "else:\n",
        "    mensagem = \"A senha não é segura. Faltam os seguintes requisitos:\\n\"\n",
        "    if not tamanho:\n",
        "        mensagem += \"- Pelo menos 8 caracteres\\n\"\n",
        "    if not maiuscula:\n",
        "        mensagem += \"- Pelo menos uma letra maiúscula\\n\"\n",
        "    if not minuscula:\n",
        "        mensagem += \"- Pelo menos uma letra minúscula\\n\"\n",
        "    if not numero:\n",
        "        mensagem += \"- Pelo menos um número\\n\"\n",
        "    if not especial:\n",
        "        mensagem += \"- Pelo menos um caractere especial (!, @, #, etc.)\\n\"\n",
        "    print(mensagem)\n"
      ],
      "metadata": {
        "colab": {
          "base_uri": "https://localhost:8080/"
        },
        "id": "QG7UKMW5eXc7",
        "outputId": "fa34ff02-4242-4f48-8bfe-5218b082e790"
      },
      "execution_count": null,
      "outputs": [
        {
          "output_type": "stream",
          "name": "stdout",
          "text": [
            "Digite a senha: vfsas1234\n",
            "A senha não é segura. Faltam os seguintes requisitos:\n",
            "- Pelo menos uma letra maiúscula\n",
            "- Pelo menos um caractere especial (!, @, #, etc.)\n",
            "\n"
          ]
        }
      ]
    },
    {
      "cell_type": "markdown",
      "source": [
        "11. Contador de Números Ímpares\n",
        "  \n",
        "     Crie um programa que conte e imprima todos os números ímpares entre 1 e 100 usando um loop `for`."
      ],
      "metadata": {
        "id": "-O5e4-XS74QA"
      }
    },
    {
      "cell_type": "code",
      "source": [
        "for i in range(1,101):\n",
        "  if i % 2 != 0 :\n",
        "    print(i, end=' ')"
      ],
      "metadata": {
        "colab": {
          "base_uri": "https://localhost:8080/"
        },
        "id": "0iPXg-nr8A9m",
        "outputId": "efa56051-fe35-4b05-e29e-4dbbf5d4d187"
      },
      "execution_count": null,
      "outputs": [
        {
          "output_type": "stream",
          "name": "stdout",
          "text": [
            "1 3 5 7 9 11 13 15 17 19 21 23 25 27 29 31 33 35 37 39 41 43 45 47 49 51 53 55 57 59 61 63 65 67 69 71 73 75 77 79 81 83 85 87 89 91 93 95 97 99 "
          ]
        }
      ]
    },
    {
      "cell_type": "markdown",
      "source": [
        "12. Soma de Números até um Limite\n",
        "\n",
        "   Desenvolva um programa que receba um número inteiro positivo e use um loop `while` para calcular a soma de todos os números de 1 até o número fornecido."
      ],
      "metadata": {
        "id": "gJXu6eGG9Kbb"
      }
    },
    {
      "cell_type": "code",
      "source": [
        "numero = int(input(\"Digite um número inteiro positivo: \"))\n",
        "\n",
        "if numero <= 0:\n",
        "    print(\"Por favor, digite um número inteiro positivo.\")\n",
        "else:\n",
        "    soma = 0\n",
        "    contador = 1\n",
        "    while contador <= numero:\n",
        "        soma += contador\n",
        "        contador += 1\n",
        "\n",
        "print(f\"A soma de todos os números de 1 até {numero} é {soma}.\")\n"
      ],
      "metadata": {
        "colab": {
          "base_uri": "https://localhost:8080/"
        },
        "id": "6SnO7dnn9P7g",
        "outputId": "616791c4-ffb8-42e6-98f2-fa80c510bf98"
      },
      "execution_count": null,
      "outputs": [
        {
          "output_type": "stream",
          "name": "stdout",
          "text": [
            "Digite um número inteiro positivo: 15\n",
            "A soma de todos os números de 1 até 15 é 120.\n"
          ]
        }
      ]
    },
    {
      "cell_type": "markdown",
      "source": [
        "13. Número de Tentativas para Senha\n",
        "\n",
        "  Crie um programa que limite o número de tentativas para digitar a senha correta. O usuário deve ter no máximo 3 tentativas. Use `while` e `if`"
      ],
      "metadata": {
        "id": "K1yBOkoI-5Pr"
      }
    },
    {
      "cell_type": "code",
      "source": [
        "senha_correta = \"Fk_1234\"\n",
        "tentativas_maximas = 3\n",
        "contar_tentativas = 0\n",
        "\n",
        "while contar_tentativas < tentativas_maximas:\n",
        "  senha = input(\"Digite a senha:\")\n",
        "  if senha == senha_correta:\n",
        "    print(\"Acesso Autorizado\")\n",
        "    break\n",
        "  else:\n",
        "    contar_tentativas +=1\n",
        "    if contar_tentativas < tentativas_maximas:\n",
        "      tentativas_restante = tentativas_maximas - contar_tentativas\n",
        "      print(\"Senha incorreta, tente novamente. Você tentou {} vezes e resta apenas {} tentativas\".format(contar_tentativas, tentativas_restante))\n",
        "    else:\n",
        "      print(\"Número máximo de tentativas atingido. Acesso Bloqueado\")"
      ],
      "metadata": {
        "colab": {
          "base_uri": "https://localhost:8080/"
        },
        "id": "ir9XYGtp_ER5",
        "outputId": "86609828-312c-4564-f8a7-7f46a430bb25"
      },
      "execution_count": null,
      "outputs": [
        {
          "output_type": "stream",
          "name": "stdout",
          "text": [
            "Digite a senha:1257\n",
            "Senha incorreta, tente novamente. Você tentou 1 vezes e resta apenas 2 tentativas\n",
            "Digite a senha:vis58468\n",
            "Senha incorreta, tente novamente. Você tentou 2 vezes e resta apenas 1 tentativas\n",
            "Digite a senha:485575\n",
            "Número máximo de tentativas atingido. Acesso Bloqueado\n"
          ]
        }
      ]
    },
    {
      "cell_type": "markdown",
      "source": [
        "14. Fatorial de um Número\n",
        "\n",
        "   Calcule o fatorial de um número fornecido pelo usuário usando um loop `for`. O fatorial de um número `n` é o produto de todos os números de 1 até `n`"
      ],
      "metadata": {
        "id": "d8N1nH1qA79W"
      }
    },
    {
      "cell_type": "code",
      "source": [
        "num = int(input('Digite um número inteiro: '))\n",
        "\n",
        "if num < 0:\n",
        "  print('Por favor, digite um número inteiro positivo.')\n",
        "else:\n",
        "  fatorial = 1\n",
        "  for i in range(1, num + 1):\n",
        "    fatorial *= i\n",
        "    print(f'O fatorial de {num} é {fatorial}. ')"
      ],
      "metadata": {
        "colab": {
          "base_uri": "https://localhost:8080/"
        },
        "id": "LrkZ-wMzA-4o",
        "outputId": "4f4b20f6-3741-43eb-d14b-eb9a1cb0f699"
      },
      "execution_count": null,
      "outputs": [
        {
          "output_type": "stream",
          "name": "stdout",
          "text": [
            "Digite um número inteiro: 15\n",
            "O fatorial de 15 é 1. \n",
            "O fatorial de 15 é 2. \n",
            "O fatorial de 15 é 6. \n",
            "O fatorial de 15 é 24. \n",
            "O fatorial de 15 é 120. \n",
            "O fatorial de 15 é 720. \n",
            "O fatorial de 15 é 5040. \n",
            "O fatorial de 15 é 40320. \n",
            "O fatorial de 15 é 362880. \n",
            "O fatorial de 15 é 3628800. \n",
            "O fatorial de 15 é 39916800. \n",
            "O fatorial de 15 é 479001600. \n",
            "O fatorial de 15 é 6227020800. \n",
            "O fatorial de 15 é 87178291200. \n",
            "O fatorial de 15 é 1307674368000. \n"
          ]
        }
      ]
    },
    {
      "cell_type": "markdown",
      "source": [
        "15. Verificação de Primalidade\n",
        "\n",
        " Crie um programa que verifique se um número é primo. Use um loop `for` e condicionais para determinar se o número tem apenas dois divisores: 1 e ele mesmo."
      ],
      "metadata": {
        "id": "C10YFiLGD_7t"
      }
    },
    {
      "cell_type": "code",
      "source": [
        "n = int(input(\"Digite um número:\"))\n",
        "if n < 0:\n",
        "    print(\"Número inválido. Digite apenas valores positivos\")\n",
        "if n == 0 or n == 1:\n",
        "    print(f\"{n} é um caso especial.\")\n",
        "else:\n",
        "    if n == 2:\n",
        "        print(\"2 é primo\")\n",
        "    elif n % 2 == 0:\n",
        "        print(f\"{n} não é primo, pois 2 é o único número par primo.\")\n",
        "    else:\n",
        "        x = 3\n",
        "        while x < n:\n",
        "            if n % x == 0:\n",
        "                break\n",
        "            x = x + 2\n",
        "        if x == n:\n",
        "            print(f\"{n} é primo\")\n",
        "        else:\n",
        "            print(f\"{n} não é primo, pois é divisível por {x}\")"
      ],
      "metadata": {
        "colab": {
          "base_uri": "https://localhost:8080/"
        },
        "id": "gKbv-476EFGG",
        "outputId": "df54cf3a-c63e-4559-9cd6-a12bca7622b9"
      },
      "execution_count": null,
      "outputs": [
        {
          "output_type": "stream",
          "name": "stdout",
          "text": [
            "Digite um número:5\n",
            "5 é primo\n"
          ]
        }
      ]
    },
    {
      "cell_type": "markdown",
      "source": [
        "16. Sequência de Fibonacci\n",
        "\n",
        "   Gere a sequência de Fibonacci até um número máximo fornecido pelo usuário usando um loop `while`. A sequência começa com 0 e 1, e cada número subsequente é a soma dos dois anteriores."
      ],
      "metadata": {
        "id": "_iUYt7zbFqmU"
      }
    },
    {
      "cell_type": "code",
      "source": [
        "fibonacci = int(input('Digite um número para a sequência de Fibonacci: '))\n",
        "a, b = 0, 1\n",
        "\n",
        "print('Sequência de Fibonacci: ')\n",
        "while a <= fibonacci:\n",
        "  print(a, end=\" \")\n",
        "  a, b = b, a + b"
      ],
      "metadata": {
        "colab": {
          "base_uri": "https://localhost:8080/"
        },
        "id": "ag5MDIHTFtnr",
        "outputId": "54347385-8905-4b45-b36f-291ef598d25f"
      },
      "execution_count": null,
      "outputs": [
        {
          "output_type": "stream",
          "name": "stdout",
          "text": [
            "Digite um número para a sequência de Fibonacci: 350\n",
            "Sequência de Fibonacci: \n",
            "0 1 1 2 3 5 8 13 21 34 55 89 144 233 "
          ]
        }
      ]
    },
    {
      "cell_type": "markdown",
      "source": [
        "17. Contar Caracteres em uma String\n",
        "\n",
        "   Conte quantas vezes um caractere específico aparece em uma string fornecida pelo usuário usando um loop `for`"
      ],
      "metadata": {
        "id": "6-T7A3XzHx18"
      }
    },
    {
      "cell_type": "code",
      "source": [
        "frase = input('Digite uma frase: ')\n",
        "caractere = input('Digite o caracter que deseja ser contato: ')\n",
        "\n",
        "if len(caractere) > 1:\n",
        "  print('Digite apenas um caractere')\n",
        "else:\n",
        "  contador = 0\n",
        "\n",
        "for c in frase:\n",
        "  if c == caractere:\n",
        "    contador += 1\n",
        "print(f'o caracter {caractere} aparece {contador} vez(es) na {frase}')\n"
      ],
      "metadata": {
        "colab": {
          "base_uri": "https://localhost:8080/"
        },
        "id": "KSeOzhedH1aA",
        "outputId": "0845a975-2e24-4059-afe5-e825a7065ac7"
      },
      "execution_count": null,
      "outputs": [
        {
          "output_type": "stream",
          "name": "stdout",
          "text": [
            "Digite uma frase: wermelinger\n",
            "Digite o caracter que deseja ser contato: e\n",
            "o caracter e aparece 3 vez(es) na wermelinger\n"
          ]
        }
      ]
    },
    {
      "cell_type": "markdown",
      "source": [
        "18. Tabuada de um Número\n",
        "\n",
        "   Crie um programa que exiba a tabuada (de 1 a 10) de um número fornecido pelo usuário usando um loop `for`."
      ],
      "metadata": {
        "id": "YsSzcyWOKmhD"
      }
    },
    {
      "cell_type": "code",
      "source": [
        "tabuada = int(input('Digite um Número para ver a tabuada: '))\n",
        "for i in range(1,11):\n",
        "  resultado = tabuada * i\n",
        "  print(f'{tabuada} x {i} = {resultado} ')"
      ],
      "metadata": {
        "colab": {
          "base_uri": "https://localhost:8080/"
        },
        "id": "BEYwBfbOKrM4",
        "outputId": "cd824593-8213-4da5-8cbd-163d763218f7"
      },
      "execution_count": null,
      "outputs": [
        {
          "output_type": "stream",
          "name": "stdout",
          "text": [
            "Digite um Número para ver a tabuada: 5\n",
            "5 x 1 = 5 \n",
            "5 x 2 = 10 \n",
            "5 x 3 = 15 \n",
            "5 x 4 = 20 \n",
            "5 x 5 = 25 \n",
            "5 x 6 = 30 \n",
            "5 x 7 = 35 \n",
            "5 x 8 = 40 \n",
            "5 x 9 = 45 \n",
            "5 x 10 = 50 \n"
          ]
        }
      ]
    },
    {
      "cell_type": "markdown",
      "source": [
        "19. Contador de Letras em Palavras\n",
        "\n",
        "   Dada uma lista de palavras, conte quantas letras `a` existem em todas as palavras usando um loop `for` e condicionais."
      ],
      "metadata": {
        "id": "SKasbXiFNF9_"
      }
    },
    {
      "cell_type": "code",
      "source": [
        "lista = ['tutor', 'universidade', 'conhecimento', 'pesquisa', 'professor', 'família']\n",
        "\n",
        "contador = 0\n",
        "for palavra in lista:\n",
        "  for letra in palavra:\n",
        "    if letra == 'a':\n",
        "      contador += 1\n",
        "print(f\"A letra 'a' aparece {contador} vez(es) em todas as palavras.\")\n"
      ],
      "metadata": {
        "colab": {
          "base_uri": "https://localhost:8080/"
        },
        "id": "54pE0ClpLwLH",
        "outputId": "b90fccba-e690-4887-c822-c26b2bd2740f"
      },
      "execution_count": null,
      "outputs": [
        {
          "output_type": "stream",
          "name": "stdout",
          "text": [
            "A letra 'a' aparece 4 vez(es) em todas as palavras.\n"
          ]
        }
      ]
    },
    {
      "cell_type": "markdown",
      "source": [
        "20. Conversão de Temperatura\n",
        "\n",
        "    Desenvolva um programa que converta temperaturas de Celsius para Fahrenheit e vice-versa. Use loops para permitir múltiplas conversões até que o usuário decida parar."
      ],
      "metadata": {
        "id": "S6oZl3s8Ts0i"
      }
    },
    {
      "cell_type": "code",
      "source": [
        "while True:\n",
        "    opcao = input(\"Escolha a conversão (1: Celsius para Fahrenheit, 2: Fahrenheit para Celsius, 3: Sair): \")\n",
        "\n",
        "    if opcao == '1':\n",
        "        # Conversão de Celsius para Fahrenheit\n",
        "        celsius = float(input(\"Digite a temperatura em Celsius: \"))\n",
        "        fahrenheit = (celsius * 9/5) + 32\n",
        "        print(f\"{celsius}°C é igual a {fahrenheit:.2f}°F.\")\n",
        "\n",
        "    elif opcao == '2':\n",
        "        # Conversão de Fahrenheit para Celsius\n",
        "        fahrenheit = float(input(\"Digite a temperatura em Fahrenheit: \"))\n",
        "        celsius = (fahrenheit - 32) * 5/9\n",
        "        print(f\"{fahrenheit}°F é igual a {celsius:.2f}°C.\")\n",
        "\n",
        "    elif opcao == '3':\n",
        "        # Sai do loop\n",
        "        print(\"Encerrando o programa.\")\n",
        "        break\n",
        "    else:\n",
        "        # Opção inválida\n",
        "        print(\"Opção inválida. Por favor, escolha 1, 2 ou 3.\")\n"
      ],
      "metadata": {
        "colab": {
          "base_uri": "https://localhost:8080/"
        },
        "id": "XKi5TxN2TwU8",
        "outputId": "ece3ac5e-6027-4d5d-be6b-2e5c582a1734"
      },
      "execution_count": null,
      "outputs": [
        {
          "output_type": "stream",
          "name": "stdout",
          "text": [
            "Escolha a conversão (1: Celsius para Fahrenheit, 2: Fahrenheit para Celsius, 3: Sair): 1\n",
            "Digite a temperatura em Celsius: 40\n",
            "40.0°C é igual a 104.00°F.\n",
            "Escolha a conversão (1: Celsius para Fahrenheit, 2: Fahrenheit para Celsius, 3: Sair): 2\n",
            "Digite a temperatura em Fahrenheit: 30\n",
            "30.0°F é igual a -1.11°C.\n",
            "Escolha a conversão (1: Celsius para Fahrenheit, 2: Fahrenheit para Celsius, 3: Sair): 3\n",
            "Encerrando o programa.\n"
          ]
        }
      ]
    },
    {
      "cell_type": "markdown",
      "source": [
        "21. Média de Notas\n",
        "\n",
        "    Crie um programa que calcule a média de uma série de notas fornecidas pelo usuário. O programa deve parar quando o usuário digitar um valor negativo."
      ],
      "metadata": {
        "id": "nXdolPZoUqlR"
      }
    },
    {
      "cell_type": "code",
      "source": [
        "notas = []\n",
        "\n",
        "while True:\n",
        "    nota = float(input(\"Digite uma nota (ou um valor negativo para sair): \"))\n",
        "    if nota < 0:\n",
        "        break\n",
        "    notas.append(nota)\n",
        "if notas:\n",
        "    media = sum(notas) / len(notas)\n",
        "    print(f\"A média das {notas} é {media:.2f}.\")\n",
        "else:\n",
        "    print(\"Nenhuma nota válida foi inserida.\")"
      ],
      "metadata": {
        "id": "2VGtp9BNUth3"
      },
      "execution_count": null,
      "outputs": []
    },
    {
      "cell_type": "markdown",
      "source": [
        "22. Números Divisíveis por 3 e 5\n",
        "\n",
        "    Crie um programa que liste todos os números entre 1 e 100 que são divisíveis por 3 e por 5 usando um loop `for` e condicionais."
      ],
      "metadata": {
        "id": "bSDQJo70XD62"
      }
    },
    {
      "cell_type": "code",
      "source": [
        "print ('Número divisíveis por 3 e 5 entre 1 e 100:')\n",
        "for i in range (1,101):\n",
        "  if i % 3 == 0 and i % 5 == 0:\n",
        "    print(i, end = ' ')"
      ],
      "metadata": {
        "colab": {
          "base_uri": "https://localhost:8080/"
        },
        "id": "Wgop9raWXG26",
        "outputId": "b6c285cf-5d66-4741-dbcd-b06637fc4473"
      },
      "execution_count": null,
      "outputs": [
        {
          "output_type": "stream",
          "name": "stdout",
          "text": [
            "Número divisíveis por 3 e 5 entre 1 e 100:\n",
            "15 30 45 60 75 90 "
          ]
        }
      ]
    },
    {
      "cell_type": "markdown",
      "source": [
        "23. Inverter uma String\n",
        "\n",
        "    Crie um programa que inverta uma string fornecida pelo usuário sem usar funções embutidas, utilizando um loop `for`."
      ],
      "metadata": {
        "id": "IrQmf8poYbfo"
      }
    },
    {
      "cell_type": "code",
      "source": [
        "string = input(\"Digite uma string para inverter: \")\n",
        "\n",
        "string_invertida = \"\"\n",
        "for i in range(len(string) - 1, -1, -1):\n",
        "    string_invertida += string[i]\n",
        "print(f\"A string invertida é: {string_invertida}\")"
      ],
      "metadata": {
        "colab": {
          "base_uri": "https://localhost:8080/"
        },
        "id": "gH9H7PctYjOb",
        "outputId": "faf74e87-030b-4b4b-b5bc-15b4e99cba1c"
      },
      "execution_count": null,
      "outputs": [
        {
          "output_type": "stream",
          "name": "stdout",
          "text": [
            "Digite uma string para inverter: wermelinger\n",
            "A string invertida é: regnilemrew\n"
          ]
        }
      ]
    },
    {
      "cell_type": "markdown",
      "source": [
        "24. Verificar Palíndromo\n",
        "\n",
        "    Desenvolva um programa que verifique se uma palavra é um palíndromo (ou seja, se pode ser lida da mesma forma de trás para frente). Use um loop `for` e condicionais."
      ],
      "metadata": {
        "id": "88g4fADAZpyX"
      }
    },
    {
      "cell_type": "code",
      "source": [
        "palavra = input(\"Digite uma palavra para verificar se é um palíndromo: \")\n",
        "palavra_invertida = \"\"\n",
        "\n",
        "for i in range(len(palavra) - 1, -1, -1):\n",
        "    palavra_invertida += palavra[i]\n",
        "\n",
        "if palavra == palavra_invertida:\n",
        "    print(f\"A palavra '{palavra}' é um palíndromo.\")\n",
        "else:\n",
        "    print(f\"A palavra '{palavra}' não é um palíndromo.\")"
      ],
      "metadata": {
        "colab": {
          "base_uri": "https://localhost:8080/"
        },
        "id": "W7IUG-QyZoPj",
        "outputId": "fc064bec-cb3f-4c27-efaa-af4c3477fcfe"
      },
      "execution_count": null,
      "outputs": [
        {
          "output_type": "stream",
          "name": "stdout",
          "text": [
            "Digite uma palavra para verificar se é um palíndromo: ovo\n",
            "A palavra 'ovo' é um palíndromo.\n"
          ]
        }
      ]
    },
    {
      "cell_type": "markdown",
      "source": [
        "25. Múltiplos de um Número\n",
        "\n",
        "    Crie um programa que encontre todos os múltiplos de um número fornecido pelo usuário até um valor máximo também fornecido pelo usuário."
      ],
      "metadata": {
        "id": "P8LBE65_a4Po"
      }
    },
    {
      "cell_type": "code",
      "source": [
        "numero = int(input(\"Digite o número para encontrar seus múltiplos: \"))\n",
        "valor_maximo = int(input(\"Digite o valor máximo até onde encontrar os múltiplos: \"))\n",
        "\n",
        "print(f\"Múltiplos de {numero} até {valor_maximo}:\")\n",
        "1\n",
        "for i in range(numero, valor_maximo + 1, numero):\n",
        "    print(i, end=' ')"
      ],
      "metadata": {
        "colab": {
          "base_uri": "https://localhost:8080/"
        },
        "id": "c3z1kOuga8DX",
        "outputId": "21054ba6-a971-4d0e-f909-df59ea677354"
      },
      "execution_count": null,
      "outputs": [
        {
          "output_type": "stream",
          "name": "stdout",
          "text": [
            "Digite o número para encontrar seus múltiplos: 4\n",
            "Digite o valor máximo até onde encontrar os múltiplos: 100\n",
            "Múltiplos de 4 até 100:\n",
            "4 8 12 16 20 24 28 32 36 40 44 48 52 56 60 64 68 72 76 80 84 88 92 96 100 "
          ]
        }
      ]
    },
    {
      "cell_type": "markdown",
      "source": [
        "26. Gerar Números Aleatórios\n",
        "\n",
        "    Gere e exiba uma lista de 10 números aleatórios entre 1 e 100. Use um loop `for` e a biblioteca `random` para isso."
      ],
      "metadata": {
        "id": "nClI-rNxfFIb"
      }
    },
    {
      "cell_type": "code",
      "source": [
        "import random\n",
        "\n",
        "numeros_aleatorios = [random.randint(1, 100) for _ in range(10)]\n",
        "\n",
        "print(numeros_aleatorios)"
      ],
      "metadata": {
        "colab": {
          "base_uri": "https://localhost:8080/"
        },
        "id": "IKIq_Im53aDQ",
        "outputId": "30df1202-a9ba-412d-984b-854a5dccacf3"
      },
      "execution_count": null,
      "outputs": [
        {
          "output_type": "stream",
          "name": "stdout",
          "text": [
            "[81, 95, 85, 7, 63, 27, 75, 93, 16, 87]\n"
          ]
        }
      ]
    },
    {
      "cell_type": "markdown",
      "source": [
        "27. Contar Palavras em uma Frase\n",
        "   \n",
        "    Crie um programa que conte o número de palavras em uma frase fornecida pelo usuário. Use um loop `for` para iterar sobre as palavras da frase."
      ],
      "metadata": {
        "id": "M8HDOAWo38Ks"
      }
    },
    {
      "cell_type": "code",
      "source": [
        "frase = input(\"Digite uma frase: \")\n",
        "contador_palavras = 0\n",
        "palavras = frase.split()\n",
        "\n",
        "for palavra in palavras:\n",
        "    contador_palavras += 1\n",
        "\n",
        "print(f\"O número de palavras na ' {frase} ' é: {contador_palavras}\")"
      ],
      "metadata": {
        "colab": {
          "base_uri": "https://localhost:8080/"
        },
        "id": "DFHghLD23_kZ",
        "outputId": "cfb25518-8214-431b-c23e-6e9dc697da12"
      },
      "execution_count": null,
      "outputs": [
        {
          "output_type": "stream",
          "name": "stdout",
          "text": [
            "Digite uma frase: Viva lá vida Louca \n",
            "O número de palavras na ' Viva lá vida Louca  ' é: 4\n"
          ]
        }
      ]
    },
    {
      "cell_type": "markdown",
      "source": [
        "28. Tabuada de 1 a 10\n",
        "    \n",
        "    Crie um programa que exiba a tabuada de 1 a 10 usando dois loops for: um para o número base e outro para o multiplicador."
      ],
      "metadata": {
        "id": "hPc6gOni5wz5"
      }
    },
    {
      "cell_type": "code",
      "source": [
        "for base in range(1, 11):\n",
        "    print(f\"Tabuada de {base}:\")\n",
        "    for multiplicador in range(1, 11):\n",
        "        resultado = base * multiplicador\n",
        "        print(f\"{base} x {multiplicador} = {resultado}\")\n",
        "    print(end=' ')"
      ],
      "metadata": {
        "colab": {
          "base_uri": "https://localhost:8080/"
        },
        "id": "8U9Jy0jQ5x9T",
        "outputId": "aa56e4c1-bbdc-4d68-ae15-7a29a3d052d0",
        "collapsed": true
      },
      "execution_count": null,
      "outputs": [
        {
          "output_type": "stream",
          "name": "stdout",
          "text": [
            "Tabuada de 1:\n",
            "1 x 1 = 1\n",
            "1 x 2 = 2\n",
            "1 x 3 = 3\n",
            "1 x 4 = 4\n",
            "1 x 5 = 5\n",
            "1 x 6 = 6\n",
            "1 x 7 = 7\n",
            "1 x 8 = 8\n",
            "1 x 9 = 9\n",
            "1 x 10 = 10\n",
            " Tabuada de 2:\n",
            "2 x 1 = 2\n",
            "2 x 2 = 4\n",
            "2 x 3 = 6\n",
            "2 x 4 = 8\n",
            "2 x 5 = 10\n",
            "2 x 6 = 12\n",
            "2 x 7 = 14\n",
            "2 x 8 = 16\n",
            "2 x 9 = 18\n",
            "2 x 10 = 20\n",
            " Tabuada de 3:\n",
            "3 x 1 = 3\n",
            "3 x 2 = 6\n",
            "3 x 3 = 9\n",
            "3 x 4 = 12\n",
            "3 x 5 = 15\n",
            "3 x 6 = 18\n",
            "3 x 7 = 21\n",
            "3 x 8 = 24\n",
            "3 x 9 = 27\n",
            "3 x 10 = 30\n",
            " Tabuada de 4:\n",
            "4 x 1 = 4\n",
            "4 x 2 = 8\n",
            "4 x 3 = 12\n",
            "4 x 4 = 16\n",
            "4 x 5 = 20\n",
            "4 x 6 = 24\n",
            "4 x 7 = 28\n",
            "4 x 8 = 32\n",
            "4 x 9 = 36\n",
            "4 x 10 = 40\n",
            " Tabuada de 5:\n",
            "5 x 1 = 5\n",
            "5 x 2 = 10\n",
            "5 x 3 = 15\n",
            "5 x 4 = 20\n",
            "5 x 5 = 25\n",
            "5 x 6 = 30\n",
            "5 x 7 = 35\n",
            "5 x 8 = 40\n",
            "5 x 9 = 45\n",
            "5 x 10 = 50\n",
            " Tabuada de 6:\n",
            "6 x 1 = 6\n",
            "6 x 2 = 12\n",
            "6 x 3 = 18\n",
            "6 x 4 = 24\n",
            "6 x 5 = 30\n",
            "6 x 6 = 36\n",
            "6 x 7 = 42\n",
            "6 x 8 = 48\n",
            "6 x 9 = 54\n",
            "6 x 10 = 60\n",
            " Tabuada de 7:\n",
            "7 x 1 = 7\n",
            "7 x 2 = 14\n",
            "7 x 3 = 21\n",
            "7 x 4 = 28\n",
            "7 x 5 = 35\n",
            "7 x 6 = 42\n",
            "7 x 7 = 49\n",
            "7 x 8 = 56\n",
            "7 x 9 = 63\n",
            "7 x 10 = 70\n",
            " Tabuada de 8:\n",
            "8 x 1 = 8\n",
            "8 x 2 = 16\n",
            "8 x 3 = 24\n",
            "8 x 4 = 32\n",
            "8 x 5 = 40\n",
            "8 x 6 = 48\n",
            "8 x 7 = 56\n",
            "8 x 8 = 64\n",
            "8 x 9 = 72\n",
            "8 x 10 = 80\n",
            " Tabuada de 9:\n",
            "9 x 1 = 9\n",
            "9 x 2 = 18\n",
            "9 x 3 = 27\n",
            "9 x 4 = 36\n",
            "9 x 5 = 45\n",
            "9 x 6 = 54\n",
            "9 x 7 = 63\n",
            "9 x 8 = 72\n",
            "9 x 9 = 81\n",
            "9 x 10 = 90\n",
            " Tabuada de 10:\n",
            "10 x 1 = 10\n",
            "10 x 2 = 20\n",
            "10 x 3 = 30\n",
            "10 x 4 = 40\n",
            "10 x 5 = 50\n",
            "10 x 6 = 60\n",
            "10 x 7 = 70\n",
            "10 x 8 = 80\n",
            "10 x 9 = 90\n",
            "10 x 10 = 100\n",
            " "
          ]
        }
      ]
    },
    {
      "cell_type": "markdown",
      "source": [
        "29. Verificar Paridade de Números\n",
        "  \n",
        "    Dado um número máximo fornecido pelo usuário, crie um programa que exiba todos os números de 1 até o máximo e informe se cada um é par ou ímpar.\n",
        "\n"
      ],
      "metadata": {
        "id": "RcyNOXaSIWTM"
      }
    },
    {
      "cell_type": "code",
      "source": [],
      "metadata": {
        "id": "MBEpnAD5Ij3z"
      },
      "execution_count": null,
      "outputs": []
    },
    {
      "cell_type": "markdown",
      "source": [
        "30. Somar Números em uma Lista\n",
        "  \n",
        "    Crie uma lista de números e calcule a soma de todos os números positivos usando um loop `for`."
      ],
      "metadata": {
        "id": "3wrTPUqSIZoB"
      }
    },
    {
      "cell_type": "code",
      "source": [],
      "metadata": {
        "id": "cACMbLhiIkZA"
      },
      "execution_count": null,
      "outputs": []
    }
  ]
}