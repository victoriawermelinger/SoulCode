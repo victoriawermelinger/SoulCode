{
 "cells": [
  {
   "cell_type": "markdown",
   "metadata": {},
   "source": [
    "### 1. Calculadora Científica\n",
    "\n",
    "Escreva uma função que simule uma calculadora científica, capaz de realizar operações básicas como adição, subtração, multiplicação, e divisão, além de funções trigonométricas\n",
    ", exponenciação, e logaritmos."
   ]
  },
  {
   "cell_type": "code",
   "execution_count": 12,
   "metadata": {},
   "outputs": [
    {
     "name": "stdout",
     "output_type": "stream",
     "text": [
      "Número / Ângulo: 10.0\n",
      "0.17364817766693033\n"
     ]
    }
   ],
   "source": [
    "import math\n",
    "\n",
    "def calculadora():\n",
    "    operacao = input('Digite a operação desejada (+, -, *, /, sen, cos, tan, exp, log, log10): ').lower()\n",
    "  \n",
    "    if operacao in ('+', '-', '*', '/'):\n",
    "        num1 = float(input(\"Digite o primeiro número: \"))\n",
    "        num2 = float(input(\"Digite o segundo número: \"))\n",
    "        print(f'Primeiro número {num1} , segundo número {num2}')\n",
    "\n",
    "        if operacao == '+':\n",
    "            resultado = num1 + num2\n",
    "        elif operacao == '-':\n",
    "            resultado = num1 - num2\n",
    "        elif operacao == '*':\n",
    "            resultado = num1 * num2\n",
    "        elif operacao == '/':\n",
    "            if num2 == 0:\n",
    "                return \"Erro: Divisão por zero\"\n",
    "            else:\n",
    "                resultado = num1 / num2\n",
    "                \n",
    "    elif operacao in ('sen', 'cos', 'tan', 'exp', 'log', 'log10'):\n",
    "        num = float(input('Digite o número / ângulo : '))\n",
    "        print(f'Número / Ângulo: {num}')\n",
    "        rad = math.radians(num)\n",
    "        if operacao in ('sen', 'cos', 'tan'):\n",
    "            if operacao == 'sen':\n",
    "                resultado = math.sin(rad)\n",
    "            elif operacao == 'cos':\n",
    "                resultado = math.cos(rad)\n",
    "            elif operacao == 'tan':\n",
    "                resultado = math.tan(rad)\n",
    "        elif operacao == 'exp':\n",
    "            resultado = math.exp(num)\n",
    "        elif operacao == 'log':\n",
    "            if num <= 0:\n",
    "                return 'Erro: Logaritmo de número não positivo'\n",
    "            else:\n",
    "                resultado = math.log(num)\n",
    "        elif operacao == 'log10':\n",
    "            if num <= 0:\n",
    "                return 'Erro: Logaritmo de número não positivo'\n",
    "            else:\n",
    "                resultado = math.log10(num)\n",
    "    else:\n",
    "        return 'ERRO de OPERAÇÃO'\n",
    "\n",
    "    return resultado\n",
    "\n",
    "print(calculadora())"
   ]
  },
  {
   "cell_type": "markdown",
   "metadata": {},
   "source": [
    "### 2. Conversor de Unidades\n",
    "   \n",
    "   Crie uma função que converta entre diferentes unidades de medida (por exemplo, metros para quilômetros, Celsius para Fahrenheit, etc.). A função deve receber a unidade original e a unidade desejada como parâmetros."
   ]
  },
  {
   "cell_type": "code",
   "execution_count": 28,
   "metadata": {},
   "outputs": [
    {
     "name": "stdout",
     "output_type": "stream",
     "text": [
      "O resultado da conversão é: 10.0 em km, metros\n"
     ]
    }
   ],
   "source": [
    "def medida(valor, origem, convertido):\n",
    "    if origem == 'm' and convertido == 'km':\n",
    "        return valor / 1000\n",
    "    elif origem == 'km' and convertido == 'm':\n",
    "        return valor * 1000\n",
    "    elif origem == 'C' and convertido == 'F':\n",
    "        return (valor * 9/5) + 32\n",
    "    elif origem == 'F' and convertido == 'C':\n",
    "        return (valor - 32) * 5/9\n",
    "    else:\n",
    "        raise ValueError(\"Conversão não suportada para essas unidades.\")\n",
    "\n",
    "t_medida = input('Qual medida você deseja converter (metros ou graus)? ').lower()\n",
    "\n",
    "if t_medida == 'metros':\n",
    "    valor = float(input('Digite o valor em metros ou quilômetros: '))\n",
    "    origem = input('Digite a unidade de origem (m ou km): ').lower()\n",
    "    convertido = input('Digite a unidade de destino (m ou km): ').lower()\n",
    "elif t_medida == 'graus':\n",
    "    valor = float(input('Digite o valor em Celsius ou Fahrenheit: '))\n",
    "    origem = input('Digite a unidade de origem (C ou F): ').upper()\n",
    "    convertido = input('Digite a unidade de destino (C ou F): ').upper()\n",
    "else:\n",
    "    print(\"Tipo de medida não suportado.\")\n",
    "    origem = ''\n",
    "    convertido = ''\n",
    "\n",
    "if origem and convertido:\n",
    "    resul = medida(valor, origem, convertido)\n",
    "    print(f'O resultado da conversão é: {resul} em {convertido}, {t_medida}')"
   ]
  },
  {
   "cell_type": "markdown",
   "metadata": {},
   "source": [
    "### 3. Verificador de Palíndromo\n",
    "\n",
    "Escreva uma função que verifique se uma determinada palavra ou frase é um palíndromo (lê-se da mesma forma de frente para trás). A função deve ignorar espaços e pontuações."
   ]
  },
  {
   "cell_type": "code",
   "execution_count": 59,
   "metadata": {},
   "outputs": [
    {
     "name": "stdout",
     "output_type": "stream",
     "text": [
      "\"Socorram-me, subi no ônibus em Marrocos\" é um palíndromo!\n"
     ]
    }
   ],
   "source": [
    "import unicodedata\n",
    "\n",
    "def palindromo(frase):\n",
    "    frase = ''.join(char.lower() for char in unicodedata.normalize('NFD', frase) if char.isalnum())\n",
    "    return frase == frase[::-1]\n",
    "frase = input(\"Digite uma palavra ou frase para verificar se é um palíndromo: \")\n",
    "if palindromo(frase):\n",
    "    print(f'\"{frase}\" é um palíndromo!')\n",
    "else:\n",
    "    print(f'\"{frase}\" não é um palíndromo.')"
   ]
  },
  {
   "cell_type": "code",
   "execution_count": 64,
   "metadata": {},
   "outputs": [
    {
     "name": "stdout",
     "output_type": "stream",
     "text": [
      "\"Socorram-me, subi no ônibus em Marrocos\" é um palíndromo!\n"
     ]
    }
   ],
   "source": [
    "from unidecode import unidecode\n",
    "\n",
    "def palindromo(frase):\n",
    "    frase = ''.join(char.lower() for char in unidecode(frase) if char.isalnum())\n",
    "    return frase == frase[::-1]\n",
    "\n",
    "frase = input(\"Digite uma palavra ou frase para verificar se é um palíndromo: \")\n",
    "\n",
    "if palindromo(frase):\n",
    "    print(f'\"{frase}\" é um palíndromo!')\n",
    "else:\n",
    "    print(f'\"{frase}\" não é um palíndromo.')"
   ]
  },
  {
   "cell_type": "code",
   "execution_count": 7,
   "metadata": {},
   "outputs": [
    {
     "name": "stdout",
     "output_type": "stream",
     "text": [
      "True\n"
     ]
    }
   ],
   "source": [
    "import re\n",
    "def eh_palindromo(s):\n",
    "  s = re.sub(r'[^a-zA-Z0-9]','',s).lower()\n",
    "  return len(s) <= 1 or s[0] == s[-1] and eh_palindromo(s[1:-1])\n",
    "\n",
    "#uso\n",
    "print(eh_palindromo(\"Socorram-me, subi no ônibus em Marrocos\"))"
   ]
  },
  {
   "cell_type": "code",
   "execution_count": 11,
   "metadata": {},
   "outputs": [
    {
     "name": "stdout",
     "output_type": "stream",
     "text": [
      "É palíndromo\n"
     ]
    }
   ],
   "source": [
    "import re\n",
    "\n",
    "def verificador_palindromo(palavra):\n",
    "    # Remover caracteres que não são letras ou números e converter para minúsculas\n",
    "    palavra = re.sub(r'[^a-zA-Z0-9]', '', palavra).lower()\n",
    "    \n",
    "    # Verificar se a palavra é um palíndromo\n",
    "    if palavra == palavra[::-1]:\n",
    "        return \"É palíndromo\"\n",
    "    else:\n",
    "        return \"Não é palíndromo\"\n",
    "\n",
    "# Solicitar a palavra ao usuário\n",
    "palavra = input(\"Digite a palavra que você quer verificar: \")\n",
    "\n",
    "# Exibir o resultado da verificação\n",
    "print(verificador_palindromo(palavra))"
   ]
  },
  {
   "cell_type": "markdown",
   "metadata": {},
   "source": [
    "### 4. Gerador de Senhas Seguras\n",
    "\n",
    " Desenvolva uma função que gere uma senha segura com um comprimento especificado. A senha deve conter letras maiúsculas e minúsculas, números e símbolos especiais."
   ]
  },
  {
   "cell_type": "code",
   "execution_count": 70,
   "metadata": {},
   "outputs": [
    {
     "name": "stdout",
     "output_type": "stream",
     "text": [
      "Sua senha segura é: f\\+<h.T5KB>o\n"
     ]
    }
   ],
   "source": [
    "import random\n",
    "import string\n",
    "def gerar(segura_tamanho):\n",
    "    min = string.ascii_lowercase\n",
    "    mai = string.ascii_uppercase\n",
    "    num = string.digits\n",
    "    simb = string.punctuation\n",
    "    caracteres = min + mai + num + simb\n",
    "    senha = [\n",
    "        random.choice(min),\n",
    "        random.choice(mai),\n",
    "        random.choice(num),\n",
    "        random.choice(simb)\n",
    "    ]\n",
    "    senha += random.choices(caracteres, k=segura_tamanho - 4)\n",
    "    random.shuffle(senha)\n",
    "    return ''.join(senha)\n",
    "\n",
    "tamanho = int(input(\"Digite o comprimento desejado para a senha: \"))\n",
    "senha = gerar(tamanho)\n",
    "print(f\"Sua senha segura é: {senha}\")"
   ]
  },
  {
   "cell_type": "markdown",
   "metadata": {},
   "source": [
    "### 5. Ordenação de Listas\n",
    "\n",
    "Implemente uma função que receba uma lista de números ou strings e a ordene usando um algoritmo de ordenação de sua escolha (por exemplo, QuickSort, MergeSort). A função deve permitir escolher entre ordem crescente ou decrescente."
   ]
  },
  {
   "cell_type": "code",
   "execution_count": 71,
   "metadata": {},
   "outputs": [
    {
     "name": "stdout",
     "output_type": "stream",
     "text": [
      "Lista ordenada (decr): [15.0, 11.0, 8.0, 7.0, 6.0, 5.0, 4.0, 3.0, 2.0, 1.0]\n"
     ]
    }
   ],
   "source": [
    "def merge(lista, ordem='crescente'):\n",
    "    if len(lista) > 1:\n",
    "        meio = len(lista) // 2\n",
    "        esquerda = lista[:meio]\n",
    "        direita = lista[meio:]\n",
    "\n",
    "        # Recursivamente ordenar as duas metades\n",
    "        merge(esquerda, ordem)\n",
    "        merge(direita, ordem)\n",
    "\n",
    "        i = j = k = 0\n",
    "\n",
    "        # Merging os dados de volta na lista original\n",
    "        while i < len(esquerda) and j < len(direita):\n",
    "            if (ordem == 'crescente' and esquerda[i] < direita[j]) or (ordem == 'decrescente' and esquerda[i] > direita[j]):\n",
    "                lista[k] = esquerda[i]\n",
    "                i += 1\n",
    "            else:\n",
    "                lista[k] = direita[j]\n",
    "                j += 1\n",
    "            k += 1\n",
    "\n",
    "        # Verificar se ainda há elementos restantes\n",
    "        while i < len(esquerda):\n",
    "            lista[k] = esquerda[i]\n",
    "            i += 1\n",
    "            k += 1\n",
    "\n",
    "        while j < len(direita):\n",
    "            lista[k] = direita[j]\n",
    "            j += 1\n",
    "            k += 1\n",
    "\n",
    "def ordenar(lista, ordem='crescente'):\n",
    "    merge(lista, ordem)\n",
    "    return lista\n",
    "\n",
    "# Solicitar ao usuário uma lista e a ordem\n",
    "entrada = input(\"Digite uma lista de números ou letras separados por vírgula (por exemplo, 5,3,8,1 ou a,b,c,a): \")\n",
    "tipo = input(\"Digite 'num' para números ou 'letras' para letras: \").strip().lower()\n",
    "ordem = input(\"Digite 'cresc' para ordem crescente ou 'decr' para ordem decrescente: \").strip().lower()\n",
    "\n",
    "# Processar a entrada\n",
    "if tipo == 'num':\n",
    "    lista = list(map(float, entrada.split(',')))\n",
    "elif tipo == 'letras':\n",
    "    lista = entrada.split(',')\n",
    "else:\n",
    "    raise ValueError(\"Tipo inválido. Digite 'números' ou 'strings'.\")\n",
    "\n",
    "# Ordenar a lista\n",
    "lista = ordenar(lista, ordem)\n",
    "\n",
    "# Exibir o resultado\n",
    "print(f\"Lista ordenada ({ordem}): {lista}\")\n"
   ]
  },
  {
   "cell_type": "markdown",
   "metadata": {},
   "source": [
    "### 6. Validador de CPF\n",
    "\n",
    " Crie uma função que valide um CPF (Cadastro de Pessoas Físicas) de acordo com as regras brasileiras, verificando se o CPF é válido ou não."
   ]
  },
  {
   "cell_type": "code",
   "execution_count": 7,
   "metadata": {},
   "outputs": [
    {
     "name": "stdout",
     "output_type": "stream",
     "text": [
      "Defaulting to user installation because normal site-packages is not writeable\n",
      "Requirement already satisfied: validate-docbr in c:\\users\\victoria\\appdata\\local\\packages\\pythonsoftwarefoundation.python.3.12_qbz5n2kfra8p0\\localcache\\local-packages\\python312\\site-packages (1.10.0)\n"
     ]
    }
   ],
   "source": [
    "! pip install validate-docbr"
   ]
  },
  {
   "cell_type": "code",
   "execution_count": 9,
   "metadata": {},
   "outputs": [
    {
     "name": "stdout",
     "output_type": "stream",
     "text": [
      "CPF 13367043739 inválido!\n"
     ]
    }
   ],
   "source": [
    "from validate_docbr import CPF\n",
    "\n",
    "def cpf(cpf):\n",
    "    validator = CPF()\n",
    "    return validator.validate(cpf)\n",
    "\n",
    "# Testar a função\n",
    "cpf_teste = input(\"Digite um CPF para validar (apenas números): \")\n",
    "if cpf(cpf_teste):\n",
    "    print(f\"CPF {cpf_teste} válido!\")\n",
    "else:\n",
    "    print(f\"CPF {cpf_teste} inválido!\")"
   ]
  },
  {
   "cell_type": "markdown",
   "metadata": {},
   "source": [
    "### 7. Jogo da Velha\n",
    "\n",
    "  Escreva funções para implementar o jogo da velha, incluindo a verificação de vitória, empate, e a atualização do tabuleiro com cada jogada."
   ]
  },
  {
   "cell_type": "code",
   "execution_count": 4,
   "metadata": {},
   "outputs": [
    {
     "name": "stdout",
     "output_type": "stream",
     "text": [
      "| | | |\n",
      "| | | |\n",
      "| | | |\n",
      "Vez do jogador X\n",
      "|X| | |\n",
      "| | | |\n",
      "| | | |\n",
      "Vez do jogador O\n",
      "|X|O| |\n",
      "| | | |\n",
      "| | | |\n",
      "Vez do jogador X\n",
      "|X|O|X|\n",
      "| | | |\n",
      "| | | |\n",
      "Vez do jogador O\n",
      "|X|O|X|\n",
      "| | | |\n",
      "| |O| |\n",
      "Vez do jogador X\n",
      "Jogada inválida. Tente novamente.\n",
      "|X|O|X|\n",
      "| | | |\n",
      "| |O| |\n",
      "Vez do jogador X\n",
      "Jogada inválida. Tente novamente.\n",
      "|X|O|X|\n",
      "| | | |\n",
      "| |O| |\n",
      "Vez do jogador X\n",
      "|X|O|X|\n",
      "| | | |\n",
      "| |O|X|\n",
      "Vez do jogador O\n",
      "Jogada inválida. Tente novamente.\n",
      "|X|O|X|\n",
      "| | | |\n",
      "| |O|X|\n",
      "Vez do jogador O\n",
      "|X|O|X|\n",
      "|O| | |\n",
      "| |O|X|\n",
      "Vez do jogador X\n",
      "|X|O|X|\n",
      "|O|X| |\n",
      "| |O|X|\n",
      "Jogador X venceu!\n"
     ]
    }
   ],
   "source": [
    "def inicializa_tabuleiro():\n",
    "  \"\"\"Inicializa o tabuleiro do jogo da velha com espaços vazios.\"\"\"\n",
    "  return [[\" \" for _ in range(3)] for _ in range(3)]\n",
    "\n",
    "def imprime_tabuleiro(tabuleiro):\n",
    "  \"\"\"Imprime o tabuleiro do jogo da velha de forma organizada.\"\"\"\n",
    "  for linha in tabuleiro:\n",
    "    print(\"|\" + \"|\".join(linha) + \"|\")\n",
    "\n",
    "def verifica_vitoria(tabuleiro, jogador):\n",
    "  \"\"\"Verifica se o jogador atual venceu o jogo.\"\"\"\n",
    "  # Verifica linhas\n",
    "  for linha in tabuleiro:\n",
    "    if all(casa == jogador for casa in linha):\n",
    "      return True\n",
    "  # Verifica colunas\n",
    "  for coluna in range(3):\n",
    "    if all(tabuleiro[linha][coluna] == jogador for linha in range(3)):\n",
    "      return True\n",
    "  # Verifica diagonais\n",
    "  if (tabuleiro[0][0] == jogador and tabuleiro[1][1] == jogador and tabuleiro[2][2] == jogador) or \\\n",
    "     (tabuleiro[0][2] == jogador and tabuleiro[1][1] == jogador and tabuleiro[2][0] == jogador):\n",
    "    return True\n",
    "  return False\n",
    "\n",
    "def verifica_empate(tabuleiro):\n",
    "  \"\"\"Verifica se o jogo terminou em empate.\"\"\"\n",
    "  for linha in tabuleiro:\n",
    "    for casa in linha:\n",
    "      if casa == \" \":\n",
    "        return False\n",
    "  return True\n",
    "\n",
    "def faz_jogada(tabuleiro, linha, coluna, jogador):\n",
    "  \"\"\"Realiza uma jogada no tabuleiro.\"\"\"\n",
    "  if tabuleiro[linha][coluna] == \" \":\n",
    "    tabuleiro[linha][coluna] = jogador\n",
    "    return True\n",
    "  else:\n",
    "    return False\n",
    "\n",
    "# Loop principal do jogo\n",
    "tabuleiro = inicializa_tabuleiro()\n",
    "jogador_atual = \"X\"\n",
    "jogo_terminou = False\n",
    "\n",
    "while not jogo_terminou:\n",
    "  imprime_tabuleiro(tabuleiro)\n",
    "  print(\"Vez do jogador\", jogador_atual)\n",
    "  linha = int(input(\"Digite a linha (0-2): \"))\n",
    "  coluna = int(input(\"Digite a coluna (0-2): \"))\n",
    "\n",
    "  if faz_jogada(tabuleiro, linha, coluna, jogador_atual):\n",
    "    if verifica_vitoria(tabuleiro, jogador_atual):\n",
    "      imprime_tabuleiro(tabuleiro)\n",
    "      print(\"Jogador\", jogador_atual, \"venceu!\")\n",
    "      jogo_terminou = True\n",
    "    elif verifica_empate(tabuleiro):\n",
    "      imprime_tabuleiro(tabuleiro)\n",
    "      print(\"Empate!\")\n",
    "      jogo_terminou = True\n",
    "    else:\n",
    "      jogador_atual = \"O\" if jogador_atual == \"X\" else \"X\"\n",
    "  else:\n",
    "    print(\"Jogada inválida. Tente novamente.\")"
   ]
  },
  {
   "cell_type": "markdown",
   "metadata": {},
   "source": [
    "### 8. Análise de Sentimento\n",
    "\n",
    "   Desenvolva uma função que analise uma frase ou texto e determine se o sentimento é positivo, negativo ou neutro, usando uma abordagem simples baseada em palavras-chave."
   ]
  },
  {
   "cell_type": "code",
   "execution_count": 15,
   "metadata": {},
   "outputs": [
    {
     "name": "stdout",
     "output_type": "stream",
     "text": [
      "Defaulting to user installation because normal site-packages is not writeable\n",
      "Requirement already satisfied: textblob in c:\\users\\victoria\\appdata\\local\\packages\\pythonsoftwarefoundation.python.3.12_qbz5n2kfra8p0\\localcache\\local-packages\\python312\\site-packages (0.18.0.post0)\n",
      "Requirement already satisfied: nltk>=3.8 in c:\\users\\victoria\\appdata\\local\\packages\\pythonsoftwarefoundation.python.3.12_qbz5n2kfra8p0\\localcache\\local-packages\\python312\\site-packages (from textblob) (3.8.2)\n",
      "Requirement already satisfied: click in c:\\users\\victoria\\appdata\\local\\packages\\pythonsoftwarefoundation.python.3.12_qbz5n2kfra8p0\\localcache\\local-packages\\python312\\site-packages (from nltk>=3.8->textblob) (8.1.7)\n",
      "Requirement already satisfied: joblib in c:\\users\\victoria\\appdata\\local\\packages\\pythonsoftwarefoundation.python.3.12_qbz5n2kfra8p0\\localcache\\local-packages\\python312\\site-packages (from nltk>=3.8->textblob) (1.4.0)\n",
      "Requirement already satisfied: regex>=2021.8.3 in c:\\users\\victoria\\appdata\\local\\packages\\pythonsoftwarefoundation.python.3.12_qbz5n2kfra8p0\\localcache\\local-packages\\python312\\site-packages (from nltk>=3.8->textblob) (2024.7.24)\n",
      "Requirement already satisfied: tqdm in c:\\users\\victoria\\appdata\\local\\packages\\pythonsoftwarefoundation.python.3.12_qbz5n2kfra8p0\\localcache\\local-packages\\python312\\site-packages (from nltk>=3.8->textblob) (4.66.2)\n",
      "Requirement already satisfied: colorama in c:\\users\\victoria\\appdata\\local\\packages\\pythonsoftwarefoundation.python.3.12_qbz5n2kfra8p0\\localcache\\local-packages\\python312\\site-packages (from click->nltk>=3.8->textblob) (0.4.6)\n"
     ]
    }
   ],
   "source": [
    "! pip install textblob"
   ]
  },
  {
   "cell_type": "code",
   "execution_count": 16,
   "metadata": {},
   "outputs": [
    {
     "name": "stdout",
     "output_type": "stream",
     "text": [
      "O sentimento do texto é: Neutro\n"
     ]
    }
   ],
   "source": [
    "from textblob import TextBlob\n",
    "\n",
    "def analise(texto):\n",
    "    blob = TextBlob(texto)\n",
    "    sentimento = blob.sentiment.polarity\n",
    "    \n",
    "    if sentimento > 0:\n",
    "        return \"Positivo\"\n",
    "    elif sentimento < 0:\n",
    "        return \"Negativo\"\n",
    "    else:\n",
    "        return \"Neutro\"\n",
    "\n",
    "# Exemplo de uso\n",
    "texto = input(\"Digite uma frase ou texto para análise de sentimento: \")\n",
    "resultado = analise(texto)\n",
    "print(f\"O sentimento do texto é: {resultado}\")\n"
   ]
  },
  {
   "cell_type": "markdown",
   "metadata": {},
   "source": [
    "### 9. Sistema de Votação\n",
    "\n",
    "Crie um sistema de votação simples em que os usuários podem votar em diferentes opções. A função deve calcular e exibir o vencedor com base nos votos."
   ]
  },
  {
   "cell_type": "code",
   "execution_count": 2,
   "metadata": {},
   "outputs": [
    {
     "name": "stdout",
     "output_type": "stream",
     "text": [
      "Bem-vindo ao sistema de votação!\n",
      "\n",
      "Opções de votação:\n",
      "1. Opção A\n",
      "2. Opção B\n",
      "3. Opção C\n",
      "Você votou na opção: Opção A\n",
      "Opções de votação:\n",
      "1. Opção A\n",
      "2. Opção B\n",
      "3. Opção C\n",
      "Você votou na opção: Opção B\n",
      "Opções de votação:\n",
      "1. Opção A\n",
      "2. Opção B\n",
      "3. Opção C\n",
      "Você votou na opção: Opção B\n",
      "Opções de votação:\n",
      "1. Opção A\n",
      "2. Opção B\n",
      "3. Opção C\n",
      "\n",
      "Resultado da votação:\n",
      "Opção A: 1 votos\n",
      "Opção B: 2 votos\n",
      "Opção C: 0 votos\n",
      "\n",
      "O vencedor é: Opção B\n"
     ]
    }
   ],
   "source": [
    "def sistema_votacao(opcoes):\n",
    "    votos = {opcao: 0 for opcao in opcoes}\n",
    "    \n",
    "    print(\"Bem-vindo ao sistema de votação!\\n\")\n",
    "    \n",
    "    while True:\n",
    "        print(\"Opções de votação:\")\n",
    "        for i, opcao in enumerate(opcoes, 1):\n",
    "            print(f\"{i}. {opcao}\")\n",
    "\n",
    "        voto = input(\"\\nDigite o número da opção para votar (ou 'S' para encerrar): \").strip().upper()\n",
    "\n",
    "        if voto == 'S':\n",
    "            break\n",
    "\n",
    "        if voto.isdigit():\n",
    "            voto_numero = int(voto)\n",
    "            if 1 <= voto_numero <= len(opcoes):\n",
    "                opcao_votada = opcoes[voto_numero - 1]\n",
    "                votos[opcao_votada] += 1\n",
    "                print(f\"Você votou na opção: {opcao_votada}\")\n",
    "            else:\n",
    "                print(\"Número inválido. Tente novamente.\")\n",
    "        else:\n",
    "            print(\"Entrada inválida. Digite um número válido ou 'S' para encerrar.\")\n",
    "\n",
    "    # Exibir resultados\n",
    "    print(\"\\nResultado da votação:\")\n",
    "    for opcao, quantidade in votos.items():\n",
    "        print(f\"{opcao}: {quantidade} votos\")\n",
    "    \n",
    "    # Encontrar a opção vencedora\n",
    "    vencedor = max(votos, key=votos.get)\n",
    "    print(f\"\\nO vencedor é: {vencedor}\")\n",
    "\n",
    "# Exemplo de uso\n",
    "opcoes_votacao = [\"Opção A\", \"Opção B\", \"Opção C\"]\n",
    "sistema_votacao(opcoes_votacao)"
   ]
  },
  {
   "cell_type": "markdown",
   "metadata": {},
   "source": [
    "### 10. Simulação de Dados de Temperatura\n",
    "\n",
    "Escreva uma função que simule a coleta de dados de temperatura de diferentes cidades ao longo de uma semana e, em seguida, calcule a média, a temperatura mais alta e mais baixa."
   ]
  },
  {
   "cell_type": "markdown",
   "metadata": {},
   "source": [
    "### 11. Gerador de Números Aleatórios\n",
    "Desenvolva uma função que gere uma lista de números aleatórios dentro de um intervalo específico e calcule a média, mediana, e moda dos números gerados."
   ]
  },
  {
   "cell_type": "code",
   "execution_count": 14,
   "metadata": {},
   "outputs": [
    {
     "name": "stdout",
     "output_type": "stream",
     "text": [
      "Números gerados: [38, 66, 63, 60, 40, 15, 72, 51, 31, 94, 34, 57, 48, 79, 48, 52, 97, 43, 79, 15]\n",
      "Média: 54.10\n",
      "Mediana: 51.5\n",
      "Moda: 15\n"
     ]
    }
   ],
   "source": [
    "import random\n",
    "from statistics import mean, median, mode, StatisticsError\n",
    "\n",
    "def gerar_numeros_aleatorios(intervalo, quantidade):\n",
    "    inicio, fim = intervalo\n",
    "    return [random.randint(inicio, fim) for _ in range(quantidade)]\n",
    "\n",
    "def calcular_estatisticas(numeros):\n",
    "    try:\n",
    "        media = mean(numeros)\n",
    "        mediana_valor = median(numeros)\n",
    "        moda_valor = mode(numeros)\n",
    "    except StatisticsError as e:\n",
    "        moda_valor = \"Não há moda única\"\n",
    "    \n",
    "    return media, mediana_valor, moda_valor\n",
    "\n",
    "intervalo = (1, 100)  # Intervalo de números aleatórios\n",
    "quantidade = 20  # Quantidade de números a serem gerados\n",
    "\n",
    "numeros_gerados = gerar_numeros_aleatorios(intervalo, quantidade)\n",
    "media, mediana_valor, moda_valor = calcular_estatisticas(numeros_gerados)\n",
    "\n",
    "print(f\"Números gerados: {numeros_gerados}\")\n",
    "print(f\"Média: {media:.2f}\")\n",
    "print(f\"Mediana: {mediana_valor}\")\n",
    "print(f\"Moda: {moda_valor}\")\n"
   ]
  },
  {
   "cell_type": "markdown",
   "metadata": {},
   "source": [
    "### 12. Analisador de Texto\n",
    "\n",
    "   Crie uma função que receba um texto e retorne o número de palavras, frases, e caracteres, além de calcular a frequência de cada palavra no texto."
   ]
  },
  {
   "cell_type": "markdown",
   "metadata": {},
   "source": [
    "### 13. Cálculo de Juros Compostos\n",
    "\n",
    "Escreva uma função que calcule o valor futuro de um investimento com base nos juros compostos. A função deve permitir a personalização do principal, taxa de juros, e número de períodos."
   ]
  },
  {
   "cell_type": "code",
   "execution_count": 13,
   "metadata": {},
   "outputs": [
    {
     "name": "stdout",
     "output_type": "stream",
     "text": [
      "O valor futuro do investimento é: R$1647.01\n"
     ]
    }
   ],
   "source": [
    "def calcular_valor_futuro(principal, taxa_juros, periodos_ano, anos):\n",
    "    taxa_decimal = taxa_juros / 100\n",
    "    valor_futuro = principal * (1 + taxa_decimal / periodos_ano) ** (periodos_ano * anos)\n",
    "    return valor_futuro\n",
    "\n",
    "valor_inicial = 1000  # Valor principal em reais\n",
    "taxa_anual = 5  # Taxa de juros anual em porcentagem\n",
    "periodos_por_ano = 12  # Capitalização mensal\n",
    "tempo = 10  # Tempo em anos\n",
    "\n",
    "resultado = calcular_valor_futuro(valor_inicial, taxa_anual, periodos_por_ano, tempo)\n",
    "print(f\"O valor futuro do investimento é: R${resultado:.2f}\")"
   ]
  },
  {
   "cell_type": "markdown",
   "metadata": {},
   "source": [
    "### 14. Conversor de Data\n",
    "Desenvolva uma função que converta datas entre diferentes formatos (por exemplo, de \"DD/MM/YYYY\" para \"YYYY-MM-DD\") e que valide se a data inserida é válida."
   ]
  },
  {
   "cell_type": "code",
   "execution_count": 12,
   "metadata": {},
   "outputs": [
    {
     "name": "stdout",
     "output_type": "stream",
     "text": [
      "2024-08-31\n"
     ]
    }
   ],
   "source": [
    "from datetime import datetime\n",
    "\n",
    "def converter_data(data, formato_entrada, formato_saida):\n",
    "    try:\n",
    "        data_obj = datetime.strptime(data, formato_entrada)      \n",
    "        data_convertida = data_obj.strftime(formato_saida)\n",
    "        \n",
    "        return data_convertida\n",
    "    except ValueError as e:\n",
    "        return f\"Erro: {e}\"\n",
    "\n",
    "data_exemplo = \"31/08/2024\"\n",
    "formato_entrada = \"%d/%m/%Y\"\n",
    "formato_saida = \"%Y-%m-%d\"\n",
    "\n",
    "resultado = converter_data(data_exemplo, formato_entrada, formato_saida)\n",
    "print(resultado)"
   ]
  },
  {
   "cell_type": "markdown",
   "metadata": {},
   "source": [
    "### 15. Simulador de Lançamento de Dados\n",
    "Crie uma função que simule o lançamento de um dado (ou múltiplos dados) um número específico de vezes e exiba a frequência de cada face."
   ]
  },
  {
   "cell_type": "code",
   "execution_count": 10,
   "metadata": {},
   "outputs": [
    {
     "name": "stdout",
     "output_type": "stream",
     "text": [
      "Resultados dos lançamentos:\n",
      "Face 1: 315 vezes\n",
      "Face 2: 348 vezes\n",
      "Face 3: 350 vezes\n",
      "Face 4: 321 vezes\n",
      "Face 5: 342 vezes\n",
      "Face 6: 324 vezes\n"
     ]
    }
   ],
   "source": [
    "import random\n",
    "from collections import Counter\n",
    "\n",
    "def simular_lancamento_dados(num_dados, num_lancamentos):  \n",
    "    resultados = []\n",
    "\n",
    "    for _ in range(num_lancamentos):\n",
    "        lancamento = [random.randint(1, 6) for _ in range(num_dados)]\n",
    "        resultados.extend(lancamento)\n",
    "\n",
    "    frequencias = Counter(resultados)\n",
    "    print(f\"Resultados dos lançamentos:\")\n",
    "    for face in range(1, 7):  # Dado de 6 faces\n",
    "        print(f\"Face {face}: {frequencias.get(face, 0)} vezes\")\n",
    "\n",
    "simular_lancamento_dados(num_dados=2, num_lancamentos=1000)\n"
   ]
  }
 ],
 "metadata": {
  "kernelspec": {
   "display_name": "Python 3",
   "language": "python",
   "name": "python3"
  },
  "language_info": {
   "codemirror_mode": {
    "name": "ipython",
    "version": 3
   },
   "file_extension": ".py",
   "mimetype": "text/x-python",
   "name": "python",
   "nbconvert_exporter": "python",
   "pygments_lexer": "ipython3",
   "version": "3.12.5"
  }
 },
 "nbformat": 4,
 "nbformat_minor": 2
}
