{
  "cells": [
    {
      "cell_type": "markdown",
      "metadata": {
        "id": "uxGISqtR2yNT"
      },
      "source": [
        "# 1 - Variáveis e Tipos de Dados"
      ]
    },
    {
      "cell_type": "code",
      "execution_count": 54,
      "metadata": {
        "id": "tLS0FEGj2rS7"
      },
      "outputs": [
        {
          "name": "stdout",
          "output_type": "stream",
          "text": [
            "--- Cadastro Completo ---\n",
            "Nome: Victroia Sabbatino Wermelinger (Tipo: str)\n",
            "Idade: 32 (Tipo: int)\n",
            "Peso: 92.5 kg (Tipo: float)\n",
            "Altura: 1.69 m (Tipo: float)\n"
          ]
        }
      ],
      "source": [
        "'''\n",
        "1.1. Crie variáveis para armazenar o nome, idade, peso e altura de uma pessoa.\n",
        "Imprima os valores e os tipos de dados dessas variáveis.\n",
        "'''\n",
        "nome = str(input('Nome Completo: ')).title()\n",
        "idade = int(input('Idade: '))\n",
        "peso = float(input('Seu peso (em kg): '))\n",
        "altura = float(input('Sua altura (em metros): '))\n",
        "\n",
        "print('--- Cadastro Completo ---')\n",
        "print(f'Nome: {nome} (Tipo: {type(nome).__name__})')\n",
        "print(f'Idade: {idade} (Tipo: {type(idade).__name__})')\n",
        "print(f'Peso: {peso} kg (Tipo: {type(peso).__name__})')\n",
        "print(f'Altura: {altura} m (Tipo: {type(altura).__name__})')"
      ]
    },
    {
      "cell_type": "code",
      "execution_count": 49,
      "metadata": {
        "id": "VFVgrodF27TT"
      },
      "outputs": [
        {
          "name": "stdout",
          "output_type": "stream",
          "text": [
            "Victoria Sabbatino Wermelinger seu peso atualizado é 85.0 kg.\n"
          ]
        }
      ],
      "source": [
        "'''\n",
        "1.2. Atualize a variável de peso para um valor diferente e imprima o novo valor.\n",
        "'''\n",
        "peso = float(input('Qual seu  novo peso (em kg): '))\n",
        "\n",
        "print(f'{nome} seu peso atualizado é {peso} kg.' )"
      ]
    },
    {
      "cell_type": "markdown",
      "metadata": {
        "id": "RRRbkSkr3Ajw"
      },
      "source": [
        "# 2 - Operadores Matemáticos"
      ]
    },
    {
      "cell_type": "code",
      "execution_count": 23,
      "metadata": {
        "id": "hHAztIDU3AJP"
      },
      "outputs": [
        {
          "name": "stdout",
          "output_type": "stream",
          "text": [
            "Soma 13 , Subtração 7, Multiplicação 30, Divisão 3.3333333333333335,\n",
            " Parte inteira da divisão 3, Resto da divisão 1, Exponenciação 1000.\n"
          ]
        }
      ],
      "source": [
        "'''\n",
        "2.1. Crie uma variável a com valor 10 e uma variável b com valor 3. Realize as\n",
        "seguintes operações e imprima os resultados:\n",
        "Soma\n",
        "Subtração\n",
        "Multiplicação\n",
        "Divisão\n",
        "Parte inteira da divisão\n",
        "Resto da divisão\n",
        "Exponenciação\n",
        "'''\n",
        "a = 10\n",
        "b = 3 \n",
        "\n",
        "Soma = a + b\n",
        "Subtração = a - b\n",
        "Multiplicação = a * b\n",
        "Divisão = a / b\n",
        "int_divisão = a // b\n",
        "Resto_divisão = a % b\n",
        "Exponenciação = a ** b\n",
        "\n",
        "print(f'Soma {Soma} , Subtração {Subtração}, Multiplicação {Multiplicação}, Divisão {Divisão},\\n Parte inteira da divisão {int_divisão}, Resto da divisão {Resto_divisão}, Exponenciação {Exponenciação}.')"
      ]
    },
    {
      "cell_type": "markdown",
      "metadata": {
        "id": "jWJt5Ep23OFd"
      },
      "source": [
        "# 3 - Entrada de Dados pelo Usuário\n"
      ]
    },
    {
      "cell_type": "code",
      "execution_count": 55,
      "metadata": {
        "id": "IiD6jUJh3eiD"
      },
      "outputs": [
        {
          "name": "stdout",
          "output_type": "stream",
          "text": [
            "Bem-vindo, Victoria Sabbatino Wermelinger!\n"
          ]
        }
      ],
      "source": [
        "'''\n",
        "3.1. Peça ao usuário para digitar seu nome e armazene em uma variável. Imprima\n",
        "uma mensagem de boas-vindas usando o nome fornecido.\n",
        "'''\n",
        "\n",
        "nome = input(\"Digite seu nome: \").title()\n",
        "\n",
        "print(f\"Bem-vindo, {nome}!\")\n"
      ]
    },
    {
      "cell_type": "code",
      "execution_count": 14,
      "metadata": {
        "id": "Y4kz72aR3k8d"
      },
      "outputs": [
        {
          "name": "stdout",
          "output_type": "stream",
          "text": [
            "Seu IMC é: 25.773\n",
            "25.773\n"
          ]
        }
      ],
      "source": [
        "'''\n",
        "3.2. Peça ao usuário para digitar sua idade, peso e altura. Calcule o IMC e\n",
        "imprima o resultado arredondado para três casas decimais.\n",
        "'''\n",
        "idade = int(input(\"Digite sua idade: \"))\n",
        "peso = float(input(\"Digite seu peso (em kg): \"))\n",
        "altura = float(input(\"Digite sua altura (em metros): \"))\n",
        "\n",
        "imc = peso / (altura ** 2)\n",
        "\n",
        "print(f\"Seu IMC é: {imc:.3f}\") # podendo usar também print(round(imc, 3)) "
      ]
    },
    {
      "cell_type": "markdown",
      "metadata": {
        "id": "zqRV3Plv3pjL"
      },
      "source": [
        "# 4 - Função de Impressão"
      ]
    },
    {
      "cell_type": "code",
      "execution_count": 8,
      "metadata": {
        "id": "N5AbRV3i3vYV"
      },
      "outputs": [
        {
          "name": "stdout",
          "output_type": "stream",
          "text": [
            "Você digitou: 5\n"
          ]
        }
      ],
      "source": [
        "'''\n",
        "4.1. Peça ao usuário para digitar um número e imprima o número digitado.\n",
        "'''\n",
        "num1 = int(input(\"Digite um número: \"))\n",
        "\n",
        "print(f\"Você digitou: {num1}\")"
      ]
    },
    {
      "cell_type": "code",
      "execution_count": 9,
      "metadata": {
        "id": "qM2ocOFl3vpB"
      },
      "outputs": [
        {
          "name": "stdout",
          "output_type": "stream",
          "text": [
            "A soma dos números é: 13\n"
          ]
        }
      ],
      "source": [
        "'''\n",
        "4.2. Peça ao usuário para digitar dois números e imprima a soma deles.\n",
        "'''\n",
        "num2 = int(input(\"Digite o segundo número: \"))\n",
        "soma = num1 + num2\n",
        "print(f\"A soma dos números é: {soma}\")\n"
      ]
    },
    {
      "cell_type": "markdown",
      "metadata": {
        "id": "RWwlLaOu35jq"
      },
      "source": [
        "# 5 - Métodos de Strings"
      ]
    },
    {
      "cell_type": "code",
      "execution_count": 11,
      "metadata": {
        "id": "PnAPaeXY3-dA"
      },
      "outputs": [
        {
          "name": "stdout",
          "output_type": "stream",
          "text": [
            "O e-mail não é válido.\n"
          ]
        }
      ],
      "source": [
        "'''\n",
        "5.1. Peça ao usuário para digitar um e-mail e verifique se o e-mail contém o\n",
        "caractere '@'. Imprima uma mensagem indicando se é um e-mail válido ou não.\n",
        "'''\n",
        "email = input(\"Digite seu e-mail: \")\n",
        "if '@' in email:\n",
        "    print(\"O e-mail é válido.\")\n",
        "else:\n",
        "    print(\"O e-mail não é válido.\")"
      ]
    },
    {
      "cell_type": "code",
      "execution_count": 43,
      "metadata": {
        "id": "nkwe0I9c3-w-"
      },
      "outputs": [
        {
          "name": "stdout",
          "output_type": "stream",
          "text": [
            "A frase não começa com 'Olá'.\n",
            "Frase em maiúsculas: O CAVALO BRANCO DE NAPOLEÃO ERA PRETO\n",
            "Frase em minúsculas: o cavalo branco de napoleão era preto\n",
            "Frase com a primeira letra de cada palavra em maiúscula: O Cavalo Branco De Napoleão Era Preto\n"
          ]
        }
      ],
      "source": [
        "'''\n",
        "5.2. Peça ao usuário para digitar uma frase e:\n",
        "Converta a frase para maiúsculas.\n",
        "Converta a frase para minúsculas.\n",
        "Converta a primeira letra de cada palavra para maiúscula.\n",
        "Verifique se a frase começa com uma determinada palavra (ex.: 'Olá').\n",
        "'''\n",
        "frase = input(\"Digite uma frase: \")\n",
        "maiusculas = frase.upper()\n",
        "minusculas = frase.lower()\n",
        "titulo = frase.title()\n",
        "\n",
        "palavra = \"Olá\"\n",
        "if frase.startswith(palavra):\n",
        "    print(f\"A frase começa com '{palavra}'.\")\n",
        "else:\n",
        "    print(f\"A frase não começa com '{palavra}'.\")\n",
        "\n",
        "print(f'Frase em maiúsculas: {maiusculas}')\n",
        "print(f'Frase em minúsculas: {minusculas}')\n",
        "print(f'Frase com a primeira letra de cada palavra em maiúscula: {titulo}')"
      ]
    },
    {
      "cell_type": "markdown",
      "metadata": {
        "id": "HZQlB-8K4snX"
      },
      "source": [
        "# 6 - Listas"
      ]
    },
    {
      "cell_type": "code",
      "execution_count": 16,
      "metadata": {
        "id": "3_3JLvXZ4sBG"
      },
      "outputs": [
        {
          "name": "stdout",
          "output_type": "stream",
          "text": [
            "O terceiro(a) amigo(a) na lista é:Victoria\n"
          ]
        }
      ],
      "source": [
        "'''\n",
        "6.1. Crie uma lista com os nomes de cinco amigos. Imprima o nome do terceiro\n",
        "amigo na lista.\n",
        "'''\n",
        "amigos = [\"Elica\", \"Helen\", \"Victoria\", \"Diego\", \"Adriano\"]\n",
        "print(f'O terceiro(a) amigo(a) na lista é: {amigos[2]}')"
      ]
    },
    {
      "cell_type": "code",
      "execution_count": 36,
      "metadata": {
        "id": "ppcjLqMb4yDu"
      },
      "outputs": [
        {
          "name": "stdout",
          "output_type": "stream",
          "text": [
            "Lista atualizada de amigos: ['Victoria', 'Diego', 'Adriano', 'Fernanda', 'Fernanda', 'Fernanda']\n"
          ]
        }
      ],
      "source": [
        "'''\n",
        "6.2. Adicione um novo nome à lista de amigos e remova o primeiro nome.\n",
        "Imprima a lista atualizada.\n",
        "'''\n",
        "amigos.append(\"Fernanda\")\n",
        "amigos.pop(0)\n",
        "\n",
        "print(f'Lista atualizada de amigos: {amigos}')"
      ]
    },
    {
      "cell_type": "code",
      "execution_count": 17,
      "metadata": {
        "id": "Hoz7RcUW4zc4"
      },
      "outputs": [
        {
          "name": "stdout",
          "output_type": "stream",
          "text": [
            "A idade do amigo mais velho é: 30\n",
            "A idade do amigo mais novo é: 22\n",
            "A soma das idades dos amigos é: 132\n"
          ]
        }
      ],
      "source": [
        "'''\n",
        "6.3. Crie uma lista com as idades dos seus amigos e:\n",
        "Imprima a idade do amigo mais velho.\n",
        "Imprima a idade do amigo mais novo.\n",
        "Calcule e imprima a soma das idades.\n",
        "'''\n",
        "idades = [25, 30, 22, 28, 27]\n",
        "velho = max(idades)\n",
        "novo = min(idades)\n",
        "soma = sum(idades)\n",
        "\n",
        "print(f\"A idade do amigo mais velho é: {velho}\")\n",
        "print(f'A idade do amigo mais novo é: {novo}')\n",
        "print(f'A soma das idades dos amigos é: {soma}')\n"
      ]
    },
    {
      "cell_type": "markdown",
      "metadata": {
        "id": "9WTzsCNH4-tT"
      },
      "source": [
        "# 7 - Tuplas"
      ]
    },
    {
      "cell_type": "code",
      "execution_count": 62,
      "metadata": {
        "id": "XpWW7G-p5BOJ"
      },
      "outputs": [
        {
          "name": "stdout",
          "output_type": "stream",
          "text": [
            "Informações do Cliente:\n",
            "Nome: Victoria Sabbatino\n",
            "Idade: 33 anos\n",
            "Peso: 72.5 kg\n",
            "Altura: 1.65 m\n"
          ]
        }
      ],
      "source": [
        "'''\n",
        "7.1 Crie uma tupla com as informações de um cliente (nome, idade, peso, altura).\n",
        "Imprima todas as informações.\n",
        "'''\n",
        "cliente = ('Victoria Sabbatino', 33, 72.5, 1.65)\n",
        "\n",
        "print('Informações do Cliente:')\n",
        "print(f'Nome: {cliente[0]}')\n",
        "print(f'Idade: {cliente[1]} anos')\n",
        "print(f'Peso: {cliente[2]} kg')\n",
        "print(f'Altura: {cliente[3]} m')"
      ]
    },
    {
      "cell_type": "code",
      "execution_count": 63,
      "metadata": {
        "id": "tIzWFwzc5GQ8"
      },
      "outputs": [
        {
          "name": "stdout",
          "output_type": "stream",
          "text": [
            "Nova tupla com e-mail do cliente: ('Victoria Sabbatino', 33, 72.5, 1.65, 'victoria.wermelinger@gmail.com')\n"
          ]
        }
      ],
      "source": [
        "'''\n",
        "7.2. Crie uma nova tupla concatenando a tupla do exercício anterior com o e-mail\n",
        "do cliente. Imprima a nova tupla.\n",
        "'''\n",
        "email = 'victoria.wermelinger@gmail.com'\n",
        "cliente_email = cliente + (email,)\n",
        "\n",
        "print(f'Nova tupla com e-mail do cliente: {cliente_email}')"
      ]
    },
    {
      "cell_type": "markdown",
      "metadata": {
        "id": "-zg06dPu5ZJC"
      },
      "source": [
        "# 8 - Dicionários"
      ]
    },
    {
      "cell_type": "code",
      "execution_count": 29,
      "metadata": {
        "id": "E_wd3pdX5clA"
      },
      "outputs": [
        {
          "name": "stdout",
          "output_type": "stream",
          "text": [
            "{'nome': 'Victoria', 'idade': 41, 'peso': 65, 'altura': 1.7}\n",
            "Victoria\n",
            "Victoria\n"
          ]
        }
      ],
      "source": [
        "'''\n",
        "8.1. Crie um dicionário com informações de um cliente\n",
        "(nome, idade, peso, altura). Imprima o valor associado à chave 'nome'.\n",
        "'''\n",
        "#Criando um dicionario\n",
        "pessoa = {\n",
        "    'nome': 'Victoria',\n",
        "    'idade': 41,\n",
        "    'peso': 65,\n",
        "    'altura': 1.70\n",
        "}\n",
        "print(pessoa)\n",
        "\n",
        "meuNome = pessoa[\"nome\"]\n",
        "print(meuNome)\n",
        "\n",
        "print(pessoa['nome']) # preferência\n"
      ]
    },
    {
      "cell_type": "code",
      "execution_count": 30,
      "metadata": {
        "id": "kM-tUW7o5eK7"
      },
      "outputs": [
        {
          "name": "stdout",
          "output_type": "stream",
          "text": [
            "{'nome': 'Victoria', 'idade': 41, 'peso': 65, 'altura': 1.7, 'email': 'victoria.wermelinger@gmail.com'}\n"
          ]
        }
      ],
      "source": [
        "'''\n",
        "8.2. Adicione uma nova chave 'email' ao dicionário do exercício anterior e\n",
        "imprima o dicionário atualizado.\n",
        "'''\n",
        "pessoa[\"email\"] = \"victoria.wermelinger@gmail.com\"\n",
        "print(pessoa)"
      ]
    },
    {
      "cell_type": "code",
      "execution_count": 31,
      "metadata": {
        "id": "xFhFuFOV5ffs"
      },
      "outputs": [
        {
          "name": "stdout",
          "output_type": "stream",
          "text": [
            "{'nome': 'Victoria', 'idade': 41, 'altura': 1.7, 'email': 'victoria.wermelinger@gmail.com'}\n"
          ]
        }
      ],
      "source": [
        "'''\n",
        "8.3. Remova a chave 'peso' do dicionário e verifique se a chave 'endereço' está\n",
        "no dicionário. Imprima os resultados.\n",
        "'''\n",
        "pessoa.pop('peso')\n",
        "print(pessoa)"
      ]
    },
    {
      "cell_type": "markdown",
      "metadata": {
        "id": "zDOsohbe5sjQ"
      },
      "source": [
        "# 9 - Controle de Fluxo"
      ]
    },
    {
      "cell_type": "code",
      "execution_count": 32,
      "metadata": {
        "id": "efFgv5Xx5wFC"
      },
      "outputs": [
        {
          "name": "stdout",
          "output_type": "stream",
          "text": [
            "Você é adulto.\n"
          ]
        }
      ],
      "source": [
        "# Condicionais\n",
        "'''\n",
        "9.1. Peça ao usuário para digitar sua idade e verifique se ele é menor de idade,\n",
        " adulto ou idoso. Imprima uma mensagem correspondente.\n",
        "'''\n",
        "idade = int(input('Digite sua idade: '))\n",
        "\n",
        "if idade < 18:\n",
        "    print('Você é menor de idade.')\n",
        "elif 18 <= idade < 60:\n",
        "    print('Você é adulto.')\n",
        "else:\n",
        "    print('Você é idoso.')"
      ]
    },
    {
      "cell_type": "code",
      "execution_count": 33,
      "metadata": {
        "id": "pse5b4NO52OP"
      },
      "outputs": [
        {
          "name": "stdout",
          "output_type": "stream",
          "text": [
            "Sua nota foi 50, logo você está reprovado\n"
          ]
        }
      ],
      "source": [
        "# Condicionais\n",
        "'''\n",
        "9.2. Peça ao usuário para digitar uma nota (0 a 100) e imprima se ele foi\n",
        "aprovado (nota >= 60) ou reprovado.\n",
        "'''\n",
        "num = int(input('Digitar uma nota (0 a 100): '))\n",
        "\n",
        "if 0 <= num <= 100:\n",
        "    if num >= 60:\n",
        "        print(f' Sua nota foi {num} logo você está APROVADO !')\n",
        "    else: \n",
        "        print(f'Sua nota foi {num}, logo você está reprovado')"
      ]
    },
    {
      "cell_type": "code",
      "execution_count": 38,
      "metadata": {
        "id": "inMnGHFy525K"
      },
      "outputs": [
        {
          "name": "stdout",
          "output_type": "stream",
          "text": [
            "Cidades mais quentes do Brasil são São Paulo\n",
            "Cidades mais quentes do Brasil são Rio de Janeiro\n",
            "Cidades mais quentes do Brasil são Belo Horizonte\n",
            "Cidades mais quentes do Brasil são Salvador\n",
            "Cidades mais quentes do Brasil são Brasília\n"
          ]
        }
      ],
      "source": [
        "# Loop For\n",
        "'''\n",
        "9.3. Crie uma lista com os nomes de cinco cidades. Use um loop for para imprimir\n",
        "cada nome de cidade.\n",
        "'''\n",
        "cidades = [\"São Paulo\", \"Rio de Janeiro\", \"Belo Horizonte\", \"Salvador\", \"Brasília\"]\n",
        "\n",
        "for city in cidades:\n",
        "    print(f'Cidades mais quentes do Brasil são {city}')"
      ]
    },
    {
      "cell_type": "code",
      "execution_count": 39,
      "metadata": {
        "id": "GitTfGfM539Y"
      },
      "outputs": [
        {
          "name": "stdout",
          "output_type": "stream",
          "text": [
            "O quadrado de 1 é 1\n",
            "O quadrado de 2 é 4\n",
            "O quadrado de 3 é 9\n",
            "O quadrado de 4 é 16\n",
            "O quadrado de 5 é 25\n",
            "O quadrado de 6 é 36\n",
            "O quadrado de 7 é 49\n",
            "O quadrado de 8 é 64\n",
            "O quadrado de 9 é 81\n",
            "O quadrado de 10 é 100\n"
          ]
        }
      ],
      "source": [
        "# Loop For\n",
        "'''\n",
        "9.4. Crie uma lista com os números de 1 a 10. Use um loop for para imprimir o\n",
        "quadrado de cada número.\n",
        "'''\n",
        "num = list(range(1, 11))\n",
        "\n",
        "for numero in num:\n",
        "    quadrado = numero ** 2\n",
        "    print(f\"O quadrado de {numero} é {quadrado}\")"
      ]
    },
    {
      "cell_type": "markdown",
      "metadata": {
        "id": "_vJUEjo_6mWX"
      },
      "source": [
        "# 10 - Estudo de caso 01"
      ]
    },
    {
      "cell_type": "code",
      "execution_count": 47,
      "metadata": {
        "id": "llIsNhsG6l_z"
      },
      "outputs": [
        {
          "name": "stdout",
          "output_type": "stream",
          "text": [
            "Informações do cliente:\n",
            "Nome: Victoria Sabbatino Wermelinger\n",
            "Idade: 32\n",
            "Peso (kg): 95.0\n",
            "Altura (m): 1.7\n",
            "E-mail: victoria.wermelinger@gmail.com\n",
            "IMC: 32.87\n"
          ]
        }
      ],
      "source": [
        "'''\n",
        "Contexto:\n",
        "Uma empresa precisa registrar informações sobre seus clientes e calcular o IMC\n",
        "(Índice de Massa Corporal) de cada um deles. As informações devem ser\n",
        "armazenadas em um dicionário e exibidas ao final.\n",
        "'''\n",
        "'''\n",
        "Requisitos:\n",
        "Peça ao usuário para inserir os seguintes dados de um cliente:\n",
        "Nome\n",
        "Idade\n",
        "Peso (em kg)\n",
        "Altura (em metros)\n",
        "E-mail\n",
        "Armazene essas informações em um dicionário.\n",
        "Calcule o IMC do cliente (IMC = Peso / (Altura * Altura)) e adicione esse valor ao dicionário.\n",
        "Exiba todas as informações do cliente, incluindo o IMC arredondado para duas casas decimais.\n",
        "'''\n",
        "nome = input('Digite o nome do cliente: ').title()\n",
        "idade = int(input('Digite a idade do cliente: '))\n",
        "peso = float(input('Digite o peso do cliente (em kg): '))\n",
        "altura = float(input('Digite a altura do cliente (em metros): '))\n",
        "\n",
        "imc = peso / (altura * altura)\n",
        "\n",
        "while True:\n",
        "    email = input(\"Digite o e-mail do cliente: \")\n",
        "    if \"@\" in email:\n",
        "        break  \n",
        "    else:\n",
        "        print(\"E-mail inválido! Por favor, insira um e-mail que contenha '@'.\")\n",
        "\n",
        "cliente = {\n",
        "    'Nome': nome,\n",
        "    'Idade': idade,\n",
        "    'Peso (kg)': peso,\n",
        "    'Altura (m)': altura,\n",
        "    'E-mail': email,\n",
        "    'IMC': round(imc, 2)\n",
        "}\n",
        "\n",
        "print(\"Informações do cliente:\")\n",
        "for c, i in cliente.items():\n",
        "    print(f\"{c}: {i}\")"
      ]
    },
    {
      "cell_type": "markdown",
      "metadata": {
        "id": "_Yi8lRKQ68B3"
      },
      "source": [
        "# 11 - Estudo de Caso 02"
      ]
    },
    {
      "cell_type": "code",
      "execution_count": 57,
      "metadata": {
        "id": "mrqCtmjg6_It"
      },
      "outputs": [
        {
          "name": "stdout",
          "output_type": "stream",
          "text": [
            "\n",
            "Aluno: Victoria\n",
            "Nota: 99.9\n",
            "Status: Aprovado\n",
            "\n",
            "Aluno: Eduardo\n",
            "Nota: 88.9\n",
            "Status: Aprovado\n",
            "\n",
            "Aluno: Matheus \n",
            "Nota: 70.9\n",
            "Status: Aprovado\n",
            "\n",
            "Aluno: Arianne\n",
            "Nota: 20.8\n",
            "Status: Reprovado\n",
            "\n",
            "Aluno: Raíssa \n",
            "Nota: 99.5\n",
            "Status: Aprovado\n"
          ]
        }
      ],
      "source": [
        "'''\n",
        "Contexto:\n",
        "Uma escola precisa analisar as notas de seus alunos e determinar se cada aluno\n",
        "foi aprovado ou reprovado. As notas serão armazenadas em uma lista e a análise\n",
        "deve ser realizada em um loop.\n",
        "'''\n",
        "\n",
        "'''\n",
        "Requisitos:\n",
        "Peça ao usuário para inserir o nome e a nota de cinco alunos.\n",
        "Armazene os nomes e as notas em listas separadas.\n",
        "Para cada aluno, verifique se a nota é maior ou igual a 60. Se sim, o aluno está\n",
        "aprovado; caso contrário, está reprovado.\n",
        "Exiba uma mensagem para cada aluno informando seu nome, nota e se foi aprovado\n",
        "ou reprovado.\n",
        "'''\n",
        "nomes = []\n",
        "notas = []\n",
        "for i in range(5):\n",
        "    nome = input(f'Digite o nome do {i+1}º aluno: ').title()\n",
        "    nota = float(input(f'Digite a nota do {i+1}º aluno: '))\n",
        "    \n",
        "    nomes.append(nome)\n",
        "    notas.append(nota)\n",
        "\n",
        "for i in range(5):\n",
        "    nome = nomes[i]\n",
        "    nota = notas[i]\n",
        "    \n",
        "    if nota >= 60:\n",
        "        status = 'Aprovado'\n",
        "    else:\n",
        "        status = 'Reprovado'\n",
        "    \n",
        "    print(f'\\nAluno: {nome}')\n",
        "    print(f'Nota: {nota}')\n",
        "    print(f'Status: {status}')\n"
      ]
    },
    {
      "cell_type": "markdown",
      "metadata": {
        "id": "DoDAFqG37QWG"
      },
      "source": [
        "# 12 - Estudo de caso 03"
      ]
    },
    {
      "cell_type": "code",
      "execution_count": 60,
      "metadata": {
        "id": "34JqxL0B7Tvj"
      },
      "outputs": [
        {
          "name": "stdout",
          "output_type": "stream",
          "text": [
            "Nome: Adriano \n",
            "Status: insatisfeita \n"
          ]
        }
      ],
      "source": [
        "'''\n",
        "Contexto\n",
        "Uma empresa deseja realizar uma pesquisa de opinião com cinco participantes\n",
        "sobre um novo produto. As respostas devem ser armazenadas e analisadas para\n",
        "verificar a satisfação dos clientes.\n",
        "'''\n",
        "\n",
        "'''\n",
        "Requisitos\n",
        "Peça ao usuário para inserir o nome e a opinião (satisfeito/insatisfeito) de\n",
        "cinco participantes.\n",
        "Armazene os nomes e as opiniões em um dicionário.\n",
        "Conte o número de participantes satisfeitos e insatisfeitos.\n",
        "Exiba a lista de participantes satisfeitos e insatisfeitos, bem como o número\n",
        "total de cada categoria.\n",
        "'''\n",
        "op_part = {}\n",
        "satisfeitos = 0\n",
        "insatisfeitos = 0\n",
        "\n",
        "for i in range(5):\n",
        "    nome = input(f'Digite o nome do {i+1}º participante: ').title()\n",
        "    while True:\n",
        "        opiniao = input(f'Opinião do {i+1}º participante (1 - Satisfeito / 2 - Insatisfeito): ')\n",
        "        \n",
        "        if opiniao == '1':\n",
        "            opiniao = 'satisfeito'\n",
        "            satisfeitos += 1\n",
        "            break\n",
        "        elif opiniao == '2':\n",
        "            opiniao = 'insatisfeito'\n",
        "            insatisfeitos += 1\n",
        "            break\n",
        "        else:\n",
        "            print(\"Opção inválida. Por favor, digite '1' para Satisfeito ou '2' para Insatisfeito.\")\n",
        "    \n",
        "    op_part[nome] = opiniao\n",
        "\n",
        "participantes_satisfeitos = [nome for nome, opiniao in op_part.items() if opiniao == 'satisfeito']\n",
        "participantes_insatisfeitos = [nome for nome, opiniao in op_part.items() if opiniao == 'insatisfeito']\n",
        "\n",
        "print('--- Resultados da Pesquisa ---')\n",
        "print(f'Quantidade participantes satisfeitos: {satisfeitos}')\n",
        "print('Participantes satisfeitos:', ', '.join(participantes_satisfeitos), '\\n')\n",
        "print(f'Quantidade participantes insatisfeitos: {insatisfeitos}')\n",
        "print('Participantes insatisfeitos:', ', '.join(participantes_insatisfeitos))\n"
      ]
    }
  ],
  "metadata": {
    "colab": {
      "provenance": []
    },
    "kernelspec": {
      "display_name": "Python 3",
      "name": "python3"
    },
    "language_info": {
      "codemirror_mode": {
        "name": "ipython",
        "version": 3
      },
      "file_extension": ".py",
      "mimetype": "text/x-python",
      "name": "python",
      "nbconvert_exporter": "python",
      "pygments_lexer": "ipython3",
      "version": "3.12.5"
    }
  },
  "nbformat": 4,
  "nbformat_minor": 0
}
