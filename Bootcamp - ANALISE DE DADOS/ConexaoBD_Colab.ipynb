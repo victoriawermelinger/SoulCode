{
  "nbformat": 4,
  "nbformat_minor": 0,
  "metadata": {
    "colab": {
      "provenance": []
    },
    "kernelspec": {
      "name": "python3",
      "display_name": "Python 3"
    },
    "language_info": {
      "name": "python"
    }
  },
  "cells": [
    {
      "cell_type": "markdown",
      "source": [
        "#Instalar o conector mysql"
      ],
      "metadata": {
        "id": "wMAb0D_uAZpA"
      }
    },
    {
      "cell_type": "code",
      "execution_count": null,
      "metadata": {
        "colab": {
          "base_uri": "https://localhost:8080/"
        },
        "id": "0U1wGIvgAC9M",
        "outputId": "2708eedc-56d8-4f03-c78e-5fb4244901f5"
      },
      "outputs": [
        {
          "output_type": "stream",
          "name": "stdout",
          "text": [
            "Collecting mysql-connector-python\n",
            "  Downloading mysql_connector_python-9.0.0-cp310-cp310-manylinux_2_17_x86_64.whl.metadata (2.0 kB)\n",
            "Downloading mysql_connector_python-9.0.0-cp310-cp310-manylinux_2_17_x86_64.whl (19.3 MB)\n",
            "\u001b[2K   \u001b[90m━━━━━━━━━━━━━━━━━━━━━━━━━━━━━━━━━━━━━━━━\u001b[0m \u001b[32m19.3/19.3 MB\u001b[0m \u001b[31m46.4 MB/s\u001b[0m eta \u001b[36m0:00:00\u001b[0m\n",
            "\u001b[?25hInstalling collected packages: mysql-connector-python\n",
            "Successfully installed mysql-connector-python-9.0.0\n"
          ]
        }
      ],
      "source": [
        "!pip install mysql-connector-python"
      ]
    },
    {
      "cell_type": "markdown",
      "source": [
        "#Criar o arquivo com as credenciais"
      ],
      "metadata": {
        "id": "aGqMBpNMAram"
      }
    },
    {
      "cell_type": "code",
      "source": [
        "import mysql.connector\n",
        "from mysql.connector import Error\n",
        "\n",
        "#Definir as credenciais e informações da conexão\n",
        "servidor = '35.192.98.101'\n",
        "basededados = 'EmpresaDB'\n",
        "usuario = 'adriano'\n",
        "senha = '@nN32012'"
      ],
      "metadata": {
        "id": "TT7Wuxe0Aw1N"
      },
      "execution_count": null,
      "outputs": []
    },
    {
      "cell_type": "markdown",
      "source": [
        "#Criar a conexão com o Banco de Dados"
      ],
      "metadata": {
        "id": "jg2eaKQl6cVa"
      }
    },
    {
      "cell_type": "code",
      "source": [
        "#Criar a conexão com a Base de Dados\n",
        "\n",
        "def connect_to_database():\n",
        "  try:\n",
        "    connection = mysql.connector.connect(\n",
        "        host = servidor,\n",
        "        database = basededados,\n",
        "        user = usuario,\n",
        "        password = senha\n",
        "    )\n",
        "    if connection.is_connected():\n",
        "      print(\"Conexão bem-sucedida ao banco de dados MySQL!\")\n",
        "      return connection\n",
        "  except Error as e:\n",
        "    print(\"Erro ao conectar ao MySQL\", e)\n",
        "    return None"
      ],
      "metadata": {
        "id": "V4aXUBrNDIwf"
      },
      "execution_count": null,
      "outputs": []
    },
    {
      "cell_type": "code",
      "source": [
        "#Chamar a função de conexão\n",
        "connection = connect_to_database()"
      ],
      "metadata": {
        "colab": {
          "base_uri": "https://localhost:8080/"
        },
        "id": "DhZwNU3AFM62",
        "outputId": "459984a9-2663-4897-90f8-5be4ab2a59e2"
      },
      "execution_count": null,
      "outputs": [
        {
          "output_type": "stream",
          "name": "stdout",
          "text": [
            "Conexão bem-sucedidade ao banco de dados MySQL!\n"
          ]
        }
      ]
    },
    {
      "cell_type": "code",
      "source": [
        "#Fechar a conexão\n",
        "if connection:\n",
        "  connection.close()"
      ],
      "metadata": {
        "id": "yzJu6CbeIYc2"
      },
      "execution_count": null,
      "outputs": []
    },
    {
      "cell_type": "markdown",
      "source": [
        "#Listar as tabelas existentes no banco de dados\n",
        "\n",
        "**Cursor:** O comando 'cursor = connection.cursor()' é usado em banco de dados para criar um Cursor. Um ***cursor é um objeto*** que permite a interação com banco de dados para executar consultas SQL e obter resultados. Usando com os comandos SELECT, INSERT, UPDATE, DELETE."
      ],
      "metadata": {
        "id": "Ils63Ved6Ubp"
      }
    },
    {
      "cell_type": "code",
      "source": [
        "#Consultar as tabelas\n",
        "def query_tables(connection):\n",
        "  try:\n",
        "    cursor = connection.cursor()\n",
        "    #Consultar tabelas\n",
        "    tables = [\"DEPARTAMENTO\", \"EMPREGADO\", \"PROJETO\", \"TRABALHA_EM\", \"HABILIDADE\", \"EMPREGADO_HABILIDADE\"]\n",
        "    for tabela in tables:\n",
        "      cursor.execute(f\"SHOW TABLES LIKE '{tabela}';\")\n",
        "      result = cursor.fetchone()\n",
        "      if result:\n",
        "        print(f\"Tabela {tabela} existe.\")\n",
        "      else:\n",
        "        print(f\"Tabela {tabela} não encontrada.\")\n",
        "  except Error as e:\n",
        "    print(\"Erro ao consultar tabelas\", e)\n",
        "  finally:\n",
        "    cursor.close()\n",
        "\n",
        "#Chamar a função de conexão\n",
        "connection = connect_to_database()\n",
        "\n",
        "if connection:\n",
        "  #Consultar tabelas\n",
        "  query_tables(connection)\n",
        "  #Fechar a conexão\n",
        "  # connection.close()"
      ],
      "metadata": {
        "colab": {
          "base_uri": "https://localhost:8080/"
        },
        "id": "6YXa7k0TJBFD",
        "outputId": "bf5170db-1147-48fe-b871-2f18b6679fec"
      },
      "execution_count": null,
      "outputs": [
        {
          "output_type": "stream",
          "name": "stdout",
          "text": [
            "Conexão bem-sucedida ao banco de dados MySQL!\n",
            "Tabela DEPARTAMENTO existe.\n",
            "Tabela EMPREGADO existe.\n",
            "Tabela PROJETO existe.\n",
            "Tabela TRABALHA_EM existe.\n",
            "Tabela HABILIDADE existe.\n",
            "Tabela EMPREGADO_HABILIDADE existe.\n"
          ]
        }
      ]
    },
    {
      "cell_type": "code",
      "source": [
        "#Função para listar todas as tabelas (caso eu não saiba quais existem)\n",
        "def list_all_tables(connection):\n",
        "    try:\n",
        "        cursor = connection.cursor()\n",
        "        # Executa o comando SHOW TABLES para listar todas as tabelas no banco de dados\n",
        "        cursor.execute(\"SHOW TABLES;\")\n",
        "        tables = cursor.fetchall()\n",
        "\n",
        "        if tables:\n",
        "            print(\"Tabelas no banco de dados:\")\n",
        "            for table in tables:\n",
        "                print(table[0])  # `table[0]` contém o nome da tabela\n",
        "        else:\n",
        "            print(\"Nenhuma tabela encontrada.\")\n",
        "\n",
        "    except Error as e:\n",
        "        print(\"Erro ao listar tabelas\", e)\n",
        "\n",
        "    finally:\n",
        "        cursor.close()\n",
        "\n",
        "# Chamar a função de conexão\n",
        "connection = connect_to_database()\n",
        "\n",
        "if connection:\n",
        "    # Listar todas as tabelas\n",
        "    list_all_tables(connection)\n",
        "    # Fechar a conexão\n",
        "    connection.close()\n"
      ],
      "metadata": {
        "colab": {
          "base_uri": "https://localhost:8080/"
        },
        "id": "0HA1PYHnUfMP",
        "outputId": "0b59ce43-c5e1-4cac-9b18-ae22636f5517"
      },
      "execution_count": null,
      "outputs": [
        {
          "output_type": "stream",
          "name": "stdout",
          "text": [
            "Conexão bem-sucedida ao banco de dados MySQL!\n",
            "Tabelas no banco de dados:\n",
            "CONSULTA_DADOS\n",
            "DEPARTAMENTO\n",
            "EMPREGADO\n",
            "EMPREGADO_HABILIDADE\n",
            "HABILIDADE\n",
            "PROJETO\n",
            "TRABALHA_EM\n"
          ]
        }
      ]
    },
    {
      "cell_type": "code",
      "source": [
        "##Função para listar todas as tabelas (caso eu não saiba quais existem) e salvar em uma lista\n",
        "def get_all_tables(connection):\n",
        "    try:\n",
        "        cursor = connection.cursor()\n",
        "        # Executa o comando SHOW TABLES para listar todas as tabelas no banco de dados\n",
        "        cursor.execute(\"SHOW TABLES;\")\n",
        "        tables = cursor.fetchall()\n",
        "\n",
        "        # Extrai os nomes das tabelas e os armazena em uma lista\n",
        "        table_list = [table[0] for table in tables]\n",
        "\n",
        "        return table_list\n",
        "\n",
        "    except Error as e:\n",
        "        print(\"Erro ao listar tabelas\", e)\n",
        "        return []\n",
        "\n",
        "    finally:\n",
        "        cursor.close()\n",
        "\n",
        "# Chamar a função de conexão\n",
        "connection = connect_to_database()\n",
        "\n",
        "if connection:\n",
        "    # Obter todas as tabelas\n",
        "    all_tables = get_all_tables(connection)\n",
        "    print(\"Tabelas encontradas:\", all_tables)\n",
        "    # Fechar a conexão\n",
        "    connection.close()\n"
      ],
      "metadata": {
        "colab": {
          "base_uri": "https://localhost:8080/"
        },
        "id": "3di759GRVDlG",
        "outputId": "fb4219b7-39a6-459b-f46e-77d45b7eec06"
      },
      "execution_count": null,
      "outputs": [
        {
          "output_type": "stream",
          "name": "stdout",
          "text": [
            "Conexão bem-sucedida ao banco de dados MySQL!\n",
            "Tabelas encontradas: ['CONSULTA_DADOS', 'DEPARTAMENTO', 'EMPREGADO', 'EMPREGADO_HABILIDADE', 'HABILIDADE', 'PROJETO', 'TRABALHA_EM']\n"
          ]
        }
      ]
    },
    {
      "cell_type": "code",
      "source": [
        "#Instalar o pandas\n",
        "!pip install pandas"
      ],
      "metadata": {
        "colab": {
          "base_uri": "https://localhost:8080/"
        },
        "id": "BzmZOlbDPFU4",
        "outputId": "4adf9369-ea8c-4770-ba27-e853312c29d5"
      },
      "execution_count": null,
      "outputs": [
        {
          "output_type": "stream",
          "name": "stdout",
          "text": [
            "Requirement already satisfied: pandas in /usr/local/lib/python3.10/dist-packages (2.1.4)\n",
            "Requirement already satisfied: numpy<2,>=1.22.4 in /usr/local/lib/python3.10/dist-packages (from pandas) (1.26.4)\n",
            "Requirement already satisfied: python-dateutil>=2.8.2 in /usr/local/lib/python3.10/dist-packages (from pandas) (2.8.2)\n",
            "Requirement already satisfied: pytz>=2020.1 in /usr/local/lib/python3.10/dist-packages (from pandas) (2024.1)\n",
            "Requirement already satisfied: tzdata>=2022.1 in /usr/local/lib/python3.10/dist-packages (from pandas) (2024.1)\n",
            "Requirement already satisfied: six>=1.5 in /usr/local/lib/python3.10/dist-packages (from python-dateutil>=2.8.2->pandas) (1.16.0)\n"
          ]
        }
      ]
    },
    {
      "cell_type": "markdown",
      "source": [
        "#Converter dados do Banco MySQL para DataFrame Pandas"
      ],
      "metadata": {
        "id": "YF9cC7nj6MMj"
      }
    },
    {
      "cell_type": "code",
      "source": [
        "#Converter a conexão com BD em DataFrame Pandas\n",
        "import pandas as pd\n",
        "def fecth_data_as_dataframe(connection, query):\n",
        "  try:\n",
        "    cursor =connection.cursor()\n",
        "    cursor.execute(query)\n",
        "    data = cursor.fetchall()\n",
        "    columns = [desc[0] for desc in cursor.description]\n",
        "    dfpd = pd.DataFrame(data, columns=columns)\n",
        "    return dfpd\n",
        "  except Error as e:\n",
        "    print(\"Erro ao consultar dados\", e)\n",
        "    return None\n",
        "  finally:\n",
        "    cursor.close()\n",
        "\n",
        "#Chamar a conexao com o banco de dados\n",
        "connection = connect_to_database()\n",
        "\n",
        "if connection:\n",
        "  #Consultar dados da tabela empregado\n",
        "  # query = \"SELECT * FROM CONSULTA_DADOS;\"\n",
        "  query = \"SELECT * FROM EMPREGADO;\"\n",
        "  df_empregado = fecth_data_as_dataframe(connection, query)\n",
        "\n",
        "  if df_empregado is not None:\n",
        "    print(\"Dados da Tabela EMPREGADO:\")\n",
        "    # print(df_empregado.head())\n",
        "    print(df_empregado)"
      ],
      "metadata": {
        "colab": {
          "base_uri": "https://localhost:8080/"
        },
        "id": "GPDBV7CAPiWK",
        "outputId": "f5d41e75-391c-4ca8-d0c7-507b3ec08195"
      },
      "execution_count": null,
      "outputs": [
        {
          "output_type": "stream",
          "name": "stdout",
          "text": [
            "Conexão bem-sucedida ao banco de dados MySQL!\n",
            "Dados da Tabela EMPREGADO:\n",
            "   matricula            nome  salario  numdepto\n",
            "0          1       Ana Silva  4500.00         1\n",
            "1          2     João Santos  5500.00         2\n",
            "2          3  Maria Oliveira  6000.00         2\n",
            "3          4    Carlos Souza  4000.00         3\n",
            "4          5   Fernanda Lima  4700.00         4\n",
            "5          6           Diego  7000.00         5\n",
            "6          7       Dienyffer  8000.00         1\n"
          ]
        }
      ]
    },
    {
      "cell_type": "markdown",
      "source": [
        "#Insert em uma Tabela do Banco de Dados"
      ],
      "metadata": {
        "id": "8aLDvRlU6EDh"
      }
    },
    {
      "cell_type": "code",
      "source": [
        "#Inserindo dados na Tabela Empregado\n",
        "def insert_into_empregado(connection, nome, salario, numdepto):\n",
        "  try:\n",
        "    cursor = connection.cursor()\n",
        "    #Criar a consulta SQL de inserção\n",
        "    insert_query = \"\"\"\n",
        "    INSERT INTO EMPREGADO(nome, salario, numdepto) VALUES (%s, %s, %s);\n",
        "    \"\"\"\n",
        "    # Dados a serem inseridos\n",
        "    dados = [nome, salario, numdepto]\n",
        "    #Executar a consulta SQL\n",
        "    cursor.execute(insert_query, dados)\n",
        "    #Confirmar a Transação\n",
        "    connection.commit()\n",
        "    print(\"Dados Inseridos com sucesso!\")\n",
        "  except Error as e:\n",
        "    print(\"Erro ao inserir dados\", e)\n",
        "    #Faz o rollback em caso de erro\n",
        "    connection.rollback()\n",
        "  finally:\n",
        "    cursor.close()\n",
        "\n",
        "# Chamar a função de conexão\n",
        "connection = connect_to_database()\n",
        "\n",
        "if connection:\n",
        "  #Inserir dados na tabela Empregado\n",
        "  insert_into_empregado(connection, 'Dienyffer', 8000, 1)\n",
        "  # Fechar a conexão\n",
        "  connection.close()\n",
        "\n"
      ],
      "metadata": {
        "colab": {
          "base_uri": "https://localhost:8080/"
        },
        "id": "yiQOz0xVVoNc",
        "outputId": "0b7d57fa-6683-42d9-be16-24e09c7100af"
      },
      "execution_count": null,
      "outputs": [
        {
          "output_type": "stream",
          "name": "stdout",
          "text": [
            "Conexão bem-sucedida ao banco de dados MySQL!\n",
            "Dados Inseridos com sucesso!\n"
          ]
        }
      ]
    },
    {
      "cell_type": "code",
      "source": [
        "#Inserindo dados na Tabela Empregado\n",
        "def insert_into_departamento(connection, nome):\n",
        "  try:\n",
        "    cursor = connection.cursor()\n",
        "    #Criar a consulta SQL de inserção\n",
        "    insert_query = \"\"\"\n",
        "    INSERT INTO DEPARTAMENTO(nome) VALUES (%s);\n",
        "    \"\"\"\n",
        "    # Dados a serem inseridos\n",
        "    dados = [nome]\n",
        "    #Executar a consulta SQL\n",
        "    cursor.execute(insert_query, dados)\n",
        "    #Confirmar a Transação\n",
        "    connection.commit()\n",
        "    print(\"Dados Inseridos com sucesso!\")\n",
        "  except Error as e:\n",
        "    print(\"Erro ao inserir dados\", e)\n",
        "    #Faz o rollback em caso de erro\n",
        "    connection.rollback()\n",
        "  finally:\n",
        "    cursor.close()\n",
        "\n",
        "# Chamar a função de conexão\n",
        "connection = connect_to_database()\n",
        "\n",
        "if connection:\n",
        "  #Inserir dados na tabela Departamento\n",
        "  insert_into_departamento(connection, 'TI')\n",
        "  # Fechar a conexão\n",
        "  connection.close()\n",
        "\n",
        "\n",
        "\n",
        "\n"
      ],
      "metadata": {
        "colab": {
          "base_uri": "https://localhost:8080/"
        },
        "id": "uebDO32NYoD1",
        "outputId": "caefcfbb-35e1-48c6-fc20-67dec9cebf5f"
      },
      "execution_count": null,
      "outputs": [
        {
          "output_type": "stream",
          "name": "stdout",
          "text": [
            "Conexão bem-sucedida ao banco de dados MySQL!\n",
            "Dados Inseridos com sucesso!\n"
          ]
        }
      ]
    },
    {
      "cell_type": "markdown",
      "source": [
        "#UPDATE em uma Tabela do Banco de Dados"
      ],
      "metadata": {
        "id": "wgEK2kMB65Ul"
      }
    },
    {
      "cell_type": "code",
      "source": [
        "#ATUALIZANDO TABELA EMPREGADO\n",
        "def update_empregado(connection, matricula, nome=None, salario=None, numdepto=None):\n",
        "  try:\n",
        "    cursor = connection.cursor()\n",
        "    update_query = \"UPDATE EMPREGADO SET \"\n",
        "    updates = [] #Lista Vazia\n",
        "    dados = [] # Lista Vazia\n",
        "\n",
        "    if nome:\n",
        "      updates.append(\"nome = %s\")\n",
        "      dados.append(nome)\n",
        "    if salario:\n",
        "      updates.append(\"salario = %s\")\n",
        "      dados.append(salario)\n",
        "    if numdepto:\n",
        "      updates.append(\"numdepto = %s\")\n",
        "      dados.append(numdepto)\n",
        "# JOIN\n",
        "    update_query += \", \".join(updates)\n",
        "    update_query += \" WHERE matricula = %s\"\n",
        "    dados.append(matricula)\n",
        "# UPDATE EMPREGADO SET NOME = %s, SALARIO=%s, NUMDEPTO=%s WHERE MATRICULA = %s\n",
        "\n",
        "    cursor.execute(update_query, tuple(dados))\n",
        "    connection.commit()\n",
        "    print(\"Dados atualizados com sucesso!\")\n",
        "  except Error as e:\n",
        "    print(\"Erro ao atualizar dados\", e)\n",
        "    connection.rollback()\n",
        "  finally:\n",
        "    cursor.close()\n",
        "\n",
        "\n",
        "# Chamar a função de conexão\n",
        "connection = connect_to_database()\n",
        "\n",
        "if connection:\n",
        "#Atualizar os dados na tabela empregado\n",
        "  update_empregado(connection, matricula=7, nome='Dienyffer Cardoso', salario=8500)\n",
        "# UPDATE EMPREGADO SET NOME = 'Dienyffer Cardoso', SALARIO=8500 WHERE MATRICULA = 7"
      ],
      "metadata": {
        "colab": {
          "base_uri": "https://localhost:8080/"
        },
        "id": "iaiaiYlG7Bv6",
        "outputId": "5535507c-7a8f-42ac-8694-11506ceb2626"
      },
      "execution_count": null,
      "outputs": [
        {
          "output_type": "stream",
          "name": "stdout",
          "text": [
            "Conexão bem-sucedida ao banco de dados MySQL!\n",
            "Dados atualizados com sucesso!\n"
          ]
        }
      ]
    },
    {
      "cell_type": "markdown",
      "source": [
        "#DELETE em uma Tabela do Banco de Dados"
      ],
      "metadata": {
        "id": "6hnZZB1JDtCU"
      }
    },
    {
      "cell_type": "code",
      "source": [
        "def delete_from_empregado(connection, matricula):\n",
        "    try:\n",
        "        cursor = connection.cursor()\n",
        "        delete_query = \"DELETE FROM EMPREGADO WHERE matricula = %s\"\n",
        "        cursor.execute(delete_query, (matricula,))\n",
        "        connection.commit()\n",
        "        print(\"Dados deletados com sucesso!\")\n",
        "    except Error as e:\n",
        "        print(\"Erro ao deletar dados\", e)\n",
        "        connection.rollback()\n",
        "    finally:\n",
        "        cursor.close()\n",
        "\n",
        "# Chamar a função de conexão\n",
        "connection = connect_to_database()\n",
        "\n",
        "if connection:\n",
        "#Deletar dados na tabela empregado\n",
        "  delete_from_empregado(connection, matricula=1)"
      ],
      "metadata": {
        "colab": {
          "base_uri": "https://localhost:8080/"
        },
        "id": "Tmo9JluTDxEt",
        "outputId": "aa10d25e-9074-43f5-b488-34200029b2e9"
      },
      "execution_count": null,
      "outputs": [
        {
          "output_type": "stream",
          "name": "stdout",
          "text": [
            "Conexão bem-sucedida ao banco de dados MySQL!\n",
            "Erro ao deletar dados 1451 (23000): Cannot delete or update a parent row: a foreign key constraint fails (`EmpresaDB`.`EMPREGADO_HABILIDADE`, CONSTRAINT `EMPREGADO_HAB_FK` FOREIGN KEY (`matricula`) REFERENCES `EMPREGADO` (`matricula`))\n"
          ]
        }
      ]
    },
    {
      "cell_type": "code",
      "source": [
        "def delete_from_empregado(connection, matricula):\n",
        "    try:\n",
        "        cursor = connection.cursor()\n",
        "\n",
        "        # Deletar primeiro as linhas na tabela dependente\n",
        "        delete_dependentes_query = \"DELETE FROM EMPREGADO_HABILIDADE WHERE matricula = %s\"\n",
        "        cursor.execute(delete_dependentes_query, (matricula,))\n",
        "\n",
        "        # Deletar primeiro as linhas na tabela dependente\n",
        "        delete_dependentes_query2 = \"DELETE FROM TRABALHA_EM WHERE matricula = %s\"\n",
        "        cursor.execute(delete_dependentes_query2, (matricula,))\n",
        "\n",
        "        # Deletar a linha na tabela EMPREGADO\n",
        "        delete_query = \"DELETE FROM EMPREGADO WHERE matricula = %s\"\n",
        "        cursor.execute(delete_query, (matricula,))\n",
        "\n",
        "        connection.commit()\n",
        "        print(\"Dados deletados com sucesso!\")\n",
        "    except Error as e:\n",
        "        print(\"Erro ao deletar dados\", e)\n",
        "        connection.rollback()\n",
        "    finally:\n",
        "        cursor.close()\n",
        "\n",
        "# Chamar a função de conexão\n",
        "connection = connect_to_database()\n",
        "\n",
        "if connection:\n",
        "#Deletar dados na tabela empregado\n",
        "  delete_from_empregado(connection, matricula=1)"
      ],
      "metadata": {
        "colab": {
          "base_uri": "https://localhost:8080/"
        },
        "id": "yf02i_JoFPY7",
        "outputId": "8181863c-2e39-440f-fa61-1098e0a46494"
      },
      "execution_count": null,
      "outputs": [
        {
          "output_type": "stream",
          "name": "stdout",
          "text": [
            "Conexão bem-sucedida ao banco de dados MySQL!\n",
            "Dados deletados com sucesso!\n"
          ]
        }
      ]
    },
    {
      "cell_type": "markdown",
      "source": [
        "#SELECT em uma Tabela do Banco de Dados"
      ],
      "metadata": {
        "id": "2TRzM_wzHAfy"
      }
    },
    {
      "cell_type": "code",
      "source": [
        "def select_empregado(connection, matricula):\n",
        "    try:\n",
        "        cursor = connection.cursor()\n",
        "        select_query = \"SELECT * FROM EMPREGADO WHERE matricula = %s\"\n",
        "        cursor.execute(select_query, (matricula,))\n",
        "        result = cursor.fetchone()\n",
        "        if result:\n",
        "            print(\"Dados do empregado:\", result)\n",
        "        else:\n",
        "            print(\"Empregado não encontrado.\")\n",
        "    except Error as e:\n",
        "        print(\"Erro ao buscar dados\", e)\n",
        "    finally:\n",
        "        cursor.close()\n",
        "\n",
        "# Chamar a função de conexão\n",
        "connection = connect_to_database()\n",
        "\n",
        "if connection:\n",
        "  select_empregado(connection, matricula=8)"
      ],
      "metadata": {
        "colab": {
          "base_uri": "https://localhost:8080/"
        },
        "id": "_Cbwd59dHFa6",
        "outputId": "bdc39db8-c305-4c4e-8ed2-9a9927f08a1a"
      },
      "execution_count": null,
      "outputs": [
        {
          "output_type": "stream",
          "name": "stdout",
          "text": [
            "Conexão bem-sucedida ao banco de dados MySQL!\n",
            "Dados do empregado: (8, 'Dienyffer', Decimal('8000.00'), 1)\n"
          ]
        }
      ]
    },
    {
      "cell_type": "markdown",
      "source": [
        "#Código completo"
      ],
      "metadata": {
        "id": "zbKirYNMHp5P"
      }
    },
    {
      "cell_type": "code",
      "source": [
        "import mysql.connector\n",
        "from mysql.connector import Error\n",
        "\n",
        "#Definir as credenciais e informações da conexão\n",
        "servidor = '35.192.98.101'\n",
        "basededados = 'EmpresaDB'\n",
        "usuario = 'adriano'\n",
        "senha = 'senha'\n",
        "\n",
        "#Conexao com banco de dados\n",
        "def connect_to_database():\n",
        "    try:\n",
        "        connection = mysql.connector.connect(\n",
        "            host=servidor,\n",
        "            database=basededados,\n",
        "            user=usuario,\n",
        "            password=senha\n",
        "        )\n",
        "        if connection.is_connected():\n",
        "            print(\"Conectado ao banco de dados\")\n",
        "            return connection\n",
        "    except Error as e:\n",
        "        print(\"Erro ao conectar ao banco de dados\", e)\n",
        "        return None\n",
        "\n",
        "def insert_into_empregado(connection, nome, salario, numdepto):\n",
        "    try:\n",
        "        cursor = connection.cursor()\n",
        "        insert_query = \"\"\"\n",
        "        INSERT INTO EMPREGADO(nome, salario, numdepto) VALUES (%s, %s, %s);\n",
        "        \"\"\"\n",
        "        dados = (nome, salario, numdepto)\n",
        "        cursor.execute(insert_query, dados)\n",
        "        connection.commit()\n",
        "        print(\"Dados inseridos com sucesso!\")\n",
        "    except Error as e:\n",
        "        print(\"Erro ao inserir dados\", e)\n",
        "        connection.rollback()\n",
        "    finally:\n",
        "        cursor.close()\n",
        "\n",
        "def update_empregado(connection, matricula, nome=None, salario=None, numdepto=None):\n",
        "    try:\n",
        "        cursor = connection.cursor()\n",
        "        update_query = \"UPDATE EMPREGADO SET \"\n",
        "        updates = []\n",
        "        dados = []\n",
        "\n",
        "        if nome:\n",
        "            updates.append(\"nome = %s\")\n",
        "            dados.append(nome)\n",
        "        if salario:\n",
        "            updates.append(\"salario = %s\")\n",
        "            dados.append(salario)\n",
        "        if numdepto:\n",
        "            updates.append(\"numdepto = %s\")\n",
        "            dados.append(numdepto)\n",
        "\n",
        "        update_query += \", \".join(updates)\n",
        "        update_query += \" WHERE matricula = %s\"\n",
        "        dados.append(matricula)\n",
        "\n",
        "        cursor.execute(update_query, tuple(dados))\n",
        "        connection.commit()\n",
        "        print(\"Dados atualizados com sucesso!\")\n",
        "    except Error as e:\n",
        "        print(\"Erro ao atualizar dados\", e)\n",
        "        connection.rollback()\n",
        "    finally:\n",
        "        cursor.close()\n",
        "\n",
        "def delete_from_empregado(connection, matricula):\n",
        "    try:\n",
        "        cursor = connection.cursor()\n",
        "        delete_query = \"DELETE FROM EMPREGADO WHERE matricula = %s\"\n",
        "        cursor.execute(delete_query, (matricula,))\n",
        "        connection.commit()\n",
        "        print(\"Dados deletados com sucesso!\")\n",
        "    except Error as e:\n",
        "        print(\"Erro ao deletar dados\", e)\n",
        "        connection.rollback()\n",
        "    finally:\n",
        "        cursor.close()\n",
        "\n",
        "def select_empregado(connection, matricula):\n",
        "    try:\n",
        "        cursor = connection.cursor()\n",
        "        select_query = \"SELECT * FROM EMPREGADO WHERE matricula = %s\"\n",
        "        cursor.execute(select_query, (matricula,))\n",
        "        result = cursor.fetchone()\n",
        "        if result:\n",
        "            print(\"Dados do empregado:\", result)\n",
        "        else:\n",
        "            print(\"Empregado não encontrado.\")\n",
        "    except Error as e:\n",
        "        print(\"Erro ao buscar dados\", e)\n",
        "    finally:\n",
        "        cursor.close()\n",
        "\n",
        "# Chamar a função de conexão\n",
        "connection = connect_to_database()\n",
        "\n",
        "if connection:\n",
        "    # Inserir dados na tabela Empregado\n",
        "    insert_into_empregado(connection, 'Dienyffer', 8000, 1)\n",
        "\n",
        "    # Atualizar dados na tabela Empregado\n",
        "    update_empregado(connection, matricula=8, nome='Dienyffer Cardoso', salario=8500)\n",
        "\n",
        "    # Selecionar dados na tabela Empregado\n",
        "    select_empregado(connection, matricula=1)\n",
        "\n",
        "    # Deletar dados na tabela Empregado\n",
        "    delete_from_empregado(connection, matricula=1)\n",
        "\n",
        "    # Fechar a conexão\n",
        "    connection.close()\n"
      ],
      "metadata": {
        "colab": {
          "base_uri": "https://localhost:8080/"
        },
        "id": "yzIosgb_HsWI",
        "outputId": "95344c58-9b1d-46af-ad6a-5ecd0a97277f"
      },
      "execution_count": null,
      "outputs": [
        {
          "output_type": "stream",
          "name": "stdout",
          "text": [
            "Conectado ao banco de dados\n",
            "Dados inseridos com sucesso!\n",
            "Dados atualizados com sucesso!\n",
            "Empregado não encontrado.\n",
            "Dados deletados com sucesso!\n"
          ]
        }
      ]
    },
    {
      "cell_type": "markdown",
      "source": [
        "#Automação do Banco de Dados\n",
        "\n",
        "**Trigger:** é um mecanismo em um banco de dados relacional que permite a execução automática de uma ação específica (como uma função) em resposta a certos eventos em uma tabela. Esses eventos podem ser operações como ***INSERT***, ***UPDATE***, ou ***DELETE***. Um trigger é associado a uma tabela ou visão, e ele é ativado quando o evento definido ocorre.\n",
        "\n",
        "**Function:** Uma function (ou função) no contexto de um banco de dados é um bloco de ***código reutilizável*** que pode executar uma série de comandos SQL. Ela pode receber parâmetros de entrada e retornar resultados, como uma consulta ou um valor específico. Funções são úteis para encapsular lógica complexa e garantir reutilização em várias partes de um sistema.\n",
        "\n",
        "**Trigger Function:**  é um tipo especial de função que é executada automaticamente como parte de um trigger. Ao contrário das funções normais, uma trigger function não pode ser chamada diretamente pelo usuário. Ela é chamada quando o evento especificado no trigger ocorre. Em PostgreSQL, uma trigger function é criada com a palavra-chave RETURNS TRIGGER e deve retornar o valor especial NEW ou OLD, dependendo do tipo de operação."
      ],
      "metadata": {
        "id": "7mOuvwfybiWM"
      }
    },
    {
      "cell_type": "markdown",
      "source": [
        "##Criação de uma tabela de Logs"
      ],
      "metadata": {
        "id": "pQ-Eck3jbmaf"
      }
    },
    {
      "cell_type": "code",
      "source": [
        "CREATE TABLE IF NOT EXISTS EMPREGADO_LOG (\n",
        "    log_id INT AUTO_INCREMENT PRIMARY KEY,\n",
        "    operacao VARCHAR(10),\n",
        "    matricula INT,\n",
        "    nome VARCHAR(70),\n",
        "    salario DECIMAL(10, 2),\n",
        "    numdepto INT,\n",
        "    usuario VARCHAR(255),\n",
        "    data_hora TIMESTAMP DEFAULT CURRENT_TIMESTAMP\n",
        ");\n"
      ],
      "metadata": {
        "id": "F3KN33sFeGEq"
      },
      "execution_count": null,
      "outputs": []
    },
    {
      "cell_type": "markdown",
      "source": [
        "##Criação do Trigger"
      ],
      "metadata": {
        "id": "HxmTGqnJgskB"
      }
    },
    {
      "cell_type": "code",
      "source": [
        "CREATE TRIGGER trg_empregado_insert\n",
        "AFTER INSERT ON EMPREGADO\n",
        "FOR EACH ROW\n",
        "BEGIN\n",
        "    INSERT INTO EMPREGADO_LOG (operacao, matricula, nome, salario, numdepto, usuario, data_hora)\n",
        "    VALUES ('INSERT', NEW.matricula, NEW.nome, NEW.salario, NEW.numdepto, CURRENT_USER(), NOW());\n",
        "END;\n",
        "\n",
        "\n",
        "select * from EMPREGADO_LOG\n",
        "select * from EMPREGADO\n",
        "\n",
        "--inserindo novo empregado na tabela empregado\n",
        "INSERT INTO EMPREGADO (NOME, SALARIO, NUMDEPTO) VALUES\n",
        "('Adriano Gomes', 1412, 2)\n"
      ],
      "metadata": {
        "id": "K5UiQpwxgwaI"
      },
      "execution_count": null,
      "outputs": []
    },
    {
      "cell_type": "code",
      "source": [
        "-- TRIGGER UPDATE\n",
        "\n",
        "CREATE TRIGGER trg_empregado_update\n",
        "AFTER UPDATE ON EMPREGADO\n",
        "FOR EACH ROW\n",
        "BEGIN\n",
        "    INSERT INTO EMPREGADO_LOG (operacao, matricula, nome, salario, numdepto, usuario, data_hora)\n",
        "    VALUES ('UPDATE', NEW.matricula, NEW.nome, NEW.salario, NEW.numdepto, CURRENT_USER(), NOW());\n",
        "END;\n",
        "\n",
        "-- atualizando salario do empregado Adriano\n",
        "UPDATE EMPREGADO SET SALARIO = 17000 WHERE MATRICULA=11"
      ],
      "metadata": {
        "id": "PFortkItkxRg"
      },
      "execution_count": null,
      "outputs": []
    },
    {
      "cell_type": "code",
      "source": [
        "#TRIGGER DELETE\n",
        "\n",
        "CREATE TRIGGER trg_empregado_delete\n",
        "AFTER DELETE ON EMPREGADO\n",
        "FOR EACH ROW\n",
        "BEGIN\n",
        "    INSERT INTO EMPREGADO_LOG (operacao, matricula, nome, salario, numdepto, usuario, data_hora)\n",
        "    VALUES ('DELETE', OLD.matricula, OLD.nome, OLD.salario, OLD.numdepto, CURRENT_USER(), NOW());\n",
        "END;\n",
        "\n",
        "\n",
        "-- EXCLUINDO EMPREGADO (Dienyffer) MATRICULAS 9 E 10\n",
        "DELETE FROM EMPREGADO WHERE MATRICULA = 9 OR MATRICULA = 10"
      ],
      "metadata": {
        "id": "7dp_2DFXljGF"
      },
      "execution_count": null,
      "outputs": []
    },
    {
      "cell_type": "markdown",
      "source": [
        "#NOVA TABELA"
      ],
      "metadata": {
        "id": "YPDBgzCYstky"
      }
    },
    {
      "cell_type": "code",
      "source": [
        "CREATE TABLE IF NOT EXISTS EMPREGADO_UPDATE_LOG (\n",
        "    log_id INT AUTO_INCREMENT PRIMARY KEY,\n",
        "    matricula INT,\n",
        "    old_nome VARCHAR(70),\n",
        "    new_nome VARCHAR(70),\n",
        "    old_salario DECIMAL(10, 2),\n",
        "    new_salario DECIMAL(10, 2),\n",
        "    old_numdepto INT,\n",
        "    new_numdepto INT,\n",
        "    usuario VARCHAR(255),\n",
        "    data_hora TIMESTAMP DEFAULT CURRENT_TIMESTAMP\n",
        ");"
      ],
      "metadata": {
        "id": "wOjf-jE8sgZY"
      },
      "execution_count": null,
      "outputs": []
    },
    {
      "cell_type": "code",
      "source": [
        "-- CRIAR UM PROCEDIMENTO ARMAZENADO PARA INSERT E DELETE\n",
        "\n",
        "CREATE PROCEDURE log_empregado (\n",
        "    IN operacao VARCHAR(10),\n",
        "    IN emp_matricula INT,\n",
        "    IN emp_nome VARCHAR(70),\n",
        "    IN emp_salario DECIMAL(10, 2),\n",
        "    IN emp_numdepto INT\n",
        ")\n",
        "BEGIN\n",
        "    INSERT INTO EMPREGADO_LOG (operacao, matricula, nome, salario, numdepto, usuario, data_hora)\n",
        "    VALUES (operacao, emp_matricula, emp_nome, emp_salario, emp_numdepto, CURRENT_USER(), NOW());\n",
        "END;"
      ],
      "metadata": {
        "id": "XG6R9AKHqag5"
      },
      "execution_count": null,
      "outputs": []
    },
    {
      "cell_type": "code",
      "source": [
        "-- CRIAÇÃO DE PROCEDIMENTO ARMAZENADO PARA UPDATE\n",
        "\n",
        "CREATE PROCEDURE log_empregado_update (\n",
        "    IN emp_matricula INT,\n",
        "    IN old_nome VARCHAR(70),\n",
        "    IN new_nome VARCHAR(70),\n",
        "    IN old_salario DECIMAL(10, 2),\n",
        "    IN new_salario DECIMAL(10, 2),\n",
        "    IN old_numdepto INT,\n",
        "    IN new_numdepto INT\n",
        ")\n",
        "BEGIN\n",
        "    INSERT INTO EMPREGADO_UPDATE_LOG (matricula, old_nome, new_nome, old_salario, new_salario, old_numdepto, new_numdepto, usuario, data_hora)\n",
        "    VALUES (emp_matricula, old_nome, new_nome, old_salario, new_salario, old_numdepto, new_numdepto, CURRENT_USER(), NOW());\n",
        "END;"
      ],
      "metadata": {
        "id": "ntDaYfcRqbbB"
      },
      "execution_count": null,
      "outputs": []
    },
    {
      "cell_type": "code",
      "source": [
        "CREATE TRIGGER trg_empregado_insert2\n",
        "AFTER INSERT ON EMPREGADO\n",
        "FOR EACH ROW\n",
        "BEGIN\n",
        "    CALL log_empregado('INSERT', NEW.matricula, NEW.nome, NEW.salario, NEW.numdepto);\n",
        "END;\n"
      ],
      "metadata": {
        "id": "Zm8e5yGDqds8"
      },
      "execution_count": null,
      "outputs": []
    },
    {
      "cell_type": "code",
      "source": [
        "CREATE TRIGGER trg_empregado_delete2\n",
        "AFTER DELETE ON EMPREGADO\n",
        "FOR EACH ROW\n",
        "BEGIN\n",
        "    CALL log_empregado('DELETE', OLD.matricula, OLD.nome, OLD.salario, OLD.numdepto);\n",
        "END;\n"
      ],
      "metadata": {
        "id": "7yOiQtz5qh8N"
      },
      "execution_count": null,
      "outputs": []
    },
    {
      "cell_type": "code",
      "source": [
        "CREATE TRIGGER trg_empregado_update2\n",
        "AFTER UPDATE ON EMPREGADO\n",
        "FOR EACH ROW\n",
        "BEGIN\n",
        "    CALL log_empregado_update(\n",
        "        NEW.matricula,\n",
        "        OLD.nome, NEW.nome,\n",
        "        OLD.salario, NEW.salario,\n",
        "        OLD.numdepto, NEW.numdepto\n",
        "    );\n",
        "END;\n"
      ],
      "metadata": {
        "id": "zcGT1TqwqkyF"
      },
      "execution_count": null,
      "outputs": []
    }
  ]
}