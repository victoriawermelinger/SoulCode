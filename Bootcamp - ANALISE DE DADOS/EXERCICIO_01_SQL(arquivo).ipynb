{
  "nbformat": 4,
  "nbformat_minor": 0,
  "metadata": {
    "colab": {
      "provenance": []
    },
    "kernelspec": {
      "name": "python3",
      "display_name": "Python 3"
    },
    "language_info": {
      "name": "python"
    }
  },
  "cells": [
    {
      "cell_type": "markdown",
      "source": [
        "## Criando as tabelas\n",
        "\n",
        "**Preechendo as Tabelas**\n",
        "https://www.mockaroo.com/"
      ],
      "metadata": {
        "id": "9rOjEn87gsrR"
      }
    },
    {
      "cell_type": "code",
      "execution_count": null,
      "metadata": {
        "id": "q7DWqDppesRG"
      },
      "outputs": [],
      "source": [
        "## criando as tabelas base\n",
        "CREATE TABLE Equipamento (\n",
        "  cod_equipamento INT AUTO_INCREMENT PRIMARY KEY,\n",
        "  nm_equipamento VARCHAR(50),\n",
        "  valor DECIMAL(10, 2),\n",
        "  quantidade INT,\n",
        "  tipo VARCHAR(50)\n",
        ");\n",
        "\n",
        "## criando as tabelas base\n",
        "CREATE TABLE Professor (\n",
        "  cod_professor INT AUTO_INCREMENT PRIMARY KEY,\n",
        "  nm_professor VARCHAR(80),\n",
        "  telefone VARCHAR(12), -- Coloquei 12 porque depende da máscara do site, pode ter caracteres como (), -\n",
        "  cod_curso INT,\n",
        "  salario DECIMAL(10, 2)\n",
        ");\n",
        "\n",
        "## criando as tabelas base\n",
        "CREATE TABLE Sala (\n",
        "  cod_sala INT AUTO_INCREMENT PRIMARY KEY,\n",
        "  nome_sala VARCHAR(50)\n",
        ");\n",
        "\n",
        "## criando as tabelas base\n",
        "CREATE TABLE Curso (\n",
        "  cod_curso INT AUTO_INCREMENT PRIMARY KEY,\n",
        "  nome_curso VARCHAR(50)\n",
        ");\n",
        "\n",
        "## criando as tabelas com as FK\n",
        "CREATE TABLE Reserva (\n",
        "  cod_equipamento INT,\n",
        "  cod_professor INT,\n",
        "  dt_reserva DATE,\n",
        "  horario VARCHAR(5),\n",
        "  cod_sala INT,\n",
        "# criar uma chave primaria composta por 3 chaves estrangeiras\n",
        "  CONSTRAINT reserva_pkey PRIMARY KEY (cod_equipamento, cod_professor, dt_reserva),\n",
        "# CHAVES ESTRANGEIRAS\n",
        "  CONSTRAINT reserva_fkey1 FOREIGN KEY (cod_equipamento) REFERENCES Equipamento(cod_equipamento),\n",
        "  CONSTRAINT reserva_fkey2 FOREIGN KEY (cod_professor) REFERENCES Professor(cod_professor),\n",
        "  CONSTRAINT reserva_fkey3 FOREIGN KEY (cod_sala) REFERENCES Sala(cod_sala)\n",
        ");\n"
      ]
    },
    {
      "cell_type": "code",
      "source": [
        "INSERT INTO Equipamento (nm_equipamento, valor, quantidade, tipo)\n",
        "VALUES\n",
        "    ('Quadro', 831.00, 1071, 'Sala de Aula'),\n",
        "    ('Caneta', 678.22, 1079, 'Escritorio e Sala de Aula'),\n",
        "    ('Caderno', 143.72, 362, 'Sala de Aula'),\n",
        "    ('Quadro', 829.62, 1009, 'Sala de Aula'),\n",
        "    ('Mesa', 477.64, 508, 'Escritorio');\n",
        "\n"
      ],
      "metadata": {
        "id": "1NE-Cxr-huxj"
      },
      "execution_count": null,
      "outputs": []
    },
    {
      "cell_type": "code",
      "source": [
        "INSERT INTO Professor (nm_professor, telefone, cod_curso, salario)\n",
        "VALUES\n",
        "  ('Maria Souza', '11912345678', 101, 5000.50),  -- Exemplo com telefone sem caracteres adicionais\n",
        "  ('João Silva', '21987654321', 102, 4500.75),\n",
        "  ('Ana Costa', '31923456789', 103, 5200.00),\n",
        "  ('Pedro Lima', '41998765432', 104, 4700.25),\n",
        "  ('Lucia Mendes', '51911234567', 105, 4800.90);"
      ],
      "metadata": {
        "id": "Ea_AGHd8nPJD"
      },
      "execution_count": null,
      "outputs": []
    },
    {
      "cell_type": "code",
      "source": [
        "INSERT INTO Sala (nome_sala) VALUES\n",
        "  ('Sala 504'),\n",
        "  ('Sala 202'),\n",
        "  ('Sala 1403'),\n",
        "  ('Sala 1504'),\n",
        "  ('Sala 105');"
      ],
      "metadata": {
        "id": "NBzIM9OQn8OY"
      },
      "execution_count": null,
      "outputs": []
    },
    {
      "cell_type": "code",
      "source": [
        "INSERT INTO Curso (nome_curso) VALUES\n",
        "  ('Matemática'),\n",
        "  ('História'),\n",
        "  ('Química'),\n",
        "  ('Física'),\n",
        "  ('Biologia');"
      ],
      "metadata": {
        "id": "mN6XLP1Qo2ze"
      },
      "execution_count": null,
      "outputs": []
    },
    {
      "cell_type": "code",
      "source": [
        "INSERT INTO Reserva (cod_equipamento, cod_professor, dt_reserva, horario, cod_sala)\n",
        "VALUES\n",
        "(1, 1, '2024-09-01', '09:00', 1),\n",
        "(2, 2, '2024-09-02', '10:00', 2),\n",
        "(1, 2, '2024-09-03', '11:00', 2),\n",
        "(3, 1, '2024-09-04', '14:00', 1),\n",
        "(4, 2, '2024-09-05', '15:00', 2);"
      ],
      "metadata": {
        "id": "GVzk5_0ks1BB"
      },
      "execution_count": null,
      "outputs": []
    },
    {
      "cell_type": "code",
      "source": [
        "-- Verificar se a tabela Reserva existe\n",
        "SHOW TABLES;\n",
        "\n",
        "-- Verificar a definição completa da tabela Reserva\n",
        "SHOW CREATE TABLE Reserva;\n",
        "\n",
        "-- Verificar a estrutura da tabela Reserva\n",
        "DESCRIBE Reserva;\n",
        "\n",
        "-- Verificar as tabelas referenciadas\n",
        "DESCRIBE Equipamento;\n",
        "DESCRIBE Professor;\n",
        "DESCRIBE Sala;"
      ],
      "metadata": {
        "id": "_F54q2iRs6x5"
      },
      "execution_count": null,
      "outputs": []
    }
  ]
}