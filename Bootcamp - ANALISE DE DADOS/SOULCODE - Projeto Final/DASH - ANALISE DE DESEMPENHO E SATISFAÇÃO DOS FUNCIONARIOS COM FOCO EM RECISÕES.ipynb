{
 "cells": [
  {
   "cell_type": "markdown",
   "metadata": {},
   "source": [
    "### Apresentação do Projeto: Análise de Desempenho e Satisfação dos Funcionários com Foco em Rescisões\n",
    "\n",
    "#### 1. Objetivo do Projeto\n",
    "O dashboard foi desenvolvido para analisar o desempenho e a satisfação dos funcionários da empresa, com um foco específico em entender os motivos de rescisões. O objetivo é identificar padrões e insights que possam guiar estratégias de retenção, treinamentos, e melhorias no ambiente de trabalho, visando reduzir a taxa de turnover e aumentar a satisfação geral dos colaboradores.\n",
    "\n",
    "#### 2. Estrutura do Dashboard\n",
    "O layout do dashboard é organizado em seções principais que permitem uma análise detalhada e visual de diferentes métricas relacionadas à saída dos funcionários. Os principais componentes são:\n",
    "\n",
    "- **Filtros:** \n",
    "  - *Motivo da Saída*: Filtra as rescisões por motivo, como Demissão, Motivo Padrão ou Rescisão Voluntária.\n",
    "  - *Funcionário*: Permite selecionar um colaborador específico para análise individual.\n",
    "\n",
    "- **Painéis Informativos:** Exibem os dados básicos do funcionário selecionado, como nome, motivo da saída e idade. Esses dados ajudam a contextualizar as análises para tomadas de decisão personalizadas.\n",
    "\n",
    "#### 3. Métricas e Visualizações\n",
    "\n",
    "- **Treinamentos Realizados por Departamento:**\n",
    "  - Gráfico de barras que mostra a quantidade total de treinamentos realizados por cada departamento. Esse gráfico permite observar onde há mais investimento em treinamento, o que pode impactar na satisfação e no desempenho dos funcionários.\n",
    "\n",
    "- **Pesquisa de Satisfação por Salário:**\n",
    "  - Gráfico de dispersão que correlaciona a satisfação com o número de treinamentos realizados, indicando como os treinamentos podem impactar na percepção salarial e na satisfação dos funcionários.\n",
    "\n",
    "- **Média de Pesquisa de Satisfação por Departamento:**\n",
    "  - Apresenta a média de satisfação por departamento. Com essa visão, é possível identificar os departamentos com maiores índices de satisfação e os que demandam mais atenção.\n",
    "\n",
    "- **Avaliação de Desempenho x Treinamentos Realizados x Pesquisa de Satisfação:**\n",
    "  - Gráfico que combina o desempenho, treinamentos realizados e satisfação em um único gráfico por funcionário. Este gráfico permite uma visão integrada de como cada uma dessas variáveis se relaciona, auxiliando na identificação de possíveis correlações que levam à rescisão.\n",
    "\n",
    "#### 4. Principais Insights\n",
    "- **Distribuição de Treinamentos:** Departamentos como Financeiro e TI recebem mais treinamentos, o que pode estar correlacionado com uma maior expectativa de performance. No entanto, outros departamentos como Vendas e Marketing recebem menos treinamento, indicando uma possível área de oportunidade para aumentar a satisfação e o desempenho nesses setores.\n",
    "\n",
    "- **Impacto dos Treinamentos na Satisfação:** Funcionários que passam por mais treinamentos tendem a ter uma satisfação superior. Este dado pode indicar a importância de um plano de desenvolvimento profissional mais robusto para aumentar a satisfação.\n",
    "\n",
    "- **Diferença de Satisfação entre Departamentos:** Os departamentos de RH e Operações têm as maiores médias de satisfação, enquanto Marketing e Vendas apresentam índices mais baixos. Isso indica uma área de atenção, possivelmente ligada a questões de liderança, carga de trabalho ou expectativas salariais.\n",
    "\n",
    "- **Relação Entre Avaliação de Desempenho e Rescisões:** A análise cruzada entre desempenho, treinamento e satisfação sugere que funcionários com desempenho alto e baixa satisfação são os mais propensos a sair. Esse é um ponto importante para focar em estratégias de retenção, onde a empresa pode intervir com ajustes salariais ou benefícios.\n",
    "\n",
    "#### 5. Conclusão e Próximos Passos\n",
    "Este dashboard apresenta uma visão completa sobre a satisfação e o desempenho dos funcionários, oferecendo insights valiosos para ações de retenção. A empresa deve considerar implementar políticas de treinamento mais uniformes e direcionar esforços para melhorar a satisfação nos departamentos com menores índices.\n",
    "\n",
    "Os próximos passos podem incluir:\n",
    "- Realizar entrevistas de saída mais detalhadas para validar os dados e entender os motivos de saída.\n",
    "- Desenvolver programas de treinamento específicos para departamentos com menor satisfação.\n",
    "- Estabelecer um acompanhamento contínuo das métricas de desempenho e satisfação para ajustar estratégias ao longo do tempo.\n",
    "\n",
    "Este dashboard será atualizado periodicamente para monitorar o impacto das intervenções e guiar a estratégia de retenção da empresa de forma contínua."
   ]
  }
 ],
 "metadata": {
  "language_info": {
   "name": "python"
  }
 },
 "nbformat": 4,
 "nbformat_minor": 2
}
