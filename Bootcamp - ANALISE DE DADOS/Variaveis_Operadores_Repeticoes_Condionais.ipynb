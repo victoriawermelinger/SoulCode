{
  "nbformat": 4,
  "nbformat_minor": 0,
  "metadata": {
    "colab": {
      "provenance": []
    },
    "kernelspec": {
      "name": "python3",
      "display_name": "Python 3"
    },
    "language_info": {
      "name": "python"
    }
  },
  "cells": [
    {
      "cell_type": "markdown",
      "source": [
        "##**Introdução ao Python**##"
      ],
      "metadata": {
        "id": "yt2vQQyJCa7c"
      }
    },
    {
      "cell_type": "markdown",
      "source": [
        "#Batismo da Linguagem#"
      ],
      "metadata": {
        "id": "-rLXhJKQDWZW"
      }
    },
    {
      "cell_type": "code",
      "source": [
        "print(\"Hello, World!\")"
      ],
      "metadata": {
        "colab": {
          "base_uri": "https://localhost:8080/"
        },
        "id": "2SmbOSykDeSU",
        "outputId": "4f6c939b-f928-4576-cd65-2c05fcabcf22"
      },
      "execution_count": null,
      "outputs": [
        {
          "output_type": "stream",
          "name": "stdout",
          "text": [
            "Hello, World!\n"
          ]
        }
      ]
    },
    {
      "cell_type": "markdown",
      "source": [
        "# 1 - Variáveis#"
      ],
      "metadata": {
        "id": "BxdfTwJXEFWc"
      }
    },
    {
      "cell_type": "code",
      "source": [
        "#Inteiros\n",
        "x = 5\n",
        "y = 99\n",
        "resultado = 100\n",
        "\n",
        "print(x, type(x))\n",
        "print(y, type(y))\n",
        "print(resultado, type(gato))\n",
        "\n",
        "#Float\n",
        "pi = 3.14\n",
        "e = 2.718\n",
        "\n",
        "print(pi, type(pi))\n",
        "print(e, type(e))\n",
        "\n",
        "\n",
        "#String (texto)\n",
        "nome = \"Adriano Gomes\"\n",
        "cidade = \"Mossoró-RN\"\n",
        "print(nome, type(nome))\n",
        "\n",
        "#Booleanos (true, false)\n",
        "status = True\n",
        "situacao = False\n",
        "print(status, type(status))"
      ],
      "metadata": {
        "colab": {
          "base_uri": "https://localhost:8080/",
          "height": 245
        },
        "id": "UK_rZ2OvEYLX",
        "outputId": "27d369e2-ca50-4b61-8615-2548ab52d0a4"
      },
      "execution_count": null,
      "outputs": [
        {
          "output_type": "stream",
          "name": "stdout",
          "text": [
            "5 <class 'int'>\n",
            "99 <class 'int'>\n"
          ]
        },
        {
          "output_type": "error",
          "ename": "NameError",
          "evalue": "name 'gato' is not defined",
          "traceback": [
            "\u001b[0;31m---------------------------------------------------------------------------\u001b[0m",
            "\u001b[0;31mNameError\u001b[0m                                 Traceback (most recent call last)",
            "\u001b[0;32m<ipython-input-1-7af0f1aed5ad>\u001b[0m in \u001b[0;36m<cell line: 8>\u001b[0;34m()\u001b[0m\n\u001b[1;32m      6\u001b[0m \u001b[0mprint\u001b[0m\u001b[0;34m(\u001b[0m\u001b[0mx\u001b[0m\u001b[0;34m,\u001b[0m \u001b[0mtype\u001b[0m\u001b[0;34m(\u001b[0m\u001b[0mx\u001b[0m\u001b[0;34m)\u001b[0m\u001b[0;34m)\u001b[0m\u001b[0;34m\u001b[0m\u001b[0;34m\u001b[0m\u001b[0m\n\u001b[1;32m      7\u001b[0m \u001b[0mprint\u001b[0m\u001b[0;34m(\u001b[0m\u001b[0my\u001b[0m\u001b[0;34m,\u001b[0m \u001b[0mtype\u001b[0m\u001b[0;34m(\u001b[0m\u001b[0my\u001b[0m\u001b[0;34m)\u001b[0m\u001b[0;34m)\u001b[0m\u001b[0;34m\u001b[0m\u001b[0;34m\u001b[0m\u001b[0m\n\u001b[0;32m----> 8\u001b[0;31m \u001b[0mprint\u001b[0m\u001b[0;34m(\u001b[0m\u001b[0mgato\u001b[0m\u001b[0;34m,\u001b[0m \u001b[0mtype\u001b[0m\u001b[0;34m(\u001b[0m\u001b[0mgato\u001b[0m\u001b[0;34m)\u001b[0m\u001b[0;34m)\u001b[0m\u001b[0;34m\u001b[0m\u001b[0;34m\u001b[0m\u001b[0m\n\u001b[0m\u001b[1;32m      9\u001b[0m \u001b[0;34m\u001b[0m\u001b[0m\n\u001b[1;32m     10\u001b[0m \u001b[0;31m#Float\u001b[0m\u001b[0;34m\u001b[0m\u001b[0;34m\u001b[0m\u001b[0m\n",
            "\u001b[0;31mNameError\u001b[0m: name 'gato' is not defined"
          ]
        }
      ]
    },
    {
      "cell_type": "markdown",
      "source": [
        "#2 - Operadores#"
      ],
      "metadata": {
        "id": "iR5OF8ooHgCX"
      }
    },
    {
      "cell_type": "markdown",
      "source": [
        "**Matemáticos**"
      ],
      "metadata": {
        "id": "Ypi2_ekAHwNA"
      }
    },
    {
      "cell_type": "code",
      "source": [
        "a = 15\n",
        "b = 2\n",
        "print(\"Soma: \", a + b)\n",
        "print(\"Subtração: \", a - b)\n",
        "print(\"Multiplicação: \", a * b)\n",
        "print(\"Divisão: \", a / b)\n",
        "print(\"Divisão Inteira: \", a // b)\n",
        "print(\"Resto da Divisão: \", a % b)\n",
        "print(\"Exponenciação: \", a ** b)"
      ],
      "metadata": {
        "colab": {
          "base_uri": "https://localhost:8080/"
        },
        "id": "p2CCnYBHH0Rs",
        "outputId": "61e57bd9-6158-4565-dc13-15636c582498"
      },
      "execution_count": null,
      "outputs": [
        {
          "output_type": "stream",
          "name": "stdout",
          "text": [
            "Soma:  17\n",
            "Subtração:  13\n",
            "Multiplicação:  30\n",
            "Divisão:  7.5\n",
            "Divisão Inteira:  7\n",
            "Resto da Divisão:  1\n",
            "Exponenciação:  225\n"
          ]
        }
      ]
    },
    {
      "cell_type": "code",
      "source": [
        "# Solicitar dos dados do usuário\n",
        "a = int(input(\"Digite o valor de a: \"))\n",
        "b = int(input(\"Digite o valor de b: \"))\n",
        "c = float(input(\"Digite o valor de c: \"))\n",
        "\n",
        "print(c, type(c))\n",
        "\n",
        "# Saídas com as operações\n",
        "print(\"Soma: \", a + b)\n",
        "print(\"Subtração: \", a - b)\n",
        "print(\"Multiplicação: \", a * b)\n",
        "print(\"Divisão: \", a / b)\n",
        "print(\"Divisão Inteira: \", a // b)\n",
        "print(\"Resto da Divisão: \", a % b)\n",
        "print(\"Exponenciação: \", a ** b)"
      ],
      "metadata": {
        "colab": {
          "base_uri": "https://localhost:8080/"
        },
        "id": "KbVCSW8LJpNJ",
        "outputId": "d1aee6eb-60c5-42be-eb0e-20b974e7606f"
      },
      "execution_count": null,
      "outputs": [
        {
          "output_type": "stream",
          "name": "stdout",
          "text": [
            "Digite o valor de a: 99\n",
            "Digite o valor de b: 99\n",
            "Digite o valor de c: 99\n",
            "99.0 <class 'float'>\n",
            "Soma:  198\n",
            "Subtração:  0\n",
            "Multiplicação:  9801\n",
            "Divisão:  1.0\n",
            "Divisão Inteira:  1\n",
            "Resto da Divisão:  0\n",
            "Exponenciação:  369729637649726772657187905628805440595668764281741102430259972423552570455277523421410650010128232727940978889548326540119429996769494359451621570193644014418071060667659301384999779999159200499899\n"
          ]
        }
      ]
    },
    {
      "cell_type": "code",
      "source": [
        "cliente = \"Douglas\" # em python string. Em teoria estatística (variável qualitativa ou categórica)\n",
        "type(cliente)\n",
        "idade = 35 # em python inteiro(int). Em teoria estatística (variável quantitativa discreta)\n",
        "type(idade)\n",
        "altura = 1.58 # em python float. Em teoria estatística (variável quantitativa continua)"
      ],
      "metadata": {
        "colab": {
          "base_uri": "https://localhost:8080/"
        },
        "id": "XjXXHKD9nyH8",
        "outputId": "7a94d2fe-ced4-4c42-8bea-87765d37f104"
      },
      "execution_count": null,
      "outputs": [
        {
          "output_type": "execute_result",
          "data": {
            "text/plain": [
              "int"
            ]
          },
          "metadata": {},
          "execution_count": 2
        }
      ]
    },
    {
      "cell_type": "markdown",
      "source": [
        "**Comparação**"
      ],
      "metadata": {
        "id": "sPTIBKzFp1rW"
      }
    },
    {
      "cell_type": "code",
      "source": [
        "a = 10\n",
        "b = 5\n",
        "print(a > b) # maior que\n",
        "print(a < b) # menor que\n",
        "print( a == b) # igual\n",
        "print(a != b) # diferente\n",
        "print( a >= b) # maior ou igual a\n",
        "print(a <= b) # menor ou igual a\n"
      ],
      "metadata": {
        "colab": {
          "base_uri": "https://localhost:8080/"
        },
        "collapsed": true,
        "id": "z5iz8Umzp-Rf",
        "outputId": "a72b6b51-cd49-4a36-bd84-6311454f6ed0"
      },
      "execution_count": null,
      "outputs": [
        {
          "output_type": "stream",
          "name": "stdout",
          "text": [
            "True\n",
            "False\n",
            "False\n",
            "True\n",
            "True\n",
            "False\n",
            "True\n"
          ]
        }
      ]
    },
    {
      "cell_type": "markdown",
      "source": [
        "**Lógico**"
      ],
      "metadata": {
        "id": "snMV4rzNtL_2"
      }
    },
    {
      "cell_type": "code",
      "source": [
        "# Operador AND (e lógico) - só emite verdadeiro de ambos os casos forem TRUE\n",
        "x = 70\n",
        "y = 50\n",
        "k = 51\n",
        "\n",
        "print ((x > y) and (y >= k) and (k < x))"
      ],
      "metadata": {
        "colab": {
          "base_uri": "https://localhost:8080/"
        },
        "collapsed": true,
        "id": "1yYJM4x0tRNB",
        "outputId": "c0de51ea-1286-455f-cf3e-f92028adcc36"
      },
      "execution_count": null,
      "outputs": [
        {
          "output_type": "stream",
          "name": "stdout",
          "text": [
            "False\n"
          ]
        }
      ]
    },
    {
      "cell_type": "code",
      "source": [
        "# Operador OR (ou lógico) - emite verdadeiro se existir ao menos um TRUE\n",
        "x = 70\n",
        "y = 50\n",
        "k = 151\n",
        "\n",
        "print ((x < y) or (y >= k) or (k > x))\n",
        "\n",
        "print (((x > y) or (y >= k)) and (k > x))"
      ],
      "metadata": {
        "colab": {
          "base_uri": "https://localhost:8080/"
        },
        "collapsed": true,
        "id": "Cr0gbKTwu0Cg",
        "outputId": "c6b4d31a-7181-4abc-dd09-445d6397ffc7"
      },
      "execution_count": null,
      "outputs": [
        {
          "output_type": "stream",
          "name": "stdout",
          "text": [
            "True\n",
            "True\n"
          ]
        }
      ]
    },
    {
      "cell_type": "code",
      "source": [
        "#Operador NOT (não lógico) - inverte o valor booleano da variável\n",
        "a = 10\n",
        "b = 5\n",
        "resultado = a < b\n",
        "\n",
        "# print(not resultado)\n",
        "\n",
        "x = True\n",
        "y = False\n",
        "k = True\n",
        "# Combinação de and, or e not\n",
        "print(not((x and y) or (not y and k)))"
      ],
      "metadata": {
        "colab": {
          "base_uri": "https://localhost:8080/"
        },
        "id": "uUSUlm2rwD0Q",
        "outputId": "295539e8-bb72-4a9d-acec-4d3f7582264e"
      },
      "execution_count": null,
      "outputs": [
        {
          "output_type": "stream",
          "name": "stdout",
          "text": [
            "False\n"
          ]
        }
      ]
    },
    {
      "cell_type": "markdown",
      "source": [
        "##Estruturas Condicionais##"
      ],
      "metadata": {
        "id": "UCgzg-lZ3UMz"
      }
    },
    {
      "cell_type": "markdown",
      "source": [
        "**Condicionais Simples**"
      ],
      "metadata": {
        "id": "6pAruCBu3ZuC"
      }
    },
    {
      "cell_type": "code",
      "source": [
        "idade = 18\n",
        "\n",
        "if (idade >= 18):\n",
        "  print(\"Você é maior de idade\")"
      ],
      "metadata": {
        "colab": {
          "base_uri": "https://localhost:8080/"
        },
        "id": "dTYCo0Ta3oKa",
        "outputId": "7a7a9946-76e4-4955-ba8a-c9558aaecbb9"
      },
      "execution_count": null,
      "outputs": [
        {
          "output_type": "stream",
          "name": "stdout",
          "text": [
            "Você é maior de idade\n"
          ]
        }
      ]
    },
    {
      "cell_type": "markdown",
      "source": [
        "**Condicionais Composta**"
      ],
      "metadata": {
        "id": "yEamu63w4MBd"
      }
    },
    {
      "cell_type": "code",
      "source": [
        "idade = 15\n",
        "\n",
        "if (idade >= 18):\n",
        "  print(\"Você é maior de idade\")\n",
        "else:\n",
        "  print(\"Você é menor de idade\")"
      ],
      "metadata": {
        "colab": {
          "base_uri": "https://localhost:8080/"
        },
        "id": "RlJe0J5c4f70",
        "outputId": "020e603f-c4ee-49c0-a2ed-63739d2063e6"
      },
      "execution_count": null,
      "outputs": [
        {
          "output_type": "stream",
          "name": "stdout",
          "text": [
            "Você é menor de idade\n"
          ]
        }
      ]
    },
    {
      "cell_type": "markdown",
      "source": [
        "**Condicionais Encadeadas**"
      ],
      "metadata": {
        "id": "FxnkX4zh5IbM"
      }
    },
    {
      "cell_type": "code",
      "source": [
        "# Criança até 12 anos\n",
        "# Adolescente de 13 a 17 anos\n",
        "# Adulto 18 a 59 anos\n",
        "# Idoso acima de 60 anos\n",
        "idade = int(input(\"Digite sua idade: \"))\n",
        "# Verificar e classificar a faixa etária\n",
        "if (idade >= 0 and idade <= 12):\n",
        "  print(\"Criança\")\n",
        "elif(idade >=13 and idade <=17):\n",
        "  print(\"Adolescente\")\n",
        "elif(idade >= 18 and idade <= 59):\n",
        "  print(\"Adulto\")\n",
        "elif (idade >= 60 and idade <= 130):\n",
        "  print(\"Idoso\")\n",
        "else:\n",
        "  print(\"Idade Inválida\")\n",
        "\n"
      ],
      "metadata": {
        "colab": {
          "base_uri": "https://localhost:8080/"
        },
        "id": "Ps-qVROQ5NR1",
        "outputId": "057092c5-a152-425b-857d-5ac4581300e7"
      },
      "execution_count": null,
      "outputs": [
        {
          "output_type": "stream",
          "name": "stdout",
          "text": [
            "Digite sua idade: 500\n",
            "Idade Inválida\n"
          ]
        }
      ]
    },
    {
      "cell_type": "code",
      "source": [
        "# Criança até 12 anos\n",
        "# Adolescente de 13 a 17 anos\n",
        "# Adulto 18 a 59 anos\n",
        "# Idoso acima de 60 anos\n",
        "idade = int(input(\"Digite sua idade: \"))\n",
        "# Verificar e classificar a faixa etária\n",
        "if 0 <= idade <= 12:\n",
        "  print(\"Criança\")\n",
        "elif 13 <= idade <=17:\n",
        "  print(\"Adolescente\")\n",
        "elif 18 <= idade <= 59:\n",
        "  print(\"Adulto\")\n",
        "elif 60 <= idade <= 130:\n",
        "  print(\"Idoso\")\n",
        "else:\n",
        "  print(\"Idade Inválida\")\n"
      ],
      "metadata": {
        "id": "g_oDAyWv8zA5"
      },
      "execution_count": null,
      "outputs": []
    },
    {
      "cell_type": "code",
      "source": [
        "valor = 100\n",
        "resultado = valor + (valor * 0.25)\n",
        "print(resultado)"
      ],
      "metadata": {
        "colab": {
          "base_uri": "https://localhost:8080/"
        },
        "id": "KWUiCH5nC8a2",
        "outputId": "a0ada033-35f1-405f-9316-e867edf3387c"
      },
      "execution_count": null,
      "outputs": [
        {
          "output_type": "stream",
          "name": "stdout",
          "text": [
            "125.0\n"
          ]
        }
      ]
    },
    {
      "cell_type": "markdown",
      "source": [
        "##Estrutura de Repetição##"
      ],
      "metadata": {
        "id": "oho7VsGgfE2w"
      }
    },
    {
      "cell_type": "markdown",
      "source": [
        "**For**"
      ],
      "metadata": {
        "id": "4z9ZCVzvfJnY"
      }
    },
    {
      "cell_type": "code",
      "source": [
        "# Iteração sobre listas\n",
        "        #   0         1         2       3\n",
        "frutas = [\"maçã\", \"banana\", \"cereja\", \"uva\"]\n",
        "print(frutas)\n",
        "for x in frutas:\n",
        "  print(x)\n",
        "\n"
      ],
      "metadata": {
        "colab": {
          "base_uri": "https://localhost:8080/"
        },
        "id": "Fw6V7ErOfW00",
        "outputId": "7f9130fa-3428-47db-c6cc-0b7f8e108f52"
      },
      "execution_count": null,
      "outputs": [
        {
          "output_type": "stream",
          "name": "stdout",
          "text": [
            "['maçã', 'banana', 'cereja', 'uva']\n"
          ]
        }
      ]
    },
    {
      "cell_type": "code",
      "source": [
        "# Usando range\n",
        "\n",
        "for i in range(11):\n",
        "  print(i)"
      ],
      "metadata": {
        "colab": {
          "base_uri": "https://localhost:8080/"
        },
        "collapsed": true,
        "id": "KkpEs2KNg45h",
        "outputId": "34fb6a39-14b2-4b4d-b506-deb4ba80b8ae"
      },
      "execution_count": null,
      "outputs": [
        {
          "output_type": "stream",
          "name": "stdout",
          "text": [
            "0\n",
            "1\n",
            "2\n",
            "3\n",
            "4\n",
            "5\n",
            "6\n",
            "7\n",
            "8\n",
            "9\n",
            "10\n"
          ]
        }
      ]
    },
    {
      "cell_type": "code",
      "source": [
        "#Iteração sobre caracteres de uma string\n",
        "mensagem = \"Hello, world!\"\n",
        "\n",
        "for caractere in mensagem:\n",
        "  print(caractere)"
      ],
      "metadata": {
        "colab": {
          "base_uri": "https://localhost:8080/"
        },
        "collapsed": true,
        "id": "XFP9wJ46hk2L",
        "outputId": "a790523d-aaf4-42a1-fc62-7d730f3c7ab9"
      },
      "execution_count": null,
      "outputs": [
        {
          "output_type": "stream",
          "name": "stdout",
          "text": [
            "H\n",
            "e\n",
            "l\n",
            "l\n",
            "o\n",
            ",\n",
            " \n",
            "w\n",
            "o\n",
            "r\n",
            "l\n",
            "d\n",
            "!\n"
          ]
        }
      ]
    },
    {
      "cell_type": "markdown",
      "source": [
        "##String##"
      ],
      "metadata": {
        "id": "u2zp61_miVJ_"
      }
    },
    {
      "cell_type": "markdown",
      "source": [
        "É um tipo de dado (fundamental) que representa uma sequência de caracteres."
      ],
      "metadata": {
        "id": "iXPqBKwkiYAl"
      }
    },
    {
      "cell_type": "markdown",
      "source": [
        "texto = \"Hello\"\n",
        "indice\n",
        "  0   1   2   3  4\n",
        "[(H) (e) (l) (l) (o)      world]\n"
      ],
      "metadata": {
        "id": "EBVh7XJSirFm"
      }
    },
    {
      "cell_type": "markdown",
      "source": [
        "**While**"
      ],
      "metadata": {
        "id": "45Ac4ghhkyx9"
      }
    },
    {
      "cell_type": "code",
      "source": [
        "contador = 0\n",
        "while(contador < 10):\n",
        "  print(contador)\n",
        "  contador += 1\n",
        "\n",
        "\n"
      ],
      "metadata": {
        "colab": {
          "base_uri": "https://localhost:8080/"
        },
        "collapsed": true,
        "id": "u7TGHBxzk_E4",
        "outputId": "06d5a71b-ffc2-41bc-8288-bd5e7cf7ca4e"
      },
      "execution_count": null,
      "outputs": [
        {
          "output_type": "stream",
          "name": "stdout",
          "text": [
            "0\n",
            "1\n",
            "2\n",
            "3\n",
            "4\n",
            "5\n",
            "6\n",
            "7\n",
            "8\n",
            "9\n"
          ]
        }
      ]
    },
    {
      "cell_type": "code",
      "source": [
        "x = 6\n",
        "x+=3 # x = 6 + 3\n",
        "x*=5 # x = 9 * 5\n",
        "print(x)"
      ],
      "metadata": {
        "colab": {
          "base_uri": "https://localhost:8080/"
        },
        "id": "RYbj8aXHmGuS",
        "outputId": "02b86b1d-85ee-46e0-a6e9-bec4d4fde06d"
      },
      "execution_count": null,
      "outputs": [
        {
          "output_type": "stream",
          "name": "stdout",
          "text": [
            "45\n"
          ]
        }
      ]
    },
    {
      "cell_type": "code",
      "source": [
        "senha = \"12\"\n",
        "while senha != \"12345\":\n",
        "  senha = input(\"Digite a senha correta: \")\n",
        "  if senha == \"12345\":\n",
        "    print(\"Acesso Autorizado!\")\n",
        "  else:\n",
        "    print(\"senha incorreta, tente novamente!\")"
      ],
      "metadata": {
        "colab": {
          "base_uri": "https://localhost:8080/"
        },
        "collapsed": true,
        "id": "Hv1WQaLangG9",
        "outputId": "724b5199-aced-4bf8-b33b-b04686f5bc40"
      },
      "execution_count": null,
      "outputs": [
        {
          "output_type": "stream",
          "name": "stdout",
          "text": [
            "Digite a senha correta: 12313\n",
            "senha incorreta, tente novamente!\n",
            "Digite a senha correta: 54654\n",
            "senha incorreta, tente novamente!\n",
            "Digite a senha correta: 12345\n",
            "Acesso Autorizado!\n"
          ]
        }
      ]
    },
    {
      "cell_type": "code",
      "source": [
        "senha_correta = \"1234\"\n",
        "tentativas_maximas = 3\n",
        "contar_tentativas = 0\n",
        "\n",
        "while contar_tentativas < tentativas_maximas:\n",
        "  senha = input(\"Digite a senha:\")\n",
        "  if senha == senha_correta:\n",
        "    print(\"Acesso Autorizado\")\n",
        "    break\n",
        "  else:\n",
        "    contar_tentativas +=1\n",
        "    if contar_tentativas < tentativas_maximas:\n",
        "      # print(f\"Senha incorreta, tente novamente. Você tem {tentativas_maximas - contar_tentativas} tentativas restantes.\")\n",
        "      tentativas_restante = tentativas_maximas - contar_tentativas\n",
        "      print(\"Senha incorreta, tente novamente. Você tentou {} vezes e resta apenas {} tentativas\".format(contar_tentativas, tentativas_restante))\n",
        "    else:\n",
        "      print(\"Número máximo de tentativas atingido. Acesso Bloqueado\")\n"
      ],
      "metadata": {
        "colab": {
          "base_uri": "https://localhost:8080/"
        },
        "collapsed": true,
        "id": "83w637Txo89t",
        "outputId": "b143093d-7355-4266-c4bc-36679543bfe7"
      },
      "execution_count": null,
      "outputs": [
        {
          "output_type": "stream",
          "name": "stdout",
          "text": [
            "Digite a senha:123\n",
            "Senha incorreta, tente novamente. Você tentou 1 vezes e resta apenas 2 tentativas\n",
            "Digite a senha:123\n",
            "Senha incorreta, tente novamente. Você tentou 2 vezes e resta apenas 1 tentativas\n",
            "Digite a senha:1234\n",
            "Acesso Autorizado\n"
          ]
        }
      ]
    }
  ]
}