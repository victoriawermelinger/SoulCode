{
 "cells": [
  {
   "cell_type": "markdown",
   "metadata": {},
   "source": [
    "A atividade é sobre uma base de dados que já utilizamos em projetos anteriores com outras ferramentas e tecnologias.\n",
    "A base encontra-se já disponível anteriormente sobre funcionários, e a atividade é a seguinte:\n",
    "\n",
    "ok 1 - Baixe a base em sua máquina no formato .csv;<p> \n",
    "ok 2 - Abra um novo colab e crie uma nova seção PySpark;<p> \n",
    "ok 3 - Suba a base da máquina para seu ambiente Pyspark no Colab;<p> \n",
    "ok 4 - Elabore Análises com filtros e agrupamentos aprendidos em PySpark na aula de ontem;<p> \n",
    "ok 5 - Cada filtro ou agrupamento que você realizar deve estar acompanhado (no bloco de código do respectivo colab) de um comentário sobre qual  pergunta essas dados filtrados ou agrupados tentam responder sobre essa base;<p>\n",
    "6 - Cada filtro ou agrupamento deverá ser salvo em um objeto PySpark e depois convertido em um objeto Pandas, ao longo\n",
    "do dia você deverá realizar no mínimo 20 tabelas resultantes dessas análises;<p>\n",
    "7 - Após isso, as tabelas pandas deverão ser enviadas diretamente do colab para arquivos csv.<p>\n",
    "8 - O formato de entrega é o próprio link, ou arquivo ypynb do colab"
   ]
  },
  {
   "cell_type": "markdown",
   "metadata": {},
   "source": [
    "# 1. 2. 3.\n",
    "\n",
    "**Dados de casos extraconjugais da Fair** - https://www.kaggle.com/datasets/utkarshx27/fairs-extramarital-affairs-data\n",
    "\n",
    "Infidelidade e satisfação conjugal: dados da pesquisa Fair's Affairs\n"
   ]
  },
  {
   "cell_type": "markdown",
   "metadata": {},
   "source": [
    "# Importação da biblioteca pandas e instalação "
   ]
  },
  {
   "cell_type": "code",
   "execution_count": 28,
   "metadata": {},
   "outputs": [
    {
     "name": "stdout",
     "output_type": "stream",
     "text": [
      "Defaulting to user installation because normal site-packages is not writeable\n",
      "Requirement already satisfied: pyspark in c:\\users\\victoria\\appdata\\local\\packages\\pythonsoftwarefoundation.python.3.12_qbz5n2kfra8p0\\localcache\\local-packages\\python312\\site-packages (3.5.2)\n",
      "Requirement already satisfied: py4j==0.10.9.7 in c:\\users\\victoria\\appdata\\local\\packages\\pythonsoftwarefoundation.python.3.12_qbz5n2kfra8p0\\localcache\\local-packages\\python312\\site-packages (from pyspark) (0.10.9.7)\n"
     ]
    }
   ],
   "source": [
    "! pip install pyspark"
   ]
  },
  {
   "cell_type": "code",
   "execution_count": 29,
   "metadata": {},
   "outputs": [
    {
     "name": "stdout",
     "output_type": "stream",
     "text": [
      "Defaulting to user installation because normal site-packages is not writeable\n",
      "Requirement already satisfied: findspark in c:\\users\\victoria\\appdata\\local\\packages\\pythonsoftwarefoundation.python.3.12_qbz5n2kfra8p0\\localcache\\local-packages\\python312\\site-packages (2.0.1)\n"
     ]
    }
   ],
   "source": [
    "! pip install findspark"
   ]
  },
  {
   "cell_type": "code",
   "execution_count": 30,
   "metadata": {},
   "outputs": [],
   "source": [
    "import findspark\n",
    "import pyspark\n",
    "import pandas as pd"
   ]
  },
  {
   "cell_type": "code",
   "execution_count": 31,
   "metadata": {},
   "outputs": [],
   "source": [
    "from pyspark.sql.functions import *\n",
    "from pyspark.sql.functions import col"
   ]
  },
  {
   "cell_type": "code",
   "execution_count": 32,
   "metadata": {},
   "outputs": [
    {
     "name": "stdout",
     "output_type": "stream",
     "text": [
      "<pyspark.sql.session.SparkSession object at 0x000002F645CEE6F0>\n"
     ]
    }
   ],
   "source": [
    "import findspark\n",
    "findspark.init()\n",
    "\n",
    "from pyspark.sql import SparkSession\n",
    "\n",
    "# Criar uma sessão Spark\n",
    "spark = SparkSession.builder \\\n",
    "    .appName(\"Exemplo PySpark\") \\\n",
    "    .getOrCreate()\n",
    "\n",
    "# Verificar se a sessão foi criada corretamente\n",
    "print(spark)\n",
    "\n",
    "# Carregar o arquivo CSV em um DataFrame\n",
    "arquivo = r\"C:\\Users\\victoria\\Documents\\MeusProjetos- GIT\\SoulCode\\Bootcamp - ANALISE DE DADOS\\Base de Dados-Affairs.csv\"\n",
    "df_affairspk = spark\\\n",
    "        .read.format(\"csv\")\\\n",
    "        .option(\"inferSchema\", \"True\")\\\n",
    "        .option(\"header\", \"True\")\\\n",
    "        .csv(arquivo)\n"
   ]
  },
  {
   "cell_type": "markdown",
   "metadata": {},
   "source": [
    "# 4. 5. (Que os jogos comecem ) "
   ]
  },
  {
   "cell_type": "code",
   "execution_count": 33,
   "metadata": {},
   "outputs": [
    {
     "name": "stdout",
     "output_type": "stream",
     "text": [
      "+---+-------+------+----+---------------+--------+--------------------+--------------------+--------------------+-----------+\n",
      "|_c0|affairs|gender| age|   yearsmarried|children|       religiousness|           education|          occupation|     rating|\n",
      "+---+-------+------+----+---------------+--------+--------------------+--------------------+--------------------+-----------+\n",
      "|  4|      0|  male|37.0|    9 à 11 anos|      no|ligeramente relig...|            Mestrado|Trabalhadores em ...|      feliz|\n",
      "|  5|      0|female|27.0|     3 à 5 anos|      no|     pouco religioso|ensino superior i...|Trabalhadores de ...|      feliz|\n",
      "| 11|      0|female|32.0|12 ou mais anos|     yes|       anti-religião|        ensino médio|Profissionais e l...|      feliz|\n",
      "| 16|      0|  male|57.0|12 ou mais anos|     yes|     muito religioso|            Mestrado|Trabalhadores de ...|muito feliz|\n",
      "| 23|      0|  male|22.0|6 meses à 1 ano|      no|      nada religioso|       Pós-graduação|Trabalhadores de ...|  imparcial|\n",
      "| 29|      0|female|32.0|     1 à 2 anos|      no|      nada religioso|       Pós-graduação|Funcionários admi...|muito feliz|\n",
      "| 44|      0|female|22.0|6 meses à 1 ano|      no|      nada religioso|        ensino médio|Profissionais e l...|  imparcial|\n",
      "| 45|      0|  male|57.0|12 ou mais anos|     yes|      nada religioso|ensino superior i...|Supervisores e té...|      feliz|\n",
      "| 47|      0|female|32.0|12 ou mais anos|     yes|     pouco religioso|      nível superior|Profissionais e l...|    infeliz|\n",
      "| 49|      0|  male|22.0|     1 à 2 anos|      no|     pouco religioso|ensino superior i...|Supervisores e té...|muito feliz|\n",
      "| 50|      0|  male|37.0|12 ou mais anos|     yes|      nada religioso|Doutorado, Mestra...|Trabalhadores em ...|    infeliz|\n",
      "| 55|      0|  male|27.0|     3 à 5 anos|     yes|     pouco religioso|            Mestrado|Trabalhadores de ...|      feliz|\n",
      "| 64|      0|  male|47.0|12 ou mais anos|     yes|     muito religioso|       Pós-graduação|Trabalhadores de ...|      feliz|\n",
      "| 80|      0|female|22.0|     1 à 2 anos|      no|      nada religioso|       Pós-graduação|Funcionários admi...|      feliz|\n",
      "| 86|      0|female|27.0|     3 à 5 anos|      no|     pouco religioso|ensino superior i...|Funcionários admi...|      feliz|\n",
      "| 93|      0|female|37.0|12 ou mais anos|     yes|       anti-religião|       Pós-graduação|Funcionários admi...|muito feliz|\n",
      "|108|      0|female|37.0|12 ou mais anos|     yes|      nada religioso|            Mestrado|Supervisores e té...|  imparcial|\n",
      "|114|      0|female|22.0|6 meses à 1 ano|      no|ligeramente relig...|      nível superior|Funcionários admi...|      feliz|\n",
      "|115|      0|female|22.0|     1 à 2 anos|      no|      nada religioso|      nível superior|Funcionários admi...|muito feliz|\n",
      "|116|      0|female|27.0|    9 à 11 anos|     yes|      nada religioso|ensino superior i...|Profissionais e l...|muito feliz|\n",
      "+---+-------+------+----+---------------+--------+--------------------+--------------------+--------------------+-----------+\n",
      "only showing top 20 rows\n",
      "\n"
     ]
    }
   ],
   "source": [
    "# 0. Mostrar o DataFrame\n",
    "df_affairspk.show()"
   ]
  },
  {
   "cell_type": "code",
   "execution_count": 34,
   "metadata": {},
   "outputs": [
    {
     "name": "stdout",
     "output_type": "stream",
     "text": [
      "root\n",
      " |-- _c0: integer (nullable = true)\n",
      " |-- affairs: integer (nullable = true)\n",
      " |-- gender: string (nullable = true)\n",
      " |-- age: double (nullable = true)\n",
      " |-- yearsmarried: string (nullable = true)\n",
      " |-- children: string (nullable = true)\n",
      " |-- religiousness: string (nullable = true)\n",
      " |-- education: string (nullable = true)\n",
      " |-- occupation: string (nullable = true)\n",
      " |-- rating: string (nullable = true)\n",
      "\n"
     ]
    }
   ],
   "source": [
    "# 1. Mostrar o esquema do DataFrame para verificar os tipos de dados\n",
    "df_affairspk.printSchema()"
   ]
  },
  {
   "cell_type": "code",
   "execution_count": 35,
   "metadata": {},
   "outputs": [
    {
     "name": "stdout",
     "output_type": "stream",
     "text": [
      "(601, 10)\n"
     ]
    }
   ],
   "source": [
    "# 2. Verificando o shape do pyspark dataframe\n",
    "print((df_affairspk.count(), len(df_affairspk.columns)))"
   ]
  },
  {
   "cell_type": "code",
   "execution_count": 36,
   "metadata": {},
   "outputs": [
    {
     "name": "stdout",
     "output_type": "stream",
     "text": [
      "+---+-------+------+----+------------+--------+--------------------+---------+--------------------+------+\n",
      "|_c0|affairs|gender| age|yearsmarried|children|       religiousness|education|          occupation|rating|\n",
      "+---+-------+------+----+------------+--------+--------------------+---------+--------------------+------+\n",
      "|  4|      0|  male|37.0| 9 à 11 anos|      no|ligeramente relig...| Mestrado|Trabalhadores em ...| feliz|\n",
      "+---+-------+------+----+------------+--------+--------------------+---------+--------------------+------+\n",
      "only showing top 1 row\n",
      "\n"
     ]
    }
   ],
   "source": [
    "# 3. Matrar (1) linha ordem aleatória\n",
    "df_affairspk.sample(False, 0.9999999999).show(1)"
   ]
  },
  {
   "cell_type": "code",
   "execution_count": 37,
   "metadata": {},
   "outputs": [
    {
     "name": "stdout",
     "output_type": "stream",
     "text": [
      "+------+-----+\n",
      "|gender|count|\n",
      "+------+-----+\n",
      "|female|  315|\n",
      "|  male|  286|\n",
      "+------+-----+\n",
      "\n"
     ]
    }
   ],
   "source": [
    "# 4. Agrupar os dados de gênero \n",
    "df_affairspk.groupBy(\"gender\").count().show()"
   ]
  },
  {
   "cell_type": "code",
   "execution_count": 38,
   "metadata": {},
   "outputs": [
    {
     "name": "stdout",
     "output_type": "stream",
     "text": [
      "+-------+------------------+------------------+------+-----------------+------------+--------+---------------+--------------------+--------------------+-------------+\n",
      "|summary|               _c0|           affairs|gender|              age|yearsmarried|children|  religiousness|           education|          occupation|       rating|\n",
      "+-------+------------------+------------------+------+-----------------+------------+--------+---------------+--------------------+--------------------+-------------+\n",
      "|  count|               601|               601|   601|              601|         601|     601|            601|                 601|                 601|          601|\n",
      "|   mean|1059.7221297836938|1.4559068219633944|  NULL|32.48752079866888|        NULL|    NULL|           NULL|                NULL|                NULL|         NULL|\n",
      "| stddev|  914.904611235213|3.2987577284946816|  NULL| 9.28876170487667|        NULL|    NULL|           NULL|                NULL|                NULL|         NULL|\n",
      "|    min|                 4|                 0|female|             17.5|  1 à 2 anos|      no|  anti-religião|Doutorado, Mestra...|Funcionários admi...|        feliz|\n",
      "|    max|              9029|                12|  male|             57.0| 9 à 11 anos|     yes|pouco religioso|      nível superior|Trabalhadores em ...|muito infeliz|\n",
      "+-------+------------------+------------------+------+-----------------+------------+--------+---------------+--------------------+--------------------+-------------+\n",
      "\n"
     ]
    }
   ],
   "source": [
    "# 5. Estátitica descritiva do Dataframe\n",
    "df_affairspk.describe().show()"
   ]
  },
  {
   "cell_type": "code",
   "execution_count": 39,
   "metadata": {},
   "outputs": [
    {
     "name": "stdout",
     "output_type": "stream",
     "text": [
      "+----+-------+------+----+---------------+--------+---------------+--------------------+--------------------+-----------+\n",
      "| _c0|affairs|gender| age|   yearsmarried|children|  religiousness|           education|          occupation|     rating|\n",
      "+----+-------+------+----+---------------+--------+---------------+--------------------+--------------------+-----------+\n",
      "| 794|      0|female|57.0|12 ou mais anos|     yes| nada religioso|            Mestrado|Funcionários admi...|    infeliz|\n",
      "| 786|      2|female|57.0|12 ou mais anos|     yes|  anti-religião|            Mestrado|Funcionários admi...|      feliz|\n",
      "| 800|      0|  male|57.0|12 ou mais anos|     yes|pouco religioso|  ensino fundamental|Gerentes de média...|    infeliz|\n",
      "|  45|      0|  male|57.0|12 ou mais anos|     yes| nada religioso|ensino superior i...|Supervisores e té...|      feliz|\n",
      "| 803|      0|  male|57.0|12 ou mais anos|     yes|pouco religioso|Doutorado, Mestra...|Trabalhadores de ...|muito feliz|\n",
      "| 409|      0|  male|57.0|12 ou mais anos|     yes| nada religioso|ensino superior i...|Trabalhadores em ...|    infeliz|\n",
      "|1115|      0|  male|57.0|12 ou mais anos|     yes| nada religioso|Doutorado, Mestra...|Trabalhadores de ...|      feliz|\n",
      "|  16|      0|  male|57.0|12 ou mais anos|     yes|muito religioso|            Mestrado|Trabalhadores de ...|muito feliz|\n",
      "|1133|      0|  male|57.0|12 ou mais anos|     yes|pouco religioso|  ensino fundamental|Gerentes de média...|      feliz|\n",
      "| 517|      0|  male|57.0|12 ou mais anos|     yes|muito religioso|Doutorado, Mestra...|Trabalhadores de ...|muito feliz|\n",
      "+----+-------+------+----+---------------+--------+---------------+--------------------+--------------------+-----------+\n",
      "only showing top 10 rows\n",
      "\n"
     ]
    }
   ],
   "source": [
    "# 6. às 10 últimas linhas com filtro de idade\n",
    "\n",
    "df_affairspk.orderBy(col(\"age\").desc()).show(10)"
   ]
  },
  {
   "cell_type": "code",
   "execution_count": 40,
   "metadata": {},
   "outputs": [
    {
     "name": "stdout",
     "output_type": "stream",
     "text": [
      "+----------------+-----+\n",
      "|    yearsmarried|count|\n",
      "+----------------+-----+\n",
      "|     9 à 11 anos|   70|\n",
      "|      6 à 8 anos|   82|\n",
      "| 12 ou mais anos|  204|\n",
      "|     4 à 6 meses|   10|\n",
      "|      3 à 5 anos|  105|\n",
      "|3 meses ou menos|   11|\n",
      "| 6 meses à 1 ano|   31|\n",
      "|      1 à 2 anos|   88|\n",
      "+----------------+-----+\n",
      "\n"
     ]
    }
   ],
   "source": [
    "# 7. Contagem de anos de casamento\n",
    "anos_casados = df_affairspk.groupBy(\"yearsmarried\").count()\n",
    "anos_casados.show()"
   ]
  },
  {
   "cell_type": "code",
   "execution_count": 41,
   "metadata": {},
   "outputs": [
    {
     "name": "stdout",
     "output_type": "stream",
     "text": [
      "+--------------------+-----+\n",
      "|       religiousness|count|\n",
      "+--------------------+-----+\n",
      "|ligeramente relig...|  129|\n",
      "|     muito religioso|   70|\n",
      "|      nada religioso|  164|\n",
      "|     pouco religioso|  190|\n",
      "|       anti-religião|   48|\n",
      "+--------------------+-----+\n",
      "\n"
     ]
    }
   ],
   "source": [
    "# 8. Contagem de grau de religiosos\n",
    "grau_reliogios = df_affairspk.groupBy(\"religiousness\").count()\n",
    "grau_reliogios.show()"
   ]
  },
  {
   "cell_type": "code",
   "execution_count": 42,
   "metadata": {},
   "outputs": [
    {
     "name": "stdout",
     "output_type": "stream",
     "text": [
      "+--------------------+\n",
      "|       religiousness|\n",
      "+--------------------+\n",
      "|ligeramente relig...|\n",
      "|     pouco religioso|\n",
      "|       anti-religião|\n",
      "|     muito religioso|\n",
      "|      nada religioso|\n",
      "|      nada religioso|\n",
      "|      nada religioso|\n",
      "|      nada religioso|\n",
      "|     pouco religioso|\n",
      "|     pouco religioso|\n",
      "|      nada religioso|\n",
      "|     pouco religioso|\n",
      "|     muito religioso|\n",
      "|      nada religioso|\n",
      "|     pouco religioso|\n",
      "|       anti-religião|\n",
      "|      nada religioso|\n",
      "|ligeramente relig...|\n",
      "|      nada religioso|\n",
      "|      nada religioso|\n",
      "+--------------------+\n",
      "only showing top 20 rows\n",
      "\n"
     ]
    }
   ],
   "source": [
    "# 9. Identificando a coluna 6 do Dataframe \n",
    "df_affairspk.select(df_affairspk.columns[6]).show()"
   ]
  },
  {
   "cell_type": "code",
   "execution_count": 43,
   "metadata": {},
   "outputs": [
    {
     "name": "stdout",
     "output_type": "stream",
     "text": [
      "+---+-------+------+----+---------------+--------+---------------+--------------------+--------------------+-----------+-----+\n",
      "|_c0|affairs|gender| age|   yearsmarried|children|  religiousness|           education|          occupation|     rating|index|\n",
      "+---+-------+------+----+---------------+--------+---------------+--------------------+--------------------+-----------+-----+\n",
      "| 50|      0|  male|37.0|12 ou mais anos|     yes| nada religioso|Doutorado, Mestra...|Trabalhadores em ...|    infeliz|   10|\n",
      "| 93|      0|female|37.0|12 ou mais anos|     yes|  anti-religião|       Pós-graduação|Funcionários admi...|muito feliz|   15|\n",
      "|227|      0|female|32.0|     6 à 8 anos|     yes|muito religioso|       Pós-graduação|Funcionários admi...|  imparcial|   44|\n",
      "+---+-------+------+----+---------------+--------+---------------+--------------------+--------------------+-----------+-----+\n",
      "\n"
     ]
    }
   ],
   "source": [
    "# 10. selecionar as linhas com índices específicos usando uma condição\n",
    "from pyspark.sql import functions as F\n",
    "\n",
    "df_with_index = df_affairspk.withColumn(\"index\", F.monotonically_increasing_id())\n",
    "\n",
    "# Selecione as linhas com os índices desejados\n",
    "indices_desejados = [10, 15, 44]\n",
    "df_selecionado = df_with_index.filter(F.col(\"index\").isin(indices_desejados))\n",
    "\n",
    "df_selecionado.show()"
   ]
  },
  {
   "cell_type": "code",
   "execution_count": 44,
   "metadata": {},
   "outputs": [
    {
     "name": "stdout",
     "output_type": "stream",
     "text": [
      "+---+-------+------+----+---------------+--------+--------------------+--------------------+--------------------+-----------+\n",
      "|_c0|affairs|gender| age|   yearsmarried|children|       religiousness|           education|          occupation|     rating|\n",
      "+---+-------+------+----+---------------+--------+--------------------+--------------------+--------------------+-----------+\n",
      "|  4|      0|  male|37.0|    9 à 11 anos|      no|ligeramente relig...|            Mestrado|Trabalhadores em ...|      feliz|\n",
      "| 16|      0|  male|57.0|12 ou mais anos|     yes|     muito religioso|            Mestrado|Trabalhadores de ...|muito feliz|\n",
      "| 23|      0|  male|22.0|6 meses à 1 ano|      no|      nada religioso|       Pós-graduação|Trabalhadores de ...|  imparcial|\n",
      "| 45|      0|  male|57.0|12 ou mais anos|     yes|      nada religioso|ensino superior i...|Supervisores e té...|      feliz|\n",
      "| 49|      0|  male|22.0|     1 à 2 anos|      no|     pouco religioso|ensino superior i...|Supervisores e té...|muito feliz|\n",
      "| 50|      0|  male|37.0|12 ou mais anos|     yes|      nada religioso|Doutorado, Mestra...|Trabalhadores em ...|    infeliz|\n",
      "| 55|      0|  male|27.0|     3 à 5 anos|     yes|     pouco religioso|            Mestrado|Trabalhadores de ...|      feliz|\n",
      "| 64|      0|  male|47.0|12 ou mais anos|     yes|     muito religioso|       Pós-graduação|Trabalhadores de ...|      feliz|\n",
      "|137|      0|  male|37.0|     3 à 5 anos|     yes|      nada religioso|Doutorado, Mestra...|Trabalhadores de ...|      feliz|\n",
      "|151|      0|  male|42.0|12 ou mais anos|     yes|     muito religioso|Doutorado, Mestra...|Trabalhadores de ...|      feliz|\n",
      "|153|      0|  male|27.0|     3 à 5 anos|     yes|ligeramente relig...|      nível superior|Funcionários admi...|muito feliz|\n",
      "|162|      0|  male|42.0|12 ou mais anos|     yes|     pouco religioso|Doutorado, Mestra...|Trabalhadores de ...|  imparcial|\n",
      "|165|      0|  male|27.0|    4 à 6 meses|      no|     pouco religioso|       Pós-graduação|Trabalhadores de ...|      feliz|\n",
      "|170|      0|  male|32.0|     3 à 5 anos|     yes|       anti-religião|            Mestrado|Trabalhadores de ...|      feliz|\n",
      "|192|      0|  male|22.0|     1 à 2 anos|     yes|       anti-religião|ensino superior i...|Proprietários de ...|muito feliz|\n",
      "|210|      0|  male|32.0|    9 à 11 anos|     yes|     muito religioso|Doutorado, Mestra...|Trabalhadores de ...|muito feliz|\n",
      "|217|      0|  male|52.0|12 ou mais anos|     yes|     muito religioso|            Mestrado|Trabalhadores de ...|  imparcial|\n",
      "|228|      0|  male|22.0|     3 à 5 anos|      no|ligeramente relig...|      nível superior|Funcionários admi...|muito feliz|\n",
      "|245|      0|  male|27.0|     1 à 2 anos|     yes|     pouco religioso|      nível superior|Proprietários de ...|muito feliz|\n",
      "|249|      0|  male|42.0|12 ou mais anos|     yes|      nada religioso|Doutorado, Mestra...|Trabalhadores de ...|      feliz|\n",
      "+---+-------+------+----+---------------+--------+--------------------+--------------------+--------------------+-----------+\n",
      "only showing top 20 rows\n",
      "\n"
     ]
    }
   ],
   "source": [
    "# 11. filtrando os homens na coluna \"gender\"\n",
    "df_affairspk.where(col(\"gender\") == \"male\").show()"
   ]
  },
  {
   "cell_type": "code",
   "execution_count": 45,
   "metadata": {},
   "outputs": [
    {
     "name": "stdout",
     "output_type": "stream",
     "text": [
      "+-------------+\n",
      "|    education|\n",
      "+-------------+\n",
      "|     Mestrado|\n",
      "|     Mestrado|\n",
      "|Pós-graduação|\n",
      "|Pós-graduação|\n",
      "|     Mestrado|\n",
      "|Pós-graduação|\n",
      "|Pós-graduação|\n",
      "|Pós-graduação|\n",
      "|     Mestrado|\n",
      "|     Mestrado|\n",
      "|Pós-graduação|\n",
      "|Pós-graduação|\n",
      "|     Mestrado|\n",
      "|Pós-graduação|\n",
      "|     Mestrado|\n",
      "|     Mestrado|\n",
      "|Pós-graduação|\n",
      "|     Mestrado|\n",
      "|     Mestrado|\n",
      "|     Mestrado|\n",
      "+-------------+\n",
      "only showing top 20 rows\n",
      "\n"
     ]
    }
   ],
   "source": [
    "# 12. Rótulo PySpark\n",
    "\n",
    "df_affairspk.filter(col(\"education\").isin(\"Mestrado\" , \"Pós-graduação\")).select(\"education\").show()"
   ]
  },
  {
   "cell_type": "code",
   "execution_count": 46,
   "metadata": {},
   "outputs": [
    {
     "name": "stdout",
     "output_type": "stream",
     "text": [
      "+--------------------+-----+\n",
      "|           education|count|\n",
      "+--------------------+-----+\n",
      "|       Pós-graduação|   89|\n",
      "|        ensino médio|   44|\n",
      "|ensino superior i...|  154|\n",
      "|Doutorado, Mestra...|   80|\n",
      "|  ensino fundamental|    7|\n",
      "|            Mestrado|  112|\n",
      "|      nível superior|  115|\n",
      "+--------------------+-----+\n",
      "\n"
     ]
    }
   ],
   "source": [
    "# 13. Agrupa por \"education\" e conta o número de ocorrências de cada valor\n",
    "from pyspark.sql.functions import col\n",
    "contagem_educar_superior = df_affairspk.groupBy(\"education\").count()\n",
    "contagem_educar_superior.show()\n"
   ]
  },
  {
   "cell_type": "code",
   "execution_count": 47,
   "metadata": {},
   "outputs": [
    {
     "name": "stdout",
     "output_type": "stream",
     "text": [
      "+--------------------+-----+\n",
      "|          occupation|count|\n",
      "+--------------------+-----+\n",
      "|Trabalhadores em ...|   13|\n",
      "|Trabalhadores de ...|  143|\n",
      "|Funcionários admi...|  204|\n",
      "|Supervisores e té...|   68|\n",
      "|Profissionais e l...|  113|\n",
      "|Gerentes de média...|   13|\n",
      "|Proprietários de ...|   47|\n",
      "+--------------------+-----+\n",
      "\n"
     ]
    }
   ],
   "source": [
    "# 14. Agrupa por \"ocupação\" e conta o número de ocorrências de cada valor\n",
    "contagem_educar_superior = df_affairspk.groupBy(\"occupation\").count()\n",
    "contagem_educar_superior.show()"
   ]
  },
  {
   "cell_type": "code",
   "execution_count": 48,
   "metadata": {},
   "outputs": [
    {
     "name": "stdout",
     "output_type": "stream",
     "text": [
      "+--------+-----+\n",
      "|children|count|\n",
      "+--------+-----+\n",
      "|      no|  171|\n",
      "|     yes|  430|\n",
      "+--------+-----+\n",
      "\n"
     ]
    }
   ],
   "source": [
    "# 15. Agrupa por \"filhos\" e conta o número de ocorrências de cada valor\n",
    "contagem_filhos = df_affairspk.groupBy(\"children\").count()\n",
    "contagem_filhos.show()"
   ]
  },
  {
   "cell_type": "code",
   "execution_count": 49,
   "metadata": {},
   "outputs": [
    {
     "name": "stdout",
     "output_type": "stream",
     "text": [
      "+----------------+-----+\n",
      "|    yearsmarried|count|\n",
      "+----------------+-----+\n",
      "|     9 à 11 anos|   70|\n",
      "|      6 à 8 anos|   82|\n",
      "| 12 ou mais anos|  204|\n",
      "|     4 à 6 meses|   10|\n",
      "|      3 à 5 anos|  105|\n",
      "|3 meses ou menos|   11|\n",
      "| 6 meses à 1 ano|   31|\n",
      "|      1 à 2 anos|   88|\n",
      "+----------------+-----+\n",
      "\n"
     ]
    }
   ],
   "source": [
    "# 16. Agrupa por \"anos de casamento\" e conta o número de ocorrências de cada valor\n",
    "contagem_filhos = df_affairspk.groupBy(\"yearsmarried\").count()\n",
    "contagem_filhos.show()"
   ]
  }
 ],
 "metadata": {
  "kernelspec": {
   "display_name": "Python 3",
   "language": "python",
   "name": "python3"
  },
  "language_info": {
   "codemirror_mode": {
    "name": "ipython",
    "version": 3
   },
   "file_extension": ".py",
   "mimetype": "text/x-python",
   "name": "python",
   "nbconvert_exporter": "python",
   "pygments_lexer": "ipython3",
   "version": "3.12.5"
  }
 },
 "nbformat": 4,
 "nbformat_minor": 2
}
