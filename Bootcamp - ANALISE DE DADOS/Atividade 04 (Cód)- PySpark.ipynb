{
 "cells": [
  {
   "cell_type": "markdown",
   "metadata": {},
   "source": [
    "# CRIAÇÃO DO AMBIENTE E ORGANIZAÇÃO "
   ]
  },
  {
   "cell_type": "code",
   "execution_count": 1464,
   "metadata": {},
   "outputs": [],
   "source": [
    "import findspark\n",
    "import pyspark\n",
    "import pandas as pd\n",
    "import matplotlib.pyplot as plt\n",
    "import seaborn as sns\n",
    "from pyspark.sql.types import DoubleType\n",
    "from pyspark.sql.functions import *\n",
    "from pyspark.sql.functions import to_date, col, coalesce, date_format, current_date, datediff, floor, when, corr, row_number, lower, upper, avg, stddev, percentile_approx, expr, max, min\n",
    "from pyspark.sql import SparkSession\n",
    "from pyspark.sql import functions as F\n",
    "from pyspark.sql.window import Window"
   ]
  },
  {
   "cell_type": "code",
   "execution_count": 1465,
   "metadata": {},
   "outputs": [
    {
     "name": "stdout",
     "output_type": "stream",
     "text": [
      "Versão do Spark: 3.5.2\n"
     ]
    },
    {
     "name": "stderr",
     "output_type": "stream",
     "text": [
      "24/08/29 11:47:37 WARN SparkSession: Using an existing Spark session; only runtime SQL configurations will take effect.\n"
     ]
    }
   ],
   "source": [
    "# Inicializa o SparkSession\n",
    "spark = SparkSession.builder \\\n",
    "    .appName(\"ExemploSpark\") \\\n",
    "    .getOrCreate()\n",
    "\n",
    "# Verifica a versão do Spark para confirmar a configuração\n",
    "print(\"Versão do Spark:\", spark.version)\n"
   ]
  },
  {
   "cell_type": "code",
   "execution_count": 1466,
   "metadata": {},
   "outputs": [],
   "source": [
    "import os\n",
    "os.environ[\"JAVA_HOME\"] = \"/usr/lib/jvm/java-8-openjdk-amd64\"\n",
    "os.environ[\"SPARK_HOME\"] = \"/content/spark-3.1.1-bin-hadoop3.2\"\n",
    "# Torna o pyspark \"importável\"\n",
    "findspark.init()"
   ]
  },
  {
   "cell_type": "code",
   "execution_count": 1467,
   "metadata": {},
   "outputs": [
    {
     "name": "stderr",
     "output_type": "stream",
     "text": [
      "24/08/29 11:47:37 WARN SparkSession: Using an existing Spark session; only runtime SQL configurations will take effect.\n"
     ]
    },
    {
     "name": "stdout",
     "output_type": "stream",
     "text": [
      "+---+--------------+-----+----------+-------+-------------------+-----------------+\n",
      "| ID|          Nome|Idade|      Área|Salário|Data de Contratação|Status de Emprego|\n",
      "+---+--------------+-----+----------+-------+-------------------+-----------------+\n",
      "|  1|    João Silva|   29|Financeiro|   5500|         01/02/2020|            Ativo|\n",
      "|  2|   Maria Souza|   30|        RH|   4800|         15-03-2019|            ativo|\n",
      "|  3|Carlos Pereira| NULL| Finaceiro|   6200|         2020/04/01|            Ativo|\n",
      "|  4|     Ana Clara|   27| Marketing|   4800|         12/06/2018|            Ativo|\n",
      "|  5|  Fabio Santos|   31|      NULL|   5500|         20-11-2017|            ativo|\n",
      "|  6|   Sandra Lima|   28|        RH|   NULL|         05-05-2020|            Ativo|\n",
      "|  7|    José Alves|   34| Marketing|   5400|         2018/02/01|          inativo|\n",
      "|  8| Luciana Costa|   30|Financeiro|R$ 5200|         01.01.2019|            Ativo|\n",
      "|  9| Paulo Ricardo| NULL| Finaceiro|   6100|         12/12/2020|          Inativo|\n",
      "| 10| Fernanda Dias|   29|        RH|   4800|               NULL|            Ativo|\n",
      "|  1|    João Silva|   29|Financeiro|   5500|         01/02/2020|            Ativo|\n",
      "+---+--------------+-----+----------+-------+-------------------+-----------------+\n",
      "\n"
     ]
    }
   ],
   "source": [
    "# Crie uma sessão do Spark\n",
    "spark = SparkSession.builder.appName(\"DataCleaning\").getOrCreate()\n",
    "\n",
    "# Carregar o DataFrame de um arquivo CSV\n",
    "df_cleaned = spark.read.csv(\"/home/wermelingerv/Documentos/GitHub/SoulCode/Bootcamp - ANALISE DE DADOS/Banco de Dados_base_suja.csv\", header=True, inferSchema=True)\n",
    "\n",
    "df_cleaned.show()"
   ]
  },
  {
   "cell_type": "code",
   "execution_count": 1468,
   "metadata": {},
   "outputs": [
    {
     "name": "stdout",
     "output_type": "stream",
     "text": [
      "+---+--------------+-----+----------+-------+-------------------+-----------------+\n",
      "| ID|          Nome|Idade|      Área|Salário|Data de Contratação|Status de Emprego|\n",
      "+---+--------------+-----+----------+-------+-------------------+-----------------+\n",
      "|  1|    João Silva|   29|Financeiro|   5500|         01/02/2020|            Ativo|\n",
      "|  2|   Maria Souza|   30|        RH|   4800|         15-03-2019|            ativo|\n",
      "|  3|Carlos Pereira| NULL| Finaceiro|   6200|         2020/04/01|            Ativo|\n",
      "|  4|     Ana Clara|   27| Marketing|   4800|         12/06/2018|            Ativo|\n",
      "|  5|  Fabio Santos|   31|      NULL|   5500|         20-11-2017|            ativo|\n",
      "|  6|   Sandra Lima|   28|        RH|   NULL|         05-05-2020|            Ativo|\n",
      "|  7|    José Alves|   34| Marketing|   5400|         2018/02/01|          inativo|\n",
      "|  8| Luciana Costa|   30|Financeiro|R$ 5200|         01.01.2019|            Ativo|\n",
      "|  9| Paulo Ricardo| NULL| Finaceiro|   6100|         12/12/2020|          Inativo|\n",
      "| 10| Fernanda Dias|   29|        RH|   4800|         2024-08-29|            Ativo|\n",
      "|  1|    João Silva|   29|Financeiro|   5500|         01/02/2020|            Ativo|\n",
      "+---+--------------+-----+----------+-------+-------------------+-----------------+\n",
      "\n"
     ]
    }
   ],
   "source": [
    "# Substituir valores nulos na coluna 'Data de Contratação' pela data atual\n",
    "df_cleaned = df_cleaned.withColumn(\n",
    "    \"Data de Contratação\",\n",
    "    when(col(\"Data de Contratação\").isNull(), current_date()).otherwise(col(\"Data de Contratação\")))\n",
    "df_cleaned.show()"
   ]
  },
  {
   "cell_type": "code",
   "execution_count": 1469,
   "metadata": {},
   "outputs": [
    {
     "name": "stdout",
     "output_type": "stream",
     "text": [
      "+---+--------------+-----+----------+-------+-------------------+-----------------+\n",
      "|ID |Nome          |Idade|Área      |Salário|Data de Contratação|Status de Emprego|\n",
      "+---+--------------+-----+----------+-------+-------------------+-----------------+\n",
      "|1  |João Silva    |29   |Financeiro|5500   |01/02/2020         |Ativo            |\n",
      "|2  |Maria Souza   |30   |RH        |4800   |15/03/2019         |ativo            |\n",
      "|3  |Carlos Pereira|NULL |Finaceiro |6200   |01/04/2020         |Ativo            |\n",
      "|4  |Ana Clara     |27   |Marketing |4800   |12/06/2018         |Ativo            |\n",
      "|5  |Fabio Santos  |31   |NULL      |5500   |20/11/2017         |ativo            |\n",
      "|6  |Sandra Lima   |28   |RH        |NULL   |05/05/2020         |Ativo            |\n",
      "|7  |José Alves    |34   |Marketing |5400   |01/02/2018         |inativo          |\n",
      "|8  |Luciana Costa |30   |Financeiro|R$ 5200|01/01/2019         |Ativo            |\n",
      "|9  |Paulo Ricardo |NULL |Finaceiro |6100   |12/12/2020         |Inativo          |\n",
      "|10 |Fernanda Dias |29   |RH        |4800   |29/08/2024         |Ativo            |\n",
      "|1  |João Silva    |29   |Financeiro|5500   |01/02/2020         |Ativo            |\n",
      "+---+--------------+-----+----------+-------+-------------------+-----------------+\n",
      "\n"
     ]
    }
   ],
   "source": [
    "# Converter diferentes formatos para o formato padrão yyyy-MM-dd\n",
    "df_cleaned = df_cleaned.withColumn(\n",
    "    \"Data de Contratação\",\n",
    "    coalesce(\n",
    "        to_date(col(\"Data de Contratação\"), \"dd/MM/yyyy\"),\n",
    "        to_date(col(\"Data de Contratação\"), \"dd-MM-yyyy\"),\n",
    "        to_date(col(\"Data de Contratação\"), \"yyyy/MM/dd\"),\n",
    "        to_date(col(\"Data de Contratação\"), \"yyyy-MM-dd\"),\n",
    "        to_date(col(\"Data de Contratação\"), \"dd.MM.yyyy\")))\n",
    "\n",
    "# Formatar a data para o formato dd/MM/yyyy\n",
    "df_cleaned = df_cleaned.withColumn(\"Data de Contratação\", date_format(col(\"Data de Contratação\"), \"dd/MM/yyyy\"))\n",
    "\n",
    "# Mostrar o DataFrame formatado\n",
    "df_cleaned.show(truncate=False)"
   ]
  },
  {
   "cell_type": "code",
   "execution_count": 1470,
   "metadata": {},
   "outputs": [
    {
     "name": "stdout",
     "output_type": "stream",
     "text": [
      "+---+--------------+-----+----------+-------+-------------------+-----------------+\n",
      "| ID|          Nome|Idade|      Área|Salário|Data de Contratação|Status de Emprego|\n",
      "+---+--------------+-----+----------+-------+-------------------+-----------------+\n",
      "|  1|    João Silva|   29|Financeiro|   5500|         01/02/2020|            Ativo|\n",
      "|  2|   Maria Souza|   30|        RH|   4800|         15/03/2019|            ativo|\n",
      "|  4|     Ana Clara|   27| Marketing|   4800|         12/06/2018|            Ativo|\n",
      "|  8| Luciana Costa|   30|Financeiro|R$ 5200|         01/01/2019|            Ativo|\n",
      "| 10| Fernanda Dias|   29|        RH|   4800|         29/08/2024|            Ativo|\n",
      "|  7|    José Alves|   34| Marketing|   5400|         01/02/2018|          inativo|\n",
      "|  9| Paulo Ricardo| NULL| Finaceiro|   6100|         12/12/2020|          Inativo|\n",
      "|  6|   Sandra Lima|   28|        RH|   NULL|         05/05/2020|            Ativo|\n",
      "|  3|Carlos Pereira| NULL| Finaceiro|   6200|         01/04/2020|            Ativo|\n",
      "|  5|  Fabio Santos|   31|      NULL|   5500|         20/11/2017|            ativo|\n",
      "+---+--------------+-----+----------+-------+-------------------+-----------------+\n",
      "\n"
     ]
    }
   ],
   "source": [
    "# Tirar os duplicados \n",
    "df_cleaned = df_cleaned.dropDuplicates()\n",
    "df_cleaned.show()\n",
    "\n",
    "# Substituir valores nulos na coluna 'idade' por 0\n",
    "#df_cleaned = df_cleaned.fillna({'idade': 0})\n",
    "#df_cleaned.show()"
   ]
  },
  {
   "cell_type": "code",
   "execution_count": 1471,
   "metadata": {},
   "outputs": [
    {
     "name": "stdout",
     "output_type": "stream",
     "text": [
      "+---+--------------+-----+----------+-----------------+-------------------+-----------------+\n",
      "|ID |Nome          |Idade|Área      |Salario          |Data de Contratação|Status de Emprego|\n",
      "+---+--------------+-----+----------+-----------------+-------------------+-----------------+\n",
      "|1  |João Silva    |29   |Financeiro|5500.0           |01/02/2020         |Ativo            |\n",
      "|2  |Maria Souza   |30   |RH        |4800.0           |15/03/2019         |ativo            |\n",
      "|4  |Ana Clara     |27   |Marketing |4800.0           |12/06/2018         |Ativo            |\n",
      "|8  |Luciana Costa |30   |Financeiro|5200.0           |01/01/2019         |Ativo            |\n",
      "|10 |Fernanda Dias |29   |RH        |4800.0           |29/08/2024         |Ativo            |\n",
      "|7  |José Alves    |34   |Marketing |5400.0           |01/02/2018         |inativo          |\n",
      "|9  |Paulo Ricardo |NULL |Finaceiro |6100.0           |12/12/2020         |Inativo          |\n",
      "|6  |Sandra Lima   |28   |RH        |5366.666666666667|05/05/2020         |Ativo            |\n",
      "|3  |Carlos Pereira|NULL |Finaceiro |6200.0           |01/04/2020         |Ativo            |\n",
      "|5  |Fabio Santos  |31   |NULL      |5500.0           |20/11/2017         |ativo            |\n",
      "+---+--------------+-----+----------+-----------------+-------------------+-----------------+\n",
      "\n"
     ]
    }
   ],
   "source": [
    "# Verifique se o nome da coluna é 'Salário' ou 'Salario' e renomeie se necessário\n",
    "if 'Salário' in df_cleaned.columns:\n",
    "    df_cleaned = df_cleaned.withColumnRenamed(\"Salário\", \"Salario\")\n",
    "\n",
    "# Limpar e normalizar a coluna 'Salario'\n",
    "df_cleaned = df_cleaned.withColumn(\"Salario\", regexp_replace(col(\"Salario\"), \"R\\\\$\", \"\"))  # Remove prefixo R$\n",
    "df_cleaned = df_cleaned.withColumn(\"Salario\", regexp_replace(col(\"Salario\"), \"\\\\s+\", \"\"))  # Remove espaços\n",
    "df_cleaned = df_cleaned.withColumn(\"Salario\", col(\"Salario\").cast(\"double\"))  # Converte para double\n",
    "\n",
    "# Calcular a média dos valores não nulos em 'Salario'\n",
    "mean_salary = df_cleaned.select(mean(col(\"Salario\"))).collect()[0][0]\n",
    "\n",
    "# Substituir valores nulos em 'Salario' com a média\n",
    "df_cleaned = df_cleaned.withColumn(\"Salario\", \n",
    "                                   when(col(\"Salario\").isNull(), mean_salary)\n",
    "                                   .otherwise(col(\"Salario\")))\n",
    "\n",
    "# Mostrar o DataFrame atualizado\n",
    "df_cleaned.show(truncate=False)"
   ]
  },
  {
   "cell_type": "code",
   "execution_count": 1472,
   "metadata": {},
   "outputs": [
    {
     "name": "stdout",
     "output_type": "stream",
     "text": [
      "+---+--------------+-----+------------+-----------------+-------------------+-----------------+\n",
      "|ID |Nome          |Idade|Área        |Salario          |Data de Contratação|Status de Emprego|\n",
      "+---+--------------+-----+------------+-----------------+-------------------+-----------------+\n",
      "|1  |João Silva    |29   |financeiro  |5500.0           |01/02/2020         |ativo            |\n",
      "|2  |Maria Souza   |30   |rh          |4800.0           |15/03/2019         |ativo            |\n",
      "|4  |Ana Clara     |27   |marketing   |4800.0           |12/06/2018         |ativo            |\n",
      "|8  |Luciana Costa |30   |financeiro  |5200.0           |01/01/2019         |ativo            |\n",
      "|10 |Fernanda Dias |29   |rh          |4800.0           |29/08/2024         |ativo            |\n",
      "|7  |José Alves    |34   |marketing   |5400.0           |01/02/2018         |inativo          |\n",
      "|9  |Paulo Ricardo |NULL |financeiro  |6100.0           |12/12/2020         |inativo          |\n",
      "|6  |Sandra Lima   |28   |rh          |5366.666666666667|05/05/2020         |ativo            |\n",
      "|3  |Carlos Pereira|NULL |financeiro  |6200.0           |01/04/2020         |ativo            |\n",
      "|5  |Fabio Santos  |31   |desconhecido|5500.0           |20/11/2017         |ativo            |\n",
      "+---+--------------+-----+------------+-----------------+-------------------+-----------------+\n",
      "\n",
      "+---+--------------+-----+------------+-----------------+-------------------+-----------------+\n",
      "| ID|          Nome|Idade|        Área|          Salario|Data de Contratação|Status de Emprego|\n",
      "+---+--------------+-----+------------+-----------------+-------------------+-----------------+\n",
      "|  1|    João Silva|   29|  financeiro|           5500.0|         01/02/2020|            ativo|\n",
      "|  2|   Maria Souza|   30|          rh|           4800.0|         15/03/2019|            ativo|\n",
      "|  4|     Ana Clara|   27|   marketing|           4800.0|         12/06/2018|            ativo|\n",
      "|  8| Luciana Costa|   30|  financeiro|           5200.0|         01/01/2019|            ativo|\n",
      "| 10| Fernanda Dias|   29|          rh|           4800.0|         29/08/2024|            ativo|\n",
      "|  7|    José Alves|   34|   marketing|           5400.0|         01/02/2018|          inativo|\n",
      "|  9| Paulo Ricardo| NULL|  financeiro|           6100.0|         12/12/2020|          inativo|\n",
      "|  6|   Sandra Lima|   28|          rh|5366.666666666667|         05/05/2020|            ativo|\n",
      "|  3|Carlos Pereira| NULL|  financeiro|           6200.0|         01/04/2020|            ativo|\n",
      "|  5|  Fabio Santos|   31|desconhecido|           5500.0|         20/11/2017|            ativo|\n",
      "+---+--------------+-----+------------+-----------------+-------------------+-----------------+\n",
      "\n"
     ]
    }
   ],
   "source": [
    "# Substituir valores nulos por \"Desconhecida\"\n",
    "df_cleaned = df_cleaned.withColumn(\"Área\", when(col(\"Área\").isNull(), \"Desconhecido\").otherwise(col(\"Área\")))\n",
    "\n",
    "\n",
    "# Corrigir inconsistências de maiúsculas e minúsculas na coluna 'Área'\n",
    "df_cleaned = df_cleaned.withColumn(\"Área\", lower(col(\"Área\")))\n",
    "\n",
    "\n",
    "# Corrigir inconsistências de maiúsculas e minúsculas na coluna 'Status de Emprego'\n",
    "df_cleaned = df_cleaned.withColumn(\"Status de Emprego\", lower(col(\"Status de Emprego\")))\n",
    "\n",
    "# Corrigir variações na coluna 'Área'\n",
    "df_cleaned = df_cleaned.withColumn(\"Área\", \n",
    "    when(col(\"Área\").like(\"finaceiro\") | col(\"Área\").like(\"financiero\") | col(\"Área\").like(\"financ\"), \"financeiro\")\n",
    "    .otherwise(col(\"Área\"))\n",
    ")\n",
    "\n",
    "# Exibir o DataFrame resultante\n",
    "df_cleaned.show(truncate=False)\n",
    "\n",
    "\n",
    "# Exibir o DataFrame resultante\n",
    "df_cleaned.show()"
   ]
  },
  {
   "cell_type": "code",
   "execution_count": 1473,
   "metadata": {},
   "outputs": [
    {
     "data": {
      "text/plain": [
       "['ID',\n",
       " 'Nome',\n",
       " 'Idade',\n",
       " 'Área',\n",
       " 'Salario',\n",
       " 'Data de Contratação',\n",
       " 'Status de Emprego']"
      ]
     },
     "execution_count": 1473,
     "metadata": {},
     "output_type": "execute_result"
    }
   ],
   "source": [
    "df_cleaned.columns"
   ]
  },
  {
   "cell_type": "code",
   "execution_count": 1474,
   "metadata": {},
   "outputs": [
    {
     "name": "stdout",
     "output_type": "stream",
     "text": [
      "+---+--------------+-----+------------+-----------------+-------------------+-----------------+\n",
      "| ID|          Nome|Idade|        Área|          Salario|Data de Contratação|Status de Emprego|\n",
      "+---+--------------+-----+------------+-----------------+-------------------+-----------------+\n",
      "|  1|    João Silva|   29|  financeiro|           5500.0|         01/02/2020|            ativo|\n",
      "|  2|   Maria Souza|   30|          rh|           4800.0|         15/03/2019|            ativo|\n",
      "|  4|     Ana Clara|   27|   marketing|           4800.0|         12/06/2018|            ativo|\n",
      "|  8| Luciana Costa|   30|  financeiro|           5200.0|         01/01/2019|            ativo|\n",
      "| 10| Fernanda Dias|   29|          rh|           4800.0|         29/08/2024|            ativo|\n",
      "|  7|    José Alves|   34|   marketing|           5400.0|         01/02/2018|          inativo|\n",
      "|  9| Paulo Ricardo| NULL|  financeiro|           6100.0|         12/12/2020|          inativo|\n",
      "|  6|   Sandra Lima|   28|          rh|5366.666666666667|         05/05/2020|            ativo|\n",
      "|  3|Carlos Pereira| NULL|  financeiro|           6200.0|         01/04/2020|            ativo|\n",
      "|  5|  Fabio Santos|   31|desconhecido|           5500.0|         20/11/2017|            ativo|\n",
      "+---+--------------+-----+------------+-----------------+-------------------+-----------------+\n",
      "\n"
     ]
    }
   ],
   "source": [
    "df_cleaned.show()"
   ]
  },
  {
   "cell_type": "markdown",
   "metadata": {},
   "source": [
    "# COMEÇO "
   ]
  },
  {
   "cell_type": "code",
   "execution_count": 1475,
   "metadata": {},
   "outputs": [
    {
     "name": "stdout",
     "output_type": "stream",
     "text": [
      "+---+--------------+-----+------------+-----------------+-------------------+-----------------+\n",
      "| ID|          Nome|Idade|        Area|          Salario|Data de Contratação|Status de Emprego|\n",
      "+---+--------------+-----+------------+-----------------+-------------------+-----------------+\n",
      "|  1|    João Silva|   29|  financeiro|           5500.0|         01/02/2020|            ativo|\n",
      "|  2|   Maria Souza|   30|          rh|           4800.0|         15/03/2019|            ativo|\n",
      "|  4|     Ana Clara|   27|   marketing|           4800.0|         12/06/2018|            ativo|\n",
      "|  8| Luciana Costa|   30|  financeiro|           5200.0|         01/01/2019|            ativo|\n",
      "| 10| Fernanda Dias|   29|          rh|           4800.0|         29/08/2024|            ativo|\n",
      "|  7|    José Alves|   34|   marketing|           5400.0|         01/02/2018|          inativo|\n",
      "|  9| Paulo Ricardo| NULL|  financeiro|           6100.0|         12/12/2020|          inativo|\n",
      "|  6|   Sandra Lima|   28|          rh|5366.666666666667|         05/05/2020|            ativo|\n",
      "|  3|Carlos Pereira| NULL|  financeiro|           6200.0|         01/04/2020|            ativo|\n",
      "|  5|  Fabio Santos|   31|desconhecido|           5500.0|         20/11/2017|            ativo|\n",
      "+---+--------------+-----+------------+-----------------+-------------------+-----------------+\n",
      "\n"
     ]
    }
   ],
   "source": [
    "#1. Análise de Consistência de Dados: Identificar e corrigir inconsistências nos valores de Área e Status de Emprego (e.g., diferenças de maiúsculas/minúsculas).\n",
    "# Renomear a coluna \"Área\" para \"Area\"\n",
    "df_cleaned = df_cleaned.withColumnRenamed(\"Área\", \"Area\")\n",
    "\n",
    "# Converter as colunas para minúsculas\n",
    "df_cleaned = df_cleaned.withColumn(\"Area\", lower(df_cleaned[\"Area\"])) \\\n",
    "                       .withColumn(\"Status de Emprego\", lower(df_cleaned[\"Status de Emprego\"]))\n",
    "\n",
    "# Mostrar o resultado\n",
    "df_cleaned.show()"
   ]
  },
  {
   "cell_type": "code",
   "execution_count": 1476,
   "metadata": {},
   "outputs": [
    {
     "name": "stdout",
     "output_type": "stream",
     "text": [
      "+-----+----+\n",
      "|Idade|Area|\n",
      "+-----+----+\n",
      "|    2|   0|\n",
      "+-----+----+\n",
      "\n",
      "+---+--------------+-----+------------+-----------------+-------------------+-----------------+\n",
      "| ID|          Nome|Idade|        Area|          Salario|Data de Contratação|Status de Emprego|\n",
      "+---+--------------+-----+------------+-----------------+-------------------+-----------------+\n",
      "|  1|    João Silva| 29.0|  financeiro|           5500.0|         01/02/2020|            ativo|\n",
      "|  2|   Maria Souza| 30.0|          rh|           4800.0|         15/03/2019|            ativo|\n",
      "|  4|     Ana Clara| 27.0|   marketing|           4800.0|         12/06/2018|            ativo|\n",
      "|  8| Luciana Costa| 30.0|  financeiro|           5200.0|         01/01/2019|            ativo|\n",
      "| 10| Fernanda Dias| 29.0|          rh|           4800.0|         29/08/2024|            ativo|\n",
      "|  7|    José Alves| 34.0|   marketing|           5400.0|         01/02/2018|          inativo|\n",
      "|  9| Paulo Ricardo|29.75|  financeiro|           6100.0|         12/12/2020|          inativo|\n",
      "|  6|   Sandra Lima| 28.0|          rh|5366.666666666667|         05/05/2020|            ativo|\n",
      "|  3|Carlos Pereira|29.75|  financeiro|           6200.0|         01/04/2020|            ativo|\n",
      "|  5|  Fabio Santos| 31.0|desconhecido|           5500.0|         20/11/2017|            ativo|\n",
      "+---+--------------+-----+------------+-----------------+-------------------+-----------------+\n",
      "\n"
     ]
    }
   ],
   "source": [
    "#2. Limpeza de Dados Faltantes: Detectar e tratar os valores ausentes na coluna Idade e Área.\n",
    "# nulos existem nas colunas \"Idade\" e \"Área\"\n",
    "df_cleaned.select([count(when(col(c).isNull() | isnan(c), c)).alias(c) for c in [\"Idade\", \"Area\"]]).show()\n",
    "\n",
    "# Calcular a média da coluna \"Idade\"\n",
    "media_idade = df_cleaned.select(avg(col(\"Idade\"))).first()[0]\n",
    "\n",
    "# Substituir valores nulos pela média na coluna \"Idade\"\n",
    "df_cleaned = df_cleaned.withColumn(\n",
    "    \"Idade\",\n",
    "    when(col(\"Idade\").isNull(), media_idade).otherwise(col(\"Idade\")))\n",
    "# Mostrar o DataFrame atualizado\n",
    "df_cleaned.show()"
   ]
  },
  {
   "cell_type": "code",
   "execution_count": 1477,
   "metadata": {},
   "outputs": [
    {
     "name": "stdout",
     "output_type": "stream",
     "text": [
      "+------------+--------------+----------------------+------------------------+\n",
      "|        Area|Média de Idade|Desvio Padrão de Idade|Contagem de Funcionários|\n",
      "+------------+--------------+----------------------+------------------------+\n",
      "|desconhecido|          31.0|                  NULL|                       1|\n",
      "|  financeiro|        29.625|    0.4330127018922194|                       4|\n",
      "|   marketing|          30.5|     4.949747468305833|                       2|\n",
      "|          rh|          29.0|                   1.0|                       3|\n",
      "+------------+--------------+----------------------+------------------------+\n",
      "\n"
     ]
    }
   ],
   "source": [
    "# 3. Analisar a distribuição da idade dos funcionários por departamento\n",
    "\n",
    "média= df_cleaned.groupBy(\"Area\").agg(\n",
    "        avg(\"Idade\").alias(\"Média de Idade\"),\n",
    "        stddev(\"Idade\").alias(\"Desvio Padrão de Idade\"),\n",
    "        count(\"Idade\").alias(\"Contagem de Funcionários\"))\n",
    "\n",
    "# Mostrar o resultado da análise de distribuição de idade por departamento\n",
    "média.show()\n",
    "\n",
    "# valor 0.0 para o desvio padrão na área \"financeiro\" indica que todos os valores de idade para essa área são iguais.\n",
    "# NULL no valor do \"Desvio Padrão de Idade\" para a área \"desconhecida\" ocorre porque o cálculo do desvio padrão exige pelo menos dois valores distintos na amostra para produzir um resultado válido.\n",
    "# Análse: No financeiro temos à média de idade de 29 anos, markenting 30 anos e rh de 29 anos. Temos um desconhecido onde tem 31 anos."
   ]
  },
  {
   "cell_type": "code",
   "execution_count": 1478,
   "metadata": {},
   "outputs": [
    {
     "name": "stdout",
     "output_type": "stream",
     "text": [
      "+------------+----------------+---------------+---------------------+\n",
      "|        Area|   Media Salario|Mediana Salario|Desvio Padrao Salario|\n",
      "+------------+----------------+---------------+---------------------+\n",
      "|desconhecido|          5500.0|         5500.0|                 NULL|\n",
      "|  financeiro|          5750.0|         5500.0|   479.58315233127195|\n",
      "|   marketing|          5100.0|         4800.0|   424.26406871192853|\n",
      "|          rh|4988.88888888889|         4800.0|    327.1651525407881|\n",
      "+------------+----------------+---------------+---------------------+\n",
      "\n"
     ]
    }
   ],
   "source": [
    "# 4.Salário por Departamento: Calcular a média, mediana e desvio padrão dos salários por departamento.\n",
    "# Calcular a média, mediana e desvio padrão dos salários por departamento\n",
    "calculo_medio = df_cleaned.groupBy(\"Area\").agg(\n",
    "    avg(\"Salario\").alias(\"Media Salario\"),\n",
    "    percentile_approx(\"Salario\", 0.5).alias(\"Mediana Salario\"),\n",
    "    stddev(\"Salario\").alias(\"Desvio Padrao Salario\")\n",
    ")\n",
    "calculo_medio.show()\n",
    "\n",
    "\n",
    "# Desconhcido nãp pode ser avaliado (tem um funcionario que não tem departamento)\n",
    "# NULL no valor do \"Desvio Padrão de Idade\" para a área \"desconhecida\" ocorre porque o cálculo do desvio padrão exige pelo menos dois valores distintos na amostra para produzir um resultado válido.\n",
    "# Análise há maior média e do serto financeiro, seguindo com marketing e rh"
   ]
  },
  {
   "cell_type": "code",
   "execution_count": 1479,
   "metadata": {},
   "outputs": [
    {
     "name": "stdout",
     "output_type": "stream",
     "text": [
      "+------------+------+-----------------+\n",
      "|        Area|    Q1|               Q3|\n",
      "+------------+------+-----------------+\n",
      "|desconhecido|5500.0|           5500.0|\n",
      "|  financeiro|5200.0|           6100.0|\n",
      "|   marketing|4800.0|           5400.0|\n",
      "|          rh|4800.0|5366.666666666667|\n",
      "+------------+------+-----------------+\n",
      "\n",
      "+------------+------+-----------------+----------------+------------------+-----------------+\n",
      "|        Area|    Q1|               Q3|             IQR|   Limite Inferior|  Limite Superior|\n",
      "+------------+------+-----------------+----------------+------------------+-----------------+\n",
      "|desconhecido|5500.0|           5500.0|             0.0|            5500.0|           5500.0|\n",
      "|  financeiro|5200.0|           6100.0|           900.0|            3850.0|           7450.0|\n",
      "|   marketing|4800.0|           5400.0|           600.0|            3900.0|           6300.0|\n",
      "|          rh|4800.0|5366.666666666667|566.666666666667|3949.9999999999995|6216.666666666668|\n",
      "+------------+------+-----------------+----------------+------------------+-----------------+\n",
      "\n",
      "+------------+---+--------------+-----+-----------------+-------------------+-----------------+------+-----------------+----------------+------------------+-----------------+\n",
      "|        Area| ID|          Nome|Idade|          Salario|Data de Contratação|Status de Emprego|    Q1|               Q3|             IQR|   Limite Inferior|  Limite Superior|\n",
      "+------------+---+--------------+-----+-----------------+-------------------+-----------------+------+-----------------+----------------+------------------+-----------------+\n",
      "|  financeiro|  1|    João Silva| 29.0|           5500.0|         01/02/2020|            ativo|5200.0|           6100.0|           900.0|            3850.0|           7450.0|\n",
      "|          rh|  2|   Maria Souza| 30.0|           4800.0|         15/03/2019|            ativo|4800.0|5366.666666666667|566.666666666667|3949.9999999999995|6216.666666666668|\n",
      "|   marketing|  4|     Ana Clara| 27.0|           4800.0|         12/06/2018|            ativo|4800.0|           5400.0|           600.0|            3900.0|           6300.0|\n",
      "|  financeiro|  8| Luciana Costa| 30.0|           5200.0|         01/01/2019|            ativo|5200.0|           6100.0|           900.0|            3850.0|           7450.0|\n",
      "|          rh| 10| Fernanda Dias| 29.0|           4800.0|         29/08/2024|            ativo|4800.0|5366.666666666667|566.666666666667|3949.9999999999995|6216.666666666668|\n",
      "|   marketing|  7|    José Alves| 34.0|           5400.0|         01/02/2018|          inativo|4800.0|           5400.0|           600.0|            3900.0|           6300.0|\n",
      "|  financeiro|  9| Paulo Ricardo|29.75|           6100.0|         12/12/2020|          inativo|5200.0|           6100.0|           900.0|            3850.0|           7450.0|\n",
      "|          rh|  6|   Sandra Lima| 28.0|5366.666666666667|         05/05/2020|            ativo|4800.0|5366.666666666667|566.666666666667|3949.9999999999995|6216.666666666668|\n",
      "|  financeiro|  3|Carlos Pereira|29.75|           6200.0|         01/04/2020|            ativo|5200.0|           6100.0|           900.0|            3850.0|           7450.0|\n",
      "|desconhecido|  5|  Fabio Santos| 31.0|           5500.0|         20/11/2017|            ativo|5500.0|           5500.0|             0.0|            5500.0|           5500.0|\n",
      "+------------+---+--------------+-----+-----------------+-------------------+-----------------+------+-----------------+----------------+------------------+-----------------+\n",
      "\n",
      "+----+-------+---------------+---------------+\n",
      "|Area|Salario|Limite Inferior|Limite Superior|\n",
      "+----+-------+---------------+---------------+\n",
      "+----+-------+---------------+---------------+\n",
      "\n"
     ]
    }
   ],
   "source": [
    "#5. Análise de Outliers: Identificar salários que estão fora do padrão (outliers) para cada departamento.\n",
    "# Verifique se não há valores nulos na coluna 'Salario' e 'Area'\n",
    "df_cleaned = df_cleaned.dropna(subset=['Salario', 'Area'])\n",
    "\n",
    "# Calcular os quantis Q1 e Q3\n",
    "df_stats = df_cleaned.groupBy(\"Area\").agg(\n",
    "    expr(\"percentile_approx(Salario, 0.25)\").alias(\"Q1\"),\n",
    "    expr(\"percentile_approx(Salario, 0.75)\").alias(\"Q3\")\n",
    ")\n",
    "\n",
    "# Verificar se os valores de Q1 e Q3 foram calculados corretamente\n",
    "df_stats.show()\n",
    "\n",
    "# Calcular o IQR (Q3 - Q1)\n",
    "df_stats = df_stats.withColumn(\"IQR\", col(\"Q3\") - col(\"Q1\"))\n",
    "\n",
    "# Determinar os limites inferior e superior para detectar outliers\n",
    "df_stats = df_stats.withColumn(\"Limite Inferior\", col(\"Q1\") - 1.5 * col(\"IQR\"))\\\n",
    "                   .withColumn(\"Limite Superior\", col(\"Q3\") + 1.5 * col(\"IQR\"))\n",
    "\n",
    "# Verificar se os limites foram calculados corretamente\n",
    "df_stats.show()\n",
    "\n",
    "# Juntar os limites calculados com o dataframe original para identificar os outliers\n",
    "df_cleaned = df_cleaned.join(df_stats, on=\"Area\", how='left')\n",
    "\n",
    "# Verificar se a junção foi realizada corretamente e se os limites não são nulos\n",
    "df_cleaned.show()\n",
    "\n",
    "# Filtrar os outliers (salários fora dos limites inferior e superior)\n",
    "df_outliers = df_cleaned.filter(\n",
    "    (col(\"Salario\") < col(\"Limite Inferior\")) | (col(\"Salario\") > col(\"Limite Superior\"))\n",
    ")\n",
    "\n",
    "# Mostrar os outliers identificados\n",
    "df_outliers.select(\"Area\", \"Salario\", \"Limite Inferior\", \"Limite Superior\").show()\n",
    "\n",
    "## NÃO HOUVE RETORNO POIS TINHA CAMPO NULL ONDE FOI PREENCHIDO COM A MÉDIA SALÁRIO DOS OUTRO"
   ]
  },
  {
   "cell_type": "code",
   "execution_count": 1480,
   "metadata": {},
   "outputs": [
    {
     "name": "stdout",
     "output_type": "stream",
     "text": [
      " 1 indica uma correlação positiva perfeita/ -1 indica uma correlação negativa perfeita/ 0 indica nenhuma correlação linear.\n",
      "A correlação de idade e salário.\"0.2380270422540022\" - 0 indica nenhuma correlação linear.\n",
      "+------------------------+\n",
      "|Correlação Idade-Salário|\n",
      "+------------------------+\n",
      "|      0.2380270422540022|\n",
      "+------------------------+\n",
      "\n"
     ]
    }
   ],
   "source": [
    "#6. Correlação Idade-Salário: Analisar a correlação entre idade e salário dos funcionários.\n",
    "\n",
    "# Calcule a correlação entre 'Idade' e 'Salario'\n",
    "correlation = df_cleaned.corr('Idade', 'Salario')\n",
    "print(\" 1 indica uma correlação positiva perfeita/ -1 indica uma correlação negativa perfeita/ 0 indica nenhuma correlação linear.\")\n",
    "print(f'A correlação de idade e salário.\"{correlation}\" - 0 indica nenhuma correlação linear.')\n",
    "\n",
    "\n",
    "corr_result = df_cleaned.select(corr(\"Idade\", \"Salario\").alias(\"Correlação Idade-Salário\"))\n",
    "corr_result.show()\n",
    "# Análise: 0 indica nenhuma correlação linear."
   ]
  },
  {
   "cell_type": "code",
   "execution_count": 1481,
   "metadata": {},
   "outputs": [
    {
     "name": "stdout",
     "output_type": "stream",
     "text": [
      "+------------+---+--------------+-----+-----------------+-------------------+-----------------+------+-----------------+----------------+------------------+-----------------+------------+-------------+--------------------------+\n",
      "|        Area| ID|          Nome|Idade|          Salario|Data de Contratação|Status de Emprego|    Q1|               Q3|             IQR|   Limite Inferior|  Limite Superior|Dias de Casa|Tempo de Casa|Categoria De Tempo de Casa|\n",
      "+------------+---+--------------+-----+-----------------+-------------------+-----------------+------+-----------------+----------------+------------------+-----------------+------------+-------------+--------------------------+\n",
      "|  financeiro|  1|    João Silva| 29.0|           5500.0|         2020-02-01|            ativo|5200.0|           6100.0|           900.0|            3850.0|           7450.0|        1671|            4|              04 - 06 anos|\n",
      "|          rh|  2|   Maria Souza| 30.0|           4800.0|         2019-03-15|            ativo|4800.0|5366.666666666667|566.666666666667|3949.9999999999995|6216.666666666668|        1994|            5|              04 - 06 anos|\n",
      "|   marketing|  4|     Ana Clara| 27.0|           4800.0|         2018-06-12|            ativo|4800.0|           5400.0|           600.0|            3900.0|           6300.0|        2270|            6|              04 - 06 anos|\n",
      "|  financeiro|  8| Luciana Costa| 30.0|           5200.0|         2019-01-01|            ativo|5200.0|           6100.0|           900.0|            3850.0|           7450.0|        2067|            5|              04 - 06 anos|\n",
      "|          rh| 10| Fernanda Dias| 29.0|           4800.0|         2024-08-29|            ativo|4800.0|5366.666666666667|566.666666666667|3949.9999999999995|6216.666666666668|           0|            0|              01 - 03 anos|\n",
      "|   marketing|  7|    José Alves| 34.0|           5400.0|         2018-02-01|          inativo|4800.0|           5400.0|           600.0|            3900.0|           6300.0|        2401|            6|              04 - 06 anos|\n",
      "|  financeiro|  9| Paulo Ricardo|29.75|           6100.0|         2020-12-12|          inativo|5200.0|           6100.0|           900.0|            3850.0|           7450.0|        1356|            3|              01 - 03 anos|\n",
      "|          rh|  6|   Sandra Lima| 28.0|5366.666666666667|         2020-05-05|            ativo|4800.0|5366.666666666667|566.666666666667|3949.9999999999995|6216.666666666668|        1577|            4|              04 - 06 anos|\n",
      "|  financeiro|  3|Carlos Pereira|29.75|           6200.0|         2020-04-01|            ativo|5200.0|           6100.0|           900.0|            3850.0|           7450.0|        1611|            4|              04 - 06 anos|\n",
      "|desconhecido|  5|  Fabio Santos| 31.0|           5500.0|         2017-11-20|            ativo|5500.0|           5500.0|             0.0|            5500.0|           5500.0|        2474|            6|              04 - 06 anos|\n",
      "+------------+---+--------------+-----+-----------------+-------------------+-----------------+------+-----------------+----------------+------------------+-----------------+------------+-------------+--------------------------+\n",
      "\n"
     ]
    }
   ],
   "source": [
    "#7. Tempo de Casa: Calcular o tempo de contratação dos funcionários e categorizá-los em grupos(e.g., 1-3 anos, 4-6 anos, etc.).\n",
    "# Converter a coluna \"Data de Contratação\" para o formato yyyy-MM-dd\n",
    "df_cleaned = df_cleaned.withColumn(\n",
    "    \"Data de Contratação\",\n",
    "    to_date(col(\"Data de Contratação\"), \"dd/MM/yyyy\"))\n",
    "\n",
    "# Calcular a diferença em dias entre a data atual e a data de contratação\n",
    "df_cleaned = df_cleaned.withColumn(\n",
    "    \"Dias de Casa\", datediff(current_date(), col(\"Data de Contratação\")))\n",
    "\n",
    "# Converter dias para anos e criar a nova coluna\n",
    "df_cleaned = df_cleaned.withColumn(\n",
    "    \"Tempo de Casa\", floor(col(\"Dias de Casa\") / 365.25))\n",
    "\n",
    "# Categorizar o tempo de casa\n",
    "df_cleaned = df_cleaned.withColumn(\n",
    "    \"Categoria De Tempo de Casa\",\n",
    "    when(col(\"Tempo de Casa\") <= 3, \"01 - 03 anos\")\n",
    "    .when((col(\"Tempo de Casa\") > 3) & (col(\"Tempo de Casa\") <= 6), \"04 - 06 anos\")\n",
    "    .when((col(\"Tempo de Casa\") > 6) & (col(\"Tempo de Casa\") <= 10), \"06 - 10 anos\")\n",
    "    .otherwise(\"Mais de 10 anos\"))\n",
    "\n",
    "# Mostrar o DataFrame\n",
    "df_cleaned.show() \n",
    "\n",
    "#Análise: Maior parte da equipe trabalha de 4 à 6 anos"
   ]
  },
  {
   "cell_type": "code",
   "execution_count": 1482,
   "metadata": {},
   "outputs": [
    {
     "name": "stdout",
     "output_type": "stream",
     "text": [
      "+-----------------+--------------+----------------------+-----------------+------------------------+------------------------+\n",
      "|Status de Emprego|Média de Idade|Desvio Padrão de Idade| Média de Salário|Desvio Padrão de Salário|Contagem de Funcionários|\n",
      "+-----------------+--------------+----------------------+-----------------+------------------------+------------------------+\n",
      "|            ativo|      29.21875|    1.2637635120091557|5270.833333333334|      485.15665936580143|                       8|\n",
      "|          inativo|        31.875|     3.005203820042827|           5750.0|       494.9747468305833|                       2|\n",
      "+-----------------+--------------+----------------------+-----------------+------------------------+------------------------+\n",
      "\n",
      "+------------+-----------------+-----+\n",
      "|        Area|Status de Emprego|count|\n",
      "+------------+-----------------+-----+\n",
      "|desconhecido|            ativo|    1|\n",
      "|  financeiro|          inativo|    1|\n",
      "|   marketing|          inativo|    1|\n",
      "|  financeiro|            ativo|    3|\n",
      "|          rh|            ativo|    3|\n",
      "|   marketing|            ativo|    1|\n",
      "+------------+-----------------+-----+\n",
      "\n",
      "+-----------------+----------------------+------------------------------+------------------------+\n",
      "|Status de Emprego|Média de Tempo de Casa|Desvio Padrão de Tempo de Casa|Contagem de Funcionários|\n",
      "+-----------------+----------------------+------------------------------+------------------------+\n",
      "|            ativo|                  4.25|            1.9086270308410553|                       8|\n",
      "|          inativo|                   4.5|            2.1213203435596424|                       2|\n",
      "+-----------------+----------------------+------------------------------+------------------------+\n",
      "\n"
     ]
    }
   ],
   "source": [
    "#8. Análise de Rotatividade: Identificar padrões entre os funcionários que estão ativos versus os que não estão.\n",
    "# Resumo Estatístico para Funcionários Ativos e Inativos\n",
    "df_rotatividade = df_cleaned.groupBy(\"Status de Emprego\").agg(\n",
    "    avg(\"Idade\").alias(\"Média de Idade\"),\n",
    "    stddev(\"Idade\").alias(\"Desvio Padrão de Idade\"),\n",
    "    avg(\"Salario\").alias(\"Média de Salário\"),\n",
    "    stddev(\"Salario\").alias(\"Desvio Padrão de Salário\"),\n",
    "    count(\"ID\").alias(\"Contagem de Funcionários\"))\n",
    "df_rotatividade.show()\n",
    "\n",
    "# Contagem de Funcionários Ativos e Inativos por Departamento\n",
    "df_dep_rotatividade = df_cleaned.groupBy(\"Area\", \"Status de Emprego\").count()\n",
    "df_dep_rotatividade.show()\n",
    "\n",
    "# Distribuição do Tempo de Casa por Status de Emprego\n",
    "df_time_casa_distribution = df_cleaned.groupBy(\"Status de Emprego\").agg(\n",
    "    avg(\"Tempo de Casa\").alias(\"Média de Tempo de Casa\"),\n",
    "    stddev(\"Tempo de Casa\").alias(\"Desvio Padrão de Tempo de Casa\"),\n",
    "    count(\"ID\").alias(\"Contagem de Funcionários\"))\n",
    "\n",
    "df_time_casa_distribution.show() "
   ]
  },
  {
   "cell_type": "code",
   "execution_count": 1483,
   "metadata": {},
   "outputs": [
    {
     "name": "stdout",
     "output_type": "stream",
     "text": [
      "+-----------------+-----------------+------------------------+------------------------+\n",
      "|Status de Emprego| Média de Salário|Desvio Padrão de Salário|Contagem de Funcionários|\n",
      "+-----------------+-----------------+------------------------+------------------------+\n",
      "|            ativo|5270.833333333334|      485.15665936580143|                       8|\n",
      "|          inativo|           5750.0|       494.9747468305833|                       2|\n",
      "+-----------------+-----------------+------------------------+------------------------+\n",
      "\n",
      "+-----------------+------------------------+\n",
      "|Status de Emprego|Correlação Idade-Salário|\n",
      "+-----------------+------------------------+\n",
      "|            ativo|      0.3400329891143649|\n",
      "|          inativo|                    -1.0|\n",
      "+-----------------+------------------------+\n",
      "\n"
     ]
    }
   ],
   "source": [
    "# 8. continuação\n",
    "# Estatísticas de Salário por Status de Emprego\n",
    "df_salary_analysis = df_cleaned.groupBy(\"Status de Emprego\").agg(\n",
    "    avg(\"Salario\").alias(\"Média de Salário\"),\n",
    "    stddev(\"Salario\").alias(\"Desvio Padrão de Salário\"),\n",
    "    count(\"ID\").alias(\"Contagem de Funcionários\"))\n",
    "\n",
    "df_salary_analysis.show()\n",
    "\n",
    "# Calcular a correlação entre idade e salário para funcionários ativos e inativos\n",
    "df_corr_analysis = df_cleaned.groupBy(\"Status de Emprego\").agg(\n",
    "    corr(\"Idade\", \"Salario\").alias(\"Correlação Idade-Salário\"))\n",
    "\n",
    "df_corr_analysis.show() \n",
    "\n",
    "#Análise: temos uma relação bem similar em vários aspectos calculados, apesar de inativos representar 20% da lista de ativos. "
   ]
  },
  {
   "cell_type": "code",
   "execution_count": 1484,
   "metadata": {},
   "outputs": [
    {
     "name": "stdout",
     "output_type": "stream",
     "text": [
      "1 indica uma correlação positiva perfeita. / -1 indica uma correlação negativa perfeita. / 0 indica nenhuma correlação linear.\n",
      "Correlação entre o ano de contratação e o nível de salário: '-0.10112445480149997' 0 indica nenhuma correlação linear.\n"
     ]
    }
   ],
   "source": [
    "# 9. Análise de Desempenho por Data de Contratação: Verificar se existe uma correlação entre o ano de contratação e o nível de salário.\n",
    "# Converter a coluna 'Data de Contratação' para o tipo Date e extrair o ano\n",
    "df_cleaned = df_cleaned.withColumn(\"Ano de Contratação\", year(to_date(col(\"Data de Contratação\"), \"dd/MM/yyyy\")))\n",
    "\n",
    "# Calcular a correlação entre 'Ano de Contratação' e 'Salario'\n",
    "correlation = df_cleaned.stat.corr(\"Ano de Contratação\", \"Salario\")\n",
    "\n",
    "print(\"1 indica uma correlação positiva perfeita. / -1 indica uma correlação negativa perfeita. / 0 indica nenhuma correlação linear.\")\n",
    "print(f\"Correlação entre o ano de contratação e o nível de salário: '{correlation}' 0 indica nenhuma correlação linear.\")"
   ]
  },
  {
   "cell_type": "code",
   "execution_count": 1485,
   "metadata": {},
   "outputs": [
    {
     "data": {
      "image/png": "[encoded data removed]",
      "text/plain": [
       "<Figure size 1000x600 with 1 Axes>"
      ]
     },
     "metadata": {},
     "output_type": "display_data"
    }
   ],
   "source": [
    "# 10. Histograma de Salário: Criar um histograma de salários para visualizar a distribuição geral.\n",
    "from pyspark.sql.functions import col\n",
    "import matplotlib.pyplot as plt\n",
    "\n",
    "# Obter os dados de salário como uma lista\n",
    "salarios = df_cleaned.select(\"Salario\").rdd.flatMap(lambda x: x).collect()\n",
    "\n",
    "# Criar o histograma com matplotlib\n",
    "plt.figure(figsize=(10, 6))\n",
    "plt.hist(salarios, bins=20, edgecolor='k', alpha=0.7)\n",
    "plt.title('Distribuição de Salários')\n",
    "plt.xlabel('Salário')\n",
    "plt.ylabel('Número de Funcionários')\n",
    "plt.grid(True)\n",
    "plt.show()"
   ]
  },
  {
   "cell_type": "code",
   "execution_count": 1486,
   "metadata": {},
   "outputs": [
    {
     "name": "stdout",
     "output_type": "stream",
     "text": [
      "+--------------+----------+\n",
      "|          Nome|Frequência|\n",
      "+--------------+----------+\n",
      "|     Ana Clara|         1|\n",
      "| Paulo Ricardo|         1|\n",
      "| Fernanda Dias|         1|\n",
      "|   Sandra Lima|         1|\n",
      "|    José Alves|         1|\n",
      "| Luciana Costa|         1|\n",
      "|  Fabio Santos|         1|\n",
      "|Carlos Pereira|         1|\n",
      "|    João Silva|         1|\n",
      "|   Maria Souza|         1|\n",
      "+--------------+----------+\n",
      "\n"
     ]
    }
   ],
   "source": [
    "#11. Análise de Frequência: Quantificar a frequência dos nomes dos funcionários para identificar nomes comuns.\n",
    "# Agrupar por 'Nome' e contar a frequência de cada nome\n",
    "df_name_frequency = df_cleaned.groupBy(\"Nome\").agg(count(\"Nome\").alias(\"Frequência\"))\n",
    "# Ordenar por frequência em ordem decrescente\n",
    "df_name_frequency = df_name_frequency.orderBy(col(\"Frequência\").desc())\n",
    "# Mostrar o resultado\n",
    "df_name_frequency.show()\n",
    "\n",
    "# Temos a frequência de nomes permanece em 1, pós não ser repetem."
   ]
  },
  {
   "cell_type": "code",
   "execution_count": 1487,
   "metadata": {},
   "outputs": [
    {
     "name": "stdout",
     "output_type": "stream",
     "text": [
      "+------------+----------------+----------------------+------+-----------------+\n",
      "|        Area|  Média Salarial|Desvio Padrão Salarial|    Q1|               Q3|\n",
      "+------------+----------------+----------------------+------+-----------------+\n",
      "|desconhecido|          5500.0|                  NULL|5500.0|           5500.0|\n",
      "|  financeiro|          5750.0|    479.58315233127195|5200.0|           6100.0|\n",
      "|   marketing|          5100.0|    424.26406871192853|4800.0|           5400.0|\n",
      "|          rh|4988.88888888889|     327.1651525407881|4800.0|5366.666666666667|\n",
      "+------------+----------------+----------------------+------+-----------------+\n",
      "\n",
      "+------------+-----------+-------------------+------------+------------+\n",
      "|        Area|Média Idade|Desvio Padrão Idade|Idade Mínima|Idade Máxima|\n",
      "+------------+-----------+-------------------+------------+------------+\n",
      "|desconhecido|       31.0|               NULL|        31.0|        31.0|\n",
      "|  financeiro|     29.625| 0.4330127018922194|        29.0|        30.0|\n",
      "|   marketing|       30.5|  4.949747468305833|        27.0|        34.0|\n",
      "|          rh|       29.0|                1.0|        28.0|        30.0|\n",
      "+------------+-----------+-------------------+------------+------------+\n",
      "\n"
     ]
    }
   ],
   "source": [
    "#12. Agrupamento de Departamentos: Analisar o impacto do departamento na variação salarial e na distribuição de idade.\n",
    "# Agrupar por 'Area' e calcular as estatísticas salariais\n",
    "df_salary_stats = df_cleaned.groupBy(\"Area\").agg(\n",
    "    avg(\"Salario\").alias(\"Média Salarial\"),\n",
    "    stddev(\"Salario\").alias(\"Desvio Padrão Salarial\"),\n",
    "    expr(\"percentile_approx(Salario, 0.25)\").alias(\"Q1\"),\n",
    "    expr(\"percentile_approx(Salario, 0.75)\").alias(\"Q3\"))\n",
    "\n",
    "df_salary_stats.show()\n",
    "\n",
    "# Agrupar por 'Area' e calcular as estatísticas da idade\n",
    "df_age_stats = df_cleaned.groupBy(\"Area\").agg(\n",
    "    mean(\"Idade\").alias(\"Média Idade\"),\n",
    "    stddev(\"Idade\").alias(\"Desvio Padrão Idade\"),\n",
    "    min(\"Idade\").alias(\"Idade Mínima\"),\n",
    "    max(\"Idade\").alias(\"Idade Máxima\"))\n",
    "\n",
    "df_age_stats.show()\n"
   ]
  },
  {
   "cell_type": "code",
   "execution_count": 1488,
   "metadata": {},
   "outputs": [
    {
     "name": "stdout",
     "output_type": "stream",
     "text": [
      "+------------+---+--------------+-----+-----------------+-------------------+-----------------+------+-----------------+----------------+------------------+-----------------+------------+-------------+--------------------------+------------------+-------------------+-------------------+\n",
      "|        Area| ID|          Nome|Idade|          Salario|Data de Contratação|Status de Emprego|    Q1|               Q3|             IQR|   Limite Inferior|  Limite Superior|Dias de Casa|Tempo de Casa|Categoria De Tempo de Casa|Ano de Contratação|Salario Normalizado|  Idade Normalizada|\n",
      "+------------+---+--------------+-----+-----------------+-------------------+-----------------+------+-----------------+----------------+------------------+-----------------+------------+-------------+--------------------------+------------------+-------------------+-------------------+\n",
      "|  financeiro|  1|    João Silva| 29.0|           5500.0|         2020-02-01|            ativo|5200.0|           6100.0|           900.0|            3850.0|           7450.0|        1671|            4|              04 - 06 anos|              2020|                0.5| 0.2857142857142857|\n",
      "|          rh|  2|   Maria Souza| 30.0|           4800.0|         2019-03-15|            ativo|4800.0|5366.666666666667|566.666666666667|3949.9999999999995|6216.666666666668|        1994|            5|              04 - 06 anos|              2019|                0.0|0.42857142857142855|\n",
      "|   marketing|  4|     Ana Clara| 27.0|           4800.0|         2018-06-12|            ativo|4800.0|           5400.0|           600.0|            3900.0|           6300.0|        2270|            6|              04 - 06 anos|              2018|                0.0|                0.0|\n",
      "|  financeiro|  8| Luciana Costa| 30.0|           5200.0|         2019-01-01|            ativo|5200.0|           6100.0|           900.0|            3850.0|           7450.0|        2067|            5|              04 - 06 anos|              2019| 0.2857142857142857|0.42857142857142855|\n",
      "|          rh| 10| Fernanda Dias| 29.0|           4800.0|         2024-08-29|            ativo|4800.0|5366.666666666667|566.666666666667|3949.9999999999995|6216.666666666668|           0|            0|              01 - 03 anos|              2024|                0.0| 0.2857142857142857|\n",
      "|   marketing|  7|    José Alves| 34.0|           5400.0|         2018-02-01|          inativo|4800.0|           5400.0|           600.0|            3900.0|           6300.0|        2401|            6|              04 - 06 anos|              2018|0.42857142857142855|                1.0|\n",
      "|  financeiro|  9| Paulo Ricardo|29.75|           6100.0|         2020-12-12|          inativo|5200.0|           6100.0|           900.0|            3850.0|           7450.0|        1356|            3|              01 - 03 anos|              2020| 0.9285714285714286|0.39285714285714285|\n",
      "|          rh|  6|   Sandra Lima| 28.0|5366.666666666667|         2020-05-05|            ativo|4800.0|5366.666666666667|566.666666666667|3949.9999999999995|6216.666666666668|        1577|            4|              04 - 06 anos|              2020|  0.404761904761905|0.14285714285714285|\n",
      "|  financeiro|  3|Carlos Pereira|29.75|           6200.0|         2020-04-01|            ativo|5200.0|           6100.0|           900.0|            3850.0|           7450.0|        1611|            4|              04 - 06 anos|              2020|                1.0|0.39285714285714285|\n",
      "|desconhecido|  5|  Fabio Santos| 31.0|           5500.0|         2017-11-20|            ativo|5500.0|           5500.0|             0.0|            5500.0|           5500.0|        2474|            6|              04 - 06 anos|              2017|                0.5| 0.5714285714285714|\n",
      "+------------+---+--------------+-----+-----------------+-------------------+-----------------+------+-----------------+----------------+------------------+-----------------+------------+-------------+--------------------------+------------------+-------------------+-------------------+\n",
      "\n",
      "+------------+---+--------------+-----+-----------------+-------------------+-----------------+------+-----------------+----------------+------------------+-----------------+------------+-------------+--------------------------+------------------+--------------------+--------------------+\n",
      "|        Area| ID|          Nome|Idade|          Salario|Data de Contratação|Status de Emprego|    Q1|               Q3|             IQR|   Limite Inferior|  Limite Superior|Dias de Casa|Tempo de Casa|Categoria De Tempo de Casa|Ano de Contratação| Salario Padronizado|   Idade Padronizada|\n",
      "+------------+---+--------------+-----+-----------------+-------------------+-----------------+------+-----------------+----------------+------------------+-----------------+------------+-------------+--------------------------+------------------+--------------------+--------------------+\n",
      "|  financeiro|  1|    João Silva| 29.0|           5500.0|         2020-02-01|            ativo|5200.0|           6100.0|           900.0|            3850.0|           7450.0|        1671|            4|              04 - 06 anos|              2020| 0.26607604209509683|-0.40089186286863665|\n",
      "|          rh|  2|   Maria Souza| 30.0|           4800.0|         2019-03-15|            ativo|4800.0|5366.666666666667|566.666666666667|3949.9999999999995|6216.666666666668|        1994|            5|              04 - 06 anos|              2019| -1.1308231789041552|  0.1336306209562122|\n",
      "|   marketing|  4|     Ana Clara| 27.0|           4800.0|         2018-06-12|            ativo|4800.0|           5400.0|           600.0|            3900.0|           6300.0|        2270|            6|              04 - 06 anos|              2018| -1.1308231789041552| -1.4699368305183342|\n",
      "|  financeiro|  8| Luciana Costa| 30.0|           5200.0|         2019-01-01|            ativo|5200.0|           6100.0|           900.0|            3850.0|           7450.0|        2067|            5|              04 - 06 anos|              2019| -0.3325950526188683|  0.1336306209562122|\n",
      "|          rh| 10| Fernanda Dias| 29.0|           4800.0|         2024-08-29|            ativo|4800.0|5366.666666666667|566.666666666667|3949.9999999999995|6216.666666666668|           0|            0|              01 - 03 anos|              2024| -1.1308231789041552|-0.40089186286863665|\n",
      "|   marketing|  7|    José Alves| 34.0|           5400.0|         2018-02-01|          inativo|4800.0|           5400.0|           600.0|            3900.0|           6300.0|        2401|            6|              04 - 06 anos|              2018| 0.06651901052377511|  2.2717205562556075|\n",
      "|  financeiro|  9| Paulo Ricardo|29.75|           6100.0|         2020-12-12|          inativo|5200.0|           6100.0|           900.0|            3850.0|           7450.0|        1356|            3|              01 - 03 anos|              2020|   1.463418231523027|                 0.0|\n",
      "|          rh|  6|   Sandra Lima| 28.0|5366.666666666667|         2020-05-05|            ativo|4800.0|5366.666666666667|566.666666666667|3949.9999999999995|6216.666666666668|        1577|            4|              04 - 06 anos|              2020|1.814960629156500...| -0.9354143466934854|\n",
      "|  financeiro|  3|Carlos Pereira|29.75|           6200.0|         2020-04-01|            ativo|5200.0|           6100.0|           900.0|            3850.0|           7450.0|        1611|            4|              04 - 06 anos|              2020|  1.6629752630943488|                 0.0|\n",
      "|desconhecido|  5|  Fabio Santos| 31.0|           5500.0|         2017-11-20|            ativo|5500.0|           5500.0|             0.0|            5500.0|           5500.0|        2474|            6|              04 - 06 anos|              2017| 0.26607604209509683|   0.668153104781061|\n",
      "+------------+---+--------------+-----+-----------------+-------------------+-----------------+------+-----------------+----------------+------------------+-----------------+------------+-------------+--------------------------+------------------+--------------------+--------------------+\n",
      "\n"
     ]
    }
   ],
   "source": [
    "#13. Normalização de Dados: Normalizar o salário e idade para comparações entre diferentes departamentos.\n",
    "# Calcular valores mínimo e máximo para normalização\n",
    "sal_min = df_cleaned.agg(min(\"Salario\")).collect()[0][0]\n",
    "sal_max = df_cleaned.agg(max(\"Salario\")).collect()[0][0]\n",
    "idade_min = df_cleaned.agg(min(\"Idade\")).collect()[0][0]\n",
    "idade_max = df_cleaned.agg(max(\"Idade\")).collect()[0][0]\n",
    "\n",
    "# Normalizar salário e idade\n",
    "df_normal = df_cleaned.withColumn(\"Salario Normalizado\",\n",
    "    (col(\"Salario\") - sal_min) / (sal_max - sal_min)).withColumn(\"Idade Normalizada\",\n",
    "    (col(\"Idade\") - idade_min) / (idade_max - idade_min))\n",
    "df_normal.show()\n",
    "\n",
    "# Calcular média e desvio padrão para padronização\n",
    "sal_mean = df_cleaned.agg(mean(\"Salario\")).collect()[0][0]\n",
    "sal_stddev = df_cleaned.agg(stddev(\"Salario\")).collect()[0][0]\n",
    "idade_mean = df_cleaned.agg(mean(\"Idade\")).collect()[0][0]\n",
    "idade_stddev = df_cleaned.agg(stddev(\"Idade\")).collect()[0][0]\n",
    "\n",
    "# Padronizar salário e idade\n",
    "df_stand = df_cleaned.withColumn(\"Salario Padronizado\",\n",
    "    (col(\"Salario\") - sal_mean) / sal_stddev).withColumn(\"Idade Padronizada\",\n",
    "    (col(\"Idade\") - idade_mean) / idade_stddev)\n",
    "\n",
    "df_stand.show()\n"
   ]
  },
  {
   "cell_type": "code",
   "execution_count": 1489,
   "metadata": {},
   "outputs": [
    {
     "name": "stdout",
     "output_type": "stream",
     "text": [
      "+------------+---+--------------+-----+-----------------+-------------------+-----------------+------+-----------------+----------------+------------------+-----------------+------------+-------------+--------------------------+------------------+---------+\n",
      "|        Area| ID|          Nome|Idade|          Salario|Data de Contratação|Status de Emprego|    Q1|               Q3|             IQR|   Limite Inferior|  Limite Superior|Dias de Casa|Tempo de Casa|Categoria De Tempo de Casa|Ano de Contratação|   Genero|\n",
      "+------------+---+--------------+-----+-----------------+-------------------+-----------------+------+-----------------+----------------+------------------+-----------------+------------+-------------+--------------------------+------------------+---------+\n",
      "|  financeiro|  1|    João Silva| 29.0|           5500.0|         2020-02-01|            ativo|5200.0|           6100.0|           900.0|            3850.0|           7450.0|        1671|            4|              04 - 06 anos|              2020|Masculino|\n",
      "|          rh|  2|   Maria Souza| 30.0|           4800.0|         2019-03-15|            ativo|4800.0|5366.666666666667|566.666666666667|3949.9999999999995|6216.666666666668|        1994|            5|              04 - 06 anos|              2019| Feminino|\n",
      "|   marketing|  4|     Ana Clara| 27.0|           4800.0|         2018-06-12|            ativo|4800.0|           5400.0|           600.0|            3900.0|           6300.0|        2270|            6|              04 - 06 anos|              2018| Feminino|\n",
      "|  financeiro|  8| Luciana Costa| 30.0|           5200.0|         2019-01-01|            ativo|5200.0|           6100.0|           900.0|            3850.0|           7450.0|        2067|            5|              04 - 06 anos|              2019| Feminino|\n",
      "|          rh| 10| Fernanda Dias| 29.0|           4800.0|         2024-08-29|            ativo|4800.0|5366.666666666667|566.666666666667|3949.9999999999995|6216.666666666668|           0|            0|              01 - 03 anos|              2024| Feminino|\n",
      "|   marketing|  7|    José Alves| 34.0|           5400.0|         2018-02-01|          inativo|4800.0|           5400.0|           600.0|            3900.0|           6300.0|        2401|            6|              04 - 06 anos|              2018|Masculino|\n",
      "|  financeiro|  9| Paulo Ricardo|29.75|           6100.0|         2020-12-12|          inativo|5200.0|           6100.0|           900.0|            3850.0|           7450.0|        1356|            3|              01 - 03 anos|              2020|Masculino|\n",
      "|          rh|  6|   Sandra Lima| 28.0|5366.666666666667|         2020-05-05|            ativo|4800.0|5366.666666666667|566.666666666667|3949.9999999999995|6216.666666666668|        1577|            4|              04 - 06 anos|              2020| Feminino|\n",
      "|  financeiro|  3|Carlos Pereira|29.75|           6200.0|         2020-04-01|            ativo|5200.0|           6100.0|           900.0|            3850.0|           7450.0|        1611|            4|              04 - 06 anos|              2020|Masculino|\n",
      "|desconhecido|  5|  Fabio Santos| 31.0|           5500.0|         2017-11-20|            ativo|5500.0|           5500.0|             0.0|            5500.0|           5500.0|        2474|            6|              04 - 06 anos|              2017|Masculino|\n",
      "+------------+---+--------------+-----+-----------------+-------------------+-----------------+------+-----------------+----------------+------------------+-----------------+------------+-------------+--------------------------+------------------+---------+\n",
      "\n",
      "+---------+----------+---------+\n",
      "|   Genero|Quantidade|Proporcao|\n",
      "+---------+----------+---------+\n",
      "| Feminino|         5|      0.5|\n",
      "|Masculino|         5|      0.5|\n",
      "+---------+----------+---------+\n",
      "\n"
     ]
    }
   ],
   "source": [
    "#14. Proporção de Gêneros: Analisar a proporção de gêneros entre os funcionários, caso houvesse uma coluna de gênero.\n",
    "df_cleaned = df_cleaned.withColumn(\"Genero\", when(col(\"ID\") % 2 == 0, \"Feminino\").otherwise(\"Masculino\"))\n",
    "df_cleaned.show()\n",
    "\n",
    "# Contar o número de funcionários por gênero\n",
    "contagem_genero = df_cleaned.groupBy(\"Genero\").agg(count(\"ID\").alias(\"Quantidade\"))\n",
    "# Calcular o total de funcionários\n",
    "total_funcionarios = df_cleaned.count()\n",
    "\n",
    "# Calcular a proporção de cada gênero\n",
    "proporcao_genero = contagem_genero.withColumn(\"Proporcao\", col(\"Quantidade\") / total_funcionarios)\n",
    "proporcao_genero.show() \n",
    "\n",
    "#Análise: proporção de homem e mulheres e de 50 % para ambos."
   ]
  },
  {
   "cell_type": "code",
   "execution_count": 1490,
   "metadata": {},
   "outputs": [
    {
     "name": "stdout",
     "output_type": "stream",
     "text": [
      "+------------+---+--------------+-----+-----------------+-------------------+-----------------+------+-----------------+----------------+------------------+-----------------+------------+-------------+--------------------------+------------------+---------+\n",
      "|        Area| ID|          Nome|Idade|          Salario|Data de Contratação|Status de Emprego|    Q1|               Q3|             IQR|   Limite Inferior|  Limite Superior|Dias de Casa|Tempo de Casa|Categoria De Tempo de Casa|Ano de Contratação|   Genero|\n",
      "+------------+---+--------------+-----+-----------------+-------------------+-----------------+------+-----------------+----------------+------------------+-----------------+------------+-------------+--------------------------+------------------+---------+\n",
      "|  financeiro|  1|    João Silva| 29.0|           5500.0|         2020-02-01|            ativo|5200.0|           6100.0|           900.0|            3850.0|           7450.0|        1671|            4|              04 - 06 anos|              2020|Masculino|\n",
      "|          rh|  2|   Maria Souza| 30.0|           4800.0|         2019-03-15|            ativo|4800.0|5366.666666666667|566.666666666667|3949.9999999999995|6216.666666666668|        1994|            5|              04 - 06 anos|              2019| Feminino|\n",
      "|   marketing|  4|     Ana Clara| 27.0|           4800.0|         2018-06-12|            ativo|4800.0|           5400.0|           600.0|            3900.0|           6300.0|        2270|            6|              04 - 06 anos|              2018| Feminino|\n",
      "|  financeiro|  8| Luciana Costa| 30.0|           5200.0|         2019-01-01|            ativo|5200.0|           6100.0|           900.0|            3850.0|           7450.0|        2067|            5|              04 - 06 anos|              2019| Feminino|\n",
      "|          rh| 10| Fernanda Dias| 29.0|           4800.0|         2024-08-29|            ativo|4800.0|5366.666666666667|566.666666666667|3949.9999999999995|6216.666666666668|           0|            0|              01 - 03 anos|              2024| Feminino|\n",
      "|   marketing|  7|    José Alves| 34.0|           5400.0|         2018-02-01|          inativo|4800.0|           5400.0|           600.0|            3900.0|           6300.0|        2401|            6|              04 - 06 anos|              2018|Masculino|\n",
      "|  financeiro|  9| Paulo Ricardo|29.75|           6100.0|         2020-12-12|          inativo|5200.0|           6100.0|           900.0|            3850.0|           7450.0|        1356|            3|              01 - 03 anos|              2020|Masculino|\n",
      "|          rh|  6|   Sandra Lima| 28.0|5366.666666666667|         2020-05-05|            ativo|4800.0|5366.666666666667|566.666666666667|3949.9999999999995|6216.666666666668|        1577|            4|              04 - 06 anos|              2020| Feminino|\n",
      "|  financeiro|  3|Carlos Pereira|29.75|           6200.0|         2020-04-01|            ativo|5200.0|           6100.0|           900.0|            3850.0|           7450.0|        1611|            4|              04 - 06 anos|              2020|Masculino|\n",
      "|desconhecido|  5|  Fabio Santos| 31.0|           5500.0|         2017-11-20|            ativo|5500.0|           5500.0|             0.0|            5500.0|           5500.0|        2474|            6|              04 - 06 anos|              2017|Masculino|\n",
      "+------------+---+--------------+-----+-----------------+-------------------+-----------------+------+-----------------+----------------+------------------+-----------------+------------+-------------+--------------------------+------------------+---------+\n",
      "\n"
     ]
    }
   ],
   "source": [
    "#15. Correção de Formato de Data: Uniformizar o formato das datas de contratação.\n",
    "## resolvido na limpeza e organização do df_cleaned\n",
    "\n",
    "df_cleaned.show()"
   ]
  },
  {
   "cell_type": "code",
   "execution_count": 1491,
   "metadata": {},
   "outputs": [
    {
     "name": "stdout",
     "output_type": "stream",
     "text": [
      "+-----------------+-----------------+\n",
      "|Status de Emprego|    Salario Medio|\n",
      "+-----------------+-----------------+\n",
      "|            ativo|5270.833333333334|\n",
      "|          inativo|           5750.0|\n",
      "+-----------------+-----------------+\n",
      "\n"
     ]
    }
   ],
   "source": [
    "#16. Impacto de Status no Salário: Comparar salários médios entre funcionários ativos e não ativos.\n",
    "# Calcular a média de salário por status de emprego\n",
    "resultado = df_cleaned.groupBy(\"Status de Emprego\").agg(avg(\"Salario\").alias(\"Salario Medio\"))\n",
    "resultado.show()"
   ]
  },
  {
   "cell_type": "code",
   "execution_count": 1492,
   "metadata": {},
   "outputs": [
    {
     "name": "stdout",
     "output_type": "stream",
     "text": [
      "+-----+-------------------+--------------------+-----------------+\n",
      "|Idade|Data de Contratação|Idade na Contratação|Ano de Nascimento|\n",
      "+-----+-------------------+--------------------+-----------------+\n",
      "| 29.0|         2020-02-01|                25.0|           1995.0|\n",
      "| 30.0|         2019-03-15|                25.0|           1994.0|\n",
      "| 27.0|         2018-06-12|                21.0|           1997.0|\n",
      "| 30.0|         2019-01-01|                25.0|           1994.0|\n",
      "| 29.0|         2024-08-29|                29.0|           1995.0|\n",
      "| 34.0|         2018-02-01|                28.0|           1990.0|\n",
      "|29.75|         2020-12-12|               25.75|          1994.25|\n",
      "| 28.0|         2020-05-05|                24.0|           1996.0|\n",
      "|29.75|         2020-04-01|               25.75|          1994.25|\n",
      "| 31.0|         2017-11-20|                24.0|           1993.0|\n",
      "+-----+-------------------+--------------------+-----------------+\n",
      "\n"
     ]
    }
   ],
   "source": [
    "#17. Data de Contratação e Demografia: Relacionar a data de contratação com a idade dos funcionários na época da contratação.\n",
    "# Obter o ano atual\n",
    "ano_atual = 2024  # Atualize este valor para o ano atual\n",
    "\n",
    "# Calcular o ano de nascimento\n",
    "df_classificado = df_cleaned.withColumn(\"Ano de Nascimento\", ano_atual - col(\"Idade\"))\n",
    "\n",
    "# Calcular a idade na contratação\n",
    "df_classificado = df_classificado.withColumn(\"Idade na Contratação\", \n",
    "                                             col(\"Idade\") - (ano_atual - year(col(\"Data de Contratação\"))))\n",
    "\n",
    "# Exibir o DataFrame com as novas colunas\n",
    "df_classificado.select(\"Idade\", \"Data de Contratação\", \"Idade na Contratação\", \"Ano de Nascimento\").show()\n",
    "\n",
    "#Análise: Os funcionarios maioria foram contratados na facha etária de seus 25 anos. "
   ]
  },
  {
   "cell_type": "code",
   "execution_count": 1493,
   "metadata": {},
   "outputs": [
    {
     "name": "stdout",
     "output_type": "stream",
     "text": [
      "+-----------------+-----+\n",
      "|Status de Emprego|count|\n",
      "+-----------------+-----+\n",
      "|            ativo|    8|\n",
      "|          inativo|    2|\n",
      "+-----------------+-----+\n",
      "\n",
      "+-----------------+-----+-------------+\n",
      "|Status de Emprego|count|Proporção (%)|\n",
      "+-----------------+-----+-------------+\n",
      "|            ativo|    8|         80.0|\n",
      "|          inativo|    2|         20.0|\n",
      "+-----------------+-----+-------------+\n",
      "\n"
     ]
    }
   ],
   "source": [
    "#18. Distribuição de Status de Emprego: Analisar a distribuição do status de emprego (ativo vs. não ativo).\n",
    "# Contando o número de empregados em cada status\n",
    "status_distribution = df_cleaned.groupBy(\"Status de Emprego\").count()\n",
    "status_distribution.show()\n",
    "\n",
    "# Calculando a proporção relativa\n",
    "total_count = df_cleaned.count()\n",
    "status_proportion = status_distribution.withColumn(\"Proporção (%)\",(col(\"count\") / total_count) * 100)\n",
    "status_proportion.show()\n",
    "\n",
    "#Análise: No DataFrame conta uma distribuição de 20% inativos e 80% ativos."
   ]
  },
  {
   "cell_type": "code",
   "execution_count": 1494,
   "metadata": {},
   "outputs": [
    {
     "name": "stdout",
     "output_type": "stream",
     "text": [
      "+------------------+-----+--------------------+\n",
      "|Ano de Contratação|Idade|Idade na Contratação|\n",
      "+------------------+-----+--------------------+\n",
      "|              2020| 29.0|                25.0|\n",
      "|              2019| 30.0|                25.0|\n",
      "|              2018| 27.0|                21.0|\n",
      "|              2019| 30.0|                25.0|\n",
      "|              2024| 29.0|                29.0|\n",
      "|              2018| 34.0|                28.0|\n",
      "|              2020|29.75|               25.75|\n",
      "|              2020| 28.0|                24.0|\n",
      "|              2020|29.75|               25.75|\n",
      "|              2017| 31.0|                24.0|\n",
      "+------------------+-----+--------------------+\n",
      "\n"
     ]
    }
   ],
   "source": [
    "#19. Criação de Coluna de Idade de Contratação: Criar uma coluna que calcule a idade do funcionário na época da contratação e analisar os dados.\n",
    "# Supondo que 'Data de Contratação' já esteja no formato DATE\n",
    "df_cleaned = df_cleaned.withColumn(\"Ano de Contratação\", year(col(\"Data de Contratação\")))\n",
    "\n",
    "# Agora, você pode calcular a idade na contratação de forma segura\n",
    "df_cleaned = df_cleaned.withColumn(\"Idade na Contratação\", col(\"Idade\") - (year(current_date()) - col(\"Ano de Contratação\")))\n",
    "df_cleaned.select(\"Ano de Contratação\",\"Idade\",\"Idade na Contratação\").show()\n",
    "\n",
    "#Análise: Os funcionarios maioria foram contratados na facha etária de seus 25 anos. "
   ]
  },
  {
   "cell_type": "code",
   "execution_count": 1495,
   "metadata": {},
   "outputs": [
    {
     "name": "stdout",
     "output_type": "stream",
     "text": [
      "+---+------------+--------------+-------------------+-----------------+-------------+\n",
      "| ID|        Area|          Nome|Data de Contratação|          Salario|Tempo de Casa|\n",
      "+---+------------+--------------+-------------------+-----------------+-------------+\n",
      "|  5|desconhecido|  Fabio Santos|         2017-11-20|           5500.0|            6|\n",
      "|  7|   marketing|    José Alves|         2018-02-01|           5400.0|            6|\n",
      "|  4|   marketing|     Ana Clara|         2018-06-12|           4800.0|            6|\n",
      "|  8|  financeiro| Luciana Costa|         2019-01-01|           5200.0|            5|\n",
      "|  2|          rh|   Maria Souza|         2019-03-15|           4800.0|            5|\n",
      "|  3|  financeiro|Carlos Pereira|         2020-04-01|           6200.0|            4|\n",
      "|  1|  financeiro|    João Silva|         2020-02-01|           5500.0|            4|\n",
      "|  6|          rh|   Sandra Lima|         2020-05-05|5366.666666666667|            4|\n",
      "|  9|  financeiro| Paulo Ricardo|         2020-12-12|           6100.0|            3|\n",
      "| 10|          rh| Fernanda Dias|         2024-08-29|           4800.0|            0|\n",
      "+---+------------+--------------+-------------------+-----------------+-------------+\n",
      "\n",
      "+---+----+-------+---------------+---------------+\n",
      "| ID|Nome|Salario|Limite Inferior|Limite Superior|\n",
      "+---+----+-------+---------------+---------------+\n",
      "+---+----+-------+---------------+---------------+\n",
      "\n",
      "+---+-------------+-------------------+-------+\n",
      "| ID|         Nome|Data de Contratação|Salario|\n",
      "+---+-------------+-------------------+-------+\n",
      "| 10|Fernanda Dias|         2024-08-29| 4800.0|\n",
      "+---+-------------+-------------------+-------+\n",
      "\n"
     ]
    }
   ],
   "source": [
    "# 20. Análise de Promoções: Analisar possíveis promoções dentro da empresa ao comparar datas de contratação e aumentos salariais, se houvesse uma coluna histórica de salários.\n",
    "# Classificar funcionários por Tempo de Casa e Salário\n",
    "df_ordenado = df_cleaned.orderBy(col(\"Tempo de Casa\").desc(), col(\"Salario\").desc())\n",
    "df_ordenado.select(\"ID\",\"Area\", \"Nome\", \"Data de Contratação\", \"Salario\", \"Tempo de Casa\").show()\n",
    "\n",
    "# Verificar salários fora do intervalo interquartil\n",
    "df_outliers = df_cleaned.filter(\n",
    "    (col(\"Salario\") < col(\"Limite Inferior\")) | (col(\"Salario\") > col(\"Limite Superior\"))\n",
    ")\n",
    "df_outliers.select(\"ID\", \"Nome\", \"Salario\", \"Limite Inferior\", \"Limite Superior\").show()\n",
    "\n",
    "# Filtrar novos funcionários\n",
    "df_novos_funcionarios = df_cleaned.filter(col(\"Tempo de Casa\") < 1)\n",
    "df_novos_funcionarios.select(\"ID\", \"Nome\", \"Data de Contratação\", \"Salario\").show()\n",
    "\n",
    "# Análise: não temos um histórico de salário, mas, podemos ver que o temos 3 funcionários com 6 anos na empresa onde 2 deles são do setor de Marketing e podemos avaliar o rendimento da Ana Clara para saber se há possibilidade de aumento, assim como a Fernanda Dias ainda não possui tempo de empresa que justifique um aumento. "
   ]
  },
  {
   "cell_type": "code",
   "execution_count": 1496,
   "metadata": {},
   "outputs": [
    {
     "name": "stdout",
     "output_type": "stream",
     "text": [
      "+------------------+\n",
      "|         anos_casa|\n",
      "+------------------+\n",
      "| 4.578082191780822|\n",
      "| 5.463013698630137|\n",
      "| 6.219178082191781|\n",
      "| 5.663013698630137|\n",
      "|               0.0|\n",
      "| 6.578082191780822|\n",
      "|3.7150684931506848|\n",
      "|  4.32054794520548|\n",
      "| 4.413698630136986|\n",
      "| 6.778082191780822|\n",
      "+------------------+\n",
      "\n",
      "Correlação entre tempo de casa e salário: 0.06441280360790311\n"
     ]
    }
   ],
   "source": [
    "#21. Análise de Desempenho Temporal: Verificar se o tempo de casa influencia o salário ou a permanência no emprego.\n",
    "# Criação da coluna 'anos_casa' (tempo de casa em anos)\n",
    "df_cleaned = df_cleaned.withColumn(\"anos_casa\", F.datediff(F.current_date(), F.col(\"Data de Contratação\")) / 365)\n",
    "\n",
    "# Confirme a criação da coluna 'anos_casa'\n",
    "df_cleaned.select(\"anos_casa\").show()\n",
    "\n",
    "# Calcular a correlação entre tempo de casa e salário\n",
    "correlacao = df_cleaned.stat.corr(\"anos_casa\", \"Salario\")\n",
    "print(f\"Correlação entre tempo de casa e salário: {correlacao}\")"
   ]
  },
  {
   "cell_type": "code",
   "execution_count": 1497,
   "metadata": {},
   "outputs": [
    {
     "name": "stdout",
     "output_type": "stream",
     "text": [
      "+------------+---+------------+-----+-------+-------------------+-----------------+------+------+-----+---------------+---------------+------------+-------------+--------------------------+------------------+---------+--------------------+-----------------+\n",
      "|        Area| ID|        Nome|Idade|Salario|Data de Contratação|Status de Emprego|    Q1|    Q3|  IQR|Limite Inferior|Limite Superior|Dias de Casa|Tempo de Casa|Categoria De Tempo de Casa|Ano de Contratação|   Genero|Idade na Contratação|        anos_casa|\n",
      "+------------+---+------------+-----+-------+-------------------+-----------------+------+------+-----+---------------+---------------+------------+-------------+--------------------------+------------------+---------+--------------------+-----------------+\n",
      "|   marketing|  4|   Ana Clara| 27.0| 4800.0|         2018-06-12|            ativo|4800.0|5400.0|600.0|         3900.0|         6300.0|        2270|            6|              04 - 06 anos|              2018| Feminino|                21.0|6.219178082191781|\n",
      "|   marketing|  7|  José Alves| 34.0| 5400.0|         2018-02-01|          inativo|4800.0|5400.0|600.0|         3900.0|         6300.0|        2401|            6|              04 - 06 anos|              2018|Masculino|                28.0|6.578082191780822|\n",
      "|desconhecido|  5|Fabio Santos| 31.0| 5500.0|         2017-11-20|            ativo|5500.0|5500.0|  0.0|         5500.0|         5500.0|        2474|            6|              04 - 06 anos|              2017|Masculino|                24.0|6.778082191780822|\n",
      "+------------+---+------------+-----+-------+-------------------+-----------------+------+------+-----+---------------+---------------+------------+-------------+--------------------------+------------------+---------+--------------------+-----------------+\n",
      "\n",
      "+----------+---+--------------+-----+-----------------+-------------------+-----------------+------+-----------------+----------------+------------------+-----------------+------------+-------------+--------------------------+------------------+---------+--------------------+------------------+\n",
      "|      Area| ID|          Nome|Idade|          Salario|Data de Contratação|Status de Emprego|    Q1|               Q3|             IQR|   Limite Inferior|  Limite Superior|Dias de Casa|Tempo de Casa|Categoria De Tempo de Casa|Ano de Contratação|   Genero|Idade na Contratação|         anos_casa|\n",
      "+----------+---+--------------+-----+-----------------+-------------------+-----------------+------+-----------------+----------------+------------------+-----------------+------------+-------------+--------------------------+------------------+---------+--------------------+------------------+\n",
      "|financeiro|  1|    João Silva| 29.0|           5500.0|         2020-02-01|            ativo|5200.0|           6100.0|           900.0|            3850.0|           7450.0|        1671|            4|              04 - 06 anos|              2020|Masculino|                25.0| 4.578082191780822|\n",
      "|        rh|  2|   Maria Souza| 30.0|           4800.0|         2019-03-15|            ativo|4800.0|5366.666666666667|566.666666666667|3949.9999999999995|6216.666666666668|        1994|            5|              04 - 06 anos|              2019| Feminino|                25.0| 5.463013698630137|\n",
      "|financeiro|  8| Luciana Costa| 30.0|           5200.0|         2019-01-01|            ativo|5200.0|           6100.0|           900.0|            3850.0|           7450.0|        2067|            5|              04 - 06 anos|              2019| Feminino|                25.0| 5.663013698630137|\n",
      "|financeiro|  9| Paulo Ricardo|29.75|           6100.0|         2020-12-12|          inativo|5200.0|           6100.0|           900.0|            3850.0|           7450.0|        1356|            3|              01 - 03 anos|              2020|Masculino|               25.75|3.7150684931506848|\n",
      "|        rh|  6|   Sandra Lima| 28.0|5366.666666666667|         2020-05-05|            ativo|4800.0|5366.666666666667|566.666666666667|3949.9999999999995|6216.666666666668|        1577|            4|              04 - 06 anos|              2020| Feminino|                24.0|  4.32054794520548|\n",
      "|financeiro|  3|Carlos Pereira|29.75|           6200.0|         2020-04-01|            ativo|5200.0|           6100.0|           900.0|            3850.0|           7450.0|        1611|            4|              04 - 06 anos|              2020|Masculino|               25.75| 4.413698630136986|\n",
      "+----------+---+--------------+-----+-----------------+-------------------+-----------------+------+-----------------+----------------+------------------+-----------------+------------+-------------+--------------------------+------------------+---------+--------------------+------------------+\n",
      "\n",
      "+----+---+-------------+-----+-------+-------------------+-----------------+------+-----------------+----------------+------------------+-----------------+------------+-------------+--------------------------+------------------+--------+--------------------+---------+\n",
      "|Area| ID|         Nome|Idade|Salario|Data de Contratação|Status de Emprego|    Q1|               Q3|             IQR|   Limite Inferior|  Limite Superior|Dias de Casa|Tempo de Casa|Categoria De Tempo de Casa|Ano de Contratação|  Genero|Idade na Contratação|anos_casa|\n",
      "+----+---+-------------+-----+-------+-------------------+-----------------+------+-----------------+----------------+------------------+-----------------+------------+-------------+--------------------------+------------------+--------+--------------------+---------+\n",
      "|  rh| 10|Fernanda Dias| 29.0| 4800.0|         2024-08-29|            ativo|4800.0|5366.666666666667|566.666666666667|3949.9999999999995|6216.666666666668|           0|            0|              01 - 03 anos|              2024|Feminino|                29.0|      0.0|\n",
      "+----+---+-------------+-----+-------+-------------------+-----------------+------+-----------------+----------------+------------------+-----------------+------------+-------------+--------------------------+------------------+--------+--------------------+---------+\n",
      "\n"
     ]
    }
   ],
   "source": [
    "#22. Filtragem por Data de Contratação: Identificar funcionários contratados em períodos específicos (e.g., antes de 2019, entre 2019-2020).\n",
    "from pyspark.sql import functions as F\n",
    "# Adicionando a coluna 'anos_casa'\n",
    "df_cleaned = df_cleaned.withColumn(\n",
    "    \"anos_casa\",\n",
    "    datediff(current_date(), F.col(\"Data de Contratação\")) / 365\n",
    ")\n",
    "\n",
    "# Data limite\n",
    "data_limite = '2019-01-01'\n",
    "\n",
    "# Filtrar funcionários contratados antes de 2019\n",
    "df_antes_2019 = df_cleaned.filter(F.col(\"Data de Contratação\") < data_limite)\n",
    "df_antes_2019.show()\n",
    "\n",
    "# Datas limites\n",
    "data_inicio = '2019-01-01'\n",
    "data_fim = '2020-12-31'\n",
    "\n",
    "# Filtrar funcionários contratados entre 2019 e 2020\n",
    "df_entre_2019_2020 = df_cleaned.filter((F.col(\"Data de Contratação\") >= data_inicio) & (F.col(\"Data de Contratação\") <= data_fim))\n",
    "df_entre_2019_2020.show()\n",
    "\n",
    "# Data limite\n",
    "data_limite = '2020-12-31'\n",
    "\n",
    "# Filtrar funcionários contratados após 2020\n",
    "df_depois_2020 = df_cleaned.filter(F.col(\"Data de Contratação\") > data_limite)\n",
    "df_depois_2020.show()"
   ]
  },
  {
   "cell_type": "code",
   "execution_count": 1498,
   "metadata": {},
   "outputs": [
    {
     "name": "stdout",
     "output_type": "stream",
     "text": [
      "+------------+---+--------------+-----+-----------------+-------------------+-----------------+------+-----------------+----------------+------------------+-----------------+------------+-------------+--------------------------+------------------+---------+--------------------+------------------+\n",
      "|        Area| ID|          Nome|Idade|          Salario|Data de Contratação|Status de Emprego|    Q1|               Q3|             IQR|   Limite Inferior|  Limite Superior|Dias de Casa|Tempo de Casa|Categoria De Tempo de Casa|Ano de Contratação|   Genero|Idade na Contratação|         anos_casa|\n",
      "+------------+---+--------------+-----+-----------------+-------------------+-----------------+------+-----------------+----------------+------------------+-----------------+------------+-------------+--------------------------+------------------+---------+--------------------+------------------+\n",
      "|  financeiro|  1|    João Silva| 29.0|           5500.0|         2020-02-01|            ativo|5200.0|           6100.0|           900.0|            3850.0|           7450.0|        1671|            4|              04 - 06 anos|              2020|Masculino|                25.0| 4.578082191780822|\n",
      "|          rh|  2|   Maria Souza| 30.0|           4800.0|         2019-03-15|            ativo|4800.0|5366.666666666667|566.666666666667|3949.9999999999995|6216.666666666668|        1994|            5|              04 - 06 anos|              2019| Feminino|                25.0| 5.463013698630137|\n",
      "|   marketing|  4|     Ana Clara| 27.0|           4800.0|         2018-06-12|            ativo|4800.0|           5400.0|           600.0|            3900.0|           6300.0|        2270|            6|              04 - 06 anos|              2018| Feminino|                21.0| 6.219178082191781|\n",
      "|  financeiro|  8| Luciana Costa| 30.0|           5200.0|         2019-01-01|            ativo|5200.0|           6100.0|           900.0|            3850.0|           7450.0|        2067|            5|              04 - 06 anos|              2019| Feminino|                25.0| 5.663013698630137|\n",
      "|          rh| 10| Fernanda Dias| 29.0|           4800.0|         2024-08-29|            ativo|4800.0|5366.666666666667|566.666666666667|3949.9999999999995|6216.666666666668|           0|            0|              01 - 03 anos|              2024| Feminino|                29.0|               0.0|\n",
      "|   marketing|  7|    José Alves| 34.0|           5400.0|         2018-02-01|          inativo|4800.0|           5400.0|           600.0|            3900.0|           6300.0|        2401|            6|              04 - 06 anos|              2018|Masculino|                28.0| 6.578082191780822|\n",
      "|  financeiro|  9| Paulo Ricardo|29.75|           6100.0|         2020-12-12|          inativo|5200.0|           6100.0|           900.0|            3850.0|           7450.0|        1356|            3|              01 - 03 anos|              2020|Masculino|               25.75|3.7150684931506848|\n",
      "|          rh|  6|   Sandra Lima| 28.0|5366.666666666667|         2020-05-05|            ativo|4800.0|5366.666666666667|566.666666666667|3949.9999999999995|6216.666666666668|        1577|            4|              04 - 06 anos|              2020| Feminino|                24.0|  4.32054794520548|\n",
      "|  financeiro|  3|Carlos Pereira|29.75|           6200.0|         2020-04-01|            ativo|5200.0|           6100.0|           900.0|            3850.0|           7450.0|        1611|            4|              04 - 06 anos|              2020|Masculino|               25.75| 4.413698630136986|\n",
      "|desconhecido|  5|  Fabio Santos| 31.0|           5500.0|         2017-11-20|            ativo|5500.0|           5500.0|             0.0|            5500.0|           5500.0|        2474|            6|              04 - 06 anos|              2017|Masculino|                24.0| 6.778082191780822|\n",
      "+------------+---+--------------+-----+-----------------+-------------------+-----------------+------+-----------------+----------------+------------------+-----------------+------------+-------------+--------------------------+------------------+---------+--------------------+------------------+\n",
      "\n",
      "+-----------------+------------------+--------------------------+---------------------------+---------------------------+\n",
      "|Status de Emprego|Total Funcionários|Média Tempo de Casa (anos)|Mínimo Tempo de Casa (anos)|Máximo Tempo de Casa (anos)|\n",
      "+-----------------+------------------+--------------------------+---------------------------+---------------------------+\n",
      "|            ativo|                 8|          4.67945205479452|                        0.0|          6.778082191780822|\n",
      "|          inativo|                 2|         5.146575342465753|         3.7150684931506848|          6.578082191780822|\n",
      "+-----------------+------------------+--------------------------+---------------------------+---------------------------+\n",
      "\n"
     ]
    }
   ],
   "source": [
    "#23. Análise de Status de Emprego e Tempo de Casa: Verificar a relação entre tempo de casa e status de emprego (ativo vs. não ativo).\n",
    "from pyspark.sql import functions as F\n",
    "\n",
    "# Adicionar a coluna 'anos_casa' (tempo de casa em anos)\n",
    "df_cleaned = df_cleaned.withColumn(\"anos_casa\",datediff(current_date(), F.col(\"Data de Contratação\")) / 365)\n",
    "df_cleaned.show()\n",
    "\n",
    "# Agrupar por 'Status de Emprego' e calcular estatísticas de 'anos_casa'\n",
    "df_status_analise = df_cleaned.groupBy(\"Status de Emprego\").agg(\n",
    "    F.count(\"ID\").alias(\"Total Funcionários\"),\n",
    "    F.avg(\"anos_casa\").alias(\"Média Tempo de Casa (anos)\"),\n",
    "    F.min(\"anos_casa\").alias(\"Mínimo Tempo de Casa (anos)\"),\n",
    "    F.max(\"anos_casa\").alias(\"Máximo Tempo de Casa (anos)\"))\n",
    "df_status_analise.show()\n"
   ]
  },
  {
   "cell_type": "code",
   "execution_count": 1499,
   "metadata": {},
   "outputs": [
    {
     "name": "stdout",
     "output_type": "stream",
     "text": [
      "+------------+---+------------+-----+-------+-------------------+-----------------+------+------+---+---------------+---------------+------------+-------------+--------------------------+------------------+---------+--------------------+-----------------+\n",
      "|        Area| ID|        Nome|Idade|Salario|Data de Contratação|Status de Emprego|    Q1|    Q3|IQR|Limite Inferior|Limite Superior|Dias de Casa|Tempo de Casa|Categoria De Tempo de Casa|Ano de Contratação|   Genero|Idade na Contratação|        anos_casa|\n",
      "+------------+---+------------+-----+-------+-------------------+-----------------+------+------+---+---------------+---------------+------------+-------------+--------------------------+------------------+---------+--------------------+-----------------+\n",
      "|desconhecido|  5|Fabio Santos| 31.0| 5500.0|         2017-11-20|            ativo|5500.0|5500.0|0.0|         5500.0|         5500.0|        2474|            6|              04 - 06 anos|              2017|Masculino|                24.0|6.778082191780822|\n",
      "+------------+---+------------+-----+-------+-------------------+-----------------+------+------+---+---------------+---------------+------------+-------------+--------------------------+------------------+---------+--------------------+-----------------+\n",
      "\n",
      "+------------+---+--------------+-----+-----------------+-------------------+-----------------+------+-----------------+----------------+------------------+-----------------+------------+-------------+--------------------------+------------------+---------+--------------------+------------------+----------------+------------------+\n",
      "|        Area| ID|          Nome|Idade|          Salario|Data de Contratação|Status de Emprego|    Q1|               Q3|             IQR|   Limite Inferior|  Limite Superior|Dias de Casa|Tempo de Casa|Categoria De Tempo de Casa|Ano de Contratação|   Genero|Idade na Contratação|         anos_casa|Salario Anterior|Diferença Salarial|\n",
      "+------------+---+--------------+-----+-----------------+-------------------+-----------------+------+-----------------+----------------+------------------+-----------------+------------+-------------+--------------------------+------------------+---------+--------------------+------------------+----------------+------------------+\n",
      "|  financeiro|  1|    João Silva| 29.0|           5500.0|         2020-02-01|            ativo|5200.0|           6100.0|           900.0|            3850.0|           7450.0|        1671|            4|              04 - 06 anos|              2020|Masculino|                25.0| 4.578082191780822|            NULL|              NULL|\n",
      "|          rh|  2|   Maria Souza| 30.0|           4800.0|         2019-03-15|            ativo|4800.0|5366.666666666667|566.666666666667|3949.9999999999995|6216.666666666668|        1994|            5|              04 - 06 anos|              2019| Feminino|                25.0| 5.463013698630137|            NULL|              NULL|\n",
      "|  financeiro|  3|Carlos Pereira|29.75|           6200.0|         2020-04-01|            ativo|5200.0|           6100.0|           900.0|            3850.0|           7450.0|        1611|            4|              04 - 06 anos|              2020|Masculino|               25.75| 4.413698630136986|            NULL|              NULL|\n",
      "|   marketing|  4|     Ana Clara| 27.0|           4800.0|         2018-06-12|            ativo|4800.0|           5400.0|           600.0|            3900.0|           6300.0|        2270|            6|              04 - 06 anos|              2018| Feminino|                21.0| 6.219178082191781|            NULL|              NULL|\n",
      "|desconhecido|  5|  Fabio Santos| 31.0|           5500.0|         2017-11-20|            ativo|5500.0|           5500.0|             0.0|            5500.0|           5500.0|        2474|            6|              04 - 06 anos|              2017|Masculino|                24.0| 6.778082191780822|            NULL|              NULL|\n",
      "|          rh|  6|   Sandra Lima| 28.0|5366.666666666667|         2020-05-05|            ativo|4800.0|5366.666666666667|566.666666666667|3949.9999999999995|6216.666666666668|        1577|            4|              04 - 06 anos|              2020| Feminino|                24.0|  4.32054794520548|            NULL|              NULL|\n",
      "|   marketing|  7|    José Alves| 34.0|           5400.0|         2018-02-01|          inativo|4800.0|           5400.0|           600.0|            3900.0|           6300.0|        2401|            6|              04 - 06 anos|              2018|Masculino|                28.0| 6.578082191780822|            NULL|              NULL|\n",
      "|  financeiro|  8| Luciana Costa| 30.0|           5200.0|         2019-01-01|            ativo|5200.0|           6100.0|           900.0|            3850.0|           7450.0|        2067|            5|              04 - 06 anos|              2019| Feminino|                25.0| 5.663013698630137|            NULL|              NULL|\n",
      "|  financeiro|  9| Paulo Ricardo|29.75|           6100.0|         2020-12-12|          inativo|5200.0|           6100.0|           900.0|            3850.0|           7450.0|        1356|            3|              01 - 03 anos|              2020|Masculino|               25.75|3.7150684931506848|            NULL|              NULL|\n",
      "|          rh| 10| Fernanda Dias| 29.0|           4800.0|         2024-08-29|            ativo|4800.0|5366.666666666667|566.666666666667|3949.9999999999995|6216.666666666668|           0|            0|              01 - 03 anos|              2024| Feminino|                29.0|               0.0|            NULL|              NULL|\n",
      "+------------+---+--------------+-----+-----------------+-------------------+-----------------+------+-----------------+----------------+------------------+-----------------+------------+-------------+--------------------------+------------------+---------+--------------------+------------------+----------------+------------------+\n",
      "\n"
     ]
    }
   ],
   "source": [
    "#24. Identificação de Funcionários Veteranos: Encontrar os funcionários com maior tempo de casa e analisar seu impacto na empresa.\n",
    "# Adicionar a coluna 'anos_casa' (tempo de casa em anos), se ainda não tiver sido adicionado\n",
    "df_cleaned = df_cleaned.withColumn(\"anos_casa\",F.datediff(F.current_date(), F.col(\"Data de Contratação\")) / 365)\n",
    "\n",
    "# Encontrar o máximo tempo de casa\n",
    "max_tempo_casa = df_cleaned.agg(F.max(\"anos_casa\").alias(\"max_tempo_casa\")).collect()[0][\"max_tempo_casa\"]\n",
    "\n",
    "# Filtrar funcionários com o maior tempo de casa\n",
    "df_veteranos = df_cleaned.filter(F.col(\"anos_casa\") == max_tempo_casa)\n",
    "df_veteranos.show()\n",
    "\n",
    "\n",
    "# Ordene o DataFrame por ID e Data de Contratação\n",
    "windowSpec = Window.partitionBy(\"ID\").orderBy(\"Data de Contratação\")\n",
    "\n",
    "# Crie uma nova coluna para o salário anterior\n",
    "df_cleaned = df_cleaned.withColumn(\"Salario Anterior\", lag(\"Salario\").over(windowSpec))\n",
    "\n",
    "# Calcule a diferença salarial\n",
    "df_cleaned = df_cleaned.withColumn(\"Diferença Salarial\", col(\"Salario\") - col(\"Salario Anterior\"))\n",
    "df_cleaned.show()\n"
   ]
  },
  {
   "cell_type": "code",
   "execution_count": 1500,
   "metadata": {},
   "outputs": [
    {
     "name": "stdout",
     "output_type": "stream",
     "text": [
      "+------------+---+--------------+-----+-----------------+-------------------+-----------------+------+-----------------+----------------+------------------+-----------------+------------+-------------+--------------------------+------------------+---------+--------------------+------------------+----------------+------------------+------------------+\n",
      "|        Area| ID|          Nome|Idade|          Salario|Data de Contratação|Status de Emprego|    Q1|               Q3|             IQR|   Limite Inferior|  Limite Superior|Dias de Casa|Tempo de Casa|Categoria De Tempo de Casa|Ano de Contratação|   Genero|Idade na Contratação|         anos_casa|Salario Anterior|Diferença Salarial|Mês de Contratação|\n",
      "+------------+---+--------------+-----+-----------------+-------------------+-----------------+------+-----------------+----------------+------------------+-----------------+------------+-------------+--------------------------+------------------+---------+--------------------+------------------+----------------+------------------+------------------+\n",
      "|desconhecido|  5|  Fabio Santos| 31.0|           5500.0|         2017-11-20|            ativo|5500.0|           5500.0|             0.0|            5500.0|           5500.0|        2474|            6|              04 - 06 anos|              2017|Masculino|                24.0| 6.778082191780822|            NULL|              NULL|                11|\n",
      "|   marketing|  7|    José Alves| 34.0|           5400.0|         2018-02-01|          inativo|4800.0|           5400.0|           600.0|            3900.0|           6300.0|        2401|            6|              04 - 06 anos|              2018|Masculino|                28.0| 6.578082191780822|            NULL|              NULL|                 2|\n",
      "|   marketing|  4|     Ana Clara| 27.0|           4800.0|         2018-06-12|            ativo|4800.0|           5400.0|           600.0|            3900.0|           6300.0|        2270|            6|              04 - 06 anos|              2018| Feminino|                21.0| 6.219178082191781|            NULL|              NULL|                 6|\n",
      "|  financeiro|  8| Luciana Costa| 30.0|           5200.0|         2019-01-01|            ativo|5200.0|           6100.0|           900.0|            3850.0|           7450.0|        2067|            5|              04 - 06 anos|              2019| Feminino|                25.0| 5.663013698630137|            NULL|              NULL|                 1|\n",
      "|          rh|  2|   Maria Souza| 30.0|           4800.0|         2019-03-15|            ativo|4800.0|5366.666666666667|566.666666666667|3949.9999999999995|6216.666666666668|        1994|            5|              04 - 06 anos|              2019| Feminino|                25.0| 5.463013698630137|            NULL|              NULL|                 3|\n",
      "|  financeiro|  1|    João Silva| 29.0|           5500.0|         2020-02-01|            ativo|5200.0|           6100.0|           900.0|            3850.0|           7450.0|        1671|            4|              04 - 06 anos|              2020|Masculino|                25.0| 4.578082191780822|            NULL|              NULL|                 2|\n",
      "|  financeiro|  3|Carlos Pereira|29.75|           6200.0|         2020-04-01|            ativo|5200.0|           6100.0|           900.0|            3850.0|           7450.0|        1611|            4|              04 - 06 anos|              2020|Masculino|               25.75| 4.413698630136986|            NULL|              NULL|                 4|\n",
      "|          rh|  6|   Sandra Lima| 28.0|5366.666666666667|         2020-05-05|            ativo|4800.0|5366.666666666667|566.666666666667|3949.9999999999995|6216.666666666668|        1577|            4|              04 - 06 anos|              2020| Feminino|                24.0|  4.32054794520548|            NULL|              NULL|                 5|\n",
      "|  financeiro|  9| Paulo Ricardo|29.75|           6100.0|         2020-12-12|          inativo|5200.0|           6100.0|           900.0|            3850.0|           7450.0|        1356|            3|              01 - 03 anos|              2020|Masculino|               25.75|3.7150684931506848|            NULL|              NULL|                12|\n",
      "|          rh| 10| Fernanda Dias| 29.0|           4800.0|         2024-08-29|            ativo|4800.0|5366.666666666667|566.666666666667|3949.9999999999995|6216.666666666668|           0|            0|              01 - 03 anos|              2024| Feminino|                29.0|               0.0|            NULL|              NULL|                 8|\n",
      "+------------+---+--------------+-----+-----------------+-------------------+-----------------+------+-----------------+----------------+------------------+-----------------+------------+-------------+--------------------------+------------------+---------+--------------------+------------------+----------------+------------------+------------------+\n",
      "\n"
     ]
    }
   ],
   "source": [
    "#25. Análise de Tendências de Contratação: Identificar padrões de contratação ao longo do tempo, como sazonalidade.\n",
    "\n",
    "# Adicione colunas para o ano e o mês\n",
    "df_cleaned = df_cleaned.withColumn(\"Ano de Contratação\", year(\"Data de Contratação\"))\n",
    "df_cleaned = df_cleaned.withColumn(\"Mês de Contratação\", month(\"Data de Contratação\"))\n",
    "\n",
    "# Agrupe os dados por ano e mês e conte o número de contratações\n",
    "df_agg = df_cleaned.groupBy(\"Ano de Contratação\", \"Mês de Contratação\").agg(count(\"ID\").alias(\"Número de Contratações\"))\n",
    "\n",
    "# Ordene o resultado por ano e mês\n",
    "df_agg = df_cleaned.orderBy(\"Ano de Contratação\", \"Mês de Contratação\")\n",
    "\n",
    "# Exiba o DataFrame agregado\n",
    "df_agg.show()"
   ]
  },
  {
   "cell_type": "code",
   "execution_count": 1501,
   "metadata": {},
   "outputs": [
    {
     "name": "stdout",
     "output_type": "stream",
     "text": [
      "+------------+-----------------+--------------+\n",
      "|        Area|   Salário Máximo|Salário Mínimo|\n",
      "+------------+-----------------+--------------+\n",
      "|desconhecido|           5500.0|        5500.0|\n",
      "|  financeiro|           6200.0|        5200.0|\n",
      "|   marketing|           5400.0|        4800.0|\n",
      "|          rh|5366.666666666667|        4800.0|\n",
      "+------------+-----------------+--------------+\n",
      "\n"
     ]
    }
   ],
   "source": [
    "# 26. Salário Máximo e Mínimo por Departamento: Determinar os salários mais altos e mais baixos dentro de cada departamento.\n",
    "# Calcule o salário máximo e mínimo por departamento\n",
    "df_salario_max_min = df_cleaned.groupBy(\"Area\").agg(max(\"Salario\").alias(\"Salário Máximo\"),min(\"Salario\").alias(\"Salário Mínimo\"))\n",
    "df_salario_max_min.show()"
   ]
  },
  {
   "cell_type": "code",
   "execution_count": 1502,
   "metadata": {},
   "outputs": [
    {
     "name": "stdout",
     "output_type": "stream",
     "text": [
      "+-------------------+-----------------+------------+--------------+\n",
      "|Ranking por Salário|          Salario|        Area|          Nome|\n",
      "+-------------------+-----------------+------------+--------------+\n",
      "|                  1|           5500.0|desconhecido|  Fabio Santos|\n",
      "|                  1|           6200.0|  financeiro|Carlos Pereira|\n",
      "|                  2|           6100.0|  financeiro| Paulo Ricardo|\n",
      "|                  3|           5500.0|  financeiro|    João Silva|\n",
      "|                  4|           5200.0|  financeiro| Luciana Costa|\n",
      "|                  1|           5400.0|   marketing|    José Alves|\n",
      "|                  2|           4800.0|   marketing|     Ana Clara|\n",
      "|                  1|5366.666666666667|          rh|   Sandra Lima|\n",
      "|                  2|           4800.0|          rh|   Maria Souza|\n",
      "|                  3|           4800.0|          rh| Fernanda Dias|\n",
      "+-------------------+-----------------+------------+--------------+\n",
      "\n"
     ]
    }
   ],
   "source": [
    "#27. Classificação de Funcionários por Salário: Criar rankings de funcionários por salário dentro de cada departamento.\n",
    "# Defina a janela para particionar os dados por departamento e ordenar por salário\n",
    "window = Window.partitionBy(\"Area\").orderBy(col(\"Salario\").desc())\n",
    "\n",
    "# Adicione uma coluna de classificação com base no salário dentro de cada departamento\n",
    "df_classificado = df_cleaned.withColumn(\"Ranking por Salário\", row_number().over(window))\n",
    "\n",
    "# Exiba o DataFrame com a classificação\n",
    "df_classificado.select(\"Ranking por Salário\", \"Salario\", \"Area\", \"Nome\").show()\n",
    "\n",
    "#Analise: "
   ]
  },
  {
   "cell_type": "code",
   "execution_count": 1503,
   "metadata": {},
   "outputs": [
    {
     "name": "stdout",
     "output_type": "stream",
     "text": [
      "Número de funcionários que podem se aposentar em breve idade: 0\n",
      "Número de funcionários que podem se aposentar em breve contribuição: 0\n",
      "+----+---+----+-----+-------+-------------------+-----------------+---+---+---+---------------+---------------+------------+-------------+--------------------------+------------------+------+--------------------+---------+----------------+------------------+------------------+\n",
      "|Area| ID|Nome|Idade|Salario|Data de Contratação|Status de Emprego| Q1| Q3|IQR|Limite Inferior|Limite Superior|Dias de Casa|Tempo de Casa|Categoria De Tempo de Casa|Ano de Contratação|Genero|Idade na Contratação|anos_casa|Salario Anterior|Diferença Salarial|Mês de Contratação|\n",
      "+----+---+----+-----+-------+-------------------+-----------------+---+---+---+---------------+---------------+------------+-------------+--------------------------+------------------+------+--------------------+---------+----------------+------------------+------------------+\n",
      "+----+---+----+-----+-------+-------------------+-----------------+---+---+---+---------------+---------------+------------+-------------+--------------------------+------------------+------+--------------------+---------+----------------+------------------+------------------+\n",
      "\n",
      "+----+---+----+-----+-------+-------------------+-----------------+---+---+---+---------------+---------------+------------+-------------+--------------------------+------------------+------+--------------------+---------+----------------+------------------+------------------+\n",
      "|Area| ID|Nome|Idade|Salario|Data de Contratação|Status de Emprego| Q1| Q3|IQR|Limite Inferior|Limite Superior|Dias de Casa|Tempo de Casa|Categoria De Tempo de Casa|Ano de Contratação|Genero|Idade na Contratação|anos_casa|Salario Anterior|Diferença Salarial|Mês de Contratação|\n",
      "+----+---+----+-----+-------+-------------------+-----------------+---+---+---+---------------+---------------+------------+-------------+--------------------------+------------------+------+--------------------+---------+----------------+------------------+------------------+\n",
      "+----+---+----+-----+-------+-------------------+-----------------+---+---+---+---------------+---------------+------------+-------------+--------------------------+------------------+------+--------------------+---------+----------------+------------------+------------------+\n",
      "\n"
     ]
    }
   ],
   "source": [
    "#28. Projeção de Aposentadoria: Estimar o número de funcionários que podem se aposentar em breve com base na idade.\n",
    "# Definir a idade mínima para aposentadoria\n",
    "idade_min_aposentadoria = 55\n",
    "anos_contribuição = 35 \n",
    "\n",
    "# Filtrar funcionários que podem se aposentar em breve\n",
    "df_aposentadoria = df_cleaned.filter(col(\"Idade\") >= idade_min_aposentadoria)\n",
    "df_contibuição = df_cleaned.filter(col(\"Idade\") >= anos_contribuição)\n",
    "\n",
    "# Contar o número de funcionários que podem se aposentar em breve\n",
    "func_aposentadoria = df_aposentadoria.count()\n",
    "func_contribuição = df_contibuição.count()\n",
    "\n",
    "# Mostrar o resultado\n",
    "print(f\"Número de funcionários que podem se aposentar em breve idade: {func_aposentadoria}\")\n",
    "print(f\"Número de funcionários que podem se aposentar em breve contribuição: {func_contribuição}\")\n",
    "# Opcional: Mostrar o DataFrame filtrado com detalhes dos funcionários\n",
    "df_aposentadoria.show()\n",
    "df_contibuição.show()\n",
    "\n",
    "#Análise: Nenhum funcionário tem idade ou anos de contribuição para se aposentar, dentro da empresa. "
   ]
  },
  {
   "cell_type": "code",
   "execution_count": 1504,
   "metadata": {},
   "outputs": [
    {
     "name": "stdout",
     "output_type": "stream",
     "text": [
      "+--------------+--------------+------------+-----------------+-----+\n",
      "|          Nome|Faixa Salarial|        Area|Status de Emprego|count|\n",
      "+--------------+--------------+------------+-----------------+-----+\n",
      "|   Maria Souza|     4001-5000|          rh|            ativo|    1|\n",
      "|     Ana Clara|     4001-5000|   marketing|            ativo|    1|\n",
      "| Fernanda Dias|     4001-5000|          rh|            ativo|    1|\n",
      "|    João Silva|         5001+|  financeiro|            ativo|    1|\n",
      "| Luciana Costa|         5001+|  financeiro|            ativo|    1|\n",
      "|    José Alves|         5001+|   marketing|          inativo|    1|\n",
      "| Paulo Ricardo|         5001+|  financeiro|          inativo|    1|\n",
      "|  Fabio Santos|         5001+|desconhecido|            ativo|    1|\n",
      "|   Sandra Lima|         5001+|          rh|            ativo|    1|\n",
      "|Carlos Pereira|         5001+|  financeiro|            ativo|    1|\n",
      "+--------------+--------------+------------+-----------------+-----+\n",
      "\n"
     ]
    }
   ],
   "source": [
    "#29. Segmentação de Funcionários por Faixa Salarial: Agrupar funcionários em faixas salariais (e.g.,2000-3000, 3001-4000) e analisar a distribuição.\n",
    "# Adicionar a coluna de faixa salarial\n",
    "df_faixa_salarial = df_cleaned.withColumn(\n",
    "    \"Faixa Salarial\", \n",
    "    when((col(\"Salario\") >= 2000) & (col(\"Salario\") <= 3000), \"2000-3000\")\n",
    "    .when((col(\"Salario\") >= 3001) & (col(\"Salario\") <= 4000), \"3001-4000\")\n",
    "    .when((col(\"Salario\") >= 4001) & (col(\"Salario\") <= 5000), \"4001-5000\")\n",
    "    .when(col(\"Salario\") > 5000, \"5001+\")\n",
    "    .otherwise(\"Menos de 2000\")\n",
    ")\n",
    "\n",
    "# Agrupar por faixa salarial e contar o número de funcionários\n",
    "df_faixa_salarial_count = df_faixa_salarial.groupBy(\"Nome\",\"Faixa Salarial\", \"Area\", \"Status de Emprego\").count()\n",
    "\n",
    "# Mostrar o resultado ordenado pela Faixa Salarial\n",
    "df_faixa_salarial_count.orderBy(\"Faixa Salarial\").show()\n"
   ]
  },
  {
   "cell_type": "code",
   "execution_count": 1505,
   "metadata": {},
   "outputs": [
    {
     "name": "stdout",
     "output_type": "stream",
     "text": [
      "+------------+---+--------------+-----+-----------------+-------------------+-----------------+------+-----------------+----------------+------------------+-----------------+------------+-------------+--------------------------+------------------+---------+--------------------+------------------+----------------+------------------+------------------+\n",
      "|        Area| ID|          Nome|Idade|          Salario|Data de Contratação|Status de Emprego|    Q1|               Q3|             IQR|   Limite Inferior|  Limite Superior|Dias de Casa|Tempo de Casa|Categoria De Tempo de Casa|Ano de Contratação|   Genero|Idade na Contratação|         anos_casa|Salario Anterior|Diferença Salarial|Mês de Contratação|\n",
      "+------------+---+--------------+-----+-----------------+-------------------+-----------------+------+-----------------+----------------+------------------+-----------------+------------+-------------+--------------------------+------------------+---------+--------------------+------------------+----------------+------------------+------------------+\n",
      "|  financeiro|  1|    João Silva| 29.0|           5500.0|         2020-02-01|            ativo|5200.0|           6100.0|           900.0|            3850.0|           7450.0|        1671|            4|              04 - 06 anos|              2020|Masculino|                25.0| 4.578082191780822|            NULL|              NULL|                 2|\n",
      "|          rh|  2|   Maria Souza| 30.0|           4800.0|         2019-03-15|            ativo|4800.0|5366.666666666667|566.666666666667|3949.9999999999995|6216.666666666668|        1994|            5|              04 - 06 anos|              2019| Feminino|                25.0| 5.463013698630137|            NULL|              NULL|                 3|\n",
      "|  financeiro|  3|Carlos Pereira|29.75|           6200.0|         2020-04-01|            ativo|5200.0|           6100.0|           900.0|            3850.0|           7450.0|        1611|            4|              04 - 06 anos|              2020|Masculino|               25.75| 4.413698630136986|            NULL|              NULL|                 4|\n",
      "|   marketing|  4|     Ana Clara| 27.0|           4800.0|         2018-06-12|            ativo|4800.0|           5400.0|           600.0|            3900.0|           6300.0|        2270|            6|              04 - 06 anos|              2018| Feminino|                21.0| 6.219178082191781|            NULL|              NULL|                 6|\n",
      "|desconhecido|  5|  Fabio Santos| 31.0|           5500.0|         2017-11-20|            ativo|5500.0|           5500.0|             0.0|            5500.0|           5500.0|        2474|            6|              04 - 06 anos|              2017|Masculino|                24.0| 6.778082191780822|            NULL|              NULL|                11|\n",
      "|          rh|  6|   Sandra Lima| 28.0|5366.666666666667|         2020-05-05|            ativo|4800.0|5366.666666666667|566.666666666667|3949.9999999999995|6216.666666666668|        1577|            4|              04 - 06 anos|              2020| Feminino|                24.0|  4.32054794520548|            NULL|              NULL|                 5|\n",
      "|   marketing|  7|    José Alves| 34.0|           5400.0|         2018-02-01|          inativo|4800.0|           5400.0|           600.0|            3900.0|           6300.0|        2401|            6|              04 - 06 anos|              2018|Masculino|                28.0| 6.578082191780822|            NULL|              NULL|                 2|\n",
      "|  financeiro|  8| Luciana Costa| 30.0|           5200.0|         2019-01-01|            ativo|5200.0|           6100.0|           900.0|            3850.0|           7450.0|        2067|            5|              04 - 06 anos|              2019| Feminino|                25.0| 5.663013698630137|            NULL|              NULL|                 1|\n",
      "|  financeiro|  9| Paulo Ricardo|29.75|           6100.0|         2020-12-12|          inativo|5200.0|           6100.0|           900.0|            3850.0|           7450.0|        1356|            3|              01 - 03 anos|              2020|Masculino|               25.75|3.7150684931506848|            NULL|              NULL|                12|\n",
      "|          rh| 10| Fernanda Dias| 29.0|           4800.0|         2024-08-29|            ativo|4800.0|5366.666666666667|566.666666666667|3949.9999999999995|6216.666666666668|           0|            0|              01 - 03 anos|              2024| Feminino|                29.0|               0.0|            NULL|              NULL|                 8|\n",
      "+------------+---+--------------+-----+-----------------+-------------------+-----------------+------+-----------------+----------------+------------------+-----------------+------------+-------------+--------------------------+------------------+---------+--------------------+------------------+----------------+------------------+------------------+\n",
      "\n"
     ]
    }
   ],
   "source": [
    "df_cleaned.show()"
   ]
  },
  {
   "cell_type": "code",
   "execution_count": 1506,
   "metadata": {},
   "outputs": [
    {
     "name": "stdout",
     "output_type": "stream",
     "text": [
      "+------------+----------------+-----------------+--------------------+\n",
      "|        Area|        Feminino|        Masculino|Diferenca_Percentual|\n",
      "+------------+----------------+-----------------+--------------------+\n",
      "|desconhecido|             0.0|           5500.0|              -100.0|\n",
      "|  financeiro|          5200.0|5933.333333333333| -12.359550561797748|\n",
      "|   marketing|          4800.0|           5400.0|  -11.11111111111111|\n",
      "|          rh|4988.88888888889|              0.0|                NULL|\n",
      "+------------+----------------+-----------------+--------------------+\n",
      "\n"
     ]
    }
   ],
   "source": [
    "#30. Análise de Equidade Salarial: Verificar se há desigualdade salarial dentro de departamentos específicos.\n",
    "from pyspark.sql.functions import avg, expr, col\n",
    "\n",
    "# Calcular a média salarial por departamento e gênero\n",
    "df_equidade_salarial = df_cleaned.groupBy(\"Area\", \"Genero\").agg(\n",
    "    avg(\"Salario\").alias(\"Media_Salarial\"))\n",
    "\n",
    "# Pivote os dados para ter a média salarial de homens e mulheres em colunas separadas\n",
    "df_pivot = df_equidade_salarial.groupBy(\"Area\").pivot(\"Genero\").agg(\n",
    "    expr(\"first(Media_Salarial)\").alias(\"Media_Salarial\"))\n",
    "\n",
    "# Verifique e substitua valores nulos, se necessário\n",
    "df_pivot = df_pivot.fillna({\"Feminino\": 0, \"Masculino\": 0})\n",
    "\n",
    "# Calcular a diferença percentual entre a média salarial de homens e mulheres\n",
    "df_pivot = df_pivot.withColumn(\n",
    "    \"Diferenca_Percentual\",\n",
    "    expr(\"CASE WHEN Masculino = 0 THEN NULL ELSE ((Feminino - Masculino) / Masculino) * 100 END\"))\n",
    "\n",
    "df_pivot.show()"
   ]
  },
  {
   "cell_type": "code",
   "execution_count": 1507,
   "metadata": {},
   "outputs": [
    {
     "name": "stdout",
     "output_type": "stream",
     "text": [
      "+------------+---+--------------+-----+-----------------+-------------------+-----------------+------+-----------------+----------------+------------------+-----------------+------------+-------------+--------------------------+------------------+---------+--------------------+------------------+----------------+------------------+------------------+\n",
      "|        Area| ID|          Nome|Idade|          Salario|Data de Contratação|Status de Emprego|    Q1|               Q3|             IQR|   Limite Inferior|  Limite Superior|Dias de Casa|Tempo de Casa|Categoria De Tempo de Casa|Ano de Contratação|   Genero|Idade na Contratação|         anos_casa|Salario Anterior|Diferença Salarial|Mês de Contratação|\n",
      "+------------+---+--------------+-----+-----------------+-------------------+-----------------+------+-----------------+----------------+------------------+-----------------+------------+-------------+--------------------------+------------------+---------+--------------------+------------------+----------------+------------------+------------------+\n",
      "|  financeiro|  1|    João Silva| 29.0|           5500.0|         2020-02-01|            ativo|5200.0|           6100.0|           900.0|            3850.0|           7450.0|        1671|            4|              04 - 06 anos|              2020|Masculino|                25.0| 4.578082191780822|            NULL|              NULL|                 2|\n",
      "|          rh|  2|   Maria Souza| 30.0|           4800.0|         2019-03-15|            ativo|4800.0|5366.666666666667|566.666666666667|3949.9999999999995|6216.666666666668|        1994|            5|              04 - 06 anos|              2019| Feminino|                25.0| 5.463013698630137|            NULL|              NULL|                 3|\n",
      "|  financeiro|  3|Carlos Pereira|29.75|           6200.0|         2020-04-01|            ativo|5200.0|           6100.0|           900.0|            3850.0|           7450.0|        1611|            4|              04 - 06 anos|              2020|Masculino|               25.75| 4.413698630136986|            NULL|              NULL|                 4|\n",
      "|   marketing|  4|     Ana Clara| 27.0|           4800.0|         2018-06-12|            ativo|4800.0|           5400.0|           600.0|            3900.0|           6300.0|        2270|            6|              04 - 06 anos|              2018| Feminino|                21.0| 6.219178082191781|            NULL|              NULL|                 6|\n",
      "|desconhecido|  5|  Fabio Santos| 31.0|           5500.0|         2017-11-20|            ativo|5500.0|           5500.0|             0.0|            5500.0|           5500.0|        2474|            6|              04 - 06 anos|              2017|Masculino|                24.0| 6.778082191780822|            NULL|              NULL|                11|\n",
      "|          rh|  6|   Sandra Lima| 28.0|5366.666666666667|         2020-05-05|            ativo|4800.0|5366.666666666667|566.666666666667|3949.9999999999995|6216.666666666668|        1577|            4|              04 - 06 anos|              2020| Feminino|                24.0|  4.32054794520548|            NULL|              NULL|                 5|\n",
      "|   marketing|  7|    José Alves| 34.0|           5400.0|         2018-02-01|          inativo|4800.0|           5400.0|           600.0|            3900.0|           6300.0|        2401|            6|              04 - 06 anos|              2018|Masculino|                28.0| 6.578082191780822|            NULL|              NULL|                 2|\n",
      "|  financeiro|  8| Luciana Costa| 30.0|           5200.0|         2019-01-01|            ativo|5200.0|           6100.0|           900.0|            3850.0|           7450.0|        2067|            5|              04 - 06 anos|              2019| Feminino|                25.0| 5.663013698630137|            NULL|              NULL|                 1|\n",
      "|  financeiro|  9| Paulo Ricardo|29.75|           6100.0|         2020-12-12|          inativo|5200.0|           6100.0|           900.0|            3850.0|           7450.0|        1356|            3|              01 - 03 anos|              2020|Masculino|               25.75|3.7150684931506848|            NULL|              NULL|                12|\n",
      "|          rh| 10| Fernanda Dias| 29.0|           4800.0|         2024-08-29|            ativo|4800.0|5366.666666666667|566.666666666667|3949.9999999999995|6216.666666666668|           0|            0|              01 - 03 anos|              2024| Feminino|                29.0|               0.0|            NULL|              NULL|                 8|\n",
      "+------------+---+--------------+-----+-----------------+-------------------+-----------------+------+-----------------+----------------+------------------+-----------------+------------+-------------+--------------------------+------------------+---------+--------------------+------------------+----------------+------------------+------------------+\n",
      "\n"
     ]
    }
   ],
   "source": [
    "df_cleaned.show()"
   ]
  },
  {
   "cell_type": "code",
   "execution_count": 1508,
   "metadata": {},
   "outputs": [
    {
     "name": "stdout",
     "output_type": "stream",
     "text": [
      "+------------------+-----------------+\n",
      "|Ano de Contratação|   Media_Salarial|\n",
      "+------------------+-----------------+\n",
      "|              2017|           5500.0|\n",
      "|              2018|           5100.0|\n",
      "|              2019|           5000.0|\n",
      "|              2020|5791.666666666667|\n",
      "|              2024|           4800.0|\n",
      "+------------------+-----------------+\n",
      "\n"
     ]
    },
    {
     "data": {
      "image/png": "[encoded data removed]",
      "text/plain": [
       "<Figure size 1000x600 with 1 Axes>"
      ]
     },
     "metadata": {},
     "output_type": "display_data"
    }
   ],
   "source": [
    "#31. Comparação de Salários por Período de Contratação: Comparar os salários de funcionários contratados em diferentes anos para identificar tendências de aumento salarial.\n",
    "# Agrupar por ano de contratação e calcular a média salarial\n",
    "df_media_salarial_por_ano = df_cleaned.groupBy(\"Ano de Contratação\").agg(\n",
    "    avg(\"Salario\").alias(\"Media_Salarial\"))\n",
    "\n",
    "# Ordenar por ano de contratação\n",
    "df_media_salarial_por_ano = df_media_salarial_por_ano.orderBy(\"Ano de Contratação\")\n",
    "\n",
    "# Mostrar o resultado\n",
    "df_media_salarial_por_ano.show()\n",
    "\n",
    "# Coletar dados para visualização\n",
    "anos = [row['Ano de Contratação'] for row in df_media_salarial_por_ano.collect()]\n",
    "salarios = [row['Media_Salarial'] for row in df_media_salarial_por_ano.collect()]\n",
    "\n",
    "# Criar o gráfico\n",
    "plt.figure(figsize=(10, 6))\n",
    "plt.plot(anos, salarios, marker='o', linestyle='-', color='b')\n",
    "plt.title('Média Salarial por Ano de Contratação')\n",
    "plt.xlabel('Ano de Contratação')\n",
    "plt.ylabel('Média Salarial')\n",
    "plt.grid(True)\n",
    "plt.show()"
   ]
  },
  {
   "cell_type": "code",
   "execution_count": 1509,
   "metadata": {},
   "outputs": [
    {
     "name": "stdout",
     "output_type": "stream",
     "text": [
      "+------------+---+--------------+-----+-----------------+-------------------+-----------------+------+-----------------+----------------+------------------+-----------------+------------+-------------+--------------------------+------------------+---------+--------------------+------------------+----------------+------------------+------------------+------------+\n",
      "|        Area| ID|          Nome|Idade|          Salario|Data de Contratação|Status de Emprego|    Q1|               Q3|             IQR|   Limite Inferior|  Limite Superior|Dias de Casa|Tempo de Casa|Categoria De Tempo de Casa|Ano de Contratação|   Genero|Idade na Contratação|         anos_casa|Salario Anterior|Diferença Salarial|Mês de Contratação|Faixa Etaria|\n",
      "+------------+---+--------------+-----+-----------------+-------------------+-----------------+------+-----------------+----------------+------------------+-----------------+------------+-------------+--------------------------+------------------+---------+--------------------+------------------+----------------+------------------+------------------+------------+\n",
      "|  financeiro|  1|    João Silva| 29.0|           5500.0|         2020-02-01|            ativo|5200.0|           6100.0|           900.0|            3850.0|           7450.0|        1671|            4|              04 - 06 anos|              2020|Masculino|                25.0| 4.578082191780822|            NULL|              NULL|                 2|  20-30 anos|\n",
      "|          rh|  2|   Maria Souza| 30.0|           4800.0|         2019-03-15|            ativo|4800.0|5366.666666666667|566.666666666667|3949.9999999999995|6216.666666666668|        1994|            5|              04 - 06 anos|              2019| Feminino|                25.0| 5.463013698630137|            NULL|              NULL|                 3|  20-30 anos|\n",
      "|  financeiro|  3|Carlos Pereira|29.75|           6200.0|         2020-04-01|            ativo|5200.0|           6100.0|           900.0|            3850.0|           7450.0|        1611|            4|              04 - 06 anos|              2020|Masculino|               25.75| 4.413698630136986|            NULL|              NULL|                 4|  20-30 anos|\n",
      "|   marketing|  4|     Ana Clara| 27.0|           4800.0|         2018-06-12|            ativo|4800.0|           5400.0|           600.0|            3900.0|           6300.0|        2270|            6|              04 - 06 anos|              2018| Feminino|                21.0| 6.219178082191781|            NULL|              NULL|                 6|  20-30 anos|\n",
      "|desconhecido|  5|  Fabio Santos| 31.0|           5500.0|         2017-11-20|            ativo|5500.0|           5500.0|             0.0|            5500.0|           5500.0|        2474|            6|              04 - 06 anos|              2017|Masculino|                24.0| 6.778082191780822|            NULL|              NULL|                11|  31-40 anos|\n",
      "|          rh|  6|   Sandra Lima| 28.0|5366.666666666667|         2020-05-05|            ativo|4800.0|5366.666666666667|566.666666666667|3949.9999999999995|6216.666666666668|        1577|            4|              04 - 06 anos|              2020| Feminino|                24.0|  4.32054794520548|            NULL|              NULL|                 5|  20-30 anos|\n",
      "|   marketing|  7|    José Alves| 34.0|           5400.0|         2018-02-01|          inativo|4800.0|           5400.0|           600.0|            3900.0|           6300.0|        2401|            6|              04 - 06 anos|              2018|Masculino|                28.0| 6.578082191780822|            NULL|              NULL|                 2|  31-40 anos|\n",
      "|  financeiro|  8| Luciana Costa| 30.0|           5200.0|         2019-01-01|            ativo|5200.0|           6100.0|           900.0|            3850.0|           7450.0|        2067|            5|              04 - 06 anos|              2019| Feminino|                25.0| 5.663013698630137|            NULL|              NULL|                 1|  20-30 anos|\n",
      "|  financeiro|  9| Paulo Ricardo|29.75|           6100.0|         2020-12-12|          inativo|5200.0|           6100.0|           900.0|            3850.0|           7450.0|        1356|            3|              01 - 03 anos|              2020|Masculino|               25.75|3.7150684931506848|            NULL|              NULL|                12|  20-30 anos|\n",
      "|          rh| 10| Fernanda Dias| 29.0|           4800.0|         2024-08-29|            ativo|4800.0|5366.666666666667|566.666666666667|3949.9999999999995|6216.666666666668|           0|            0|              01 - 03 anos|              2024| Feminino|                29.0|               0.0|            NULL|              NULL|                 8|  20-30 anos|\n",
      "+------------+---+--------------+-----+-----------------+-------------------+-----------------+------+-----------------+----------------+------------------+-----------------+------------+-------------+--------------------------+------------------+---------+--------------------+------------------+----------------+------------------+------------------+------------+\n",
      "\n",
      "+------------+-----------------+-------------------+\n",
      "|Faixa Etaria|   Media_Salarial|Numero_Funcionarios|\n",
      "+------------+-----------------+-------------------+\n",
      "|  20-30 anos|5345.833333333333|                  8|\n",
      "|  31-40 anos|           5450.0|                  2|\n",
      "+------------+-----------------+-------------------+\n",
      "\n"
     ]
    }
   ],
   "source": [
    "#32. Criação de Coluna de Faixa Etária: Agrupar os funcionários em faixas etárias (e.g., 20-30 anos, 31-40 anos) e analisar diferenças entre elas.\n",
    "\n",
    "# Definir as faixas etárias e criar a coluna 'Faixa Etaria'\n",
    "df_cleaned = df_cleaned.withColumn(\n",
    "    \"Faixa Etaria\",\n",
    "    when(col(\"Idade\") <= 30, \"20-30 anos\")\n",
    "    .when((col(\"Idade\") > 30) & (col(\"Idade\") <= 40), \"31-40 anos\")\n",
    "    .when((col(\"Idade\") > 40) & (col(\"Idade\") <= 50), \"41-50 anos\")\n",
    "    .otherwise(\"51+ anos\"))\n",
    "\n",
    "# Mostrar o DataFrame com a nova coluna\n",
    "df_cleaned.show()\n",
    "\n",
    "# Agrupar por faixa etária calcular a média salarial e contar o número de funcionários\n",
    "df_media_sal_etaria = df_cleaned.groupBy(\"Faixa Etaria\",).agg(\n",
    "    avg(\"Salario\").alias(\"Media_Salarial\"))\n",
    "\n",
    "df_num_faixa_etaria = df_cleaned.groupBy(\"Faixa Etaria\").agg(\n",
    "    count(\"ID\").alias(\"Numero_Funcionarios\"))\n",
    "\n",
    "#Juntando as infomações em um unico lugar\n",
    "df_combined = df_media_sal_etaria.join(df_num_faixa_etaria,on=\"Faixa Etaria\",how=\"inner\").show()"
   ]
  },
  {
   "cell_type": "code",
   "execution_count": 1510,
   "metadata": {},
   "outputs": [
    {
     "name": "stdout",
     "output_type": "stream",
     "text": [
      "+------------+------------------+\n",
      "|        Area|  Media_Tempo_Casa|\n",
      "+------------+------------------+\n",
      "|desconhecido| 6.778082191780822|\n",
      "|  financeiro| 4.592465753424658|\n",
      "|   marketing| 6.398630136986301|\n",
      "|          rh|3.2611872146118723|\n",
      "+------------+------------------+\n",
      "\n"
     ]
    }
   ],
   "source": [
    "#33. Relação Entre Área e Tempo de Contratação: Identificar se alguns departamentos tendem a manter seus funcionários por mais tempo do que outros.\n",
    "# Calcular o tempo de casa em anos\n",
    "df_cleaned = df_cleaned.withColumn(\n",
    "    \"Tempo de Casa (Anos)\",\n",
    "    datediff(current_date(), col(\"Data de Contratação\")) / 365)\n",
    "\n",
    "# Calcular a média do tempo de casa por área\n",
    "df_tempo_medio_area = df_cleaned.groupBy(\"Area\").agg(\n",
    "    avg(\"Tempo de Casa (Anos)\").alias(\"Media_Tempo_Casa\"))\n",
    "\n",
    "# Mostrar o DataFrame resultante\n",
    "df_tempo_medio_area.show()"
   ]
  },
  {
   "cell_type": "code",
   "execution_count": 1511,
   "metadata": {},
   "outputs": [
    {
     "name": "stdout",
     "output_type": "stream",
     "text": [
      "Média do Salário: 5366.666666666666\n",
      "Accuracy: 1.00\n",
      "Coefficients: [10.629419950045767,-0.0016027366118444074,2.1817617527882573,4.4034905575597545]\n",
      "Intercept: -9232.86944048826\n",
      "+----------+--------------------+\n",
      "|prediction|         probability|\n",
      "+----------+--------------------+\n",
      "|       0.0|[0.99999116958269...|\n",
      "|       1.0|[3.70964484084977...|\n",
      "+----------+--------------------+\n",
      "\n"
     ]
    }
   ],
   "source": [
    "#34. Previsão de Turnover: Usar dados históricos para prever quais funcionários têm maior probabilidade de deixar a empresa.\n",
    "from pyspark.sql.functions import col, when, avg\n",
    "from pyspark.ml.feature import VectorAssembler\n",
    "from pyspark.ml.classification import LogisticRegression\n",
    "from pyspark.ml.evaluation import BinaryClassificationEvaluator\n",
    "\n",
    "# Verificar se df_cleaned não é None e contém dados\n",
    "if df_cleaned is not None and df_cleaned.count() > 0:\n",
    "    # Calcular a média do salário\n",
    "    mean_salary = df_cleaned.select(avg(\"Salario\")).collect()[0][0]\n",
    "    print(f\"Média do Salário: {mean_salary}\")\n",
    "\n",
    "    # Tratar valores ausentes no salário\n",
    "    df_cleaned = df_cleaned.withColumn(\"Salario\", when(col(\"Salario\").isNull(), mean_salary).otherwise(col(\"Salario\")))\n",
    "\n",
    "    # Criar variável de turnover (0 = Não saiu, 1 = Saiu)\n",
    "    df_cleaned = df_cleaned.withColumn(\"Turnover\", when(col(\"Status de Emprego\") == \"inativo\", 1).otherwise(0))\n",
    "\n",
    "    # Selecionar recursos e target\n",
    "    features = [\"Idade\", \"Salario\", \"Tempo de Casa\", \"Ano de Contratação\"]\n",
    "    target = \"Turnover\"\n",
    "\n",
    "    # Criar um vetor de características\n",
    "    assembler = VectorAssembler(inputCols=features, outputCol=\"features\")\n",
    "    df_assembled = assembler.transform(df_cleaned)\n",
    "\n",
    "    # Dividir os dados\n",
    "    train_data, test_data = df_assembled.randomSplit([0.8, 0.2], seed=1234)\n",
    "\n",
    "    # Criar e treinar o modelo\n",
    "    lr = LogisticRegression(featuresCol=\"features\", labelCol=target)\n",
    "    lr_model = lr.fit(train_data)\n",
    "\n",
    "    # Fazer previsões\n",
    "    predictions = lr_model.transform(test_data)\n",
    "\n",
    "    # Avaliar o modelo\n",
    "    evaluator = BinaryClassificationEvaluator(labelCol=target)\n",
    "    accuracy = evaluator.evaluate(predictions)\n",
    "    print(f\"Accuracy: {accuracy:.2f}\")\n",
    "\n",
    "    # Exibir coeficientes do modelo\n",
    "    print(\"Coefficients:\", lr_model.coefficients)\n",
    "    print(\"Intercept:\", lr_model.intercept)\n",
    "\n",
    "    # Novos dados de exemplo\n",
    "    new_data = spark.createDataFrame([\n",
    "        (30, 5000, 5, 2021),\n",
    "        (40, 6000, 8, 2019)\n",
    "    ], features)\n",
    "\n",
    "    # Transformar e prever\n",
    "    new_data_assembled = assembler.transform(new_data)\n",
    "    predictions = lr_model.transform(new_data_assembled)\n",
    "    predictions.select(\"prediction\", \"probability\").show()\n",
    "else:\n",
    "    print(\"O DataFrame df_cleaned não está corretamente definido ou está vazio.\")\n"
   ]
  },
  {
   "cell_type": "code",
   "execution_count": 1512,
   "metadata": {},
   "outputs": [],
   "source": [
    "# Exportar para CSV\n",
    "#df_cleaned.write.csv(\"salario_maximo_minimo_por_departamento.csv\", header=True)"
   ]
  }
 ],
 "metadata": {
  "kernelspec": {
   "display_name": "Python 3",
   "language": "python",
   "name": "python3"
  },
  "language_info": {
   "codemirror_mode": {
    "name": "ipython",
    "version": 3
   },
   "file_extension": ".py",
   "mimetype": "text/x-python",
   "name": "python",
   "nbconvert_exporter": "python",
   "pygments_lexer": "ipython3",
   "version": "3.12.3"
  }
 },
 "nbformat": 4,
 "nbformat_minor": 2
}
