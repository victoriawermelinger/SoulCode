{
  "cells": [
    {
      "cell_type": "markdown",
      "metadata": {
        "id": "uxGISqtR2yNT"
      },
      "source": [
        "# 1 - Variáveis e Tipos de Dados"
      ]
    },
    {
      "cell_type": "code",
      "execution_count": 14,
      "metadata": {
        "id": "tLS0FEGj2rS7"
      },
      "outputs": [
        {
          "name": "stdout",
          "output_type": "stream",
          "text": [
            "\n",
            "--- Cadastro Completo ---\n",
            "Nome: Victoria Sabbatino Wermelinger\n",
            "Idade: 32\n",
            "Peso: 95.4 kg\n",
            "Altura: 1.69 m\n"
          ]
        }
      ],
      "source": [
        "'''\n",
        "1.1. Crie variáveis para armazenar o nome, idade, peso e altura de uma pessoa.\n",
        "Imprima os valores e os tipos de dados dessas variáveis.\n",
        "'''\n",
        "nome = str(input('Nome Completo: '))\n",
        "idade = int(input('Idade: '))\n",
        "peso = float(input('Seu peso (em kg): '))\n",
        "altura = float(input('Sua altura (em metros): '))\n",
        "\n",
        "print('\\n--- Cadastro Completo ---')\n",
        "print(f'Nome: {nome}')\n",
        "print(f\"Idade: {idade}\")\n",
        "print(f\"Peso: {peso} kg\")\n",
        "print(f\"Altura: {altura} m\")\n",
        "\n"
      ]
    },
    {
      "cell_type": "code",
      "execution_count": 15,
      "metadata": {
        "id": "VFVgrodF27TT"
      },
      "outputs": [
        {
          "name": "stdout",
          "output_type": "stream",
          "text": [
            "Victoria Sabbatino Wermelinger seu peso atualizado é 98.0 kg.\n"
          ]
        }
      ],
      "source": [
        "'''\n",
        "1.2. Atualize a variável de peso para um valor diferente e imprima o novo valor.\n",
        "'''\n",
        "peso = float(input('Qual seu  novo peso (em kg): '))\n",
        "\n",
        "print(f'{nome} seu peso atualizado é {peso} kg.' )"
      ]
    },
    {
      "cell_type": "markdown",
      "metadata": {
        "id": "RRRbkSkr3Ajw"
      },
      "source": [
        "# 2 - Operadores Matemáticos"
      ]
    },
    {
      "cell_type": "code",
      "execution_count": 23,
      "metadata": {
        "id": "hHAztIDU3AJP"
      },
      "outputs": [
        {
          "name": "stdout",
          "output_type": "stream",
          "text": [
            "Soma 13 , Subtração 7, Multiplicação 30, Divisão 3.3333333333333335,\n",
            " Parte inteira da divisão 3, Resto da divisão 1, Exponenciação 1000.\n"
          ]
        }
      ],
      "source": [
        "'''\n",
        "2.1. Crie uma variável a com valor 10 e uma variável b com valor 3. Realize as\n",
        "seguintes operações e imprima os resultados:\n",
        "Soma\n",
        "Subtração\n",
        "Multiplicação\n",
        "Divisão\n",
        "Parte inteira da divisão\n",
        "Resto da divisão\n",
        "Exponenciação\n",
        "'''\n",
        "a = 10\n",
        "b = 3 \n",
        "\n",
        "Soma = a + b\n",
        "Subtração = a - b\n",
        "Multiplicação = a * b\n",
        "Divisão = a / b\n",
        "int_divisão = a // b\n",
        "Resto_divisão = a % b\n",
        "Exponenciação = a ** b\n",
        "\n",
        "print(f'Soma {Soma} , Subtração {Subtração}, Multiplicação {Multiplicação}, Divisão {Divisão},\\n Parte inteira da divisão {int_divisão}, Resto da divisão {Resto_divisão}, Exponenciação {Exponenciação}.')"
      ]
    },
    {
      "cell_type": "markdown",
      "metadata": {
        "id": "jWJt5Ep23OFd"
      },
      "source": [
        "# 3 - Entrada de Dados pelo Usuário\n"
      ]
    },
    {
      "cell_type": "code",
      "execution_count": 1,
      "metadata": {
        "id": "IiD6jUJh3eiD"
      },
      "outputs": [
        {
          "name": "stdout",
          "output_type": "stream",
          "text": [
            "Bem-vindo, victoria!\n"
          ]
        }
      ],
      "source": [
        "'''\n",
        "3.1. Peça ao usuário para digitar seu nome e armazene em uma variável. Imprima\n",
        "uma mensagem de boas-vindas usando o nome fornecido.\n",
        "'''\n",
        "\n",
        "nome = input(\"Digite seu nome: \")\n",
        "\n",
        "print(f\"Bem-vindo, {nome}!\")\n"
      ]
    },
    {
      "cell_type": "code",
      "execution_count": 2,
      "metadata": {
        "id": "Y4kz72aR3k8d"
      },
      "outputs": [
        {
          "name": "stdout",
          "output_type": "stream",
          "text": [
            "Seu IMC é: 33.402\n"
          ]
        }
      ],
      "source": [
        "'''\n",
        "3.2. Peça ao usuário para digitar sua idade, peso e altura. Calcule o IMC e\n",
        "imprima o resultado arredondado para três casas decimais.\n",
        "'''\n",
        "idade = int(input(\"Digite sua idade: \"))\n",
        "peso = float(input(\"Digite seu peso (em kg): \"))\n",
        "altura = float(input(\"Digite sua altura (em metros): \"))\n",
        "\n",
        "imc = peso / (altura ** 2)\n",
        "\n",
        "print(f\"Seu IMC é: {imc:.3f}\")\n"
      ]
    },
    {
      "cell_type": "markdown",
      "metadata": {
        "id": "zqRV3Plv3pjL"
      },
      "source": [
        "# 4 - Função de Impressão"
      ]
    },
    {
      "cell_type": "code",
      "execution_count": 8,
      "metadata": {
        "id": "N5AbRV3i3vYV"
      },
      "outputs": [
        {
          "name": "stdout",
          "output_type": "stream",
          "text": [
            "Você digitou: 5\n"
          ]
        }
      ],
      "source": [
        "'''\n",
        "4.1. Peça ao usuário para digitar um número e imprima o número digitado.\n",
        "'''\n",
        "num1 = int(input(\"Digite um número: \"))\n",
        "\n",
        "print(f\"Você digitou: {num1}\")\n"
      ]
    },
    {
      "cell_type": "code",
      "execution_count": 9,
      "metadata": {
        "id": "qM2ocOFl3vpB"
      },
      "outputs": [
        {
          "name": "stdout",
          "output_type": "stream",
          "text": [
            "A soma dos números é: 13\n"
          ]
        }
      ],
      "source": [
        "'''\n",
        "4.2. Peça ao usuário para digitar dois números e imprima a soma deles.\n",
        "'''\n",
        "num2 = int(input(\"Digite o segundo número: \"))\n",
        "soma = num1 + num2\n",
        "print(f\"A soma dos números é: {soma}\")\n"
      ]
    },
    {
      "cell_type": "markdown",
      "metadata": {
        "id": "RWwlLaOu35jq"
      },
      "source": [
        "# 5 - Métodos de Strings"
      ]
    },
    {
      "cell_type": "code",
      "execution_count": null,
      "metadata": {
        "id": "PnAPaeXY3-dA"
      },
      "outputs": [],
      "source": [
        "'''\n",
        "5.1. Peça ao usuário para digitar um e-mail e verifique se o e-mail contém o\n",
        "caractere '@'. Imprima uma mensagem indicando se é um e-mail válido ou não.\n",
        "'''"
      ]
    },
    {
      "cell_type": "code",
      "execution_count": null,
      "metadata": {
        "id": "nkwe0I9c3-w-"
      },
      "outputs": [],
      "source": [
        "'''\n",
        "5.2. Peça ao usuário para digitar uma frase e:\n",
        "Converta a frase para maiúsculas.\n",
        "Converta a frase para minúsculas.\n",
        "Converta a primeira letra de cada palavra para maiúscula.\n",
        "Verifique se a frase começa com uma determinada palavra (ex.: 'Olá').\n",
        "'''"
      ]
    },
    {
      "cell_type": "markdown",
      "metadata": {
        "id": "HZQlB-8K4snX"
      },
      "source": [
        "# 6 - Listas"
      ]
    },
    {
      "cell_type": "code",
      "execution_count": null,
      "metadata": {
        "id": "3_3JLvXZ4sBG"
      },
      "outputs": [],
      "source": [
        "'''\n",
        "6.1. Crie uma lista com os nomes de cinco amigos. Imprima o nome do terceiro\n",
        "amigo na lista.\n",
        "\n",
        "'''"
      ]
    },
    {
      "cell_type": "code",
      "execution_count": null,
      "metadata": {
        "id": "ppcjLqMb4yDu"
      },
      "outputs": [],
      "source": [
        "'''\n",
        "6.2. Adicione um novo nome à lista de amigos e remova o primeiro nome.\n",
        "Imprima a lista atualizada.\n",
        "'''"
      ]
    },
    {
      "cell_type": "code",
      "execution_count": null,
      "metadata": {
        "id": "Hoz7RcUW4zc4"
      },
      "outputs": [],
      "source": [
        "'''\n",
        "6.3. Crie uma lista com as idades dos seus amigos e:\n",
        "Imprima a idade do amigo mais velho.\n",
        "Imprima a idade do amigo mais novo.\n",
        "Calcule e imprima a soma das idades.\n",
        "'''"
      ]
    },
    {
      "cell_type": "markdown",
      "metadata": {
        "id": "9WTzsCNH4-tT"
      },
      "source": [
        "# 7 - Tuplas"
      ]
    },
    {
      "cell_type": "code",
      "execution_count": null,
      "metadata": {
        "id": "XpWW7G-p5BOJ"
      },
      "outputs": [],
      "source": [
        "'''\n",
        "7.1 Crie uma tupla com as informações de um cliente (nome, idade, peso, altura).\n",
        "Imprima todas as informações.\n",
        "'''"
      ]
    },
    {
      "cell_type": "code",
      "execution_count": null,
      "metadata": {
        "id": "tIzWFwzc5GQ8"
      },
      "outputs": [],
      "source": [
        "'''\n",
        "7.2. Crie uma nova tupla concatenando a tupla do exercício anterior com o e-mail\n",
        "do cliente. Imprima a nova tupla.\n",
        "'''"
      ]
    },
    {
      "cell_type": "markdown",
      "metadata": {
        "id": "-zg06dPu5ZJC"
      },
      "source": [
        "# 8 - Dicionários"
      ]
    },
    {
      "cell_type": "code",
      "execution_count": null,
      "metadata": {
        "id": "E_wd3pdX5clA"
      },
      "outputs": [],
      "source": [
        "'''\n",
        "8.1. Crie um dicionário com informações de um cliente\n",
        "(nome, idade, peso, altura). Imprima o valor associado à chave 'nome'.\n",
        "'''"
      ]
    },
    {
      "cell_type": "code",
      "execution_count": null,
      "metadata": {
        "id": "kM-tUW7o5eK7"
      },
      "outputs": [],
      "source": [
        "'''\n",
        "8.2. Adicione uma nova chave 'email' ao dicionário do exercício anterior e\n",
        "imprima o dicionário atualizado.\n",
        "'''"
      ]
    },
    {
      "cell_type": "code",
      "execution_count": null,
      "metadata": {
        "id": "xFhFuFOV5ffs"
      },
      "outputs": [],
      "source": [
        "'''\n",
        "8.3. Remova a chave 'peso' do dicionário e verifique se a chave 'endereço' está\n",
        "no dicionário. Imprima os resultados.\n",
        "'''"
      ]
    },
    {
      "cell_type": "markdown",
      "metadata": {
        "id": "zDOsohbe5sjQ"
      },
      "source": [
        "# 9 - Controle de Fluxo"
      ]
    },
    {
      "cell_type": "code",
      "execution_count": null,
      "metadata": {
        "id": "efFgv5Xx5wFC"
      },
      "outputs": [],
      "source": [
        "# Condicionais\n",
        "'''\n",
        "9.1. Peça ao usuário para digitar sua idade e verifique se ele é menor de idade,\n",
        " adulto ou idoso. Imprima uma mensagem correspondente.\n",
        "'''"
      ]
    },
    {
      "cell_type": "code",
      "execution_count": null,
      "metadata": {
        "id": "pse5b4NO52OP"
      },
      "outputs": [],
      "source": [
        "# Condicionais\n",
        "'''\n",
        "9.2. Peça ao usuário para digitar uma nota (0 a 100) e imprima se ele foi\n",
        "aprovado (nota >= 60) ou reprovado.\n",
        "'''"
      ]
    },
    {
      "cell_type": "code",
      "execution_count": null,
      "metadata": {
        "id": "inMnGHFy525K"
      },
      "outputs": [],
      "source": [
        "# Loop For\n",
        "'''\n",
        "9.3. Crie uma lista com os nomes de cinco cidades. Use um loop for para imprimir\n",
        "cada nome de cidade.\n",
        "'''"
      ]
    },
    {
      "cell_type": "code",
      "execution_count": null,
      "metadata": {
        "id": "GitTfGfM539Y"
      },
      "outputs": [],
      "source": [
        "# Loop For\n",
        "'''\n",
        "9.4. Crie uma lista com os números de 1 a 10. Use um loop for para imprimir o\n",
        "quadrado de cada número.\n",
        "'''"
      ]
    },
    {
      "cell_type": "markdown",
      "metadata": {
        "id": "_vJUEjo_6mWX"
      },
      "source": [
        "# 10 - Estudo de caso 01"
      ]
    },
    {
      "cell_type": "code",
      "execution_count": null,
      "metadata": {
        "id": "llIsNhsG6l_z"
      },
      "outputs": [],
      "source": [
        "'''\n",
        "Contexto:\n",
        "Uma empresa precisa registrar informações sobre seus clientes e calcular o IMC\n",
        "(Índice de Massa Corporal) de cada um deles. As informações devem ser\n",
        "armazenadas em um dicionário e exibidas ao final.\n",
        "'''\n",
        "\n",
        "\n",
        "'''\n",
        "Requisitos:\n",
        "Peça ao usuário para inserir os seguintes dados de um cliente:\n",
        "Nome\n",
        "Idade\n",
        "Peso (em kg)\n",
        "Altura (em metros)\n",
        "E-mail\n",
        "Armazene essas informações em um dicionário.\n",
        "Calcule o IMC do cliente (IMC = Peso / (Altura * Altura)) e adicione esse valor ao dicionário.\n",
        "Exiba todas as informações do cliente, incluindo o IMC arredondado para duas casas decimais.\n",
        "\n",
        "'''"
      ]
    },
    {
      "cell_type": "markdown",
      "metadata": {
        "id": "_Yi8lRKQ68B3"
      },
      "source": [
        "# 11 - Estudo de Caso 02"
      ]
    },
    {
      "cell_type": "code",
      "execution_count": null,
      "metadata": {
        "id": "mrqCtmjg6_It"
      },
      "outputs": [],
      "source": [
        "'''\n",
        "Contexto:\n",
        "Uma escola precisa analisar as notas de seus alunos e determinar se cada aluno\n",
        "foi aprovado ou reprovado. As notas serão armazenadas em uma lista e a análise\n",
        "deve ser realizada em um loop.\n",
        "'''\n",
        "\n",
        "'''\n",
        "Requisitos:\n",
        "Peça ao usuário para inserir o nome e a nota de cinco alunos.\n",
        "Armazene os nomes e as notas em listas separadas.\n",
        "Para cada aluno, verifique se a nota é maior ou igual a 60. Se sim, o aluno está\n",
        "aprovado; caso contrário, está reprovado.\n",
        "Exiba uma mensagem para cada aluno informando seu nome, nota e se foi aprovado\n",
        "ou reprovado.\n",
        "'''"
      ]
    },
    {
      "cell_type": "markdown",
      "metadata": {
        "id": "DoDAFqG37QWG"
      },
      "source": [
        "# 12 - Estudo de caso 03"
      ]
    },
    {
      "cell_type": "code",
      "execution_count": null,
      "metadata": {
        "id": "34JqxL0B7Tvj"
      },
      "outputs": [],
      "source": [
        "'''\n",
        "Contexto\n",
        "Uma empresa deseja realizar uma pesquisa de opinião com cinco participantes\n",
        "sobre um novo produto. As respostas devem ser armazenadas e analisadas para\n",
        "verificar a satisfação dos clientes.\n",
        "'''\n",
        "\n",
        "'''\n",
        "Requisitos\n",
        "Peça ao usuário para inserir o nome e a opinião (satisfeito/insatisfeito) de\n",
        "cinco participantes.\n",
        "Armazene os nomes e as opiniões em um dicionário.\n",
        "Conte o número de participantes satisfeitos e insatisfeitos.\n",
        "Exiba a lista de participantes satisfeitos e insatisfeitos, bem como o número\n",
        "total de cada categoria.\n",
        "'''"
      ]
    }
  ],
  "metadata": {
    "colab": {
      "provenance": []
    },
    "kernelspec": {
      "display_name": "Python 3",
      "name": "python3"
    },
    "language_info": {
      "codemirror_mode": {
        "name": "ipython",
        "version": 3
      },
      "file_extension": ".py",
      "mimetype": "text/x-python",
      "name": "python",
      "nbconvert_exporter": "python",
      "pygments_lexer": "ipython3",
      "version": "3.12.5"
    }
  },
  "nbformat": 4,
  "nbformat_minor": 0
}
