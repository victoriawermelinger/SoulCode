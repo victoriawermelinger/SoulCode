{
  "nbformat": 4,
  "nbformat_minor": 0,
  "metadata": {
    "colab": {
      "provenance": []
    },
    "kernelspec": {
      "name": "python3",
      "display_name": "Python 3"
    },
    "language_info": {
      "name": "python"
    }
  },
  "cells": [
    {
      "cell_type": "markdown",
      "source": [
        "# NumPy"
      ],
      "metadata": {
        "id": "-VTqUIy76UZA"
      }
    },
    {
      "cell_type": "markdown",
      "source": [
        "NumPy é um pacote fundamental para computação científica em Python, sendo usado como base para praticamente todos os outros. Suas capacidades incluem uma poderosa classe *array*, que pode representar vetores e matrizes, sofisticadas funções para manipulação de *arrays*, ferramentas para integração de códigos em C/C++ e Fortran, além de funções de álgebra linear e de geração de números aleatórios. Os *arrays* de NumPy também podem ser usados para armazenar dados de tipos genéricos, permitindo fácil integração com diferentes tipos de bases e bancos de dados. A documentação completa para todas as versões de NumPy pode ser encontrada em [numpy.org/doc](https://numpy.org/doc).\n",
        "\n",
        "## A classe *array*\n",
        "\n",
        "A classe *array* é o principal componente de NumPy e representa uma lista homogênea multidimensional, na forma de uma tabela de elementos (normalmente números), todos do mesmo tipo, indexada por tuplas de inteiros positivos. Um dimensão de um *array* é chamada de eixo (*axis*). Abaixo, temos dois exemplos de *arrays* (note sua criação por meio de listas):"
      ],
      "metadata": {
        "id": "wXq5T8zP6YAi"
      }
    },
    {
      "cell_type": "code",
      "source": [
        "import numpy as np\n",
        "\n",
        "a = np.array([1,2,1]) # Uma dimensão, 3 elementos, tipo inteiro\n",
        "# print(len(a), a.dtype)\n",
        "# print(a.shape, a.dtype)\n",
        "\n",
        "#Duas dimensões, a primeira com 2 elementos e a segunda com 3\n",
        "b = np.array([\n",
        "    [1., 0., 1., 2.],\n",
        "    [0., 1., 2., 4.]\n",
        "])\n",
        "# print(b.shape, len(b), b.dtype)\n",
        "# display(b)"
      ],
      "metadata": {
        "id": "NOYsRqlM698S"
      },
      "execution_count": null,
      "outputs": []
    },
    {
      "cell_type": "code",
      "source": [
        "c = [\n",
        "    [1,2,3],\n",
        "    [4,5,6,7],\n",
        "    [8,9]\n",
        "]\n",
        "print(len(c))"
      ],
      "metadata": {
        "colab": {
          "base_uri": "https://localhost:8080/"
        },
        "id": "XR3b-2Gr-Z7a",
        "outputId": "39dacdca-03f6-407f-8632-28056063e9b4"
      },
      "execution_count": null,
      "outputs": [
        {
          "output_type": "stream",
          "name": "stdout",
          "text": [
            "3\n"
          ]
        }
      ]
    },
    {
      "cell_type": "code",
      "source": [
        "import numpy as np\n",
        "d = np.array([\n",
        "    [1,2,3],\n",
        "    [4,5,6,7],\n",
        "    [8,9]\n",
        "], dtype=object)\n",
        "\n",
        "print(d.shape, d.dtype)\n",
        "\n",
        "# Contar o numero de colunas de cada linha\n",
        "total_colunas = [len(L) for L in d]\n",
        "print(total_colunas)"
      ],
      "metadata": {
        "colab": {
          "base_uri": "https://localhost:8080/"
        },
        "id": "EKwI28Iv_KGh",
        "outputId": "65c9ae2e-fa1b-482c-bd68-3649e51d47dd"
      },
      "execution_count": null,
      "outputs": [
        {
          "output_type": "stream",
          "name": "stdout",
          "text": [
            "(3,) object\n",
            "[3, 4, 2]\n"
          ]
        }
      ]
    },
    {
      "cell_type": "markdown",
      "source": [
        "A biblioteca padrão de Python também tem uma classe *array.array*, mas ela serve apenas pra casos unidimensionais e oferece menos funcionalidades. Os atributos mais importantes do *array* de numpy incluem:\n",
        "\n",
        "   * array.ndim: o número de eixos do *array*\n",
        "   * array.shape: as dimensões do *array* na forma de uma tupla indicando o tamanho de cada dimensão; matriz $n \\times m$ possui shape $(n, m)$\n",
        "   * array.size: o número total de elementos no *array*\n",
        "   * array.dtype: o tipo dos elementos do *array*\n",
        "\n",
        "### Criando *arrays*\n",
        "\n",
        "A criação de um *array* pode ser feita usando listas ou tuplas, com o tipo dos dados sendo deduzido através dos tpos dos elementos da sequência. Uma lista de listas resultará em um *array* bidimensional, uma lista de listas de listas dará um *array* tridimensional e assim por diante. É possível especificar o tipo do *array* na hora da criação:"
      ],
      "metadata": {
        "id": "KgYvgwTwApwy"
      }
    },
    {
      "cell_type": "code",
      "source": [
        "b = np.array(\n",
        "    [\n",
        "        [1., 0., 1.],\n",
        "        [0., 1., 2.]\n",
        "    ],\n",
        "    dtype=complex\n",
        ")\n",
        "display(b)"
      ],
      "metadata": {
        "colab": {
          "base_uri": "https://localhost:8080/",
          "height": 52
        },
        "id": "IHT9MdosA24Y",
        "outputId": "3eb70d4d-e2b1-4d04-941a-5e47794fa0b3"
      },
      "execution_count": null,
      "outputs": [
        {
          "output_type": "display_data",
          "data": {
            "text/plain": [
              "array([[1.+0.j, 0.+0.j, 1.+0.j],\n",
              "       [0.+0.j, 1.+0.j, 2.+0.j]])"
            ]
          },
          "metadata": {}
        }
      ]
    },
    {
      "cell_type": "markdown",
      "source": [
        "Frequentemente é necessario criar arrays com um tamanho definido e valores iniciais que serão posteriormente modificados. Para isso, NumPy fornece diversas funções, incluindo a função zeros, que cria um array preenchido com zeros; ones, que cria um array preenchido com uns; empty, que cria um array cujo conteúdo inicial é aleatório e depende do estado da memória; e eye, que cria uma matriz identidade."
      ],
      "metadata": {
        "id": "CATjs57_CwRe"
      }
    },
    {
      "cell_type": "markdown",
      "source": [
        "a + bj"
      ],
      "metadata": {
        "id": "INfxtnAMBIoI"
      }
    },
    {
      "cell_type": "code",
      "source": [
        "print(np.zeros((3,4))) # Note que as dimensões são passadas como uma tupla\n",
        "print()\n",
        "print(np.ones((3,4)))\n",
        "print()\n",
        "print(np.empty((3, 5)))\n",
        "print()\n",
        "print(np.eye(3, dtype=np.int32))"
      ],
      "metadata": {
        "id": "yvRbuFgQC-Jg"
      },
      "execution_count": null,
      "outputs": []
    },
    {
      "cell_type": "markdown",
      "source": [
        "Para criar sequências de números, pode-se usar a função *arange*, que é análoga à função *range*, mas retorna *arrays* e aceita criar intervalos de pontos flutuantes."
      ],
      "metadata": {
        "id": "AjRqVCWaEYWa"
      }
    },
    {
      "cell_type": "code",
      "source": [
        "#np.arange(start, stop, step)\n",
        "print(np.arange(5, 20, 2))\n",
        "\n",
        "print(np.arange(0, 2, 0.4))"
      ],
      "metadata": {
        "colab": {
          "base_uri": "https://localhost:8080/"
        },
        "id": "xQc92XGeEc9c",
        "outputId": "690c0f26-02d9-4b37-961a-1c040014b973"
      },
      "execution_count": null,
      "outputs": [
        {
          "output_type": "stream",
          "name": "stdout",
          "text": [
            "[ 5  7  9 11 13 15 17 19]\n",
            "[0.  0.4 0.8 1.2 1.6]\n"
          ]
        }
      ]
    },
    {
      "cell_type": "markdown",
      "source": [
        "Devido a possíveis problemas de arredondamento, não é sempre possível saber quantos elementos serão gerados pela função arange ao receber pontos flutuantes como parâmetros. Nesses casos, é melhor usar a função linspace, que recebe como argumentos o início, o fim (inclusivo) e o número de valores desejados no intervalo."
      ],
      "metadata": {
        "id": "P3sUBuNvItRv"
      }
    },
    {
      "cell_type": "code",
      "source": [
        "#np.linspace(start, stop, num)\n",
        "print(np.linspace(0, 9, 3))"
      ],
      "metadata": {
        "colab": {
          "base_uri": "https://localhost:8080/"
        },
        "id": "y3mmlQ6bIy4I",
        "outputId": "0f3607f8-3701-4289-a91b-1509c7e0d862"
      },
      "execution_count": null,
      "outputs": [
        {
          "output_type": "stream",
          "name": "stdout",
          "text": [
            "[0.  4.5 9. ]\n"
          ]
        }
      ]
    },
    {
      "cell_type": "markdown",
      "source": [
        "A função *linspace* é útil para avaliar funções em muitos pontos."
      ],
      "metadata": {
        "id": "wZ8Y0bfLKLxp"
      }
    },
    {
      "cell_type": "code",
      "source": [
        "import matplotlib.pyplot as plt\n",
        "\n",
        "x = np.linspace(0, 2 * np.pi, 100)\n",
        "f = np.sin(x)\n",
        "\n",
        "plt.plot(x, f)\n",
        "plt.show()"
      ],
      "metadata": {
        "id": "_LSh3QpYKPp4"
      },
      "execution_count": null,
      "outputs": []
    },
    {
      "cell_type": "markdown",
      "source": [
        "### Operações básicas\n",
        "\n",
        "Operações aritméticas com *arrays* sempre são aplicadas elemento-a-elemento, criando um novo *array* como resultado:"
      ],
      "metadata": {
        "id": "kpSKTKcdKwUo"
      }
    },
    {
      "cell_type": "code",
      "source": [
        "a = np.array([10, 20, 30, 40])\n",
        "print(a)\n",
        "print()\n",
        "b = np.arange(4)\n",
        "print(b)\n",
        "\n",
        "c = a - b\n",
        "print(c)\n",
        "print()\n",
        "\n",
        "print(b ** 2)\n",
        "print()\n",
        "\n",
        "print(a < 25)\n",
        "print()\n",
        "\n",
        "print(a * b)\n",
        "\n",
        "d = (a * b) + (a - b) - (b ** 2)\n",
        "print(\"Operações múltiplas (a * b) + (a - b) - (b ** 2):\", d)"
      ],
      "metadata": {
        "id": "PSUbj9EXK2xS"
      },
      "execution_count": null,
      "outputs": []
    },
    {
      "cell_type": "markdown",
      "source": [
        "## O operador '\\*' multiplica os *arrays* através dos elementos. Para realizar a multiplicação de matrizes, pode-se usar o operador '@', a função *dot* do NumPy, ou o método *dot* do *array*:"
      ],
      "metadata": {
        "id": "p10XSXcnOIUZ"
      }
    },
    {
      "cell_type": "code",
      "source": [
        "A = np.array(\n",
        "    [\n",
        "        [1, 1],\n",
        "        [0, 1]\n",
        "    ]\n",
        ")\n",
        "\n",
        "B = np.array(\n",
        "    [\n",
        "        [2, 0],\n",
        "        [0, 2]\n",
        "    ]\n",
        ")\n",
        "\n",
        "print(A @ B)\n",
        "print()\n",
        "print(np.dot(A, B))\n",
        "print()\n",
        "print(A.dot(B))"
      ],
      "metadata": {
        "id": "vYkkXz1NONyA"
      },
      "execution_count": null,
      "outputs": []
    },
    {
      "cell_type": "markdown",
      "source": [
        "Elemento(1,1): (1x2) + (1x0) = 2\n",
        "Elemento(1,2): (1x0) + (1x2) = 2\n",
        "Elemento(2,1): (0x2) + (1x0) = 0\n",
        "Elemento(2,2): (0x0) + (1x2) = 2\n",
        "\n",
        "[1, 1] x [2, 0]\n",
        "[0, 1]   [0, 2]\n"
      ],
      "metadata": {
        "id": "lrKwS6-kPR_Q"
      }
    },
    {
      "cell_type": "markdown",
      "source": [
        "Algumas operações, como as de atribuição aritmética \"+=\" e \"\\*=\", modificam o *array* diretamente, ao invés de criar outro com o resultado."
      ],
      "metadata": {
        "id": "KfQJKJH5Q1Nc"
      }
    },
    {
      "cell_type": "code",
      "source": [
        "A = np.array(\n",
        "    [\n",
        "        [1, 1],\n",
        "        [0, 1]\n",
        "    ]\n",
        ")\n",
        "\n",
        "A += 1\n",
        "print(A)"
      ],
      "metadata": {
        "colab": {
          "base_uri": "https://localhost:8080/"
        },
        "id": "TtgOVKpRQ4a1",
        "outputId": "2e2dbb17-5e8a-4e7e-f1f8-58ffe1cee5ac"
      },
      "execution_count": null,
      "outputs": [
        {
          "output_type": "stream",
          "name": "stdout",
          "text": [
            "[[2 2]\n",
            " [1 2]]\n"
          ]
        }
      ]
    },
    {
      "cell_type": "markdown",
      "source": [
        "Operações com *arrays* de tipos diferentes resultam em um *array* do tipo mais geral ou preciso (*upcasting*). Exemplo:"
      ],
      "metadata": {
        "id": "FXG_sFdEROha"
      }
    },
    {
      "cell_type": "code",
      "source": [
        "a = np.ones(3, dtype=float)\n",
        "b = np.ones(3, dtype=int)\n",
        "\n",
        "print((a + b))"
      ],
      "metadata": {
        "colab": {
          "base_uri": "https://localhost:8080/"
        },
        "id": "eSnfpKlwRQeI",
        "outputId": "54698ca9-cab0-4cdd-a427-a46b1ea420dd"
      },
      "execution_count": null,
      "outputs": [
        {
          "output_type": "stream",
          "name": "stdout",
          "text": [
            "[2. 2. 2.]\n"
          ]
        }
      ]
    },
    {
      "cell_type": "markdown",
      "source": [
        "Muitas operações são computadas como métodos da classe *array*, por exemplo a soma de todos os elementos, a média ou o desvio-padrão:"
      ],
      "metadata": {
        "id": "_zXLmaX5RwsE"
      }
    },
    {
      "cell_type": "code",
      "source": [
        "a = np.random.random((5, 3)) # Aleatoriza numeros entre ZERO e UM\n",
        "print(a)\n",
        "\n",
        "print()\n",
        "print(\n",
        "  'Soma: {}, Média: {}, Desvio_Padrão: {}'.format(a.sum(), a.mean(), a.std())\n",
        ")"
      ],
      "metadata": {
        "colab": {
          "base_uri": "https://localhost:8080/"
        },
        "id": "2k9vDfQOR05T",
        "outputId": "e687168f-7240-49c9-9357-a6e6b2d3c1c5"
      },
      "execution_count": null,
      "outputs": [
        {
          "output_type": "stream",
          "name": "stdout",
          "text": [
            "[[50.3908806  70.04389742 40.2475854 ]\n",
            " [97.80727766 15.32775642 52.48204469]\n",
            " [ 0.78707902 72.63007263 66.3260665 ]\n",
            " [70.91045294 25.92459328 63.25446101]\n",
            " [16.51830169 20.15014202 10.54498036]]\n",
            "\n",
            "Soma: 673.3455916519499, Média: 44.88970611012999, Desvio_Padrão: 27.762104142694447\n"
          ]
        }
      ]
    },
    {
      "cell_type": "code",
      "source": [
        "a = np.random.random((5, 3))\n",
        "b = a *100\n",
        "print(b)\n",
        "\n",
        "print()\n",
        "print(\n",
        "  'Soma: {}, Média: {}, Desvio_Padrão: {}'.format(b.sum(), b.mean(), b.std())\n",
        ")"
      ],
      "metadata": {
        "id": "RmVuMOKfTO5w"
      },
      "execution_count": null,
      "outputs": []
    },
    {
      "cell_type": "code",
      "source": [
        "a = np.random.random((5, 3))\n",
        "b = a *100\n",
        "\n",
        "#Arredondar para o inteiro mais proximo\n",
        "c = np.round(b)\n",
        "print(c)\n",
        "\n",
        "print()\n",
        "print(\n",
        "  'Soma: {}, Média: {}, Desvio_Padrão: {}'.format(c.sum(), c.mean(), c.std())\n",
        ")"
      ],
      "metadata": {
        "colab": {
          "base_uri": "https://localhost:8080/"
        },
        "id": "dD43pWzsTVR7",
        "outputId": "616d34b0-58e6-4dcf-fb13-e676226409f1"
      },
      "execution_count": null,
      "outputs": [
        {
          "output_type": "stream",
          "name": "stdout",
          "text": [
            "[[83. 77. 41.]\n",
            " [66. 24. 42.]\n",
            " [29. 43. 99.]\n",
            " [46.  7. 10.]\n",
            " [82. 16. 25.]]\n",
            "\n",
            "Soma: 690.0, Média: 46.0, Desvio_Padrão: 28.06658748999125\n"
          ]
        }
      ]
    },
    {
      "cell_type": "code",
      "source": [
        "a = np.random.random((5, 3))\n",
        "b = a *100\n",
        "print(b)\n",
        "print()\n",
        "#Arredondar para baixo\n",
        "c = np.floor(b)\n",
        "print(c)\n",
        "\n",
        "print()\n",
        "print(\n",
        "  'Soma: {}, Média: {}, Desvio_Padrão: {}'.format(c.sum(), c.mean(), c.std())\n",
        ")"
      ],
      "metadata": {
        "colab": {
          "base_uri": "https://localhost:8080/"
        },
        "id": "9oJBOO3iTmxC",
        "outputId": "95206d66-4def-4114-a670-28c2fcf53d92"
      },
      "execution_count": null,
      "outputs": [
        {
          "output_type": "stream",
          "name": "stdout",
          "text": [
            "[[67.87108174  0.16534557 12.6121018 ]\n",
            " [ 6.9656447  12.65182394 96.70507178]\n",
            " [88.79979292 29.22619183 98.09460045]\n",
            " [26.43694158 41.46191313 35.60477192]\n",
            " [64.46171177 12.20241982 99.11215652]]\n",
            "\n",
            "[[67.  0. 12.]\n",
            " [ 6. 12. 96.]\n",
            " [88. 29. 98.]\n",
            " [26. 41. 35.]\n",
            " [64. 12. 99.]]\n",
            "\n",
            "Soma: 685.0, Média: 45.666666666666664, Desvio_Padrão: 35.175117468018335\n"
          ]
        }
      ]
    },
    {
      "cell_type": "code",
      "source": [
        "a = np.random.random((5, 3))\n",
        "b = a *100\n",
        "print(b)\n",
        "print()\n",
        "#Arredondar para cima\n",
        "c = np.ceil(b)\n",
        "print(c)\n",
        "\n",
        "print()\n",
        "print(\n",
        "  'Soma: {}, Média: {}, Desvio_Padrão: {}'.format(c.sum(), c.mean(), c.std())\n",
        ")"
      ],
      "metadata": {
        "id": "ZT9lobgXT4i3"
      },
      "execution_count": null,
      "outputs": []
    },
    {
      "cell_type": "markdown",
      "source": [
        "Por padrão, essas operações são computadas sobre todos os elementos do *array*, independente das suas dimensões. No entanto, é possível especificar a dimensão desejada, usando o parâmetro *axis*, como mostra o código abaixo:"
      ],
      "metadata": {
        "id": "0gpN83bBwq2E"
      }
    },
    {
      "cell_type": "code",
      "source": [
        "a = np.random.random((5, 3))\n",
        "b = a *100\n",
        "# print(b)\n",
        "print()\n",
        "#Arredondar para cima\n",
        "c = np.ceil(b)\n",
        "print(c)\n",
        "print()\n",
        "print(c.sum(axis=0)) #Soma de cada coluna\n",
        "# print(c.sum(axis=1)) #Soma de cada linha\n",
        "print()\n",
        "\n",
        "# print(c.mean(axis=0)) #Média de cada coluna\n",
        "# print(c.mean(axis=1)) #Média de cada linha\n",
        "\n",
        "#Soma acumulada de cada coluna\n",
        "print(c.cumsum(axis=0))"
      ],
      "metadata": {
        "id": "UscN9X8fw2-k"
      },
      "execution_count": null,
      "outputs": []
    },
    {
      "cell_type": "code",
      "source": [
        "import numpy as np\n",
        "\n",
        "#Gerar um array de numeros aleatorios no intervalo de (0,1)\n",
        "a = np.random.random((5,3)) * 50\n",
        "a = np.ceil(a)\n",
        "#Transformar o intevalo gerado para (0, 50)\n",
        "# b = a * 50\n",
        "print(\"Array Original\")\n",
        "print(a)\n",
        "\n",
        "#Calcular a soma acumulada ao longo do eixo 0 (colunas)\n",
        "soma_acumulada = a.cumsum(axis=0)\n",
        "print(\"Soma Acumulada\")\n",
        "print(soma_acumulada)"
      ],
      "metadata": {
        "id": "j_czREl-yb4n"
      },
      "execution_count": null,
      "outputs": []
    },
    {
      "cell_type": "code",
      "source": [
        "import numpy as np\n",
        "\n",
        "#Gerar um array de numeros aleatorios no intervalo de (0,1)\n",
        "a = np.ceil(np.random.random((5,3)) * 50)\n",
        "\n",
        "print(\"Array Original\")\n",
        "print(a)\n",
        "\n",
        "#Calcular a soma acumulada ao longo do eixo 0 (colunas)\n",
        "soma_acumulada = a.cumsum(axis=0)\n",
        "print(\"Soma Acumulada\")\n",
        "print(soma_acumulada)"
      ],
      "metadata": {
        "colab": {
          "base_uri": "https://localhost:8080/"
        },
        "id": "IxcFd6bc0OHV",
        "outputId": "4a06118a-6075-434b-9d48-cd80234ff866"
      },
      "execution_count": null,
      "outputs": [
        {
          "output_type": "stream",
          "name": "stdout",
          "text": [
            "Array Original\n",
            "[[46.  9. 12.]\n",
            " [ 9. 19.  7.]\n",
            " [24. 33. 38.]\n",
            " [12. 50. 10.]\n",
            " [45.  6. 34.]]\n",
            "Soma Acumulada\n",
            "[[ 46.   9.  12.]\n",
            " [ 55.  28.  19.]\n",
            " [ 79.  61.  57.]\n",
            " [ 91. 111.  67.]\n",
            " [136. 117. 101.]]\n"
          ]
        }
      ]
    },
    {
      "cell_type": "markdown",
      "source": [
        "Vamos supor que você esteja monitorando as vendas diárias de uma loja e deseja entender a receita acumulada ao longo do mês. O cálculo da soma acumulada pode ajudar a visualizar a receita total acumulada do dia a dia, fornecendo insights sobre o desempenho da loja e facilitando a análise de tendências e padrões de vendas."
      ],
      "metadata": {
        "id": "z-EeIQF2326I"
      }
    },
    {
      "cell_type": "code",
      "source": [
        "import numpy as np\n",
        "\n",
        "#Simulando vendas diárias em um mês (30 dias)\n",
        "vendas_diarias = np.ceil(np.random.random(30) * 1000) # vendas diárias entre 0 e 1000\n",
        "\n",
        "#Calculando a soma acumulada das vendas\n",
        "vendas_acumuladas = vendas_diarias.cumsum()\n",
        "\n",
        "print(\"Vendas Diárias\")\n",
        "display(vendas_diarias)\n",
        "\n",
        "print(\"Vendas Acumuladas\")\n",
        "display(vendas_acumuladas)"
      ],
      "metadata": {
        "colab": {
          "base_uri": "https://localhost:8080/",
          "height": 173
        },
        "id": "4LrgtbZ34VNv",
        "outputId": "6d30b3ab-0d31-4fe2-cdba-7454061fa69e"
      },
      "execution_count": null,
      "outputs": [
        {
          "output_type": "stream",
          "name": "stdout",
          "text": [
            "Vendas Diárias\n"
          ]
        },
        {
          "output_type": "display_data",
          "data": {
            "text/plain": [
              "array([159., 840., 813., 531., 723., 367.,  72., 555., 309., 764., 205.,\n",
              "       981., 167., 660., 863., 951., 804.,  86., 945., 214., 360., 981.,\n",
              "       950., 894., 287., 335., 212.,  69., 466., 647.])"
            ]
          },
          "metadata": {}
        },
        {
          "output_type": "stream",
          "name": "stdout",
          "text": [
            "Vendas Acumuladas\n"
          ]
        },
        {
          "output_type": "display_data",
          "data": {
            "text/plain": [
              "array([  159.,   999.,  1812.,  2343.,  3066.,  3433.,  3505.,  4060.,\n",
              "        4369.,  5133.,  5338.,  6319.,  6486.,  7146.,  8009.,  8960.,\n",
              "        9764.,  9850., 10795., 11009., 11369., 12350., 13300., 14194.,\n",
              "       14481., 14816., 15028., 15097., 15563., 16210.])"
            ]
          },
          "metadata": {}
        }
      ]
    },
    {
      "cell_type": "code",
      "source": [
        "import numpy as np\n",
        "\n",
        "#Simulando vendas diárias em um mês (30 dias)\n",
        "vendas_diarias = np.random.random(30) * 1000 # vendas diárias entre 0 e 1000\n",
        "\n",
        "vendas_diarias_ceil = np.ceil(vendas_diarias * 100) / 100\n",
        "# 12.345 * 100 = 12345 / 100  = 123.45\n",
        "#Calculando a soma acumulada das vendas\n",
        "vendas_acumuladas = vendas_diarias_ceil.cumsum()\n",
        "\n",
        "print(\"Vendas Diárias\")\n",
        "display(vendas_diarias_ceil)\n",
        "\n",
        "print(\"Vendas Acumuladas\")\n",
        "display(vendas_acumuladas)"
      ],
      "metadata": {
        "colab": {
          "base_uri": "https://localhost:8080/",
          "height": 208
        },
        "id": "Oo1onKH158__",
        "outputId": "a862ac13-f95c-4492-d32b-a37783ec9e33"
      },
      "execution_count": null,
      "outputs": [
        {
          "output_type": "stream",
          "name": "stdout",
          "text": [
            "Vendas Diárias\n"
          ]
        },
        {
          "output_type": "display_data",
          "data": {
            "text/plain": [
              "array([995.84, 403.15, 422.36,  96.01, 507.99, 103.95, 533.63, 415.73,\n",
              "        47.16, 924.97, 808.63, 851.23, 176.3 , 440.26, 134.  , 754.87,\n",
              "       357.05, 618.03,  22.92, 360.9 , 690.88, 461.48, 106.95, 796.81,\n",
              "       580.73, 293.02, 939.25,   2.5 , 350.57, 399.79])"
            ]
          },
          "metadata": {}
        },
        {
          "output_type": "stream",
          "name": "stdout",
          "text": [
            "Vendas Acumuladas\n"
          ]
        },
        {
          "output_type": "display_data",
          "data": {
            "text/plain": [
              "array([  995.84,  1398.99,  1821.35,  1917.36,  2425.35,  2529.3 ,\n",
              "        3062.93,  3478.66,  3525.82,  4450.79,  5259.42,  6110.65,\n",
              "        6286.95,  6727.21,  6861.21,  7616.08,  7973.13,  8591.16,\n",
              "        8614.08,  8974.98,  9665.86, 10127.34, 10234.29, 11031.1 ,\n",
              "       11611.83, 11904.85, 12844.1 , 12846.6 , 13197.17, 13596.96])"
            ]
          },
          "metadata": {}
        }
      ]
    },
    {
      "cell_type": "code",
      "source": [
        "import numpy as np\n",
        "\n",
        "#Simulando vendas diárias em um mês (30 dias)\n",
        "vendas_diarias = np.random.random(30) * 1000 # vendas diárias entre 0 e 1000\n",
        "\n",
        "vendas_diarias_ceil = np.round(np.ceil(vendas_diarias * 100) /100, 2)\n",
        "# 12.345 * 100 = 12345 / 100  = 123.45\n",
        "#Calculando a soma acumulada das vendas\n",
        "vendas_acumuladas = vendas_diarias_ceil.cumsum()\n",
        "\n",
        "print(\"Vendas Diárias\")\n",
        "display(vendas_diarias_ceil)\n",
        "\n",
        "print(\"Vendas Acumuladas\")\n",
        "display(vendas_acumuladas)"
      ],
      "metadata": {
        "colab": {
          "base_uri": "https://localhost:8080/",
          "height": 208
        },
        "id": "6E-8TCBl7S6j",
        "outputId": "20548c15-5599-4a3c-a236-7bc0d6e8341b"
      },
      "execution_count": null,
      "outputs": [
        {
          "output_type": "stream",
          "name": "stdout",
          "text": [
            "Vendas Diárias\n"
          ]
        },
        {
          "output_type": "display_data",
          "data": {
            "text/plain": [
              "array([373.08, 445.12, 915.74,  75.37, 321.55, 652.04, 231.08, 773.04,\n",
              "       120.17, 217.47, 572.16, 841.27, 891.11, 350.25, 337.9 , 739.49,\n",
              "       440.53, 997.79, 549.86, 169.57, 522.75, 388.5 , 175.8 , 302.97,\n",
              "       499.7 , 826.12, 954.38, 599.92, 573.5 , 424.89])"
            ]
          },
          "metadata": {}
        },
        {
          "output_type": "stream",
          "name": "stdout",
          "text": [
            "Vendas Acumuladas\n"
          ]
        },
        {
          "output_type": "display_data",
          "data": {
            "text/plain": [
              "array([  373.08,   818.2 ,  1733.94,  1809.31,  2130.86,  2782.9 ,\n",
              "        3013.98,  3787.02,  3907.19,  4124.66,  4696.82,  5538.09,\n",
              "        6429.2 ,  6779.45,  7117.35,  7856.84,  8297.37,  9295.16,\n",
              "        9845.02, 10014.59, 10537.34, 10925.84, 11101.64, 11404.61,\n",
              "       11904.31, 12730.43, 13684.81, 14284.73, 14858.23, 15283.12])"
            ]
          },
          "metadata": {}
        }
      ]
    },
    {
      "cell_type": "code",
      "source": [
        "import numpy as np\n",
        "\n",
        "#Simulando vendas diárias em um mês (30 dias)\n",
        "vendas_diarias = np.random.random(30) * 1000 # vendas diárias entre 0 e 1000\n",
        "\n",
        "# vendas_diarias_ceil = np.round(np.ceil(vendas_diarias * 100) /100, 2)\n",
        "vendas_diarias_ceil = np.round(vendas_diarias, 2)\n",
        "# 12.345 * 100 = 12345 / 100  = 123.45\n",
        "#Calculando a soma acumulada das vendas\n",
        "vendas_acumuladas = vendas_diarias_ceil.cumsum()\n",
        "\n",
        "print(\"Vendas Diárias\")\n",
        "display(vendas_diarias_ceil)\n",
        "\n",
        "print(\"Vendas Acumuladas\")\n",
        "display(vendas_acumuladas)"
      ],
      "metadata": {
        "colab": {
          "base_uri": "https://localhost:8080/",
          "height": 208
        },
        "id": "mXqW7x6o72uz",
        "outputId": "387bce80-8b69-4738-8f2b-8fb07baa2ee3"
      },
      "execution_count": null,
      "outputs": [
        {
          "output_type": "stream",
          "name": "stdout",
          "text": [
            "Vendas Diárias\n"
          ]
        },
        {
          "output_type": "display_data",
          "data": {
            "text/plain": [
              "array([227.2 ,  66.94, 175.43, 154.4 , 534.8 , 975.12, 743.82,   4.87,\n",
              "       171.05, 984.93, 746.66, 239.8 , 182.37, 752.45, 530.49, 738.24,\n",
              "       741.35, 157.62, 388.52, 692.02, 957.98, 764.85, 261.01, 570.03,\n",
              "       957.72, 247.78, 978.56, 277.26, 444.08, 652.41])"
            ]
          },
          "metadata": {}
        },
        {
          "output_type": "stream",
          "name": "stdout",
          "text": [
            "Vendas Acumuladas\n"
          ]
        },
        {
          "output_type": "display_data",
          "data": {
            "text/plain": [
              "array([  227.2 ,   294.14,   469.57,   623.97,  1158.77,  2133.89,\n",
              "        2877.71,  2882.58,  3053.63,  4038.56,  4785.22,  5025.02,\n",
              "        5207.39,  5959.84,  6490.33,  7228.57,  7969.92,  8127.54,\n",
              "        8516.06,  9208.08, 10166.06, 10930.91, 11191.92, 11761.95,\n",
              "       12719.67, 12967.45, 13946.01, 14223.27, 14667.35, 15319.76])"
            ]
          },
          "metadata": {}
        }
      ]
    },
    {
      "cell_type": "code",
      "source": [
        "import numpy as np\n",
        "import pandas as pd\n",
        "\n",
        "#Simulando vendas diárias em um mês (30 dias)\n",
        "vendas_diarias = np.random.random(30) * 1000 # vendas diárias entre 0 e 1000\n",
        "\n",
        "# vendas_diarias_ceil = np.round(np.ceil(vendas_diarias * 100) /100, 2)\n",
        "vendas_diarias_ceil = np.round(vendas_diarias, 2)\n",
        "# 12.345 * 100 = 12345 / 100  = 123.45\n",
        "#Calculando a soma acumulada das vendas\n",
        "vendas_acumuladas = vendas_diarias_ceil.cumsum()\n",
        "\n",
        "print(\"Vendas Diárias\")\n",
        "display(vendas_diarias_ceil)\n",
        "\n",
        "print(\"Vendas Acumuladas\")\n",
        "display(vendas_acumuladas)\n",
        "\n",
        "#Criar um DataFrame com as vendas acumuladas\n",
        "df_vendas_acumuladas = pd.DataFrame({\n",
        "    'Dia': np.arange(1, len(vendas_acumuladas) + 1),\n",
        "    'Vendas Acumuladas': vendas_acumuladas\n",
        "})\n",
        "\n",
        "display(df_vendas_acumuladas)"
      ],
      "metadata": {
        "id": "U8Qb-3058Pbb"
      },
      "execution_count": null,
      "outputs": []
    },
    {
      "cell_type": "code",
      "source": [
        "!pip install pyspark"
      ],
      "metadata": {
        "colab": {
          "base_uri": "https://localhost:8080/"
        },
        "id": "whEwsxFf-H12",
        "outputId": "81671fbe-3cd5-48c6-9b52-2cd4b5d3e972"
      },
      "execution_count": null,
      "outputs": [
        {
          "output_type": "stream",
          "name": "stdout",
          "text": [
            "Requirement already satisfied: pyspark in /usr/local/lib/python3.10/dist-packages (3.5.2)\n",
            "Requirement already satisfied: py4j==0.10.9.7 in /usr/local/lib/python3.10/dist-packages (from pyspark) (0.10.9.7)\n"
          ]
        }
      ]
    },
    {
      "cell_type": "code",
      "source": [
        "from pyspark.sql import SparkSession\n",
        "from pyspark.sql.functions import col, round\n",
        "\n",
        "# Cria uma sessão Spark\n",
        "spark = SparkSession.builder.appName(\"VendasAcumuladas\").getOrCreate()\n",
        "\n",
        "import numpy as np\n",
        "import pandas as pd\n",
        "\n",
        "#Simulando vendas diárias em um mês (30 dias)\n",
        "vendas_diarias = np.random.random(30) * 1000 # vendas diárias entre 0 e 1000\n",
        "\n",
        "# vendas_diarias_ceil = np.round(np.ceil(vendas_diarias * 100) /100, 2)\n",
        "vendas_diarias_ceil = np.round(vendas_diarias, 2)\n",
        "# 12.345 * 100 = 12345 / 100  = 123.45\n",
        "#Calculando a soma acumulada das vendas\n",
        "vendas_acumuladas = vendas_diarias_ceil.cumsum()\n",
        "\n",
        "print(\"Vendas Diárias\")\n",
        "display(vendas_diarias_ceil)\n",
        "\n",
        "print(\"Vendas Acumuladas\")\n",
        "display(vendas_acumuladas)\n",
        "\n",
        "# Criar um DataFrame do PySpark com as vendas acumuladas\n",
        "vendas_acumuladas_list = [(i + 1, float(vendas_acumuladas[i])) for i in range(len(vendas_acumuladas))]\n",
        "dfps_vendas_acumuladas = spark.createDataFrame(vendas_acumuladas_list, [\"Dia\", \"Vendas Acumuladas\"])\n",
        "\n",
        "#Exibir DF\n",
        "dfps_vendas_acumuladas.show()\n",
        "\n"
      ],
      "metadata": {
        "colab": {
          "base_uri": "https://localhost:8080/",
          "height": 659
        },
        "id": "MnqNvpZj9-7V",
        "outputId": "7f886d4f-8a4a-4a24-cd31-a28bf2c1e1a0"
      },
      "execution_count": null,
      "outputs": [
        {
          "output_type": "stream",
          "name": "stdout",
          "text": [
            "Vendas Diárias\n"
          ]
        },
        {
          "output_type": "display_data",
          "data": {
            "text/plain": [
              "array([607.45, 547.87, 712.5 , 506.42,   2.16, 831.74, 995.25, 669.75,\n",
              "       203.56, 964.47, 674.92, 751.52, 735.43, 256.  , 201.6 , 674.76,\n",
              "       776.89, 131.61, 367.39, 444.71, 347.72, 809.  , 883.82,  31.26,\n",
              "       826.74, 631.15,  56.35, 894.04, 683.56, 768.47])"
            ]
          },
          "metadata": {}
        },
        {
          "output_type": "stream",
          "name": "stdout",
          "text": [
            "Vendas Acumuladas\n"
          ]
        },
        {
          "output_type": "display_data",
          "data": {
            "text/plain": [
              "array([  607.45,  1155.32,  1867.82,  2374.24,  2376.4 ,  3208.14,\n",
              "        4203.39,  4873.14,  5076.7 ,  6041.17,  6716.09,  7467.61,\n",
              "        8203.04,  8459.04,  8660.64,  9335.4 , 10112.29, 10243.9 ,\n",
              "       10611.29, 11056.  , 11403.72, 12212.72, 13096.54, 13127.8 ,\n",
              "       13954.54, 14585.69, 14642.04, 15536.08, 16219.64, 16988.11])"
            ]
          },
          "metadata": {}
        },
        {
          "output_type": "stream",
          "name": "stdout",
          "text": [
            "+---+------------------+\n",
            "|Dia| Vendas Acumuladas|\n",
            "+---+------------------+\n",
            "|  1|            607.45|\n",
            "|  2|1155.3200000000002|\n",
            "|  3|1867.8200000000002|\n",
            "|  4|2374.2400000000002|\n",
            "|  5|            2376.4|\n",
            "|  6|3208.1400000000003|\n",
            "|  7|           4203.39|\n",
            "|  8|           4873.14|\n",
            "|  9| 5076.700000000001|\n",
            "| 10| 6041.170000000001|\n",
            "| 11| 6716.090000000001|\n",
            "| 12| 7467.610000000001|\n",
            "| 13|           8203.04|\n",
            "| 14|           8459.04|\n",
            "| 15| 8660.640000000001|\n",
            "| 16| 9335.400000000001|\n",
            "| 17|          10112.29|\n",
            "| 18|10243.900000000001|\n",
            "| 19|          10611.29|\n",
            "| 20|           11056.0|\n",
            "+---+------------------+\n",
            "only showing top 20 rows\n",
            "\n"
          ]
        }
      ]
    },
    {
      "cell_type": "code",
      "source": [
        "from pyspark.sql import SparkSession\n",
        "from pyspark.sql.functions import col, round\n",
        "from pyspark.sql.types import StructType, StructField, IntegerType, FloatType\n",
        "\n",
        "\n",
        "# Cria uma sessão Spark\n",
        "spark = SparkSession.builder.appName(\"VendasAcumuladas\").getOrCreate()\n",
        "\n",
        "import numpy as np\n",
        "import pandas as pd\n",
        "\n",
        "#Simulando vendas diárias em um mês (30 dias)\n",
        "vendas_diarias = np.random.random(30) * 1000 # vendas diárias entre 0 e 1000\n",
        "\n",
        "# vendas_diarias_ceil = np.round(np.ceil(vendas_diarias * 100) /100, 2)\n",
        "vendas_diarias_ceil = np.round(vendas_diarias, 2)\n",
        "\n",
        "# 12.345 * 100 = 12345 / 100  = 123.45\n",
        "#Calculando a soma acumulada das vendas\n",
        "vendas_acumuladas = vendas_diarias_ceil.cumsum()\n",
        "\n",
        "print(\"Vendas Diárias\")\n",
        "display(vendas_diarias_ceil)\n",
        "\n",
        "print(\"Vendas Acumuladas\")\n",
        "display(vendas_acumuladas)\n",
        "\n",
        "# Criar uma lista de tuplas (Dia, vendas diarias, vendas acumuladas)\n",
        "vendas_completas_list = [(i + 1, float(vendas_diarias[i]), float(vendas_acumuladas[i])) for i in range(len(vendas_acumuladas))]\n",
        "\n",
        "#Definir um schema explicitamente\n",
        "schema = StructType([\n",
        "    StructField(\"Dia\", IntegerType(), False),\n",
        "    StructField(\"Vendas Diárias\", FloatType(), False),\n",
        "    StructField(\"Vendas Acumuladas\", FloatType(), False)\n",
        "])\n",
        "# Criar um DataFrame do PySpark com as vendas acumuladas\n",
        "dfps_vendas_completas = spark.createDataFrame(vendas_completas_list, schema=schema)\n",
        "\n",
        "#Exibir DF\n",
        "dfps_vendas_completas.show()\n"
      ],
      "metadata": {
        "colab": {
          "base_uri": "https://localhost:8080/",
          "height": 659
        },
        "id": "WOacp4EXAfgd",
        "outputId": "5365a06a-ec5a-4d83-f64f-0c46f9a1de6a"
      },
      "execution_count": null,
      "outputs": [
        {
          "output_type": "stream",
          "name": "stdout",
          "text": [
            "Vendas Diárias\n"
          ]
        },
        {
          "output_type": "display_data",
          "data": {
            "text/plain": [
              "array([547.51, 534.9 , 810.46, 513.53, 162.24, 421.14, 537.45, 477.43,\n",
              "       336.4 ,  89.07, 655.31, 794.2 , 497.31,  22.6 , 790.8 , 492.01,\n",
              "       378.36, 262.31,  47.73, 289.28, 254.35, 132.83, 760.64, 531.87,\n",
              "       774.51, 173.77, 618.49, 786.69, 697.95, 346.76])"
            ]
          },
          "metadata": {}
        },
        {
          "output_type": "stream",
          "name": "stdout",
          "text": [
            "Vendas Acumuladas\n"
          ]
        },
        {
          "output_type": "display_data",
          "data": {
            "text/plain": [
              "array([  547.51,  1082.41,  1892.87,  2406.4 ,  2568.64,  2989.78,\n",
              "        3527.23,  4004.66,  4341.06,  4430.13,  5085.44,  5879.64,\n",
              "        6376.95,  6399.55,  7190.35,  7682.36,  8060.72,  8323.03,\n",
              "        8370.76,  8660.04,  8914.39,  9047.22,  9807.86, 10339.73,\n",
              "       11114.24, 11288.01, 11906.5 , 12693.19, 13391.14, 13737.9 ])"
            ]
          },
          "metadata": {}
        },
        {
          "output_type": "stream",
          "name": "stdout",
          "text": [
            "+---+--------------+-----------------+\n",
            "|Dia|Vendas Diárias|Vendas Acumuladas|\n",
            "+---+--------------+-----------------+\n",
            "|  1|      547.5071|           547.51|\n",
            "|  2|      534.9047|          1082.41|\n",
            "|  3|      810.4595|          1892.87|\n",
            "|  4|     513.52966|           2406.4|\n",
            "|  5|     162.24481|          2568.64|\n",
            "|  6|     421.14172|          2989.78|\n",
            "|  7|       537.455|          3527.23|\n",
            "|  8|     477.43228|          4004.66|\n",
            "|  9|     336.40366|          4341.06|\n",
            "| 10|     89.071465|          4430.13|\n",
            "| 11|     655.30865|          5085.44|\n",
            "| 12|      794.1974|          5879.64|\n",
            "| 13|     497.30588|          6376.95|\n",
            "| 14|     22.598694|          6399.55|\n",
            "| 15|      790.7981|          7190.35|\n",
            "| 16|     492.01453|          7682.36|\n",
            "| 17|     378.36145|          8060.72|\n",
            "| 18|     262.30832|          8323.03|\n",
            "| 19|     47.731285|          8370.76|\n",
            "| 20|     289.28455|          8660.04|\n",
            "+---+--------------+-----------------+\n",
            "only showing top 20 rows\n",
            "\n"
          ]
        }
      ]
    },
    {
      "cell_type": "code",
      "source": [
        "from pyspark.sql import SparkSession\n",
        "from pyspark.sql.functions import col, round\n",
        "from pyspark.sql.types import StructType, StructField, IntegerType, FloatType\n",
        "import matplotlib.pyplot as plt\n",
        "\n",
        "# Cria uma sessão Spark\n",
        "spark = SparkSession.builder.appName(\"VendasAcumuladas\").getOrCreate()\n",
        "\n",
        "import numpy as np\n",
        "import pandas as pd\n",
        "\n",
        "#Simulando vendas diárias em um mês (30 dias)\n",
        "vendas_diarias = np.random.random(30) * 1000 # vendas diárias entre 0 e 1000\n",
        "\n",
        "# vendas_diarias_ceil = np.round(np.ceil(vendas_diarias * 100) /100, 2)\n",
        "vendas_diarias_ceil = np.round(vendas_diarias, 2)\n",
        "\n",
        "# 12.345 * 100 = 12345 / 100  = 123.45\n",
        "#Calculando a soma acumulada das vendas\n",
        "vendas_acumuladas = vendas_diarias_ceil.cumsum()\n",
        "\n",
        "print(\"Vendas Diárias\")\n",
        "display(vendas_diarias_ceil)\n",
        "\n",
        "print(\"Vendas Acumuladas\")\n",
        "display(vendas_acumuladas)\n",
        "\n",
        "# Criar uma lista de tuplas (Dia, vendas diarias, vendas acumuladas)\n",
        "vendas_completas_list = [(i + 1, float(vendas_diarias[i]), float(vendas_acumuladas[i])) for i in range(len(vendas_acumuladas))]\n",
        "\n",
        "#Definir um schema explicitamente\n",
        "schema = StructType([\n",
        "    StructField(\"Dia\", IntegerType(), False),\n",
        "    StructField(\"Vendas Diárias\", FloatType(), False),\n",
        "    StructField(\"Vendas Acumuladas\", FloatType(), False)\n",
        "])\n",
        "# Criar um DataFrame do PySpark com as vendas acumuladas\n",
        "dfps_vendas_completas = spark.createDataFrame(vendas_completas_list, schema=schema)\n",
        "\n",
        "#Exibir DF\n",
        "# dfps_vendas_completas.show()\n",
        "\n",
        "#Convertendo para Pandas\n",
        "df_vendas_completas = dfps_vendas_completas.toPandas()\n",
        "\n",
        "#Configurações do Matplotlib\n",
        "plt.figure(figsize=(10,6))\n",
        "\n",
        "#Plot das vendas diárias\n",
        "plt.plot(df_vendas_completas['Dia'], label= 'Vendas Diárias', marker='o' )\n",
        "\n",
        "#Plot das vendas acumuladas\n",
        "plt.plot(df_vendas_completas['Dia'], df_vendas_completas['Vendas Acumuladas'], label='Vendas Acumuladas', marker='o')\n",
        "\n",
        "#Títulos e rótulos\n",
        "plt.title('Vendas Diárias Acumuladas')\n",
        "plt.xlabel('Dia')\n",
        "plt.ylabel('Valor (R$)')\n",
        "plt.legend()\n",
        "\n",
        "#Exibir o gráfico\n",
        "plt.grid(True)\n",
        "plt.show()"
      ],
      "metadata": {
        "id": "CDPtLd_XDAds"
      },
      "execution_count": null,
      "outputs": []
    },
    {
      "cell_type": "code",
      "source": [
        "!pip install streamlit"
      ],
      "metadata": {
        "id": "XPix4SKiFf8H"
      },
      "execution_count": null,
      "outputs": []
    },
    {
      "cell_type": "code",
      "source": [
        "from pyspark.sql import SparkSession\n",
        "from pyspark.sql.functions import col, round\n",
        "from pyspark.sql.types import StructType, StructField, IntegerType, FloatType\n",
        "import matplotlib.pyplot as plt\n",
        "import streamlit as st\n",
        "# Cria uma sessão Spark\n",
        "spark = SparkSession.builder.appName(\"VendasAcumuladas\").getOrCreate()\n",
        "\n",
        "import numpy as np\n",
        "import pandas as pd\n",
        "\n",
        "#Simulando vendas diárias em um mês (30 dias)\n",
        "vendas_diarias = np.random.random(30) * 1000 # vendas diárias entre 0 e 1000\n",
        "\n",
        "# vendas_diarias_ceil = np.round(np.ceil(vendas_diarias * 100) /100, 2)\n",
        "vendas_diarias_ceil = np.round(vendas_diarias, 2)\n",
        "\n",
        "# 12.345 * 100 = 12345 / 100  = 123.45\n",
        "#Calculando a soma acumulada das vendas\n",
        "vendas_acumuladas = vendas_diarias_ceil.cumsum()\n",
        "\n",
        "print(\"Vendas Diárias\")\n",
        "display(vendas_diarias_ceil)\n",
        "\n",
        "print(\"Vendas Acumuladas\")\n",
        "display(vendas_acumuladas)\n",
        "\n",
        "# Criar uma lista de tuplas (Dia, vendas diarias, vendas acumuladas)\n",
        "vendas_completas_list = [(i + 1, float(vendas_diarias[i]), float(vendas_acumuladas[i])) for i in range(len(vendas_acumuladas))]\n",
        "\n",
        "#Definir um schema explicitamente\n",
        "schema = StructType([\n",
        "    StructField(\"Dia\", IntegerType(), False),\n",
        "    StructField(\"Vendas Diárias\", FloatType(), False),\n",
        "    StructField(\"Vendas Acumuladas\", FloatType(), False)\n",
        "])\n",
        "# Criar um DataFrame do PySpark com as vendas acumuladas\n",
        "dfps_vendas_completas = spark.createDataFrame(vendas_completas_list, schema=schema)\n",
        "\n",
        "#Exibir DF\n",
        "# dfps_vendas_completas.show()\n",
        "\n",
        "#Convertendo para Pandas\n",
        "df_vendas_completas = dfps_vendas_completas.toPandas()\n",
        "\n",
        "#Configurações do Matplotlib\n",
        "plt.figure(figsize=(10,6))\n",
        "\n",
        "#Plot das vendas diárias\n",
        "plt.plot(df_vendas_completas['Dia'], label= 'Vendas Diárias', marker='o' )\n",
        "\n",
        "#Plot das vendas acumuladas\n",
        "plt.plot(df_vendas_completas['Dia'], df_vendas_completas['Vendas Acumuladas'], label='Vendas Acumuladas', marker='o')\n",
        "\n",
        "#Títulos e rótulos\n",
        "plt.title('Vendas Diárias Acumuladas')\n",
        "plt.xlabel('Dia')\n",
        "plt.ylabel('Valor (R$)')\n",
        "plt.legend()\n",
        "\n",
        "#Exibir o gráfico\n",
        "plt.grid(True)\n",
        "\n",
        "#Renderizar o gráfico no Streamlit\n",
        "st.pyplot(plt)\n",
        "\n",
        "#Exibir os dados a pedido da Carla no  Streamlit\n",
        "st.write(\"Dados de vendas Diárias e Acumuladas\")\n",
        "st.dataframe(df_vendas_completas)"
      ],
      "metadata": {
        "id": "RXhRTL1oFYhr"
      },
      "execution_count": null,
      "outputs": []
    },
    {
      "cell_type": "markdown",
      "source": [
        "### Indexando e iterando sobre elementos\n",
        "\n",
        "*Arrays* unidimensionais podem ser indexados, fatiados e iterados exatamente como listas e outras coleções."
      ],
      "metadata": {
        "id": "lr5fjcnAJvEf"
      }
    },
    {
      "cell_type": "code",
      "source": [
        "a = np.arange(8) * 3\n",
        "print(a)\n",
        "\n",
        "print()\n",
        "\n",
        "print(a[2]) # por indice\n",
        "print()\n",
        "\n",
        "print(a[2:5]) # por intervalo de indices\n",
        "print()\n",
        "\n",
        "a[:5:2] = - 1000\n",
        "# a[0] = -1000\n",
        "# a[2] = -1000\n",
        "print(a)\n",
        "print()\n",
        "\n",
        "for i in a:\n",
        "  print(i * 2)\n"
      ],
      "metadata": {
        "id": "tlYLwIEiQurg"
      },
      "execution_count": null,
      "outputs": []
    },
    {
      "cell_type": "markdown",
      "source": [
        "Para indexar e iterar sobre elementos de um array do NumPy no Google Colab, você pode usar várias técnicas básicas e avançadas."
      ],
      "metadata": {
        "id": "tm2PNImYULfO"
      }
    },
    {
      "cell_type": "markdown",
      "source": [
        "##Criando um Array Numpy"
      ],
      "metadata": {
        "id": "8fT-6_u5UYSE"
      }
    },
    {
      "cell_type": "code",
      "source": [
        "import numpy as np\n",
        "#Criando um array 2D(matriz)\n",
        "\n",
        "array = np.array([\n",
        "    [1,2,3],\n",
        "    [4,5,6],\n",
        "    [7,8,9]\n",
        "])\n",
        "print(array)"
      ],
      "metadata": {
        "colab": {
          "base_uri": "https://localhost:8080/"
        },
        "id": "Zg2wBFZJUcOX",
        "outputId": "adfa63f0-7cfd-4a0b-e90a-0d725426b863"
      },
      "execution_count": null,
      "outputs": [
        {
          "output_type": "stream",
          "name": "stdout",
          "text": [
            "[[1 2 3]\n",
            " [4 5 6]\n",
            " [7 8 9]]\n"
          ]
        }
      ]
    },
    {
      "cell_type": "markdown",
      "source": [
        "##Indexando Elementos"
      ],
      "metadata": {
        "id": "RxZsryqDVH4_"
      }
    },
    {
      "cell_type": "code",
      "source": [
        "import numpy as np\n",
        "#Criando um array 2D(matriz)\n",
        "\n",
        "array = np.array([\n",
        "    [1,2,3],\n",
        "    [4,5,6],\n",
        "    [7,8,9]\n",
        "])\n",
        "print(array)\n",
        "print()\n",
        "#Acessar um elemento específico(linha, coluna) # Acessar elemento da linha1, coluna2\n",
        "elemento = array[1,2]\n",
        "print(elemento)"
      ],
      "metadata": {
        "colab": {
          "base_uri": "https://localhost:8080/"
        },
        "id": "Qg2ReE9rVRtr",
        "outputId": "72cd9ae4-2200-42bd-d39f-cb7d30f349fd"
      },
      "execution_count": null,
      "outputs": [
        {
          "output_type": "stream",
          "name": "stdout",
          "text": [
            "[[1 2 3]\n",
            " [4 5 6]\n",
            " [7 8 9]]\n",
            "\n",
            "6\n"
          ]
        }
      ]
    },
    {
      "cell_type": "markdown",
      "source": [
        "##Indexação de Fatias (Slicing)"
      ],
      "metadata": {
        "id": "hvPZWGFrV3q_"
      }
    },
    {
      "cell_type": "code",
      "source": [
        "import numpy as np\n",
        "#Criando um array 2D(matriz)\n",
        "\n",
        "array = np.array([\n",
        "    [1,2,3],\n",
        "    [4,5,6],\n",
        "    [7,8,9]\n",
        "])\n",
        "print(array)\n",
        "print()\n",
        "\n",
        "#Acessar uma submatriz (linha1 e 2, todas as colunas)\n",
        "submatriz = array[1:3, :]\n",
        "print(submatriz)\n",
        "print()\n",
        "#Acessar uma submatriz2 (linha1 e 2, colunas1 e 2)\n",
        "submatriz2 = array[1:3, 1:3]\n",
        "print(submatriz2)"
      ],
      "metadata": {
        "id": "DT77xmMVWMT3"
      },
      "execution_count": null,
      "outputs": []
    },
    {
      "cell_type": "markdown",
      "source": [
        "##Iterando sobre os elementos"
      ],
      "metadata": {
        "id": "0sUcS06jXXTZ"
      }
    },
    {
      "cell_type": "code",
      "source": [
        "import numpy as np\n",
        "#Criando um array 2D(matriz)\n",
        "\n",
        "array = np.array([\n",
        "    [1,2,3],\n",
        "    [4,5,6],\n",
        "    [7,8,9]\n",
        "])\n",
        "print(array)\n",
        "print()\n",
        "\n",
        "#Iterando sobre os elementos\n",
        "for linha in array:\n",
        "  print(linha)"
      ],
      "metadata": {
        "colab": {
          "base_uri": "https://localhost:8080/"
        },
        "id": "hRCfZmAFXbWu",
        "outputId": "2732d7ae-e6fc-443e-8a35-1f9ba86fe967"
      },
      "execution_count": null,
      "outputs": [
        {
          "output_type": "stream",
          "name": "stdout",
          "text": [
            "[[1 2 3]\n",
            " [4 5 6]\n",
            " [7 8 9]]\n",
            "\n",
            "[1 2 3]\n",
            "[4 5 6]\n",
            "[7 8 9]\n"
          ]
        }
      ]
    },
    {
      "cell_type": "code",
      "source": [
        "import numpy as np\n",
        "#Criando um array 2D(matriz)\n",
        "\n",
        "array = np.array([\n",
        "    [1,2,3],\n",
        "    [4,5,6],\n",
        "    [7,8,9]\n",
        "])\n",
        "print(array)\n",
        "print()\n",
        "\n",
        "#Iterando sobre as linhas e elementos dentro de cada linha\n",
        "for linha in array:\n",
        "  for elemento in linha:\n",
        "    print(elemento, end= ' ')\n",
        "  print()"
      ],
      "metadata": {
        "id": "4zkyQtIfYZWt"
      },
      "execution_count": null,
      "outputs": []
    },
    {
      "cell_type": "markdown",
      "source": [
        "##Iterando sobre os elementos individuais\n",
        "\n",
        "Para iterar sobre os elementos individualmente, podemos usar *np.nditer*"
      ],
      "metadata": {
        "id": "dDhq8t9BZSPL"
      }
    },
    {
      "cell_type": "code",
      "source": [
        "import numpy as np\n",
        "#Criando um array 2D(matriz)\n",
        "\n",
        "array = np.array([\n",
        "    [1,2,3],\n",
        "    [4,5,6],\n",
        "    [7,8,9]\n",
        "])\n",
        "print(array)\n",
        "print()\n",
        "\n",
        "for elemento in np.nditer(array):\n",
        "  print(elemento)"
      ],
      "metadata": {
        "id": "BBKaWznpZW0t"
      },
      "execution_count": null,
      "outputs": []
    },
    {
      "cell_type": "markdown",
      "source": [
        "##Uso do Enumerate\n",
        "\n",
        "*np.ndenumerate*(array)"
      ],
      "metadata": {
        "id": "2ju9mUzwaGjd"
      }
    },
    {
      "cell_type": "code",
      "source": [
        "import numpy as np\n",
        "#Criando um array 2D(matriz)\n",
        "\n",
        "array = np.array([\n",
        "    [1,2,3],\n",
        "    [4,5,6],\n",
        "    [7,8,9]\n",
        "])\n",
        "print(array)\n",
        "print()\n",
        "\n",
        "for indice, elemento in np.ndenumerate(array):\n",
        "  print(f\"Índice: {indice}, elemento: {elemento}\")"
      ],
      "metadata": {
        "colab": {
          "base_uri": "https://localhost:8080/"
        },
        "id": "jQ1JSXXnaNt8",
        "outputId": "d3b8af42-3674-4f2e-d676-b60e99e54228"
      },
      "execution_count": null,
      "outputs": [
        {
          "output_type": "stream",
          "name": "stdout",
          "text": [
            "[[1 2 3]\n",
            " [4 5 6]\n",
            " [7 8 9]]\n",
            "\n",
            "Índice: (0, 0), elemento: 1\n",
            "Índice: (0, 1), elemento: 2\n",
            "Índice: (0, 2), elemento: 3\n",
            "Índice: (1, 0), elemento: 4\n",
            "Índice: (1, 1), elemento: 5\n",
            "Índice: (1, 2), elemento: 6\n",
            "Índice: (2, 0), elemento: 7\n",
            "Índice: (2, 1), elemento: 8\n",
            "Índice: (2, 2), elemento: 9\n"
          ]
        }
      ]
    },
    {
      "cell_type": "code",
      "source": [
        "import numpy as np\n",
        "#Criando um array 2D(matriz)\n",
        "\n",
        "array = np.array([\n",
        "    [1,2,3],\n",
        "    [4,5,6],\n",
        "    [7,8,9]\n",
        "])\n",
        "print(array)\n",
        "print()\n",
        "\n",
        "#Interando sobre as linhas e elementos dentro de cada linha com indices\n",
        "\n",
        "for i, linha in enumerate(array):\n",
        "  for j, elemento in enumerate(linha):\n",
        "    print(f\"Elemento na posição ({i},{j}) é: {elemento}\")\n"
      ],
      "metadata": {
        "id": "LV8tdLCrbE1T"
      },
      "execution_count": null,
      "outputs": []
    },
    {
      "cell_type": "code",
      "source": [
        "import numpy as np\n",
        "#Criando um array 2D(matriz)\n",
        "\n",
        "array = np.array([\n",
        "    [1,2,3],\n",
        "    [4,5,6],\n",
        "    [7,8,9]\n",
        "])\n",
        "print(array)\n",
        "print()\n",
        "\n",
        "#Interando sobre as linhas e elementos dentro de cada linha com indices\n",
        "\n",
        "for i in range(array.shape[0]):\n",
        "  for j in range(array.shape[1]):\n",
        "    print(f\"Elemento na posição ({i},{j}) é: {array[i,j]}\")\n"
      ],
      "metadata": {
        "id": "Wombh8B1e5z6"
      },
      "execution_count": null,
      "outputs": []
    },
    {
      "cell_type": "code",
      "source": [
        "import numpy as np\n",
        "#Criando um array 2D(matriz)\n",
        "\n",
        "array = np.array([\n",
        "    [1,2,3],\n",
        "    [4,5,6],\n",
        "    [7,8,9]\n",
        "])\n",
        "print(array)\n",
        "print()\n",
        "\n",
        "#Interando sobre as linhas e elementos dentro de cada linha com indices\n",
        "\n",
        "for i in np.ndindex(array.shape):\n",
        "  print(f\"Elemento na posição {i} é: {array[i]}\")\n"
      ],
      "metadata": {
        "id": "jKSCdhHQfnkA"
      },
      "execution_count": null,
      "outputs": []
    },
    {
      "cell_type": "markdown",
      "source": [
        "##Indexação Booleana"
      ],
      "metadata": {
        "id": "xBAmIdCRhkZw"
      }
    },
    {
      "cell_type": "code",
      "source": [
        "import numpy as np\n",
        "#Criando um array 2D(matriz)\n",
        "\n",
        "array = np.array([\n",
        "    [1,2,3],\n",
        "    [4,5,6],\n",
        "    [7,8,9]\n",
        "])\n",
        "print(array)\n",
        "print()\n",
        "\n",
        "#Criando uma máscara booleana\n",
        "mask = array > 5\n",
        "print(mask)\n",
        "print()\n",
        "\n",
        "# Usando a máscara booleana para indexar\n",
        "print(array[mask])"
      ],
      "metadata": {
        "id": "lUuzOqOlht8w"
      },
      "execution_count": null,
      "outputs": []
    },
    {
      "cell_type": "markdown",
      "source": [
        "##Indexação por lista de Índices"
      ],
      "metadata": {
        "id": "JTX1NN_Ci8NF"
      }
    },
    {
      "cell_type": "code",
      "source": [
        "import numpy as np\n",
        "#Criando um array 2D(matriz)\n",
        "\n",
        "array = np.array([\n",
        "    [1,2,3,10,20,30],\n",
        "    [4,5,6,40,50,60],\n",
        "    [7,8,9,70,80,90],\n",
        "    [17,18,19,170,180,190],\n",
        "    [27,28,29,270,280,290]\n",
        "])\n",
        "print(array)\n",
        "print()\n",
        "\n",
        "#Acessar elementos nas posições (0,1) e (2,0)\n",
        "linhas = [0, 2, 3]\n",
        "colunas = [0, 2, 4]\n",
        "\n",
        "\n",
        "print(array[linhas, colunas])\n"
      ],
      "metadata": {
        "id": "e216byEHjBNR"
      },
      "execution_count": null,
      "outputs": []
    },
    {
      "cell_type": "markdown",
      "source": [
        "#Iteração com controle de Ordem\n",
        "\n",
        "Iteração em Ordem Fortran(Colunas Primeiro)"
      ],
      "metadata": {
        "id": "-crTearXl339"
      }
    },
    {
      "cell_type": "code",
      "source": [
        "import numpy as np\n",
        "#Criando um array 2D(matriz)\n",
        "\n",
        "array = np.array([\n",
        "    [1,2,3,10,20,30],\n",
        "    [4,5,6,40,50,60],\n",
        "    [7,8,9,70,80,90],\n",
        "    [17,18,19,170,180,190],\n",
        "    [27,28,29,270,280,290]\n",
        "])\n",
        "print(array)\n",
        "print()\n",
        "\n",
        "for elemento in np.nditer(array, order='F'):\n",
        "  print(elemento)\n"
      ],
      "metadata": {
        "id": "Ugbfst7pmGJn"
      },
      "execution_count": null,
      "outputs": []
    },
    {
      "cell_type": "code",
      "source": [
        "import numpy as np\n",
        "#Criando um array 2D(matriz)\n",
        "\n",
        "array = np.array([\n",
        "    [1,2,3],\n",
        "    [4,5,6],\n",
        "    [7,8,9]\n",
        "])\n",
        "print(array)\n",
        "print()\n",
        "\n",
        "#Criando listas para armazenar os dados de cada coluna\n",
        "coluna_1 = []\n",
        "coluna_2 = []\n",
        "coluna_3 = []\n",
        "#2 esta na coluna 2 % 3 = 2\n",
        "#Iteração sobre os elementos na ordem de coluna\n",
        "for idx, elemento in enumerate (np.nditer(array)):\n",
        "  if idx % 3 == 0:\n",
        "    coluna_1.append(int(elemento))\n",
        "  elif idx % 3 == 1:\n",
        "    coluna_2.append(int(elemento))\n",
        "  else:\n",
        "    coluna_3.append(int(elemento))\n",
        "\n",
        "#Criando o Dataframe com os dados de cada coluna em pandas\n",
        "import pandas as pd\n",
        "\n",
        "dfpd = pd.DataFrame({\n",
        "    'Coluna_1': coluna_1,\n",
        "    'Coluna_2': coluna_2,\n",
        "    'Coluna_3': coluna_3\n",
        "})\n",
        "\n",
        "display(dfpd)\n",
        "\n"
      ],
      "metadata": {
        "colab": {
          "base_uri": "https://localhost:8080/",
          "height": 213
        },
        "id": "bmH4kdiIm-wC",
        "outputId": "ef97731b-ab45-406a-ab62-3809cf266b9a"
      },
      "execution_count": null,
      "outputs": [
        {
          "output_type": "stream",
          "name": "stdout",
          "text": [
            "[[1 2 3]\n",
            " [4 5 6]\n",
            " [7 8 9]]\n",
            "\n"
          ]
        },
        {
          "output_type": "display_data",
          "data": {
            "text/plain": [
              "   Coluna_1  Coluna_2  Coluna_3\n",
              "0         1         2         3\n",
              "1         4         5         6\n",
              "2         7         8         9"
            ],
            "text/html": [
              "\n",
              "  <div id=\"df-79d617ea-38c9-4090-9d31-87d96aa02bba\" class=\"colab-df-container\">\n",
              "    <div>\n",
              "<style scoped>\n",
              "    .dataframe tbody tr th:only-of-type {\n",
              "        vertical-align: middle;\n",
              "    }\n",
              "\n",
              "    .dataframe tbody tr th {\n",
              "        vertical-align: top;\n",
              "    }\n",
              "\n",
              "    .dataframe thead th {\n",
              "        text-align: right;\n",
              "    }\n",
              "</style>\n",
              "<table border=\"1\" class=\"dataframe\">\n",
              "  <thead>\n",
              "    <tr style=\"text-align: right;\">\n",
              "      <th></th>\n",
              "      <th>Coluna_1</th>\n",
              "      <th>Coluna_2</th>\n",
              "      <th>Coluna_3</th>\n",
              "    </tr>\n",
              "  </thead>\n",
              "  <tbody>\n",
              "    <tr>\n",
              "      <th>0</th>\n",
              "      <td>1</td>\n",
              "      <td>2</td>\n",
              "      <td>3</td>\n",
              "    </tr>\n",
              "    <tr>\n",
              "      <th>1</th>\n",
              "      <td>4</td>\n",
              "      <td>5</td>\n",
              "      <td>6</td>\n",
              "    </tr>\n",
              "    <tr>\n",
              "      <th>2</th>\n",
              "      <td>7</td>\n",
              "      <td>8</td>\n",
              "      <td>9</td>\n",
              "    </tr>\n",
              "  </tbody>\n",
              "</table>\n",
              "</div>\n",
              "    <div class=\"colab-df-buttons\">\n",
              "\n",
              "  <div class=\"colab-df-container\">\n",
              "    <button class=\"colab-df-convert\" onclick=\"convertToInteractive('df-79d617ea-38c9-4090-9d31-87d96aa02bba')\"\n",
              "            title=\"Convert this dataframe to an interactive table.\"\n",
              "            style=\"display:none;\">\n",
              "\n",
              "  <svg xmlns=\"http://www.w3.org/2000/svg\" height=\"24px\" viewBox=\"0 -960 960 960\">\n",
              "    <path d=\"M120-120v-720h720v720H120Zm60-500h600v-160H180v160Zm220 220h160v-160H400v160Zm0 220h160v-160H400v160ZM180-400h160v-160H180v160Zm440 0h160v-160H620v160ZM180-180h160v-160H180v160Zm440 0h160v-160H620v160Z\"/>\n",
              "  </svg>\n",
              "    </button>\n",
              "\n",
              "  <style>\n",
              "    .colab-df-container {\n",
              "      display:flex;\n",
              "      gap: 12px;\n",
              "    }\n",
              "\n",
              "    .colab-df-convert {\n",
              "      background-color: #E8F0FE;\n",
              "      border: none;\n",
              "      border-radius: 50%;\n",
              "      cursor: pointer;\n",
              "      display: none;\n",
              "      fill: #1967D2;\n",
              "      height: 32px;\n",
              "      padding: 0 0 0 0;\n",
              "      width: 32px;\n",
              "    }\n",
              "\n",
              "    .colab-df-convert:hover {\n",
              "      background-color: #E2EBFA;\n",
              "      box-shadow: 0px 1px 2px rgba(60, 64, 67, 0.3), 0px 1px 3px 1px rgba(60, 64, 67, 0.15);\n",
              "      fill: #174EA6;\n",
              "    }\n",
              "\n",
              "    .colab-df-buttons div {\n",
              "      margin-bottom: 4px;\n",
              "    }\n",
              "\n",
              "    [theme=dark] .colab-df-convert {\n",
              "      background-color: #3B4455;\n",
              "      fill: #D2E3FC;\n",
              "    }\n",
              "\n",
              "    [theme=dark] .colab-df-convert:hover {\n",
              "      background-color: #434B5C;\n",
              "      box-shadow: 0px 1px 3px 1px rgba(0, 0, 0, 0.15);\n",
              "      filter: drop-shadow(0px 1px 2px rgba(0, 0, 0, 0.3));\n",
              "      fill: #FFFFFF;\n",
              "    }\n",
              "  </style>\n",
              "\n",
              "    <script>\n",
              "      const buttonEl =\n",
              "        document.querySelector('#df-79d617ea-38c9-4090-9d31-87d96aa02bba button.colab-df-convert');\n",
              "      buttonEl.style.display =\n",
              "        google.colab.kernel.accessAllowed ? 'block' : 'none';\n",
              "\n",
              "      async function convertToInteractive(key) {\n",
              "        const element = document.querySelector('#df-79d617ea-38c9-4090-9d31-87d96aa02bba');\n",
              "        const dataTable =\n",
              "          await google.colab.kernel.invokeFunction('convertToInteractive',\n",
              "                                                    [key], {});\n",
              "        if (!dataTable) return;\n",
              "\n",
              "        const docLinkHtml = 'Like what you see? Visit the ' +\n",
              "          '<a target=\"_blank\" href=https://colab.research.google.com/notebooks/data_table.ipynb>data table notebook</a>'\n",
              "          + ' to learn more about interactive tables.';\n",
              "        element.innerHTML = '';\n",
              "        dataTable['output_type'] = 'display_data';\n",
              "        await google.colab.output.renderOutput(dataTable, element);\n",
              "        const docLink = document.createElement('div');\n",
              "        docLink.innerHTML = docLinkHtml;\n",
              "        element.appendChild(docLink);\n",
              "      }\n",
              "    </script>\n",
              "  </div>\n",
              "\n",
              "\n",
              "<div id=\"df-9bf7dca0-6274-4ef2-bbe2-cd6215dacc0e\">\n",
              "  <button class=\"colab-df-quickchart\" onclick=\"quickchart('df-9bf7dca0-6274-4ef2-bbe2-cd6215dacc0e')\"\n",
              "            title=\"Suggest charts\"\n",
              "            style=\"display:none;\">\n",
              "\n",
              "<svg xmlns=\"http://www.w3.org/2000/svg\" height=\"24px\"viewBox=\"0 0 24 24\"\n",
              "     width=\"24px\">\n",
              "    <g>\n",
              "        <path d=\"M19 3H5c-1.1 0-2 .9-2 2v14c0 1.1.9 2 2 2h14c1.1 0 2-.9 2-2V5c0-1.1-.9-2-2-2zM9 17H7v-7h2v7zm4 0h-2V7h2v10zm4 0h-2v-4h2v4z\"/>\n",
              "    </g>\n",
              "</svg>\n",
              "  </button>\n",
              "\n",
              "<style>\n",
              "  .colab-df-quickchart {\n",
              "      --bg-color: #E8F0FE;\n",
              "      --fill-color: #1967D2;\n",
              "      --hover-bg-color: #E2EBFA;\n",
              "      --hover-fill-color: #174EA6;\n",
              "      --disabled-fill-color: #AAA;\n",
              "      --disabled-bg-color: #DDD;\n",
              "  }\n",
              "\n",
              "  [theme=dark] .colab-df-quickchart {\n",
              "      --bg-color: #3B4455;\n",
              "      --fill-color: #D2E3FC;\n",
              "      --hover-bg-color: #434B5C;\n",
              "      --hover-fill-color: #FFFFFF;\n",
              "      --disabled-bg-color: #3B4455;\n",
              "      --disabled-fill-color: #666;\n",
              "  }\n",
              "\n",
              "  .colab-df-quickchart {\n",
              "    background-color: var(--bg-color);\n",
              "    border: none;\n",
              "    border-radius: 50%;\n",
              "    cursor: pointer;\n",
              "    display: none;\n",
              "    fill: var(--fill-color);\n",
              "    height: 32px;\n",
              "    padding: 0;\n",
              "    width: 32px;\n",
              "  }\n",
              "\n",
              "  .colab-df-quickchart:hover {\n",
              "    background-color: var(--hover-bg-color);\n",
              "    box-shadow: 0 1px 2px rgba(60, 64, 67, 0.3), 0 1px 3px 1px rgba(60, 64, 67, 0.15);\n",
              "    fill: var(--button-hover-fill-color);\n",
              "  }\n",
              "\n",
              "  .colab-df-quickchart-complete:disabled,\n",
              "  .colab-df-quickchart-complete:disabled:hover {\n",
              "    background-color: var(--disabled-bg-color);\n",
              "    fill: var(--disabled-fill-color);\n",
              "    box-shadow: none;\n",
              "  }\n",
              "\n",
              "  .colab-df-spinner {\n",
              "    border: 2px solid var(--fill-color);\n",
              "    border-color: transparent;\n",
              "    border-bottom-color: var(--fill-color);\n",
              "    animation:\n",
              "      spin 1s steps(1) infinite;\n",
              "  }\n",
              "\n",
              "  @keyframes spin {\n",
              "    0% {\n",
              "      border-color: transparent;\n",
              "      border-bottom-color: var(--fill-color);\n",
              "      border-left-color: var(--fill-color);\n",
              "    }\n",
              "    20% {\n",
              "      border-color: transparent;\n",
              "      border-left-color: var(--fill-color);\n",
              "      border-top-color: var(--fill-color);\n",
              "    }\n",
              "    30% {\n",
              "      border-color: transparent;\n",
              "      border-left-color: var(--fill-color);\n",
              "      border-top-color: var(--fill-color);\n",
              "      border-right-color: var(--fill-color);\n",
              "    }\n",
              "    40% {\n",
              "      border-color: transparent;\n",
              "      border-right-color: var(--fill-color);\n",
              "      border-top-color: var(--fill-color);\n",
              "    }\n",
              "    60% {\n",
              "      border-color: transparent;\n",
              "      border-right-color: var(--fill-color);\n",
              "    }\n",
              "    80% {\n",
              "      border-color: transparent;\n",
              "      border-right-color: var(--fill-color);\n",
              "      border-bottom-color: var(--fill-color);\n",
              "    }\n",
              "    90% {\n",
              "      border-color: transparent;\n",
              "      border-bottom-color: var(--fill-color);\n",
              "    }\n",
              "  }\n",
              "</style>\n",
              "\n",
              "  <script>\n",
              "    async function quickchart(key) {\n",
              "      const quickchartButtonEl =\n",
              "        document.querySelector('#' + key + ' button');\n",
              "      quickchartButtonEl.disabled = true;  // To prevent multiple clicks.\n",
              "      quickchartButtonEl.classList.add('colab-df-spinner');\n",
              "      try {\n",
              "        const charts = await google.colab.kernel.invokeFunction(\n",
              "            'suggestCharts', [key], {});\n",
              "      } catch (error) {\n",
              "        console.error('Error during call to suggestCharts:', error);\n",
              "      }\n",
              "      quickchartButtonEl.classList.remove('colab-df-spinner');\n",
              "      quickchartButtonEl.classList.add('colab-df-quickchart-complete');\n",
              "    }\n",
              "    (() => {\n",
              "      let quickchartButtonEl =\n",
              "        document.querySelector('#df-9bf7dca0-6274-4ef2-bbe2-cd6215dacc0e button');\n",
              "      quickchartButtonEl.style.display =\n",
              "        google.colab.kernel.accessAllowed ? 'block' : 'none';\n",
              "    })();\n",
              "  </script>\n",
              "</div>\n",
              "\n",
              "  <div id=\"id_db243cf5-5d41-45dd-a64a-a42119c2b043\">\n",
              "    <style>\n",
              "      .colab-df-generate {\n",
              "        background-color: #E8F0FE;\n",
              "        border: none;\n",
              "        border-radius: 50%;\n",
              "        cursor: pointer;\n",
              "        display: none;\n",
              "        fill: #1967D2;\n",
              "        height: 32px;\n",
              "        padding: 0 0 0 0;\n",
              "        width: 32px;\n",
              "      }\n",
              "\n",
              "      .colab-df-generate:hover {\n",
              "        background-color: #E2EBFA;\n",
              "        box-shadow: 0px 1px 2px rgba(60, 64, 67, 0.3), 0px 1px 3px 1px rgba(60, 64, 67, 0.15);\n",
              "        fill: #174EA6;\n",
              "      }\n",
              "\n",
              "      [theme=dark] .colab-df-generate {\n",
              "        background-color: #3B4455;\n",
              "        fill: #D2E3FC;\n",
              "      }\n",
              "\n",
              "      [theme=dark] .colab-df-generate:hover {\n",
              "        background-color: #434B5C;\n",
              "        box-shadow: 0px 1px 3px 1px rgba(0, 0, 0, 0.15);\n",
              "        filter: drop-shadow(0px 1px 2px rgba(0, 0, 0, 0.3));\n",
              "        fill: #FFFFFF;\n",
              "      }\n",
              "    </style>\n",
              "    <button class=\"colab-df-generate\" onclick=\"generateWithVariable('dfpd')\"\n",
              "            title=\"Generate code using this dataframe.\"\n",
              "            style=\"display:none;\">\n",
              "\n",
              "  <svg xmlns=\"http://www.w3.org/2000/svg\" height=\"24px\"viewBox=\"0 0 24 24\"\n",
              "       width=\"24px\">\n",
              "    <path d=\"M7,19H8.4L18.45,9,17,7.55,7,17.6ZM5,21V16.75L18.45,3.32a2,2,0,0,1,2.83,0l1.4,1.43a1.91,1.91,0,0,1,.58,1.4,1.91,1.91,0,0,1-.58,1.4L9.25,21ZM18.45,9,17,7.55Zm-12,3A5.31,5.31,0,0,0,4.9,8.1,5.31,5.31,0,0,0,1,6.5,5.31,5.31,0,0,0,4.9,4.9,5.31,5.31,0,0,0,6.5,1,5.31,5.31,0,0,0,8.1,4.9,5.31,5.31,0,0,0,12,6.5,5.46,5.46,0,0,0,6.5,12Z\"/>\n",
              "  </svg>\n",
              "    </button>\n",
              "    <script>\n",
              "      (() => {\n",
              "      const buttonEl =\n",
              "        document.querySelector('#id_db243cf5-5d41-45dd-a64a-a42119c2b043 button.colab-df-generate');\n",
              "      buttonEl.style.display =\n",
              "        google.colab.kernel.accessAllowed ? 'block' : 'none';\n",
              "\n",
              "      buttonEl.onclick = () => {\n",
              "        google.colab.notebook.generateWithVariable('dfpd');\n",
              "      }\n",
              "      })();\n",
              "    </script>\n",
              "  </div>\n",
              "\n",
              "    </div>\n",
              "  </div>\n"
            ],
            "application/vnd.google.colaboratory.intrinsic+json": {
              "type": "dataframe",
              "variable_name": "dfpd",
              "summary": "{\n  \"name\": \"dfpd\",\n  \"rows\": 3,\n  \"fields\": [\n    {\n      \"column\": \"Coluna_1\",\n      \"properties\": {\n        \"dtype\": \"number\",\n        \"std\": 3,\n        \"min\": 1,\n        \"max\": 7,\n        \"num_unique_values\": 3,\n        \"samples\": [\n          1,\n          4,\n          7\n        ],\n        \"semantic_type\": \"\",\n        \"description\": \"\"\n      }\n    },\n    {\n      \"column\": \"Coluna_2\",\n      \"properties\": {\n        \"dtype\": \"number\",\n        \"std\": 3,\n        \"min\": 2,\n        \"max\": 8,\n        \"num_unique_values\": 3,\n        \"samples\": [\n          2,\n          5,\n          8\n        ],\n        \"semantic_type\": \"\",\n        \"description\": \"\"\n      }\n    },\n    {\n      \"column\": \"Coluna_3\",\n      \"properties\": {\n        \"dtype\": \"number\",\n        \"std\": 3,\n        \"min\": 3,\n        \"max\": 9,\n        \"num_unique_values\": 3,\n        \"samples\": [\n          3,\n          6,\n          9\n        ],\n        \"semantic_type\": \"\",\n        \"description\": \"\"\n      }\n    }\n  ]\n}"
            }
          },
          "metadata": {}
        }
      ]
    },
    {
      "cell_type": "code",
      "source": [
        "import numpy as np\n",
        "#Criando um array 2D(matriz)\n",
        "\n",
        "array = np.array([\n",
        "    [1,2,3],\n",
        "    [4,5,6],\n",
        "    [7,8,9]\n",
        "])\n",
        "print(array)\n",
        "print()\n",
        "\n",
        "#Criando listas para armazenar os dados de cada coluna\n",
        "coluna_1 = []\n",
        "coluna_2 = []\n",
        "coluna_3 = []\n",
        "#2 esta na coluna 2 % 3 = 2\n",
        "#Iteração sobre os elementos na ordem de coluna\n",
        "for idx, elemento in enumerate (np.nditer(array, order=\"F\")):\n",
        "  # if idx % 3 == 0:\n",
        "  #   coluna_1.append(int(elemento))\n",
        "  # elif idx % 3 == 1:\n",
        "  #   coluna_2.append(int(elemento))\n",
        "  # else:\n",
        "  #   coluna_3.append(int(elemento))\n",
        "\n",
        "   if idx == 0:\n",
        "    coluna_1.append(int(elemento))\n",
        "   elif idx == 1:\n",
        "    coluna_2.append(int(elemento))\n",
        "   elif idx == 2:\n",
        "    coluna_3.append(int(elemento))\n",
        "\n",
        "#Criando o Dataframe com os dados de cada coluna em pandas\n",
        "import pandas as pd\n",
        "\n",
        "dfpd = pd.DataFrame({\n",
        "    'Coluna_1': coluna_1,\n",
        "    'Coluna_2': coluna_2,\n",
        "    'Coluna_3': coluna_3\n",
        "})\n",
        "\n",
        "display(dfpd)\n",
        "print()\n",
        "\n",
        "#Transformando o DataFrame em um Array Numpy\n",
        "novo_array = dfpd.to_numpy()\n",
        "\n",
        "print(novo_array)"
      ],
      "metadata": {
        "colab": {
          "base_uri": "https://localhost:8080/",
          "height": 282
        },
        "id": "Va5j3C5eqGpc",
        "outputId": "51f386c6-5bde-44e7-8259-001614321075"
      },
      "execution_count": null,
      "outputs": [
        {
          "output_type": "stream",
          "name": "stdout",
          "text": [
            "[[1 2 3]\n",
            " [4 5 6]\n",
            " [7 8 9]]\n",
            "\n"
          ]
        },
        {
          "output_type": "display_data",
          "data": {
            "text/plain": [
              "   Coluna_1  Coluna_2  Coluna_3\n",
              "0         1         4         7\n",
              "1         2         5         8\n",
              "2         3         6         9"
            ],
            "text/html": [
              "\n",
              "  <div id=\"df-bf1a3092-72ea-4b8a-8327-44a6b962ae0d\" class=\"colab-df-container\">\n",
              "    <div>\n",
              "<style scoped>\n",
              "    .dataframe tbody tr th:only-of-type {\n",
              "        vertical-align: middle;\n",
              "    }\n",
              "\n",
              "    .dataframe tbody tr th {\n",
              "        vertical-align: top;\n",
              "    }\n",
              "\n",
              "    .dataframe thead th {\n",
              "        text-align: right;\n",
              "    }\n",
              "</style>\n",
              "<table border=\"1\" class=\"dataframe\">\n",
              "  <thead>\n",
              "    <tr style=\"text-align: right;\">\n",
              "      <th></th>\n",
              "      <th>Coluna_1</th>\n",
              "      <th>Coluna_2</th>\n",
              "      <th>Coluna_3</th>\n",
              "    </tr>\n",
              "  </thead>\n",
              "  <tbody>\n",
              "    <tr>\n",
              "      <th>0</th>\n",
              "      <td>1</td>\n",
              "      <td>4</td>\n",
              "      <td>7</td>\n",
              "    </tr>\n",
              "    <tr>\n",
              "      <th>1</th>\n",
              "      <td>2</td>\n",
              "      <td>5</td>\n",
              "      <td>8</td>\n",
              "    </tr>\n",
              "    <tr>\n",
              "      <th>2</th>\n",
              "      <td>3</td>\n",
              "      <td>6</td>\n",
              "      <td>9</td>\n",
              "    </tr>\n",
              "  </tbody>\n",
              "</table>\n",
              "</div>\n",
              "    <div class=\"colab-df-buttons\">\n",
              "\n",
              "  <div class=\"colab-df-container\">\n",
              "    <button class=\"colab-df-convert\" onclick=\"convertToInteractive('df-bf1a3092-72ea-4b8a-8327-44a6b962ae0d')\"\n",
              "            title=\"Convert this dataframe to an interactive table.\"\n",
              "            style=\"display:none;\">\n",
              "\n",
              "  <svg xmlns=\"http://www.w3.org/2000/svg\" height=\"24px\" viewBox=\"0 -960 960 960\">\n",
              "    <path d=\"M120-120v-720h720v720H120Zm60-500h600v-160H180v160Zm220 220h160v-160H400v160Zm0 220h160v-160H400v160ZM180-400h160v-160H180v160Zm440 0h160v-160H620v160ZM180-180h160v-160H180v160Zm440 0h160v-160H620v160Z\"/>\n",
              "  </svg>\n",
              "    </button>\n",
              "\n",
              "  <style>\n",
              "    .colab-df-container {\n",
              "      display:flex;\n",
              "      gap: 12px;\n",
              "    }\n",
              "\n",
              "    .colab-df-convert {\n",
              "      background-color: #E8F0FE;\n",
              "      border: none;\n",
              "      border-radius: 50%;\n",
              "      cursor: pointer;\n",
              "      display: none;\n",
              "      fill: #1967D2;\n",
              "      height: 32px;\n",
              "      padding: 0 0 0 0;\n",
              "      width: 32px;\n",
              "    }\n",
              "\n",
              "    .colab-df-convert:hover {\n",
              "      background-color: #E2EBFA;\n",
              "      box-shadow: 0px 1px 2px rgba(60, 64, 67, 0.3), 0px 1px 3px 1px rgba(60, 64, 67, 0.15);\n",
              "      fill: #174EA6;\n",
              "    }\n",
              "\n",
              "    .colab-df-buttons div {\n",
              "      margin-bottom: 4px;\n",
              "    }\n",
              "\n",
              "    [theme=dark] .colab-df-convert {\n",
              "      background-color: #3B4455;\n",
              "      fill: #D2E3FC;\n",
              "    }\n",
              "\n",
              "    [theme=dark] .colab-df-convert:hover {\n",
              "      background-color: #434B5C;\n",
              "      box-shadow: 0px 1px 3px 1px rgba(0, 0, 0, 0.15);\n",
              "      filter: drop-shadow(0px 1px 2px rgba(0, 0, 0, 0.3));\n",
              "      fill: #FFFFFF;\n",
              "    }\n",
              "  </style>\n",
              "\n",
              "    <script>\n",
              "      const buttonEl =\n",
              "        document.querySelector('#df-bf1a3092-72ea-4b8a-8327-44a6b962ae0d button.colab-df-convert');\n",
              "      buttonEl.style.display =\n",
              "        google.colab.kernel.accessAllowed ? 'block' : 'none';\n",
              "\n",
              "      async function convertToInteractive(key) {\n",
              "        const element = document.querySelector('#df-bf1a3092-72ea-4b8a-8327-44a6b962ae0d');\n",
              "        const dataTable =\n",
              "          await google.colab.kernel.invokeFunction('convertToInteractive',\n",
              "                                                    [key], {});\n",
              "        if (!dataTable) return;\n",
              "\n",
              "        const docLinkHtml = 'Like what you see? Visit the ' +\n",
              "          '<a target=\"_blank\" href=https://colab.research.google.com/notebooks/data_table.ipynb>data table notebook</a>'\n",
              "          + ' to learn more about interactive tables.';\n",
              "        element.innerHTML = '';\n",
              "        dataTable['output_type'] = 'display_data';\n",
              "        await google.colab.output.renderOutput(dataTable, element);\n",
              "        const docLink = document.createElement('div');\n",
              "        docLink.innerHTML = docLinkHtml;\n",
              "        element.appendChild(docLink);\n",
              "      }\n",
              "    </script>\n",
              "  </div>\n",
              "\n",
              "\n",
              "<div id=\"df-493a5a14-391d-43e1-ab75-1c60dd41d016\">\n",
              "  <button class=\"colab-df-quickchart\" onclick=\"quickchart('df-493a5a14-391d-43e1-ab75-1c60dd41d016')\"\n",
              "            title=\"Suggest charts\"\n",
              "            style=\"display:none;\">\n",
              "\n",
              "<svg xmlns=\"http://www.w3.org/2000/svg\" height=\"24px\"viewBox=\"0 0 24 24\"\n",
              "     width=\"24px\">\n",
              "    <g>\n",
              "        <path d=\"M19 3H5c-1.1 0-2 .9-2 2v14c0 1.1.9 2 2 2h14c1.1 0 2-.9 2-2V5c0-1.1-.9-2-2-2zM9 17H7v-7h2v7zm4 0h-2V7h2v10zm4 0h-2v-4h2v4z\"/>\n",
              "    </g>\n",
              "</svg>\n",
              "  </button>\n",
              "\n",
              "<style>\n",
              "  .colab-df-quickchart {\n",
              "      --bg-color: #E8F0FE;\n",
              "      --fill-color: #1967D2;\n",
              "      --hover-bg-color: #E2EBFA;\n",
              "      --hover-fill-color: #174EA6;\n",
              "      --disabled-fill-color: #AAA;\n",
              "      --disabled-bg-color: #DDD;\n",
              "  }\n",
              "\n",
              "  [theme=dark] .colab-df-quickchart {\n",
              "      --bg-color: #3B4455;\n",
              "      --fill-color: #D2E3FC;\n",
              "      --hover-bg-color: #434B5C;\n",
              "      --hover-fill-color: #FFFFFF;\n",
              "      --disabled-bg-color: #3B4455;\n",
              "      --disabled-fill-color: #666;\n",
              "  }\n",
              "\n",
              "  .colab-df-quickchart {\n",
              "    background-color: var(--bg-color);\n",
              "    border: none;\n",
              "    border-radius: 50%;\n",
              "    cursor: pointer;\n",
              "    display: none;\n",
              "    fill: var(--fill-color);\n",
              "    height: 32px;\n",
              "    padding: 0;\n",
              "    width: 32px;\n",
              "  }\n",
              "\n",
              "  .colab-df-quickchart:hover {\n",
              "    background-color: var(--hover-bg-color);\n",
              "    box-shadow: 0 1px 2px rgba(60, 64, 67, 0.3), 0 1px 3px 1px rgba(60, 64, 67, 0.15);\n",
              "    fill: var(--button-hover-fill-color);\n",
              "  }\n",
              "\n",
              "  .colab-df-quickchart-complete:disabled,\n",
              "  .colab-df-quickchart-complete:disabled:hover {\n",
              "    background-color: var(--disabled-bg-color);\n",
              "    fill: var(--disabled-fill-color);\n",
              "    box-shadow: none;\n",
              "  }\n",
              "\n",
              "  .colab-df-spinner {\n",
              "    border: 2px solid var(--fill-color);\n",
              "    border-color: transparent;\n",
              "    border-bottom-color: var(--fill-color);\n",
              "    animation:\n",
              "      spin 1s steps(1) infinite;\n",
              "  }\n",
              "\n",
              "  @keyframes spin {\n",
              "    0% {\n",
              "      border-color: transparent;\n",
              "      border-bottom-color: var(--fill-color);\n",
              "      border-left-color: var(--fill-color);\n",
              "    }\n",
              "    20% {\n",
              "      border-color: transparent;\n",
              "      border-left-color: var(--fill-color);\n",
              "      border-top-color: var(--fill-color);\n",
              "    }\n",
              "    30% {\n",
              "      border-color: transparent;\n",
              "      border-left-color: var(--fill-color);\n",
              "      border-top-color: var(--fill-color);\n",
              "      border-right-color: var(--fill-color);\n",
              "    }\n",
              "    40% {\n",
              "      border-color: transparent;\n",
              "      border-right-color: var(--fill-color);\n",
              "      border-top-color: var(--fill-color);\n",
              "    }\n",
              "    60% {\n",
              "      border-color: transparent;\n",
              "      border-right-color: var(--fill-color);\n",
              "    }\n",
              "    80% {\n",
              "      border-color: transparent;\n",
              "      border-right-color: var(--fill-color);\n",
              "      border-bottom-color: var(--fill-color);\n",
              "    }\n",
              "    90% {\n",
              "      border-color: transparent;\n",
              "      border-bottom-color: var(--fill-color);\n",
              "    }\n",
              "  }\n",
              "</style>\n",
              "\n",
              "  <script>\n",
              "    async function quickchart(key) {\n",
              "      const quickchartButtonEl =\n",
              "        document.querySelector('#' + key + ' button');\n",
              "      quickchartButtonEl.disabled = true;  // To prevent multiple clicks.\n",
              "      quickchartButtonEl.classList.add('colab-df-spinner');\n",
              "      try {\n",
              "        const charts = await google.colab.kernel.invokeFunction(\n",
              "            'suggestCharts', [key], {});\n",
              "      } catch (error) {\n",
              "        console.error('Error during call to suggestCharts:', error);\n",
              "      }\n",
              "      quickchartButtonEl.classList.remove('colab-df-spinner');\n",
              "      quickchartButtonEl.classList.add('colab-df-quickchart-complete');\n",
              "    }\n",
              "    (() => {\n",
              "      let quickchartButtonEl =\n",
              "        document.querySelector('#df-493a5a14-391d-43e1-ab75-1c60dd41d016 button');\n",
              "      quickchartButtonEl.style.display =\n",
              "        google.colab.kernel.accessAllowed ? 'block' : 'none';\n",
              "    })();\n",
              "  </script>\n",
              "</div>\n",
              "\n",
              "  <div id=\"id_24aeb7c7-0a06-48b0-85e6-dbb2bea79e8d\">\n",
              "    <style>\n",
              "      .colab-df-generate {\n",
              "        background-color: #E8F0FE;\n",
              "        border: none;\n",
              "        border-radius: 50%;\n",
              "        cursor: pointer;\n",
              "        display: none;\n",
              "        fill: #1967D2;\n",
              "        height: 32px;\n",
              "        padding: 0 0 0 0;\n",
              "        width: 32px;\n",
              "      }\n",
              "\n",
              "      .colab-df-generate:hover {\n",
              "        background-color: #E2EBFA;\n",
              "        box-shadow: 0px 1px 2px rgba(60, 64, 67, 0.3), 0px 1px 3px 1px rgba(60, 64, 67, 0.15);\n",
              "        fill: #174EA6;\n",
              "      }\n",
              "\n",
              "      [theme=dark] .colab-df-generate {\n",
              "        background-color: #3B4455;\n",
              "        fill: #D2E3FC;\n",
              "      }\n",
              "\n",
              "      [theme=dark] .colab-df-generate:hover {\n",
              "        background-color: #434B5C;\n",
              "        box-shadow: 0px 1px 3px 1px rgba(0, 0, 0, 0.15);\n",
              "        filter: drop-shadow(0px 1px 2px rgba(0, 0, 0, 0.3));\n",
              "        fill: #FFFFFF;\n",
              "      }\n",
              "    </style>\n",
              "    <button class=\"colab-df-generate\" onclick=\"generateWithVariable('dfpd')\"\n",
              "            title=\"Generate code using this dataframe.\"\n",
              "            style=\"display:none;\">\n",
              "\n",
              "  <svg xmlns=\"http://www.w3.org/2000/svg\" height=\"24px\"viewBox=\"0 0 24 24\"\n",
              "       width=\"24px\">\n",
              "    <path d=\"M7,19H8.4L18.45,9,17,7.55,7,17.6ZM5,21V16.75L18.45,3.32a2,2,0,0,1,2.83,0l1.4,1.43a1.91,1.91,0,0,1,.58,1.4,1.91,1.91,0,0,1-.58,1.4L9.25,21ZM18.45,9,17,7.55Zm-12,3A5.31,5.31,0,0,0,4.9,8.1,5.31,5.31,0,0,0,1,6.5,5.31,5.31,0,0,0,4.9,4.9,5.31,5.31,0,0,0,6.5,1,5.31,5.31,0,0,0,8.1,4.9,5.31,5.31,0,0,0,12,6.5,5.46,5.46,0,0,0,6.5,12Z\"/>\n",
              "  </svg>\n",
              "    </button>\n",
              "    <script>\n",
              "      (() => {\n",
              "      const buttonEl =\n",
              "        document.querySelector('#id_24aeb7c7-0a06-48b0-85e6-dbb2bea79e8d button.colab-df-generate');\n",
              "      buttonEl.style.display =\n",
              "        google.colab.kernel.accessAllowed ? 'block' : 'none';\n",
              "\n",
              "      buttonEl.onclick = () => {\n",
              "        google.colab.notebook.generateWithVariable('dfpd');\n",
              "      }\n",
              "      })();\n",
              "    </script>\n",
              "  </div>\n",
              "\n",
              "    </div>\n",
              "  </div>\n"
            ],
            "application/vnd.google.colaboratory.intrinsic+json": {
              "type": "dataframe",
              "variable_name": "dfpd",
              "summary": "{\n  \"name\": \"dfpd\",\n  \"rows\": 3,\n  \"fields\": [\n    {\n      \"column\": \"Coluna_1\",\n      \"properties\": {\n        \"dtype\": \"number\",\n        \"std\": 1,\n        \"min\": 1,\n        \"max\": 3,\n        \"num_unique_values\": 3,\n        \"samples\": [\n          1,\n          2,\n          3\n        ],\n        \"semantic_type\": \"\",\n        \"description\": \"\"\n      }\n    },\n    {\n      \"column\": \"Coluna_2\",\n      \"properties\": {\n        \"dtype\": \"number\",\n        \"std\": 1,\n        \"min\": 4,\n        \"max\": 6,\n        \"num_unique_values\": 3,\n        \"samples\": [\n          4,\n          5,\n          6\n        ],\n        \"semantic_type\": \"\",\n        \"description\": \"\"\n      }\n    },\n    {\n      \"column\": \"Coluna_3\",\n      \"properties\": {\n        \"dtype\": \"number\",\n        \"std\": 1,\n        \"min\": 7,\n        \"max\": 9,\n        \"num_unique_values\": 3,\n        \"samples\": [\n          7,\n          8,\n          9\n        ],\n        \"semantic_type\": \"\",\n        \"description\": \"\"\n      }\n    }\n  ]\n}"
            }
          },
          "metadata": {}
        },
        {
          "output_type": "stream",
          "name": "stdout",
          "text": [
            "\n",
            "[[1 4 7]\n",
            " [2 5 8]\n",
            " [3 6 9]]\n"
          ]
        }
      ]
    },
    {
      "cell_type": "code",
      "source": [
        "import numpy as np\n",
        "#Criando um array 2D(matriz)\n",
        "\n",
        "array = np.array([\n",
        "    [1,2,3],\n",
        "    [4,5,6],\n",
        "    [7,8,9]\n",
        "])\n",
        "print(array)\n",
        "print()\n",
        "\n",
        "# Transpondo o array para facilitar a extração de colunas\n",
        "transposto_array = array.T\n",
        "\n",
        "#Separando as colunas em listas\n",
        "coluna_1, coluna_2, coluna_3 = [list(coluna) for coluna in transposto_array]\n",
        "\n",
        "#Criando o Dataframe com os dados de cada coluna em pandas\n",
        "import pandas as pd\n",
        "\n",
        "dfpd = pd.DataFrame({\n",
        "    'Coluna_1': coluna_1,\n",
        "    'Coluna_2': coluna_2,\n",
        "    'Coluna_3': coluna_3\n",
        "})\n",
        "\n",
        "display(dfpd)\n"
      ],
      "metadata": {
        "colab": {
          "base_uri": "https://localhost:8080/",
          "height": 213
        },
        "id": "OlrHr3BesVmv",
        "outputId": "5991caee-0770-48b2-e3cf-8ab60749cbf1"
      },
      "execution_count": null,
      "outputs": [
        {
          "output_type": "stream",
          "name": "stdout",
          "text": [
            "[[1 2 3]\n",
            " [4 5 6]\n",
            " [7 8 9]]\n",
            "\n"
          ]
        },
        {
          "output_type": "display_data",
          "data": {
            "text/plain": [
              "   Coluna_1  Coluna_2  Coluna_3\n",
              "0         1         2         3\n",
              "1         4         5         6\n",
              "2         7         8         9"
            ],
            "text/html": [
              "\n",
              "  <div id=\"df-51c0ff39-9622-4b4c-ad47-ba9bfb1e1f99\" class=\"colab-df-container\">\n",
              "    <div>\n",
              "<style scoped>\n",
              "    .dataframe tbody tr th:only-of-type {\n",
              "        vertical-align: middle;\n",
              "    }\n",
              "\n",
              "    .dataframe tbody tr th {\n",
              "        vertical-align: top;\n",
              "    }\n",
              "\n",
              "    .dataframe thead th {\n",
              "        text-align: right;\n",
              "    }\n",
              "</style>\n",
              "<table border=\"1\" class=\"dataframe\">\n",
              "  <thead>\n",
              "    <tr style=\"text-align: right;\">\n",
              "      <th></th>\n",
              "      <th>Coluna_1</th>\n",
              "      <th>Coluna_2</th>\n",
              "      <th>Coluna_3</th>\n",
              "    </tr>\n",
              "  </thead>\n",
              "  <tbody>\n",
              "    <tr>\n",
              "      <th>0</th>\n",
              "      <td>1</td>\n",
              "      <td>2</td>\n",
              "      <td>3</td>\n",
              "    </tr>\n",
              "    <tr>\n",
              "      <th>1</th>\n",
              "      <td>4</td>\n",
              "      <td>5</td>\n",
              "      <td>6</td>\n",
              "    </tr>\n",
              "    <tr>\n",
              "      <th>2</th>\n",
              "      <td>7</td>\n",
              "      <td>8</td>\n",
              "      <td>9</td>\n",
              "    </tr>\n",
              "  </tbody>\n",
              "</table>\n",
              "</div>\n",
              "    <div class=\"colab-df-buttons\">\n",
              "\n",
              "  <div class=\"colab-df-container\">\n",
              "    <button class=\"colab-df-convert\" onclick=\"convertToInteractive('df-51c0ff39-9622-4b4c-ad47-ba9bfb1e1f99')\"\n",
              "            title=\"Convert this dataframe to an interactive table.\"\n",
              "            style=\"display:none;\">\n",
              "\n",
              "  <svg xmlns=\"http://www.w3.org/2000/svg\" height=\"24px\" viewBox=\"0 -960 960 960\">\n",
              "    <path d=\"M120-120v-720h720v720H120Zm60-500h600v-160H180v160Zm220 220h160v-160H400v160Zm0 220h160v-160H400v160ZM180-400h160v-160H180v160Zm440 0h160v-160H620v160ZM180-180h160v-160H180v160Zm440 0h160v-160H620v160Z\"/>\n",
              "  </svg>\n",
              "    </button>\n",
              "\n",
              "  <style>\n",
              "    .colab-df-container {\n",
              "      display:flex;\n",
              "      gap: 12px;\n",
              "    }\n",
              "\n",
              "    .colab-df-convert {\n",
              "      background-color: #E8F0FE;\n",
              "      border: none;\n",
              "      border-radius: 50%;\n",
              "      cursor: pointer;\n",
              "      display: none;\n",
              "      fill: #1967D2;\n",
              "      height: 32px;\n",
              "      padding: 0 0 0 0;\n",
              "      width: 32px;\n",
              "    }\n",
              "\n",
              "    .colab-df-convert:hover {\n",
              "      background-color: #E2EBFA;\n",
              "      box-shadow: 0px 1px 2px rgba(60, 64, 67, 0.3), 0px 1px 3px 1px rgba(60, 64, 67, 0.15);\n",
              "      fill: #174EA6;\n",
              "    }\n",
              "\n",
              "    .colab-df-buttons div {\n",
              "      margin-bottom: 4px;\n",
              "    }\n",
              "\n",
              "    [theme=dark] .colab-df-convert {\n",
              "      background-color: #3B4455;\n",
              "      fill: #D2E3FC;\n",
              "    }\n",
              "\n",
              "    [theme=dark] .colab-df-convert:hover {\n",
              "      background-color: #434B5C;\n",
              "      box-shadow: 0px 1px 3px 1px rgba(0, 0, 0, 0.15);\n",
              "      filter: drop-shadow(0px 1px 2px rgba(0, 0, 0, 0.3));\n",
              "      fill: #FFFFFF;\n",
              "    }\n",
              "  </style>\n",
              "\n",
              "    <script>\n",
              "      const buttonEl =\n",
              "        document.querySelector('#df-51c0ff39-9622-4b4c-ad47-ba9bfb1e1f99 button.colab-df-convert');\n",
              "      buttonEl.style.display =\n",
              "        google.colab.kernel.accessAllowed ? 'block' : 'none';\n",
              "\n",
              "      async function convertToInteractive(key) {\n",
              "        const element = document.querySelector('#df-51c0ff39-9622-4b4c-ad47-ba9bfb1e1f99');\n",
              "        const dataTable =\n",
              "          await google.colab.kernel.invokeFunction('convertToInteractive',\n",
              "                                                    [key], {});\n",
              "        if (!dataTable) return;\n",
              "\n",
              "        const docLinkHtml = 'Like what you see? Visit the ' +\n",
              "          '<a target=\"_blank\" href=https://colab.research.google.com/notebooks/data_table.ipynb>data table notebook</a>'\n",
              "          + ' to learn more about interactive tables.';\n",
              "        element.innerHTML = '';\n",
              "        dataTable['output_type'] = 'display_data';\n",
              "        await google.colab.output.renderOutput(dataTable, element);\n",
              "        const docLink = document.createElement('div');\n",
              "        docLink.innerHTML = docLinkHtml;\n",
              "        element.appendChild(docLink);\n",
              "      }\n",
              "    </script>\n",
              "  </div>\n",
              "\n",
              "\n",
              "<div id=\"df-a50694fc-7c19-4995-9fea-904f2c2f73a9\">\n",
              "  <button class=\"colab-df-quickchart\" onclick=\"quickchart('df-a50694fc-7c19-4995-9fea-904f2c2f73a9')\"\n",
              "            title=\"Suggest charts\"\n",
              "            style=\"display:none;\">\n",
              "\n",
              "<svg xmlns=\"http://www.w3.org/2000/svg\" height=\"24px\"viewBox=\"0 0 24 24\"\n",
              "     width=\"24px\">\n",
              "    <g>\n",
              "        <path d=\"M19 3H5c-1.1 0-2 .9-2 2v14c0 1.1.9 2 2 2h14c1.1 0 2-.9 2-2V5c0-1.1-.9-2-2-2zM9 17H7v-7h2v7zm4 0h-2V7h2v10zm4 0h-2v-4h2v4z\"/>\n",
              "    </g>\n",
              "</svg>\n",
              "  </button>\n",
              "\n",
              "<style>\n",
              "  .colab-df-quickchart {\n",
              "      --bg-color: #E8F0FE;\n",
              "      --fill-color: #1967D2;\n",
              "      --hover-bg-color: #E2EBFA;\n",
              "      --hover-fill-color: #174EA6;\n",
              "      --disabled-fill-color: #AAA;\n",
              "      --disabled-bg-color: #DDD;\n",
              "  }\n",
              "\n",
              "  [theme=dark] .colab-df-quickchart {\n",
              "      --bg-color: #3B4455;\n",
              "      --fill-color: #D2E3FC;\n",
              "      --hover-bg-color: #434B5C;\n",
              "      --hover-fill-color: #FFFFFF;\n",
              "      --disabled-bg-color: #3B4455;\n",
              "      --disabled-fill-color: #666;\n",
              "  }\n",
              "\n",
              "  .colab-df-quickchart {\n",
              "    background-color: var(--bg-color);\n",
              "    border: none;\n",
              "    border-radius: 50%;\n",
              "    cursor: pointer;\n",
              "    display: none;\n",
              "    fill: var(--fill-color);\n",
              "    height: 32px;\n",
              "    padding: 0;\n",
              "    width: 32px;\n",
              "  }\n",
              "\n",
              "  .colab-df-quickchart:hover {\n",
              "    background-color: var(--hover-bg-color);\n",
              "    box-shadow: 0 1px 2px rgba(60, 64, 67, 0.3), 0 1px 3px 1px rgba(60, 64, 67, 0.15);\n",
              "    fill: var(--button-hover-fill-color);\n",
              "  }\n",
              "\n",
              "  .colab-df-quickchart-complete:disabled,\n",
              "  .colab-df-quickchart-complete:disabled:hover {\n",
              "    background-color: var(--disabled-bg-color);\n",
              "    fill: var(--disabled-fill-color);\n",
              "    box-shadow: none;\n",
              "  }\n",
              "\n",
              "  .colab-df-spinner {\n",
              "    border: 2px solid var(--fill-color);\n",
              "    border-color: transparent;\n",
              "    border-bottom-color: var(--fill-color);\n",
              "    animation:\n",
              "      spin 1s steps(1) infinite;\n",
              "  }\n",
              "\n",
              "  @keyframes spin {\n",
              "    0% {\n",
              "      border-color: transparent;\n",
              "      border-bottom-color: var(--fill-color);\n",
              "      border-left-color: var(--fill-color);\n",
              "    }\n",
              "    20% {\n",
              "      border-color: transparent;\n",
              "      border-left-color: var(--fill-color);\n",
              "      border-top-color: var(--fill-color);\n",
              "    }\n",
              "    30% {\n",
              "      border-color: transparent;\n",
              "      border-left-color: var(--fill-color);\n",
              "      border-top-color: var(--fill-color);\n",
              "      border-right-color: var(--fill-color);\n",
              "    }\n",
              "    40% {\n",
              "      border-color: transparent;\n",
              "      border-right-color: var(--fill-color);\n",
              "      border-top-color: var(--fill-color);\n",
              "    }\n",
              "    60% {\n",
              "      border-color: transparent;\n",
              "      border-right-color: var(--fill-color);\n",
              "    }\n",
              "    80% {\n",
              "      border-color: transparent;\n",
              "      border-right-color: var(--fill-color);\n",
              "      border-bottom-color: var(--fill-color);\n",
              "    }\n",
              "    90% {\n",
              "      border-color: transparent;\n",
              "      border-bottom-color: var(--fill-color);\n",
              "    }\n",
              "  }\n",
              "</style>\n",
              "\n",
              "  <script>\n",
              "    async function quickchart(key) {\n",
              "      const quickchartButtonEl =\n",
              "        document.querySelector('#' + key + ' button');\n",
              "      quickchartButtonEl.disabled = true;  // To prevent multiple clicks.\n",
              "      quickchartButtonEl.classList.add('colab-df-spinner');\n",
              "      try {\n",
              "        const charts = await google.colab.kernel.invokeFunction(\n",
              "            'suggestCharts', [key], {});\n",
              "      } catch (error) {\n",
              "        console.error('Error during call to suggestCharts:', error);\n",
              "      }\n",
              "      quickchartButtonEl.classList.remove('colab-df-spinner');\n",
              "      quickchartButtonEl.classList.add('colab-df-quickchart-complete');\n",
              "    }\n",
              "    (() => {\n",
              "      let quickchartButtonEl =\n",
              "        document.querySelector('#df-a50694fc-7c19-4995-9fea-904f2c2f73a9 button');\n",
              "      quickchartButtonEl.style.display =\n",
              "        google.colab.kernel.accessAllowed ? 'block' : 'none';\n",
              "    })();\n",
              "  </script>\n",
              "</div>\n",
              "\n",
              "  <div id=\"id_625847f2-67d2-4450-a8ea-811a6344a645\">\n",
              "    <style>\n",
              "      .colab-df-generate {\n",
              "        background-color: #E8F0FE;\n",
              "        border: none;\n",
              "        border-radius: 50%;\n",
              "        cursor: pointer;\n",
              "        display: none;\n",
              "        fill: #1967D2;\n",
              "        height: 32px;\n",
              "        padding: 0 0 0 0;\n",
              "        width: 32px;\n",
              "      }\n",
              "\n",
              "      .colab-df-generate:hover {\n",
              "        background-color: #E2EBFA;\n",
              "        box-shadow: 0px 1px 2px rgba(60, 64, 67, 0.3), 0px 1px 3px 1px rgba(60, 64, 67, 0.15);\n",
              "        fill: #174EA6;\n",
              "      }\n",
              "\n",
              "      [theme=dark] .colab-df-generate {\n",
              "        background-color: #3B4455;\n",
              "        fill: #D2E3FC;\n",
              "      }\n",
              "\n",
              "      [theme=dark] .colab-df-generate:hover {\n",
              "        background-color: #434B5C;\n",
              "        box-shadow: 0px 1px 3px 1px rgba(0, 0, 0, 0.15);\n",
              "        filter: drop-shadow(0px 1px 2px rgba(0, 0, 0, 0.3));\n",
              "        fill: #FFFFFF;\n",
              "      }\n",
              "    </style>\n",
              "    <button class=\"colab-df-generate\" onclick=\"generateWithVariable('dfpd')\"\n",
              "            title=\"Generate code using this dataframe.\"\n",
              "            style=\"display:none;\">\n",
              "\n",
              "  <svg xmlns=\"http://www.w3.org/2000/svg\" height=\"24px\"viewBox=\"0 0 24 24\"\n",
              "       width=\"24px\">\n",
              "    <path d=\"M7,19H8.4L18.45,9,17,7.55,7,17.6ZM5,21V16.75L18.45,3.32a2,2,0,0,1,2.83,0l1.4,1.43a1.91,1.91,0,0,1,.58,1.4,1.91,1.91,0,0,1-.58,1.4L9.25,21ZM18.45,9,17,7.55Zm-12,3A5.31,5.31,0,0,0,4.9,8.1,5.31,5.31,0,0,0,1,6.5,5.31,5.31,0,0,0,4.9,4.9,5.31,5.31,0,0,0,6.5,1,5.31,5.31,0,0,0,8.1,4.9,5.31,5.31,0,0,0,12,6.5,5.46,5.46,0,0,0,6.5,12Z\"/>\n",
              "  </svg>\n",
              "    </button>\n",
              "    <script>\n",
              "      (() => {\n",
              "      const buttonEl =\n",
              "        document.querySelector('#id_625847f2-67d2-4450-a8ea-811a6344a645 button.colab-df-generate');\n",
              "      buttonEl.style.display =\n",
              "        google.colab.kernel.accessAllowed ? 'block' : 'none';\n",
              "\n",
              "      buttonEl.onclick = () => {\n",
              "        google.colab.notebook.generateWithVariable('dfpd');\n",
              "      }\n",
              "      })();\n",
              "    </script>\n",
              "  </div>\n",
              "\n",
              "    </div>\n",
              "  </div>\n"
            ],
            "application/vnd.google.colaboratory.intrinsic+json": {
              "type": "dataframe",
              "variable_name": "dfpd",
              "summary": "{\n  \"name\": \"dfpd\",\n  \"rows\": 3,\n  \"fields\": [\n    {\n      \"column\": \"Coluna_1\",\n      \"properties\": {\n        \"dtype\": \"number\",\n        \"std\": 3,\n        \"min\": 1,\n        \"max\": 7,\n        \"num_unique_values\": 3,\n        \"samples\": [\n          1,\n          4,\n          7\n        ],\n        \"semantic_type\": \"\",\n        \"description\": \"\"\n      }\n    },\n    {\n      \"column\": \"Coluna_2\",\n      \"properties\": {\n        \"dtype\": \"number\",\n        \"std\": 3,\n        \"min\": 2,\n        \"max\": 8,\n        \"num_unique_values\": 3,\n        \"samples\": [\n          2,\n          5,\n          8\n        ],\n        \"semantic_type\": \"\",\n        \"description\": \"\"\n      }\n    },\n    {\n      \"column\": \"Coluna_3\",\n      \"properties\": {\n        \"dtype\": \"number\",\n        \"std\": 3,\n        \"min\": 3,\n        \"max\": 9,\n        \"num_unique_values\": 3,\n        \"samples\": [\n          3,\n          6,\n          9\n        ],\n        \"semantic_type\": \"\",\n        \"description\": \"\"\n      }\n    }\n  ]\n}"
            }
          },
          "metadata": {}
        }
      ]
    },
    {
      "cell_type": "code",
      "source": [
        "import numpy as np\n",
        "#Criando um array 2D(matriz)\n",
        "\n",
        "array = np.array([\n",
        "    [1,2,3, 99, 100, 2],\n",
        "    [4,5,6, 200, 300, 9],\n",
        "    [7,8,9, 400, 500, 7]\n",
        "])\n",
        "print(array)\n",
        "print()\n",
        "\n",
        "#Obter o número de colunas\n",
        "num_colunas = array.shape[1]\n",
        "# print(num_colunas)\n",
        "\n",
        "#Criar uma lista de listas para armazenas os dados de cada coluna\n",
        "colunas = [[] for _ in range(num_colunas)]\n",
        "\n",
        "#Iterar sobre os elementos do array e distribuí-los nas colunas\n",
        "for linha in array:\n",
        "  for indice, valor in enumerate(linha):\n",
        "    colunas[indice].append(valor)\n",
        "\n",
        "#Exibir as colunas\n",
        "for i, coluna in enumerate(colunas, start=1):\n",
        "  print(f\"Coluna {i}:\", coluna)\n",
        "\n",
        "#Criar um DataFrame a partir das colunas\n",
        "import pandas as pd\n",
        "dfpd = pd.DataFrame({f'Coluna_{i+1}': colunas[i] for i in range(num_colunas)})\n",
        "\n",
        "#Exibindo DataFrame\n",
        "display(dfpd)"
      ],
      "metadata": {
        "colab": {
          "base_uri": "https://localhost:8080/",
          "height": 317
        },
        "id": "X3moCWZFtp-u",
        "outputId": "f57d95dd-6b25-476b-c564-5fa19a8069c9"
      },
      "execution_count": null,
      "outputs": [
        {
          "output_type": "stream",
          "name": "stdout",
          "text": [
            "[[  1   2   3  99 100   2]\n",
            " [  4   5   6 200 300   9]\n",
            " [  7   8   9 400 500   7]]\n",
            "\n",
            "Coluna 1: [1, 4, 7]\n",
            "Coluna 2: [2, 5, 8]\n",
            "Coluna 3: [3, 6, 9]\n",
            "Coluna 4: [99, 200, 400]\n",
            "Coluna 5: [100, 300, 500]\n",
            "Coluna 6: [2, 9, 7]\n"
          ]
        },
        {
          "output_type": "display_data",
          "data": {
            "text/plain": [
              "   Coluna_1  Coluna_2  Coluna_3  Coluna_4  Coluna_5  Coluna_6\n",
              "0         1         2         3        99       100         2\n",
              "1         4         5         6       200       300         9\n",
              "2         7         8         9       400       500         7"
            ],
            "text/html": [
              "\n",
              "  <div id=\"df-f6bc5d22-fcda-431a-8e1d-e9b181b63d62\" class=\"colab-df-container\">\n",
              "    <div>\n",
              "<style scoped>\n",
              "    .dataframe tbody tr th:only-of-type {\n",
              "        vertical-align: middle;\n",
              "    }\n",
              "\n",
              "    .dataframe tbody tr th {\n",
              "        vertical-align: top;\n",
              "    }\n",
              "\n",
              "    .dataframe thead th {\n",
              "        text-align: right;\n",
              "    }\n",
              "</style>\n",
              "<table border=\"1\" class=\"dataframe\">\n",
              "  <thead>\n",
              "    <tr style=\"text-align: right;\">\n",
              "      <th></th>\n",
              "      <th>Coluna_1</th>\n",
              "      <th>Coluna_2</th>\n",
              "      <th>Coluna_3</th>\n",
              "      <th>Coluna_4</th>\n",
              "      <th>Coluna_5</th>\n",
              "      <th>Coluna_6</th>\n",
              "    </tr>\n",
              "  </thead>\n",
              "  <tbody>\n",
              "    <tr>\n",
              "      <th>0</th>\n",
              "      <td>1</td>\n",
              "      <td>2</td>\n",
              "      <td>3</td>\n",
              "      <td>99</td>\n",
              "      <td>100</td>\n",
              "      <td>2</td>\n",
              "    </tr>\n",
              "    <tr>\n",
              "      <th>1</th>\n",
              "      <td>4</td>\n",
              "      <td>5</td>\n",
              "      <td>6</td>\n",
              "      <td>200</td>\n",
              "      <td>300</td>\n",
              "      <td>9</td>\n",
              "    </tr>\n",
              "    <tr>\n",
              "      <th>2</th>\n",
              "      <td>7</td>\n",
              "      <td>8</td>\n",
              "      <td>9</td>\n",
              "      <td>400</td>\n",
              "      <td>500</td>\n",
              "      <td>7</td>\n",
              "    </tr>\n",
              "  </tbody>\n",
              "</table>\n",
              "</div>\n",
              "    <div class=\"colab-df-buttons\">\n",
              "\n",
              "  <div class=\"colab-df-container\">\n",
              "    <button class=\"colab-df-convert\" onclick=\"convertToInteractive('df-f6bc5d22-fcda-431a-8e1d-e9b181b63d62')\"\n",
              "            title=\"Convert this dataframe to an interactive table.\"\n",
              "            style=\"display:none;\">\n",
              "\n",
              "  <svg xmlns=\"http://www.w3.org/2000/svg\" height=\"24px\" viewBox=\"0 -960 960 960\">\n",
              "    <path d=\"M120-120v-720h720v720H120Zm60-500h600v-160H180v160Zm220 220h160v-160H400v160Zm0 220h160v-160H400v160ZM180-400h160v-160H180v160Zm440 0h160v-160H620v160ZM180-180h160v-160H180v160Zm440 0h160v-160H620v160Z\"/>\n",
              "  </svg>\n",
              "    </button>\n",
              "\n",
              "  <style>\n",
              "    .colab-df-container {\n",
              "      display:flex;\n",
              "      gap: 12px;\n",
              "    }\n",
              "\n",
              "    .colab-df-convert {\n",
              "      background-color: #E8F0FE;\n",
              "      border: none;\n",
              "      border-radius: 50%;\n",
              "      cursor: pointer;\n",
              "      display: none;\n",
              "      fill: #1967D2;\n",
              "      height: 32px;\n",
              "      padding: 0 0 0 0;\n",
              "      width: 32px;\n",
              "    }\n",
              "\n",
              "    .colab-df-convert:hover {\n",
              "      background-color: #E2EBFA;\n",
              "      box-shadow: 0px 1px 2px rgba(60, 64, 67, 0.3), 0px 1px 3px 1px rgba(60, 64, 67, 0.15);\n",
              "      fill: #174EA6;\n",
              "    }\n",
              "\n",
              "    .colab-df-buttons div {\n",
              "      margin-bottom: 4px;\n",
              "    }\n",
              "\n",
              "    [theme=dark] .colab-df-convert {\n",
              "      background-color: #3B4455;\n",
              "      fill: #D2E3FC;\n",
              "    }\n",
              "\n",
              "    [theme=dark] .colab-df-convert:hover {\n",
              "      background-color: #434B5C;\n",
              "      box-shadow: 0px 1px 3px 1px rgba(0, 0, 0, 0.15);\n",
              "      filter: drop-shadow(0px 1px 2px rgba(0, 0, 0, 0.3));\n",
              "      fill: #FFFFFF;\n",
              "    }\n",
              "  </style>\n",
              "\n",
              "    <script>\n",
              "      const buttonEl =\n",
              "        document.querySelector('#df-f6bc5d22-fcda-431a-8e1d-e9b181b63d62 button.colab-df-convert');\n",
              "      buttonEl.style.display =\n",
              "        google.colab.kernel.accessAllowed ? 'block' : 'none';\n",
              "\n",
              "      async function convertToInteractive(key) {\n",
              "        const element = document.querySelector('#df-f6bc5d22-fcda-431a-8e1d-e9b181b63d62');\n",
              "        const dataTable =\n",
              "          await google.colab.kernel.invokeFunction('convertToInteractive',\n",
              "                                                    [key], {});\n",
              "        if (!dataTable) return;\n",
              "\n",
              "        const docLinkHtml = 'Like what you see? Visit the ' +\n",
              "          '<a target=\"_blank\" href=https://colab.research.google.com/notebooks/data_table.ipynb>data table notebook</a>'\n",
              "          + ' to learn more about interactive tables.';\n",
              "        element.innerHTML = '';\n",
              "        dataTable['output_type'] = 'display_data';\n",
              "        await google.colab.output.renderOutput(dataTable, element);\n",
              "        const docLink = document.createElement('div');\n",
              "        docLink.innerHTML = docLinkHtml;\n",
              "        element.appendChild(docLink);\n",
              "      }\n",
              "    </script>\n",
              "  </div>\n",
              "\n",
              "\n",
              "<div id=\"df-85d8cfef-9031-49ed-9a5f-ad359599c3e3\">\n",
              "  <button class=\"colab-df-quickchart\" onclick=\"quickchart('df-85d8cfef-9031-49ed-9a5f-ad359599c3e3')\"\n",
              "            title=\"Suggest charts\"\n",
              "            style=\"display:none;\">\n",
              "\n",
              "<svg xmlns=\"http://www.w3.org/2000/svg\" height=\"24px\"viewBox=\"0 0 24 24\"\n",
              "     width=\"24px\">\n",
              "    <g>\n",
              "        <path d=\"M19 3H5c-1.1 0-2 .9-2 2v14c0 1.1.9 2 2 2h14c1.1 0 2-.9 2-2V5c0-1.1-.9-2-2-2zM9 17H7v-7h2v7zm4 0h-2V7h2v10zm4 0h-2v-4h2v4z\"/>\n",
              "    </g>\n",
              "</svg>\n",
              "  </button>\n",
              "\n",
              "<style>\n",
              "  .colab-df-quickchart {\n",
              "      --bg-color: #E8F0FE;\n",
              "      --fill-color: #1967D2;\n",
              "      --hover-bg-color: #E2EBFA;\n",
              "      --hover-fill-color: #174EA6;\n",
              "      --disabled-fill-color: #AAA;\n",
              "      --disabled-bg-color: #DDD;\n",
              "  }\n",
              "\n",
              "  [theme=dark] .colab-df-quickchart {\n",
              "      --bg-color: #3B4455;\n",
              "      --fill-color: #D2E3FC;\n",
              "      --hover-bg-color: #434B5C;\n",
              "      --hover-fill-color: #FFFFFF;\n",
              "      --disabled-bg-color: #3B4455;\n",
              "      --disabled-fill-color: #666;\n",
              "  }\n",
              "\n",
              "  .colab-df-quickchart {\n",
              "    background-color: var(--bg-color);\n",
              "    border: none;\n",
              "    border-radius: 50%;\n",
              "    cursor: pointer;\n",
              "    display: none;\n",
              "    fill: var(--fill-color);\n",
              "    height: 32px;\n",
              "    padding: 0;\n",
              "    width: 32px;\n",
              "  }\n",
              "\n",
              "  .colab-df-quickchart:hover {\n",
              "    background-color: var(--hover-bg-color);\n",
              "    box-shadow: 0 1px 2px rgba(60, 64, 67, 0.3), 0 1px 3px 1px rgba(60, 64, 67, 0.15);\n",
              "    fill: var(--button-hover-fill-color);\n",
              "  }\n",
              "\n",
              "  .colab-df-quickchart-complete:disabled,\n",
              "  .colab-df-quickchart-complete:disabled:hover {\n",
              "    background-color: var(--disabled-bg-color);\n",
              "    fill: var(--disabled-fill-color);\n",
              "    box-shadow: none;\n",
              "  }\n",
              "\n",
              "  .colab-df-spinner {\n",
              "    border: 2px solid var(--fill-color);\n",
              "    border-color: transparent;\n",
              "    border-bottom-color: var(--fill-color);\n",
              "    animation:\n",
              "      spin 1s steps(1) infinite;\n",
              "  }\n",
              "\n",
              "  @keyframes spin {\n",
              "    0% {\n",
              "      border-color: transparent;\n",
              "      border-bottom-color: var(--fill-color);\n",
              "      border-left-color: var(--fill-color);\n",
              "    }\n",
              "    20% {\n",
              "      border-color: transparent;\n",
              "      border-left-color: var(--fill-color);\n",
              "      border-top-color: var(--fill-color);\n",
              "    }\n",
              "    30% {\n",
              "      border-color: transparent;\n",
              "      border-left-color: var(--fill-color);\n",
              "      border-top-color: var(--fill-color);\n",
              "      border-right-color: var(--fill-color);\n",
              "    }\n",
              "    40% {\n",
              "      border-color: transparent;\n",
              "      border-right-color: var(--fill-color);\n",
              "      border-top-color: var(--fill-color);\n",
              "    }\n",
              "    60% {\n",
              "      border-color: transparent;\n",
              "      border-right-color: var(--fill-color);\n",
              "    }\n",
              "    80% {\n",
              "      border-color: transparent;\n",
              "      border-right-color: var(--fill-color);\n",
              "      border-bottom-color: var(--fill-color);\n",
              "    }\n",
              "    90% {\n",
              "      border-color: transparent;\n",
              "      border-bottom-color: var(--fill-color);\n",
              "    }\n",
              "  }\n",
              "</style>\n",
              "\n",
              "  <script>\n",
              "    async function quickchart(key) {\n",
              "      const quickchartButtonEl =\n",
              "        document.querySelector('#' + key + ' button');\n",
              "      quickchartButtonEl.disabled = true;  // To prevent multiple clicks.\n",
              "      quickchartButtonEl.classList.add('colab-df-spinner');\n",
              "      try {\n",
              "        const charts = await google.colab.kernel.invokeFunction(\n",
              "            'suggestCharts', [key], {});\n",
              "      } catch (error) {\n",
              "        console.error('Error during call to suggestCharts:', error);\n",
              "      }\n",
              "      quickchartButtonEl.classList.remove('colab-df-spinner');\n",
              "      quickchartButtonEl.classList.add('colab-df-quickchart-complete');\n",
              "    }\n",
              "    (() => {\n",
              "      let quickchartButtonEl =\n",
              "        document.querySelector('#df-85d8cfef-9031-49ed-9a5f-ad359599c3e3 button');\n",
              "      quickchartButtonEl.style.display =\n",
              "        google.colab.kernel.accessAllowed ? 'block' : 'none';\n",
              "    })();\n",
              "  </script>\n",
              "</div>\n",
              "\n",
              "  <div id=\"id_43c5cb13-c359-47d5-ab29-51d4df816390\">\n",
              "    <style>\n",
              "      .colab-df-generate {\n",
              "        background-color: #E8F0FE;\n",
              "        border: none;\n",
              "        border-radius: 50%;\n",
              "        cursor: pointer;\n",
              "        display: none;\n",
              "        fill: #1967D2;\n",
              "        height: 32px;\n",
              "        padding: 0 0 0 0;\n",
              "        width: 32px;\n",
              "      }\n",
              "\n",
              "      .colab-df-generate:hover {\n",
              "        background-color: #E2EBFA;\n",
              "        box-shadow: 0px 1px 2px rgba(60, 64, 67, 0.3), 0px 1px 3px 1px rgba(60, 64, 67, 0.15);\n",
              "        fill: #174EA6;\n",
              "      }\n",
              "\n",
              "      [theme=dark] .colab-df-generate {\n",
              "        background-color: #3B4455;\n",
              "        fill: #D2E3FC;\n",
              "      }\n",
              "\n",
              "      [theme=dark] .colab-df-generate:hover {\n",
              "        background-color: #434B5C;\n",
              "        box-shadow: 0px 1px 3px 1px rgba(0, 0, 0, 0.15);\n",
              "        filter: drop-shadow(0px 1px 2px rgba(0, 0, 0, 0.3));\n",
              "        fill: #FFFFFF;\n",
              "      }\n",
              "    </style>\n",
              "    <button class=\"colab-df-generate\" onclick=\"generateWithVariable('dfpd')\"\n",
              "            title=\"Generate code using this dataframe.\"\n",
              "            style=\"display:none;\">\n",
              "\n",
              "  <svg xmlns=\"http://www.w3.org/2000/svg\" height=\"24px\"viewBox=\"0 0 24 24\"\n",
              "       width=\"24px\">\n",
              "    <path d=\"M7,19H8.4L18.45,9,17,7.55,7,17.6ZM5,21V16.75L18.45,3.32a2,2,0,0,1,2.83,0l1.4,1.43a1.91,1.91,0,0,1,.58,1.4,1.91,1.91,0,0,1-.58,1.4L9.25,21ZM18.45,9,17,7.55Zm-12,3A5.31,5.31,0,0,0,4.9,8.1,5.31,5.31,0,0,0,1,6.5,5.31,5.31,0,0,0,4.9,4.9,5.31,5.31,0,0,0,6.5,1,5.31,5.31,0,0,0,8.1,4.9,5.31,5.31,0,0,0,12,6.5,5.46,5.46,0,0,0,6.5,12Z\"/>\n",
              "  </svg>\n",
              "    </button>\n",
              "    <script>\n",
              "      (() => {\n",
              "      const buttonEl =\n",
              "        document.querySelector('#id_43c5cb13-c359-47d5-ab29-51d4df816390 button.colab-df-generate');\n",
              "      buttonEl.style.display =\n",
              "        google.colab.kernel.accessAllowed ? 'block' : 'none';\n",
              "\n",
              "      buttonEl.onclick = () => {\n",
              "        google.colab.notebook.generateWithVariable('dfpd');\n",
              "      }\n",
              "      })();\n",
              "    </script>\n",
              "  </div>\n",
              "\n",
              "    </div>\n",
              "  </div>\n"
            ],
            "application/vnd.google.colaboratory.intrinsic+json": {
              "type": "dataframe",
              "variable_name": "dfpd",
              "summary": "{\n  \"name\": \"dfpd\",\n  \"rows\": 3,\n  \"fields\": [\n    {\n      \"column\": \"Coluna_1\",\n      \"properties\": {\n        \"dtype\": \"number\",\n        \"std\": 3,\n        \"min\": 1,\n        \"max\": 7,\n        \"num_unique_values\": 3,\n        \"samples\": [\n          1,\n          4,\n          7\n        ],\n        \"semantic_type\": \"\",\n        \"description\": \"\"\n      }\n    },\n    {\n      \"column\": \"Coluna_2\",\n      \"properties\": {\n        \"dtype\": \"number\",\n        \"std\": 3,\n        \"min\": 2,\n        \"max\": 8,\n        \"num_unique_values\": 3,\n        \"samples\": [\n          2,\n          5,\n          8\n        ],\n        \"semantic_type\": \"\",\n        \"description\": \"\"\n      }\n    },\n    {\n      \"column\": \"Coluna_3\",\n      \"properties\": {\n        \"dtype\": \"number\",\n        \"std\": 3,\n        \"min\": 3,\n        \"max\": 9,\n        \"num_unique_values\": 3,\n        \"samples\": [\n          3,\n          6,\n          9\n        ],\n        \"semantic_type\": \"\",\n        \"description\": \"\"\n      }\n    },\n    {\n      \"column\": \"Coluna_4\",\n      \"properties\": {\n        \"dtype\": \"number\",\n        \"std\": 153,\n        \"min\": 99,\n        \"max\": 400,\n        \"num_unique_values\": 3,\n        \"samples\": [\n          99,\n          200,\n          400\n        ],\n        \"semantic_type\": \"\",\n        \"description\": \"\"\n      }\n    },\n    {\n      \"column\": \"Coluna_5\",\n      \"properties\": {\n        \"dtype\": \"number\",\n        \"std\": 200,\n        \"min\": 100,\n        \"max\": 500,\n        \"num_unique_values\": 3,\n        \"samples\": [\n          100,\n          300,\n          500\n        ],\n        \"semantic_type\": \"\",\n        \"description\": \"\"\n      }\n    },\n    {\n      \"column\": \"Coluna_6\",\n      \"properties\": {\n        \"dtype\": \"number\",\n        \"std\": 3,\n        \"min\": 2,\n        \"max\": 9,\n        \"num_unique_values\": 3,\n        \"samples\": [\n          2,\n          9,\n          7\n        ],\n        \"semantic_type\": \"\",\n        \"description\": \"\"\n      }\n    }\n  ]\n}"
            }
          },
          "metadata": {}
        }
      ]
    },
    {
      "cell_type": "code",
      "source": [
        "import numpy as np\n",
        "#Criando um array 2D(matriz)\n",
        "\n",
        "# Criar um array 2D com strings\n",
        "array = np.array([\n",
        "    [\"maçã\", \"banana\", \"cereja\"],\n",
        "    [\"laranja\", \"uva\", \"manga\"]\n",
        "])\n",
        "print(array)\n",
        "print()\n",
        "\n",
        "#Obter o número de colunas\n",
        "num_colunas = array.shape[1]\n",
        "# print(num_colunas)\n",
        "\n",
        "#Criar uma lista de listas para armazenas os dados de cada coluna\n",
        "colunas = [[] for _ in range(num_colunas)]\n",
        "\n",
        "#Iterar sobre os elementos do array e distribuí-los nas colunas\n",
        "for linha in array:\n",
        "  for indice, valor in enumerate(linha):\n",
        "    colunas[indice].append(valor)\n",
        "\n",
        "#Exibir as colunas\n",
        "for i, coluna in enumerate(colunas, start=1):\n",
        "  print(f\"Coluna {i}:\", coluna)\n",
        "\n",
        "#Criar um DataFrame a partir das colunas\n",
        "import pandas as pd\n",
        "dfpd = pd.DataFrame({f'Coluna_{i+1}': colunas[i] for i in range(num_colunas)})\n",
        "\n",
        "#Exibindo DataFrame\n",
        "display(dfpd)"
      ],
      "metadata": {
        "colab": {
          "base_uri": "https://localhost:8080/",
          "height": 229
        },
        "id": "5_ZZ1slrw3fT",
        "outputId": "fc227925-a785-49b8-869c-ddf15fe5e306"
      },
      "execution_count": null,
      "outputs": [
        {
          "output_type": "stream",
          "name": "stdout",
          "text": [
            "[['maçã' 'banana' 'cereja']\n",
            " ['laranja' 'uva' 'manga']]\n",
            "\n",
            "Coluna 1: ['maçã', 'laranja']\n",
            "Coluna 2: ['banana', 'uva']\n",
            "Coluna 3: ['cereja', 'manga']\n"
          ]
        },
        {
          "output_type": "display_data",
          "data": {
            "text/plain": [
              "  Coluna_1 Coluna_2 Coluna_3\n",
              "0     maçã   banana   cereja\n",
              "1  laranja      uva    manga"
            ],
            "text/html": [
              "\n",
              "  <div id=\"df-5244e546-66db-4f96-b3c8-18627d8f017b\" class=\"colab-df-container\">\n",
              "    <div>\n",
              "<style scoped>\n",
              "    .dataframe tbody tr th:only-of-type {\n",
              "        vertical-align: middle;\n",
              "    }\n",
              "\n",
              "    .dataframe tbody tr th {\n",
              "        vertical-align: top;\n",
              "    }\n",
              "\n",
              "    .dataframe thead th {\n",
              "        text-align: right;\n",
              "    }\n",
              "</style>\n",
              "<table border=\"1\" class=\"dataframe\">\n",
              "  <thead>\n",
              "    <tr style=\"text-align: right;\">\n",
              "      <th></th>\n",
              "      <th>Coluna_1</th>\n",
              "      <th>Coluna_2</th>\n",
              "      <th>Coluna_3</th>\n",
              "    </tr>\n",
              "  </thead>\n",
              "  <tbody>\n",
              "    <tr>\n",
              "      <th>0</th>\n",
              "      <td>maçã</td>\n",
              "      <td>banana</td>\n",
              "      <td>cereja</td>\n",
              "    </tr>\n",
              "    <tr>\n",
              "      <th>1</th>\n",
              "      <td>laranja</td>\n",
              "      <td>uva</td>\n",
              "      <td>manga</td>\n",
              "    </tr>\n",
              "  </tbody>\n",
              "</table>\n",
              "</div>\n",
              "    <div class=\"colab-df-buttons\">\n",
              "\n",
              "  <div class=\"colab-df-container\">\n",
              "    <button class=\"colab-df-convert\" onclick=\"convertToInteractive('df-5244e546-66db-4f96-b3c8-18627d8f017b')\"\n",
              "            title=\"Convert this dataframe to an interactive table.\"\n",
              "            style=\"display:none;\">\n",
              "\n",
              "  <svg xmlns=\"http://www.w3.org/2000/svg\" height=\"24px\" viewBox=\"0 -960 960 960\">\n",
              "    <path d=\"M120-120v-720h720v720H120Zm60-500h600v-160H180v160Zm220 220h160v-160H400v160Zm0 220h160v-160H400v160ZM180-400h160v-160H180v160Zm440 0h160v-160H620v160ZM180-180h160v-160H180v160Zm440 0h160v-160H620v160Z\"/>\n",
              "  </svg>\n",
              "    </button>\n",
              "\n",
              "  <style>\n",
              "    .colab-df-container {\n",
              "      display:flex;\n",
              "      gap: 12px;\n",
              "    }\n",
              "\n",
              "    .colab-df-convert {\n",
              "      background-color: #E8F0FE;\n",
              "      border: none;\n",
              "      border-radius: 50%;\n",
              "      cursor: pointer;\n",
              "      display: none;\n",
              "      fill: #1967D2;\n",
              "      height: 32px;\n",
              "      padding: 0 0 0 0;\n",
              "      width: 32px;\n",
              "    }\n",
              "\n",
              "    .colab-df-convert:hover {\n",
              "      background-color: #E2EBFA;\n",
              "      box-shadow: 0px 1px 2px rgba(60, 64, 67, 0.3), 0px 1px 3px 1px rgba(60, 64, 67, 0.15);\n",
              "      fill: #174EA6;\n",
              "    }\n",
              "\n",
              "    .colab-df-buttons div {\n",
              "      margin-bottom: 4px;\n",
              "    }\n",
              "\n",
              "    [theme=dark] .colab-df-convert {\n",
              "      background-color: #3B4455;\n",
              "      fill: #D2E3FC;\n",
              "    }\n",
              "\n",
              "    [theme=dark] .colab-df-convert:hover {\n",
              "      background-color: #434B5C;\n",
              "      box-shadow: 0px 1px 3px 1px rgba(0, 0, 0, 0.15);\n",
              "      filter: drop-shadow(0px 1px 2px rgba(0, 0, 0, 0.3));\n",
              "      fill: #FFFFFF;\n",
              "    }\n",
              "  </style>\n",
              "\n",
              "    <script>\n",
              "      const buttonEl =\n",
              "        document.querySelector('#df-5244e546-66db-4f96-b3c8-18627d8f017b button.colab-df-convert');\n",
              "      buttonEl.style.display =\n",
              "        google.colab.kernel.accessAllowed ? 'block' : 'none';\n",
              "\n",
              "      async function convertToInteractive(key) {\n",
              "        const element = document.querySelector('#df-5244e546-66db-4f96-b3c8-18627d8f017b');\n",
              "        const dataTable =\n",
              "          await google.colab.kernel.invokeFunction('convertToInteractive',\n",
              "                                                    [key], {});\n",
              "        if (!dataTable) return;\n",
              "\n",
              "        const docLinkHtml = 'Like what you see? Visit the ' +\n",
              "          '<a target=\"_blank\" href=https://colab.research.google.com/notebooks/data_table.ipynb>data table notebook</a>'\n",
              "          + ' to learn more about interactive tables.';\n",
              "        element.innerHTML = '';\n",
              "        dataTable['output_type'] = 'display_data';\n",
              "        await google.colab.output.renderOutput(dataTable, element);\n",
              "        const docLink = document.createElement('div');\n",
              "        docLink.innerHTML = docLinkHtml;\n",
              "        element.appendChild(docLink);\n",
              "      }\n",
              "    </script>\n",
              "  </div>\n",
              "\n",
              "\n",
              "<div id=\"df-f69d872f-848e-420e-b6b2-cc5a47d2366a\">\n",
              "  <button class=\"colab-df-quickchart\" onclick=\"quickchart('df-f69d872f-848e-420e-b6b2-cc5a47d2366a')\"\n",
              "            title=\"Suggest charts\"\n",
              "            style=\"display:none;\">\n",
              "\n",
              "<svg xmlns=\"http://www.w3.org/2000/svg\" height=\"24px\"viewBox=\"0 0 24 24\"\n",
              "     width=\"24px\">\n",
              "    <g>\n",
              "        <path d=\"M19 3H5c-1.1 0-2 .9-2 2v14c0 1.1.9 2 2 2h14c1.1 0 2-.9 2-2V5c0-1.1-.9-2-2-2zM9 17H7v-7h2v7zm4 0h-2V7h2v10zm4 0h-2v-4h2v4z\"/>\n",
              "    </g>\n",
              "</svg>\n",
              "  </button>\n",
              "\n",
              "<style>\n",
              "  .colab-df-quickchart {\n",
              "      --bg-color: #E8F0FE;\n",
              "      --fill-color: #1967D2;\n",
              "      --hover-bg-color: #E2EBFA;\n",
              "      --hover-fill-color: #174EA6;\n",
              "      --disabled-fill-color: #AAA;\n",
              "      --disabled-bg-color: #DDD;\n",
              "  }\n",
              "\n",
              "  [theme=dark] .colab-df-quickchart {\n",
              "      --bg-color: #3B4455;\n",
              "      --fill-color: #D2E3FC;\n",
              "      --hover-bg-color: #434B5C;\n",
              "      --hover-fill-color: #FFFFFF;\n",
              "      --disabled-bg-color: #3B4455;\n",
              "      --disabled-fill-color: #666;\n",
              "  }\n",
              "\n",
              "  .colab-df-quickchart {\n",
              "    background-color: var(--bg-color);\n",
              "    border: none;\n",
              "    border-radius: 50%;\n",
              "    cursor: pointer;\n",
              "    display: none;\n",
              "    fill: var(--fill-color);\n",
              "    height: 32px;\n",
              "    padding: 0;\n",
              "    width: 32px;\n",
              "  }\n",
              "\n",
              "  .colab-df-quickchart:hover {\n",
              "    background-color: var(--hover-bg-color);\n",
              "    box-shadow: 0 1px 2px rgba(60, 64, 67, 0.3), 0 1px 3px 1px rgba(60, 64, 67, 0.15);\n",
              "    fill: var(--button-hover-fill-color);\n",
              "  }\n",
              "\n",
              "  .colab-df-quickchart-complete:disabled,\n",
              "  .colab-df-quickchart-complete:disabled:hover {\n",
              "    background-color: var(--disabled-bg-color);\n",
              "    fill: var(--disabled-fill-color);\n",
              "    box-shadow: none;\n",
              "  }\n",
              "\n",
              "  .colab-df-spinner {\n",
              "    border: 2px solid var(--fill-color);\n",
              "    border-color: transparent;\n",
              "    border-bottom-color: var(--fill-color);\n",
              "    animation:\n",
              "      spin 1s steps(1) infinite;\n",
              "  }\n",
              "\n",
              "  @keyframes spin {\n",
              "    0% {\n",
              "      border-color: transparent;\n",
              "      border-bottom-color: var(--fill-color);\n",
              "      border-left-color: var(--fill-color);\n",
              "    }\n",
              "    20% {\n",
              "      border-color: transparent;\n",
              "      border-left-color: var(--fill-color);\n",
              "      border-top-color: var(--fill-color);\n",
              "    }\n",
              "    30% {\n",
              "      border-color: transparent;\n",
              "      border-left-color: var(--fill-color);\n",
              "      border-top-color: var(--fill-color);\n",
              "      border-right-color: var(--fill-color);\n",
              "    }\n",
              "    40% {\n",
              "      border-color: transparent;\n",
              "      border-right-color: var(--fill-color);\n",
              "      border-top-color: var(--fill-color);\n",
              "    }\n",
              "    60% {\n",
              "      border-color: transparent;\n",
              "      border-right-color: var(--fill-color);\n",
              "    }\n",
              "    80% {\n",
              "      border-color: transparent;\n",
              "      border-right-color: var(--fill-color);\n",
              "      border-bottom-color: var(--fill-color);\n",
              "    }\n",
              "    90% {\n",
              "      border-color: transparent;\n",
              "      border-bottom-color: var(--fill-color);\n",
              "    }\n",
              "  }\n",
              "</style>\n",
              "\n",
              "  <script>\n",
              "    async function quickchart(key) {\n",
              "      const quickchartButtonEl =\n",
              "        document.querySelector('#' + key + ' button');\n",
              "      quickchartButtonEl.disabled = true;  // To prevent multiple clicks.\n",
              "      quickchartButtonEl.classList.add('colab-df-spinner');\n",
              "      try {\n",
              "        const charts = await google.colab.kernel.invokeFunction(\n",
              "            'suggestCharts', [key], {});\n",
              "      } catch (error) {\n",
              "        console.error('Error during call to suggestCharts:', error);\n",
              "      }\n",
              "      quickchartButtonEl.classList.remove('colab-df-spinner');\n",
              "      quickchartButtonEl.classList.add('colab-df-quickchart-complete');\n",
              "    }\n",
              "    (() => {\n",
              "      let quickchartButtonEl =\n",
              "        document.querySelector('#df-f69d872f-848e-420e-b6b2-cc5a47d2366a button');\n",
              "      quickchartButtonEl.style.display =\n",
              "        google.colab.kernel.accessAllowed ? 'block' : 'none';\n",
              "    })();\n",
              "  </script>\n",
              "</div>\n",
              "\n",
              "  <div id=\"id_f03575e8-2e50-441d-836d-79a2a065adc4\">\n",
              "    <style>\n",
              "      .colab-df-generate {\n",
              "        background-color: #E8F0FE;\n",
              "        border: none;\n",
              "        border-radius: 50%;\n",
              "        cursor: pointer;\n",
              "        display: none;\n",
              "        fill: #1967D2;\n",
              "        height: 32px;\n",
              "        padding: 0 0 0 0;\n",
              "        width: 32px;\n",
              "      }\n",
              "\n",
              "      .colab-df-generate:hover {\n",
              "        background-color: #E2EBFA;\n",
              "        box-shadow: 0px 1px 2px rgba(60, 64, 67, 0.3), 0px 1px 3px 1px rgba(60, 64, 67, 0.15);\n",
              "        fill: #174EA6;\n",
              "      }\n",
              "\n",
              "      [theme=dark] .colab-df-generate {\n",
              "        background-color: #3B4455;\n",
              "        fill: #D2E3FC;\n",
              "      }\n",
              "\n",
              "      [theme=dark] .colab-df-generate:hover {\n",
              "        background-color: #434B5C;\n",
              "        box-shadow: 0px 1px 3px 1px rgba(0, 0, 0, 0.15);\n",
              "        filter: drop-shadow(0px 1px 2px rgba(0, 0, 0, 0.3));\n",
              "        fill: #FFFFFF;\n",
              "      }\n",
              "    </style>\n",
              "    <button class=\"colab-df-generate\" onclick=\"generateWithVariable('dfpd')\"\n",
              "            title=\"Generate code using this dataframe.\"\n",
              "            style=\"display:none;\">\n",
              "\n",
              "  <svg xmlns=\"http://www.w3.org/2000/svg\" height=\"24px\"viewBox=\"0 0 24 24\"\n",
              "       width=\"24px\">\n",
              "    <path d=\"M7,19H8.4L18.45,9,17,7.55,7,17.6ZM5,21V16.75L18.45,3.32a2,2,0,0,1,2.83,0l1.4,1.43a1.91,1.91,0,0,1,.58,1.4,1.91,1.91,0,0,1-.58,1.4L9.25,21ZM18.45,9,17,7.55Zm-12,3A5.31,5.31,0,0,0,4.9,8.1,5.31,5.31,0,0,0,1,6.5,5.31,5.31,0,0,0,4.9,4.9,5.31,5.31,0,0,0,6.5,1,5.31,5.31,0,0,0,8.1,4.9,5.31,5.31,0,0,0,12,6.5,5.46,5.46,0,0,0,6.5,12Z\"/>\n",
              "  </svg>\n",
              "    </button>\n",
              "    <script>\n",
              "      (() => {\n",
              "      const buttonEl =\n",
              "        document.querySelector('#id_f03575e8-2e50-441d-836d-79a2a065adc4 button.colab-df-generate');\n",
              "      buttonEl.style.display =\n",
              "        google.colab.kernel.accessAllowed ? 'block' : 'none';\n",
              "\n",
              "      buttonEl.onclick = () => {\n",
              "        google.colab.notebook.generateWithVariable('dfpd');\n",
              "      }\n",
              "      })();\n",
              "    </script>\n",
              "  </div>\n",
              "\n",
              "    </div>\n",
              "  </div>\n"
            ],
            "application/vnd.google.colaboratory.intrinsic+json": {
              "type": "dataframe",
              "variable_name": "dfpd",
              "summary": "{\n  \"name\": \"dfpd\",\n  \"rows\": 2,\n  \"fields\": [\n    {\n      \"column\": \"Coluna_1\",\n      \"properties\": {\n        \"dtype\": \"string\",\n        \"num_unique_values\": 2,\n        \"samples\": [\n          \"laranja\",\n          \"ma\\u00e7\\u00e3\"\n        ],\n        \"semantic_type\": \"\",\n        \"description\": \"\"\n      }\n    },\n    {\n      \"column\": \"Coluna_2\",\n      \"properties\": {\n        \"dtype\": \"string\",\n        \"num_unique_values\": 2,\n        \"samples\": [\n          \"uva\",\n          \"banana\"\n        ],\n        \"semantic_type\": \"\",\n        \"description\": \"\"\n      }\n    },\n    {\n      \"column\": \"Coluna_3\",\n      \"properties\": {\n        \"dtype\": \"string\",\n        \"num_unique_values\": 2,\n        \"samples\": [\n          \"manga\",\n          \"cereja\"\n        ],\n        \"semantic_type\": \"\",\n        \"description\": \"\"\n      }\n    }\n  ]\n}"
            }
          },
          "metadata": {}
        }
      ]
    },
    {
      "cell_type": "code",
      "source": [
        "import numpy as np\n",
        "#Criando um array 2D(matriz)\n",
        "\n",
        "# Criar um array 2D com diferentes tipos usando dtype=object\n",
        "array = np.array([\n",
        "    [10, \"texto\", 3.14],\n",
        "    [True, 42, \"outra string\"]\n",
        "], dtype=object)\n",
        "\n",
        "print(array)\n",
        "print()\n",
        "\n",
        "#Obter o número de colunas\n",
        "num_colunas = array.shape[1]\n",
        "# print(num_colunas)\n",
        "\n",
        "#Criar uma lista de listas para armazenas os dados de cada coluna\n",
        "colunas = [[] for _ in range(num_colunas)]\n",
        "\n",
        "#Iterar sobre os elementos do array e distribuí-los nas colunas\n",
        "for linha in array:\n",
        "  for indice, valor in enumerate(linha):\n",
        "    colunas[indice].append(valor)\n",
        "\n",
        "#Exibir as colunas\n",
        "for i, coluna in enumerate(colunas, start=1):\n",
        "  print(f\"Coluna {i}:\", coluna)\n",
        "\n",
        "#Criar um DataFrame a partir das colunas\n",
        "import pandas as pd\n",
        "dfpd = pd.DataFrame({f'Coluna_{i+1}': colunas[i] for i in range(num_colunas)})\n",
        "\n",
        "#Exibindo DataFrame\n",
        "display(dfpd)"
      ],
      "metadata": {
        "id": "i4P7Lz5QxOM5"
      },
      "execution_count": null,
      "outputs": []
    },
    {
      "cell_type": "markdown",
      "source": [
        "##Iteração com numpy.apply_along_axis"
      ],
      "metadata": {
        "id": "2dkYOafSB-WR"
      }
    },
    {
      "cell_type": "code",
      "source": [
        "import numpy as np\n",
        "#Criando um array 2D(matriz)\n",
        "\n",
        "array = np.array([\n",
        "    [1,2,3],\n",
        "    [4,5,6],\n",
        "    [7,8,9]\n",
        "])\n",
        "print(array)\n",
        "print()\n",
        "\n",
        "#Função para somar todos os elementos de uma linha\n",
        "def soma_linha(linha):\n",
        "  return np.sum(linha)\n",
        "\n",
        "# def media_linha(linha):\n",
        "#   return np.mean(linha)\n",
        "\n",
        "#Aplicar a função ao longo das linhas (axis=1)\n",
        "resultado = np.apply_along_axis(soma_linha, axis=1, arr=array)\n",
        "\n",
        "print(resultado)\n",
        "print()\n",
        "#Aplicar a função ao longo das colunas (axis=0)\n",
        "resultado2 = np.apply_along_axis(soma_linha, axis=0, arr=array)\n",
        "\n",
        "print(resultado2)"
      ],
      "metadata": {
        "id": "96K7sWGtCW3e"
      },
      "execution_count": null,
      "outputs": []
    },
    {
      "cell_type": "markdown",
      "source": [
        "##Importar um CSV para um array numpy\n",
        "\n",
        "Usar a função *numpy.genfromtxt()* ou *numpy.loadtxt()*\n",
        "\n",
        "\n",
        "\n",
        "*   **numpy.genfromtxt()**: é mais flexivél e pode lidar com arquivos CSV que contêm, cabeçalhos ou valores ausentes.\n",
        "*   **numpy.loadtxt()**: é mais simples, mas não lida bem com cabeçalhos e valores ausentes.\n",
        "\n"
      ],
      "metadata": {
        "id": "28UjdD2OEA8E"
      }
    },
    {
      "cell_type": "code",
      "source": [
        "import numpy as np\n",
        "\n",
        "#Caminho para o arquivo CSV\n",
        "arquivo_csv = '/content/funcionarios.csv'\n",
        "\n",
        "#Importar CSV para um array NumPy\n",
        "array = np.genfromtxt(arquivo_csv, delimiter=', ', dtype=object, skip_header=1)\n",
        "\n",
        "print(\"Array NumPy Importado\")\n",
        "print(array)"
      ],
      "metadata": {
        "colab": {
          "base_uri": "https://localhost:8080/"
        },
        "id": "2ACxll6SFKeJ",
        "outputId": "a8b6c796-8685-4106-9689-99151904b933"
      },
      "execution_count": null,
      "outputs": [
        {
          "output_type": "stream",
          "name": "stdout",
          "text": [
            "Array NumPy Importado\n",
            "[b'41,Sim,Viaja raramente,1102,Vendas,1,2,Ci\\xeancias Humanas,1,1,2,Feminino,94,3,2,Executivo de vendas,4,Solteiro,5993,19479,8,Sim,Sim,11,3,1,80,0,8,0,1,6,4,0,5'\n",
            " b'49,N\\xe3o,Viaja frequentemente,279,Pesquisa e Desenvolvimento,8,1,Ci\\xeancias Humanas,1,2,3,Masculino,61,2,2,Pesquisador cientista,2,Casado,5130,24907,1,Sim,N\\xe3o,23,4,4,80,1,10,3,3,10,7,1,7'\n",
            " b'37,Sim,Viaja raramente,1373,Pesquisa e Desenvolvimento,2,2,Outras,1,4,4,Masculino,92,2,1,T\\xe9cnico de Laborat\\xf3rio,3,Solteiro,2090,2396,6,Sim,Sim,15,3,2,80,0,7,3,3,0,0,0,0'\n",
            " ...\n",
            " b'27,N\\xe3o,Viaja raramente,155,Pesquisa e Desenvolvimento,4,3,Ci\\xeancias Humanas,1,2064,2,Masculino,87,4,2,Diretor de manufatura,2,Casado,6142,5174,1,Sim,Sim,20,4,2,80,1,6,0,3,6,2,0,3'\n",
            " b'49,N\\xe3o,Viaja frequentemente,1023,Vendas,2,3,Ci\\xeancias M\\xe9dicas,1,2065,4,Masculino,63,2,2,Executivo de vendas,2,Casado,5390,13243,2,Sim,N\\xe3o,14,3,4,80,0,17,3,2,9,6,0,8'\n",
            " b'34,N\\xe3o,Viaja raramente,628,Pesquisa e Desenvolvimento,8,3,Ci\\xeancias M\\xe9dicas,1,2068,2,Masculino,82,4,2,T\\xe9cnico de Laborat\\xf3rio,3,Casado,4404,10228,2,Sim,N\\xe3o,12,3,1,80,0,6,3,4,4,3,1,2']\n"
          ]
        }
      ]
    },
    {
      "cell_type": "code",
      "source": [
        "import numpy as np\n",
        "\n",
        "#Caminho para o arquivo CSV\n",
        "arquivo_csv = '/content/funcionarios.csv'\n",
        "\n",
        "#Importar CSV para um array NumPy\n",
        "array = np.loadtxt(arquivo_csv, delimiter=', ', skiprows=1)\n",
        "\n",
        "print(\"Array NumPy Importado\")\n",
        "print(array)"
      ],
      "metadata": {
        "id": "GTIwHdD1Gd93"
      },
      "execution_count": null,
      "outputs": []
    },
    {
      "cell_type": "markdown",
      "source": [
        "##Broadcasting e Operações com arrays"
      ],
      "metadata": {
        "id": "MapQvXwoHDtL"
      }
    },
    {
      "cell_type": "code",
      "source": [
        "import numpy as np\n",
        "\n",
        "#Criar um array de 1D\n",
        "array1d = np.array([1,2,3])\n",
        "\n",
        "#Criar um array 2D\n",
        "array2d = np.array([\n",
        "    [1,2,3],\n",
        "    [4,5,6],\n",
        "    [7,8,9]\n",
        "])\n",
        "#Somar o array 1D a cada linha do array 2D\n",
        "resultado = array2d + array1d\n",
        "\n",
        "print(resultado)"
      ],
      "metadata": {
        "id": "DtJ8donNHMu8"
      },
      "execution_count": null,
      "outputs": []
    },
    {
      "cell_type": "markdown",
      "source": [
        "##Exemplo Real: Ajuste de Preços em um catálogo de Produtos\n",
        "\n",
        "Imagine que você tem um catálogo de produtos com seus preços em diferentes lojas. Suponha que você tenha um array 2D onde cada linha representa os preços de um produto em várias lojas e um array 1D com uma taxa de ajuste de preço para cada loja.\n",
        "\n",
        "**Objetivo** Atualizar os preços de cada produto adicionando um ajuste de preço específico para cada loja"
      ],
      "metadata": {
        "id": "72a7KOWZIgh2"
      }
    },
    {
      "cell_type": "code",
      "source": [
        "#Passo 01 - Definir os Dados\n",
        "## Array 2D: Preços dos produtos em várias lojas\n",
        "## Array 1D: Ajuste de preço para cada loja\n",
        "\n",
        "import numpy as np\n",
        "#Preços dos produtos em diferentes lojas\n",
        "precos = np.array([\n",
        "    [10.0, 20.0, 30.0], # Preços do produto 1 em lojas 1, 2 e 3\n",
        "    [15.0, 25.0, 35.0], # Preços do produto 2 em lojas 1, 2 e 3\n",
        "    [20.0, 30.0, 40.0]  # Preços do produto 3 em lojas 1, 2 e 3\n",
        "])\n",
        "\n",
        "#Ajuste de preço para cada loja\n",
        "ajuste_preco = np.array([1.2, 1.3, 1.4]) # ajustes para as lojas 1, 2 e 3\n",
        "\n",
        "#Atualizar os preços dos produtos\n",
        "precos_atualizados = precos * ajuste_preco\n",
        "\n",
        "print(\"Preços Originais:\")\n",
        "print(precos)\n",
        "print()\n",
        "print(\"\\nAjuste de preço:\")\n",
        "print(ajuste_preco)\n",
        "print(\"\\nPreços Atualizados:\")\n",
        "print(precos_atualizados)"
      ],
      "metadata": {
        "id": "P91w7IRxJC3T"
      },
      "execution_count": null,
      "outputs": []
    },
    {
      "cell_type": "code",
      "source": [
        "import numpy as np\n",
        "\n",
        "# Salários dos funcionários em diferentes departamentos\n",
        "salarios = np.array([\n",
        "    [50000, 52000, 54000],  # Salários no Departamento A\n",
        "    [60000, 62000, 64000],  # Salários no Departamento B\n",
        "    [70000, 72000, 74000]   # Salários no Departamento C\n",
        "])\n",
        "\n",
        "# Percentuais de aumento para cada departamento\n",
        "aumento_percentual = np.array([0.05, 0.07, 0.10])  # 5%, 7%, e 10%\n",
        "\n",
        "#Atualizar os salarios para cada departamento\n",
        "salarios_ajustados = salarios * (1 - aumento_percentual)\n",
        "\n",
        "print(\"Salarios Originais:\")\n",
        "print(salarios)\n",
        "print()\n",
        "print(\"\\nAjuste Percentual:\")\n",
        "print(aumento_percentual)\n",
        "print(\"\\nSalarios Atualizados:\")\n",
        "print(salarios_ajustados)"
      ],
      "metadata": {
        "colab": {
          "base_uri": "https://localhost:8080/"
        },
        "id": "evlO7zmVL0QM",
        "outputId": "a91689f5-9d17-4e79-9f0c-01ca2b2acc61"
      },
      "execution_count": null,
      "outputs": [
        {
          "output_type": "stream",
          "name": "stdout",
          "text": [
            "Salarios Originais:\n",
            "[[50000 52000 54000]\n",
            " [60000 62000 64000]\n",
            " [70000 72000 74000]]\n",
            "\n",
            "\n",
            "Ajuste Percentual:\n",
            "[0.05 0.07 0.1 ]\n",
            "\n",
            "Salarios Atualizados:\n",
            "[[47500. 48360. 48600.]\n",
            " [57000. 57660. 57600.]\n",
            " [66500. 66960. 66600.]]\n"
          ]
        }
      ]
    },
    {
      "cell_type": "code",
      "source": [
        "import numpy as np\n",
        "\n",
        "# Salários dos funcionários em diferentes departamentos\n",
        "salarios = np.array([\n",
        "    [50000, 52000, 54000],  # Salários no Departamento A\n",
        "    [60000, 62000, 64000],  # Salários no Departamento B\n",
        "    [70000, 72000, 74000]   # Salários no Departamento C\n",
        "])\n",
        "\n",
        "# Percentuais de aumento para cada departamento\n",
        "aumento_percentual = np.array([0.05, 0.07, 0.10])  # 5%, 7%, e 10%\n",
        "\n",
        "#Atualizar os salarios para cada departamento\n",
        "salarios_ajustados = salarios * (1 - aumento_percentual)\n",
        "\n",
        "# print(\"Salarios Originais:\")\n",
        "# print(salarios)\n",
        "# print()\n",
        "# print(\"\\nAjuste Percentual:\")\n",
        "# print(aumento_percentual)\n",
        "# print(\"\\nSalarios Atualizados:\")\n",
        "# print(salarios_ajustados)\n",
        "\n",
        "# salarios_ajustados[:, np.newaxis]"
      ],
      "metadata": {
        "colab": {
          "base_uri": "https://localhost:8080/"
        },
        "id": "wVwFKpT5NROR",
        "outputId": "4b8b608d-48df-4f03-9b01-70df9845aa42"
      },
      "execution_count": null,
      "outputs": [
        {
          "output_type": "execute_result",
          "data": {
            "text/plain": [
              "array([[[47500., 48360., 48600.]],\n",
              "\n",
              "       [[57000., 57660., 57600.]],\n",
              "\n",
              "       [[66500., 66960., 66600.]]])"
            ]
          },
          "metadata": {},
          "execution_count": 83
        }
      ]
    },
    {
      "cell_type": "markdown",
      "source": [
        "##Concatenação de Arrays\n",
        "\n",
        "As funções vstack e hstack, permitem concatenar dois ou mais arrays verticamente e horizontalmente"
      ],
      "metadata": {
        "id": "CdlAxNc3Oeo0"
      }
    },
    {
      "cell_type": "code",
      "source": [
        "import numpy as np\n",
        "\n",
        "#Criando dois arrays 1D\n",
        "array1 = np.array([1,2,3])\n",
        "array2 = np.array([4,5,6])\n",
        "\n",
        "#Concatenar os arrays verticalmente de 1D\n",
        "resultado_vstack = np.vstack((array1, array2))\n",
        "# print(resultado_vstack)\n",
        "\n",
        "#Criando dois arrays 2D\n",
        "array3 = np.array([\n",
        "    [1,2,3],\n",
        "    [4,5,6]\n",
        "])\n",
        "array4 = np.array([\n",
        "    [7,8,9],\n",
        "    [10,11,12]\n",
        "])\n",
        "#Concatenar os arrays verticalmente de 2D\n",
        "resultado_vstack_2D = np.vstack((array3, array4 ))\n",
        "print(resultado_vstack_2D)"
      ],
      "metadata": {
        "colab": {
          "base_uri": "https://localhost:8080/"
        },
        "id": "kOmfnoQ_Oum9",
        "outputId": "cfee3024-1f0b-4c52-c8ad-7e7f363da9ee"
      },
      "execution_count": null,
      "outputs": [
        {
          "output_type": "stream",
          "name": "stdout",
          "text": [
            "[[ 1  2  3]\n",
            " [ 4  5  6]\n",
            " [ 7  8  9]\n",
            " [10 11 12]]\n"
          ]
        }
      ]
    },
    {
      "cell_type": "code",
      "source": [
        "import numpy as np\n",
        "\n",
        "#Criando dois arrays 1D\n",
        "array1 = np.array([1,2,3])\n",
        "array2 = np.array([4,5,6])\n",
        "\n",
        "#Concatenar os arrays Horizontalmente de 1D\n",
        "resultado_hstack = np.hstack((array1, array2))\n",
        "print(resultado_hstack)\n",
        "\n",
        "#Criando dois arrays 2D\n",
        "array3 = np.array([\n",
        "    [1,2,3],\n",
        "    [4,5,6]\n",
        "])\n",
        "array4 = np.array([\n",
        "    [7,8,9],\n",
        "    [10,11,12]\n",
        "])\n",
        "#Concatenar os arrays Horizontalmente de 2D\n",
        "resultado_hstack_2D = np.hstack((array3, array4))\n",
        "print(resultado_hstack_2D)"
      ],
      "metadata": {
        "colab": {
          "base_uri": "https://localhost:8080/"
        },
        "id": "isAtFE8qQgis",
        "outputId": "8495bd82-9eb8-4738-8ab0-6e666580760c"
      },
      "execution_count": null,
      "outputs": [
        {
          "output_type": "stream",
          "name": "stdout",
          "text": [
            "[1 2 3 4 5 6]\n",
            "[[ 1  2  3  7  8  9]\n",
            " [ 4  5  6 10 11 12]]\n"
          ]
        }
      ]
    }
  ]
}