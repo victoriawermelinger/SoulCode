{
 "cells": [
  {
   "cell_type": "markdown",
   "metadata": {},
   "source": [
    "A atividade é sobre uma base de dados que já utilizamos em projetos anteriores com outras ferramentas e tecnologias.\n",
    "A base encontra-se já disponível anteriormente sobre funcionários, e a atividade é a seguinte:\n",
    "\n",
    "1 - Baixe a base em sua máquina no formato .csv;<p>\n",
    "2 - Abra um novo colab e crie uma nova seção PySpark;<p>\n",
    "3 - Suba a base da máquina para seu ambiente Pyspark no Colab;<p>\n",
    "4 - Elabore Análises com filtros e agrupamentos aprendidos em PySpark na aula de ontem;<p>\n",
    "5 - Cada filtro ou agrupamento que você realizar deve estar acompanhado (no bloco de código do respectivo colab) de um comentário sobre qual  pergunta essas dados filtrados ou agrupados tentam responder sobre essa base;<p>\n",
    "6 - Cada filtro ou agrupamento deverá ser salvo em um objeto PySpark e depois convertido em um objeto Pandas, ao longo\n",
    "do dia você deverá realizar no mínimo 20 tabelas resultantes dessas análises;<p>\n",
    "7 - Após isso, as tabelas pandas deverão ser enviadas diretamente do colab para arquivos csv.<p>\n",
    "8 - O formato de entrega é o próprio link, ou arquivo ypynb do colab"
   ]
  }
 ],
 "metadata": {
  "language_info": {
   "name": "python"
  }
 },
 "nbformat": 4,
 "nbformat_minor": 2
}
