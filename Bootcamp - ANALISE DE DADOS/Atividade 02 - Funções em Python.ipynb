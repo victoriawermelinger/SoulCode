{
 "cells": [
  {
   "cell_type": "markdown",
   "metadata": {},
   "source": [
    "# **Atividade 02 - Funções em Python**"
   ]
  },
  {
   "cell_type": "markdown",
   "metadata": {},
   "source": [
    "### 1. **Função de Saudação**:\n",
    "   Crie uma função chamada `saudacao` que receba um nome como argumento e exiba uma mensagem de saudação no console."
   ]
  },
  {
   "cell_type": "code",
   "execution_count": 3,
   "metadata": {},
   "outputs": [
    {
     "name": "stdout",
     "output_type": "stream",
     "text": [
      "Victoria , como você está ? \n"
     ]
    }
   ],
   "source": [
    "def saudacao(nome=\"Visitante\", mensagem=\"Olá\"):\n",
    "    return f\"{nome}, {mensagem}\"\n",
    "\n",
    "nome_usuario = input(\"Qual é o seu nome? \").title()\n",
    "mensagem_usuario = input(\"Digite a mensagem de saudação: \")\n",
    "\n",
    "print(saudacao(nome=nome_usuario, mensagem=mensagem_usuario)) # Chama a função com os valores inseridos pelo usuário\n"
   ]
  },
  {
   "cell_type": "markdown",
   "metadata": {},
   "source": [
    "### 2. **Função de Soma**:\n",
    "   Crie uma função chamada `soma` que receba dois números como argumentos e retorne a soma deles."
   ]
  },
  {
   "cell_type": "code",
   "execution_count": 22,
   "metadata": {},
   "outputs": [
    {
     "name": "stdout",
     "output_type": "stream",
     "text": [
      "A soma de 4.0 e 5.0 é 9.0\n"
     ]
    }
   ],
   "source": [
    "def soma (a, b):\n",
    "    print(soma(a=a, b=b))\n",
    "\n",
    "a = float(input('Primeiro valor: '))\n",
    "b = float(input('Segundo valor: ' ))\n",
    "\n",
    "print(f\"A soma de {a} e {b} é {a + b}\")"
   ]
  },
  {
   "cell_type": "markdown",
   "metadata": {},
   "source": [
    "### 3. **Função de Subtração**:\n",
    "   Crie uma função chamada `subtracao` que receba dois números como argumentos e retorne a subtração do segundo número pelo primeiro."
   ]
  },
  {
   "cell_type": "code",
   "execution_count": 20,
   "metadata": {},
   "outputs": [
    {
     "name": "stdout",
     "output_type": "stream",
     "text": [
      "A subtração de 6.4 e 8.0 é -1.5999999999999996\n"
     ]
    }
   ],
   "source": [
    "def subtração(a, b):\n",
    "    return b-a\n",
    "\n",
    "a = float(input('Primeiro valor: '))\n",
    "b = float(input('Segundo valor: ' ))\n",
    "resultado = subtração(a,b)\n",
    "\n",
    "print(f\"A subtração de {b} e {a} é {resultado}\")"
   ]
  },
  {
   "cell_type": "markdown",
   "metadata": {},
   "source": [
    "### 4. **Função de Multiplicação**:\n",
    "   Crie uma função chamada `multiplicacao` que receba dois números como argumentos e retorne a multiplicação deles."
   ]
  },
  {
   "cell_type": "code",
   "execution_count": 18,
   "metadata": {},
   "outputs": [
    {
     "name": "stdout",
     "output_type": "stream",
     "text": [
      "A multiplicação de 5.0 e 10.0 é 50.0\n"
     ]
    }
   ],
   "source": [
    "def multiplicacao(a, b):\n",
    "    return a * b\n",
    "\n",
    "a = float(input('Primeiro Valor: '))\n",
    "b = float(input('Segundo Valor: '))\n",
    "\n",
    "resultado = multiplicacao(a,b)\n",
    "print(f'A multiplicação de {a} e {b} é {resultado}')"
   ]
  },
  {
   "cell_type": "markdown",
   "metadata": {},
   "source": [
    "### 5. **Função de Divisão**:\n",
    "   Crie uma função chamada `divisao` que receba dois números como argumentos e retorne a divisão do primeiro pelo segundo."
   ]
  },
  {
   "cell_type": "code",
   "execution_count": 23,
   "metadata": {},
   "outputs": [
    {
     "name": "stdout",
     "output_type": "stream",
     "text": [
      "A divisão de 15.0 e 2.0 é 7.5\n"
     ]
    }
   ],
   "source": [
    "def divisão(a, b):\n",
    "    return a / b\n",
    "\n",
    "a = float(input('Primeiro Valor: '))\n",
    "b = float(input('Segundo Valor: '))\n",
    "\n",
    "resultado = divisão(a,b)\n",
    "print(f'A divisão de {a} e {b} é {resultado}')"
   ]
  },
  {
   "cell_type": "markdown",
   "metadata": {},
   "source": [
    "### 6. **Função de Fatorial**:\n",
    "   Crie uma função chamada `fatorial` que receba um número como argumento e retorne o fatorial desse número."
   ]
  },
  {
   "cell_type": "code",
   "execution_count": 26,
   "metadata": {},
   "outputs": [
    {
     "name": "stdout",
     "output_type": "stream",
     "text": [
      "O fatorial de 5 é 120\n"
     ]
    }
   ],
   "source": [
    "#Fatorial\n",
    "def fatorial(n: int) -> int:\n",
    "  if n == 0:\n",
    "    return 1\n",
    "  else:\n",
    "    return n * fatorial(n-1)\n",
    "\n",
    "n = int(input('Qual número para calcular o fatorial? '))\n",
    "res = fatorial(n)\n",
    "print(f'O fatorial de {n} é {res}')"
   ]
  },
  {
   "cell_type": "markdown",
   "metadata": {},
   "source": [
    "### 7. **Função para Verificar Número Primo**:\n",
    "   Crie uma função chamada `ePrimo` que receba um número como argumento e retorne `true` se o número for primo e `false` caso contrário."
   ]
  },
  {
   "cell_type": "code",
   "execution_count": 32,
   "metadata": {},
   "outputs": [
    {
     "name": "stdout",
     "output_type": "stream",
     "text": [
      "O número 10 é False\n"
     ]
    }
   ],
   "source": [
    "def ePrimo(n):\n",
    "    if n <= 1:\n",
    "        return False\n",
    "    for i in range(2, int(n**0.5) + 1):\n",
    "        if n % i == 0:\n",
    "            return False\n",
    "    return True\n",
    "n = int(input('Qual número você gostaria de verificar se é primo ou não? '))\n",
    "res = ePrimo(n)\n",
    "print(f'O número {n} é {res}')"
   ]
  },
  {
   "cell_type": "markdown",
   "metadata": {},
   "source": [
    "### 8. **Função para Calcular Média**:\n",
    "   Crie uma função chamada `media` que receba um array de números como argumento e retorne a média dos números."
   ]
  },
  {
   "cell_type": "code",
   "execution_count": 2,
   "metadata": {},
   "outputs": [
    {
     "name": "stdout",
     "output_type": "stream",
     "text": [
      "A média dos números [5, 7, 8, 9, 41, 54, 31, 7, 8, 4] é 17.4\n"
     ]
    }
   ],
   "source": [
    "def media(numeros):\n",
    "    if len(numeros) == 0:\n",
    "        return 0\n",
    "    return sum(numeros) / len(numeros)\n",
    "\n",
    "numeros = []\n",
    "for i in range(10):  \n",
    "    numero = int(input('Digite um número: ')) \n",
    "    numeros.append(numero) \n",
    "\n",
    "resultado = media(numeros)\n",
    "print(f\"A média dos números {numeros} é {resultado}\")"
   ]
  },
  {
   "cell_type": "markdown",
   "metadata": {},
   "source": [
    "### 9. **Função para Inverter String**:\n",
    "   Crie uma função chamada `inverterString` que receba uma string como argumento e retorne a string invertida."
   ]
  },
  {
   "cell_type": "code",
   "execution_count": 3,
   "metadata": {},
   "outputs": [
    {
     "name": "stdout",
     "output_type": "stream",
     "text": [
      "A palavra victoria invertida fica airotciv\n"
     ]
    }
   ],
   "source": [
    "def inverterString(texto):\n",
    "    return texto[::-1]\n",
    "\n",
    "palavra = input('Qual palavra você quer inverter? ')\n",
    "str = inverterString(palavra)\n",
    "\n",
    "print(f'A palavra {palavra} invertida fica {str}') "
   ]
  },
  {
   "cell_type": "markdown",
   "metadata": {},
   "source": [
    "### 10. **Função para Contar Caracteres**:\n",
    "   Crie uma função chamada `contarCaracteres` que receba uma string e um caractere como argumentos e retorne o número de vezes que o caractere aparece na string."
   ]
  },
  {
   "cell_type": "code",
   "execution_count": 11,
   "metadata": {},
   "outputs": [
    {
     "name": "stdout",
     "output_type": "stream",
     "text": [
      "O caractere 'E' aparece 3 vezes em 'A VIDA E BELA QUANDO VOCÊ SONHA COM ELA '.\n"
     ]
    }
   ],
   "source": [
    "import re\n",
    "def contarCaracteres(texto, caractere):\n",
    "    texto = re.sub(r'[^a-zA-Z0-9]','',texto).upper()\n",
    "    return texto.count(caractere)\n",
    "\n",
    "texto = input(\"Digite a string: \").upper()\n",
    "caractere = input(\"Digite o caractere para contar: \").upper()\n",
    "\n",
    "if len(caractere) != 1:\n",
    "    print(\"Por favor, insira apenas um caractere.\")\n",
    "else:\n",
    "    resultado = contarCaracteres(texto, caractere)\n",
    "    print(f\"O caractere '{caractere}' aparece {resultado} vezes em '{texto}'.\")"
   ]
  },
  {
   "cell_type": "code",
   "execution_count": null,
   "metadata": {},
   "outputs": [],
   "source": [
    "def contarCaracteres(texto, caractere):\n",
    "    return texto.count(caractere)\n",
    "\n",
    "texto = input(\"Digite a string: \").upper()\n",
    "caractere = input(\"Digite o caractere para contar: \").upper()\n",
    "resul = contarCaracteres(texto=texto ,caractere=caractere)\n",
    "\n",
    "print(f'Na palavra ou frase {texto} o {caractere} apareceu {resul} ')"
   ]
  },
  {
   "cell_type": "markdown",
   "metadata": {},
   "source": [
    "### 11. **Função Anônima**:\n",
    "   Crie uma função anônima e atribua-a a uma variável chamada `multiplicar`. A função deve receber dois números como argumentos e retornar a multiplicação deles."
   ]
  },
  {
   "cell_type": "code",
   "execution_count": 15,
   "metadata": {},
   "outputs": [
    {
     "name": "stdout",
     "output_type": "stream",
     "text": [
      "2 X 10 = 20\n"
     ]
    }
   ],
   "source": [
    "multiplicar = lambda a, b: a * b\n",
    "resul = multiplicar(a,b)\n",
    "a = int(input('Primeiro número para multiplicar: '))\n",
    "b = int(input('Segundo número para multiplicar:'))\n",
    "\n",
    "print(f'{a} X {b} = {resul}')"
   ]
  },
  {
   "cell_type": "markdown",
   "metadata": {},
   "source": [
    "### 12. **Função de Ordem Superior**:\n",
    "   Crie uma função chamada `operacao` que receba dois números e uma função como argumentos. A função deve aplicar a função fornecida aos dois números e retornar o resultado."
   ]
  },
  {
   "cell_type": "code",
   "execution_count": 22,
   "metadata": {},
   "outputs": [
    {
     "name": "stdout",
     "output_type": "stream",
     "text": [
      "Resultado da soma (10+15): 25\n",
      "Resultado da multiplicação (10x15): 150\n"
     ]
    }
   ],
   "source": [
    "def operacao(num1, num2, func):\n",
    "    return func(num1, num2)\n",
    "\n",
    "def soma(a, b):\n",
    "    return a + b\n",
    "\n",
    "def mult(a, b):\n",
    "    return a * b\n",
    "num1 = int(input('Primeiro número: '))\n",
    "num2 = int(input('Segundo número: '))\n",
    "\n",
    "res_soma = operacao(num1, num2, soma)\n",
    "res_mult = operacao(num1, num2, mult)\n",
    "\n",
    "print(f'Resultado da soma ({num1}+{num2}): {res_soma}')\n",
    "print(f'Resultado da multiplicação ({num1}x{num2}): {res_mult}')"
   ]
  },
  {
   "cell_type": "markdown",
   "metadata": {},
   "source": [
    "### 13. **Função de Retorno**:\n",
    "   Crie uma função chamada `criarSaudacao` que receba uma saudação como argumento e retorne uma nova função. A função retornada deve receber um nome como argumento e exibir a saudação seguida pelo nome."
   ]
  },
  {
   "cell_type": "code",
   "execution_count": 101,
   "metadata": {},
   "outputs": [
    {
     "name": "stdout",
     "output_type": "stream",
     "text": [
      "Oi, Como Você Está ? !\n"
     ]
    }
   ],
   "source": [
    "def criarSaudacao(saudacao):\n",
    "    def saudacao_com_nome(nome):\n",
    "        return f\"{saudacao}, {nome}!\"\n",
    "    return saudacao_com_nome\n",
    "\n",
    "usuario = input('Digite uma saudação (por exemplo, \"Olá\" ou \"Bom dia\"): ').title()\n",
    "fsaudacao = criarSaudacao(usuario)\n",
    "\n",
    "nome = input('Digite o nome para a saudação: ').title()\n",
    "mensagem = fsaudacao(nome)\n",
    "\n",
    "print(mensagem)"
   ]
  },
  {
   "cell_type": "markdown",
   "metadata": {},
   "source": [
    "### 14. **Função Recursiva**:\n",
    "Crie uma função chamada `contagemRegressiva` que receba um número como argumento e exiba uma contagem regressiva a partir desse número até 0, usando recursão."
   ]
  },
  {
   "cell_type": "code",
   "execution_count": 33,
   "metadata": {},
   "outputs": [
    {
     "name": "stdout",
     "output_type": "stream",
     "text": [
      "10\n",
      "9\n",
      "8\n",
      "7\n",
      "6\n",
      "5\n",
      "4\n",
      "3\n",
      "2\n",
      "1\n",
      "Contagem regressiva concluída!\n"
     ]
    }
   ],
   "source": [
    "from time import sleep \n",
    "\n",
    "def contagemRegressiva(n):\n",
    "    if n < 0:\n",
    "        print(\"Número deve ser zero ou positivo.\")\n",
    "        return\n",
    "    if n == 0:\n",
    "        print(\"Contagem regressiva concluída!\")\n",
    "    else:\n",
    "        print(n)\n",
    "        sleep(1)\n",
    "        contagemRegressiva(n - 1)\n",
    "\n",
    "numero = int(input('Digite um número para iniciar a contagem regressiva: '))\n",
    "contagemRegressiva(numero)\n"
   ]
  },
  {
   "cell_type": "markdown",
   "metadata": {},
   "source": [
    "### 15. **Função para Calcular Fibonacci**:\n",
    "Crie uma função chamada `fibonacci` que receba um número `n` como argumento e retorne o `n`-ésimo número da sequência de Fibonacci."
   ]
  },
  {
   "cell_type": "code",
   "execution_count": 41,
   "metadata": {},
   "outputs": [
    {
     "name": "stdout",
     "output_type": "stream",
     "text": [
      "O 16-ésimo número da sequência de Fibonacci é: 610\n"
     ]
    }
   ],
   "source": [
    "def fibonacci(n):\n",
    "    if n <= 0:\n",
    "        raise ValueError('O número deve ser positivo e maior que zero')\n",
    "    elif n == 1:\n",
    "        return 0\n",
    "    elif n == 2:\n",
    "        return 1\n",
    "    else:\n",
    "        return fibonacci(n-1) + fibonacci(n-2)\n",
    "\n",
    "numero = int(input('Digite o valor de n para obter o n-ésimo número da sequência de Fibonacci: '))\n",
    "resultado = fibonacci(numero)\n",
    "print(f'O {numero}-ésimo número da sequência de Fibonacci é: {resultado}')\n",
    "\n"
   ]
  },
  {
   "cell_type": "code",
   "execution_count": 55,
   "metadata": {},
   "outputs": [
    {
     "name": "stdout",
     "output_type": "stream",
     "text": [
      "O 10-ésimo número da sequência de Fibonacci é: 34\n"
     ]
    }
   ],
   "source": [
    "def fibonacci(n):\n",
    "    if n <= 0:\n",
    "        raise ValueError('O número deve ser positivo e maior que zero')\n",
    "    elif n == 1:\n",
    "        return 0\n",
    "    elif n == 2:\n",
    "        return 1\n",
    "    else:\n",
    "        a, b = 0, 1\n",
    "        for _ in range(2, n):\n",
    "            a, b = b, a + b\n",
    "        return b\n",
    "\n",
    "numero = int(input('Digite o valor de n para obter o n-ésimo número da sequência de Fibonacci: '))\n",
    "resultado = fibonacci(numero)\n",
    "print(f'O {numero}-ésimo número da sequência de Fibonacci é: {resultado}')\n"
   ]
  },
  {
   "cell_type": "markdown",
   "metadata": {},
   "source": [
    "### 16. **Função para Converter Celsius para Fahrenheit**:\n",
    "Crie uma função chamada `celsiusParaFahrenheit` que receba uma temperatura em Celsius e retorne a temperatura convertida para Fahrenheit."
   ]
  },
  {
   "cell_type": "code",
   "execution_count": 57,
   "metadata": {},
   "outputs": [
    {
     "name": "stdout",
     "output_type": "stream",
     "text": [
      "Resultado: 104.0\n"
     ]
    }
   ],
   "source": [
    "def celsiusParaFahrenheit(celsius):\n",
    "    if not isinstance(celsius, (int, float)):\n",
    "        return 'Entrada deve ser um número'\n",
    "    fahrenheit = (celsius * 9/5) + 32 # Fórmula de conversão de Celsius para Fahrenheit\n",
    "    return fahrenheit\n",
    "\n",
    "graus = input('Digite a temperatura em Celsius: ')\n",
    "\n",
    "# Tenta converter a entrada para float e chama a função\n",
    "try:\n",
    "    celsius = float(graus)\n",
    "    resultado = celsiusParaFahrenheit(celsius)\n",
    "except ValueError:\n",
    "    resultado = \"Entrada deve ser um número\"\n",
    "\n",
    "print(\"Resultado:\", resultado)"
   ]
  },
  {
   "cell_type": "markdown",
   "metadata": {},
   "source": [
    "###  17. **Função para Converter Fahrenheit para Celsius**:\n",
    "Crie uma função chamada `fahrenheitParaCelsius` que receba uma temperatura em Fahrenheit e retorne a temperatura convertida para Celsius."
   ]
  },
  {
   "cell_type": "code",
   "execution_count": 66,
   "metadata": {},
   "outputs": [
    {
     "name": "stdout",
     "output_type": "stream",
     "text": [
      "Resultado: 40.0\n"
     ]
    }
   ],
   "source": [
    "def fahrenheitParaCelsius(fahrenheit):\n",
    "    if not isinstance(fahrenheit, (int, float)):\n",
    "        return \"Entrada deve ser um número\"\n",
    "    celsius = ((fahrenheit - 32) * 5) / 9  # Fórmula de conversão de Fahrenheit para Celsius\n",
    "    return celsius\n",
    "\n",
    "graus = input('Digite a temperatura em Fahrenheit: ')\n",
    "\n",
    "# Tenta converter a entrada para float e chama a função correta\n",
    "try:\n",
    "    fahrenheit = float(graus)\n",
    "    resultado = fahrenheitParaCelsius(fahrenheit)\n",
    "except ValueError:\n",
    "    resultado = \"Entrada deve ser um número\"\n",
    "\n",
    "print(\"Resultado:\", resultado)"
   ]
  },
  {
   "cell_type": "markdown",
   "metadata": {},
   "source": [
    "### 18. **Função para Verificar Paridade**:\n",
    "Crie uma função chamada `ePar` que receba um número como argumento e retorne `true` se o número for par e `false` caso contrário."
   ]
  },
  {
   "cell_type": "code",
   "execution_count": 72,
   "metadata": {},
   "outputs": [
    {
     "name": "stdout",
     "output_type": "stream",
     "text": [
      "12 é par.\n"
     ]
    }
   ],
   "source": [
    "def ehPar(numero):\n",
    "    return numero % 2 == 0\n",
    "\n",
    "numero = int(input(\"Digite um número: \"))\n",
    "if ehPar(numero):\n",
    "    print(f\"{numero} é par.\")\n",
    "else:\n",
    "    print(f\"{numero} é ímpar.\")\n"
   ]
  },
  {
   "cell_type": "markdown",
   "metadata": {},
   "source": [
    "### 19. **Função para Calcular Quadrado**:\n",
    " Crie uma função chamada `quadrado` que receba um número como argumento e retorne o quadrado desse número."
   ]
  },
  {
   "cell_type": "code",
   "execution_count": 83,
   "metadata": {},
   "outputs": [
    {
     "name": "stdout",
     "output_type": "stream",
     "text": [
      "O quadrado de 5.0 é 25.0.\n"
     ]
    }
   ],
   "source": [
    "def quadrado(numero):\n",
    "   return numero ** 2\n",
    "\n",
    "numero = float(input(\"Digite um número: \"))\n",
    "resultado = quadrado(numero)\n",
    "print(f\"O quadrado de {numero} é {resultado}.\")"
   ]
  },
  {
   "cell_type": "markdown",
   "metadata": {},
   "source": [
    "### 20. **Função para Calcular Raiz Quadrada**:\n",
    " Crie uma função chamada `raizQuadrada` que receba um número como argumento e retorne a raiz quadrada desse número."
   ]
  },
  {
   "cell_type": "code",
   "execution_count": 82,
   "metadata": {},
   "outputs": [
    {
     "name": "stdout",
     "output_type": "stream",
     "text": [
      "A raiz quadrada de 25.0 é 5.0.\n"
     ]
    }
   ],
   "source": [
    "import math\n",
    "\n",
    "def raizQuadrada(numero):\n",
    "    return math.sqrt(numero)\n",
    "\n",
    "numero = float(input(\"Digite um número: \"))\n",
    "resultado = raizQuadrada(numero)\n",
    "print(f\"A raiz quadrada de {numero} é {resultado}.\")"
   ]
  },
  {
   "cell_type": "markdown",
   "metadata": {},
   "source": [
    "### 21. **Função para Contar Vogais**:\n",
    "Crie uma função chamada `contarVogais` que receba uma string como argumento e retorne o número de vogais na string."
   ]
  },
  {
   "cell_type": "code",
   "execution_count": 86,
   "metadata": {},
   "outputs": [
    {
     "name": "stdout",
     "output_type": "stream",
     "text": [
      "O número de vogais sem \"victoria sabbatino wermelinger \" é de 12 vogais.\n"
     ]
    }
   ],
   "source": [
    "def contarVogais(texto):\n",
    "    vogais = 'aeiouAEIOU'\n",
    "    cont = sum (1 for letra in texto if letra in vogais)\n",
    "    return cont\n",
    "\n",
    "texto = input('Digite uma frase: ')\n",
    "cont = contarVogais(texto)\n",
    "\n",
    "print(f'O número de vogais sem \"{texto}\" é de {cont} vogais.')"
   ]
  },
  {
   "cell_type": "markdown",
   "metadata": {},
   "source": [
    "### 22. **Função para Verificar Palíndromo**:\n",
    "   Crie uma função chamada `ePalindromo` que receba uma string como argumento e retorne `true` se a string for um palíndromo e `false` caso contrário."
   ]
  },
  {
   "cell_type": "code",
   "execution_count": 89,
   "metadata": {},
   "outputs": [
    {
     "name": "stdout",
     "output_type": "stream",
     "text": [
      "\"casa\" não é um palíndromo.\n"
     ]
    }
   ],
   "source": [
    "import re\n",
    "def ePalindromo(frase):\n",
    "  frase = re.sub(r'[^a-zA-Z0-9]','',frase).lower()\n",
    "  return len(frase) <= 1 or frase[0] == frase[-1] and ePalindromo(frase[1:-1])\n",
    "\n",
    "texto = input(\"Digite uma palavra ou frase: \")\n",
    "if ePalindromo(texto):\n",
    "    print(f'\"{texto}\" é um palíndromo.')\n",
    "else:\n",
    "    print(f'\"{texto}\" não é um palíndromo.')"
   ]
  },
  {
   "cell_type": "markdown",
   "metadata": {},
   "source": [
    "### 23. **Função para Encontrar o Maior Número em um Array**:\n",
    " Crie uma função chamada `maiorNumero` que receba um array de números como argumento e retorne o maior número do array."
   ]
  },
  {
   "cell_type": "code",
   "execution_count": 100,
   "metadata": {},
   "outputs": [
    {
     "name": "stdout",
     "output_type": "stream",
     "text": [
      "O maior número da sequência ['5', '4', '12', '13', '55', '9', '8'] é: 55\n"
     ]
    }
   ],
   "source": [
    "def maiorNumero(array):\n",
    "    array = [int(num) for num in array]\n",
    "    maior = max(array)\n",
    "    return maior\n",
    "numeros = input('Digite uma sequência de números separados por vírgulas: ').split(',')\n",
    "\n",
    "print(f\"O maior número da sequência {numeros} é: {maiorNumero(numeros)}\")"
   ]
  },
  {
   "cell_type": "code",
   "execution_count": 97,
   "metadata": {},
   "outputs": [
    {
     "name": "stdout",
     "output_type": "stream",
     "text": [
      "O maior número da sequência ['25', '45', '6', '1', '2', '3', '4', '5', '6', '7', '8', '9', '8'] é: 45\n"
     ]
    }
   ],
   "source": [
    "def maiorNumero(array):\n",
    "    numeros = []\n",
    "    for i in array:\n",
    "        numeros.append(int(i))  # Converte cada elemento para inteiro e adiciona à lista\n",
    "    return max(numeros)\n",
    "\n",
    "numeros = input('Digite uma sequência de números separados por vírgulas: ').split(',')\n",
    "\n",
    "print(f\"O maior número da sequência {numeros} é: {maiorNumero(numeros)}\")\n"
   ]
  },
  {
   "cell_type": "markdown",
   "metadata": {},
   "source": [
    "### 24. **Função para Ordenar um Array em Ordem Crescente**:\n",
    "Crie uma função chamada `ordenarArray` que receba um array de números como argumento e retorne o array ordenado em ordem crescente."
   ]
  },
  {
   "cell_type": "code",
   "execution_count": 105,
   "metadata": {},
   "outputs": [
    {
     "name": "stdout",
     "output_type": "stream",
     "text": [
      "O array ordenado é: [1, 2, 3, 4, 4, 5, 6, 7, 8, 9]\n"
     ]
    }
   ],
   "source": [
    "def ordenarArray(array):\n",
    "    array.sort()\n",
    "    return array\n",
    "numeros = input('Digite uma sequência de números separados por vírgulas: ').split(',')\n",
    "numeros = [int(num) for num in numeros]\n",
    "orden = ordenarArray(numeros)\n",
    "print(f\"O array ordenado é: {orden}\")"
   ]
  },
  {
   "cell_type": "markdown",
   "metadata": {},
   "source": [
    "### 25. **Função para Filtrar Números Pares**:\n",
    "Crie uma função chamada `filtrarPares` que receba um array de números como argumento e retorne um novo array contendo apenas os números pares."
   ]
  },
  {
   "cell_type": "code",
   "execution_count": 118,
   "metadata": {},
   "outputs": [
    {
     "name": "stdout",
     "output_type": "stream",
     "text": [
      "Os números da sequência [1, 2, 3, 4, 5, 6, 7, 8, 9, 10, 12, 15, 18] são [2, 4, 6, 8, 10, 12, 18]\n"
     ]
    }
   ],
   "source": [
    "def filtrarPares(numeros):\n",
    "    return [num for num in numeros if num % 2 == 0]\n",
    "num = input('Digite uma sequência aleatória para encontrarmos todos os pares (separados por vírgula): ').split(',')\n",
    "num = [int(n) for n in num]\n",
    "pares = filtrarPares(num)\n",
    "print(f'Os números da sequência {num} são {pares}')"
   ]
  },
  {
   "cell_type": "markdown",
   "metadata": {},
   "source": [
    "### 26. **Função para Concatenar Arrays**:\n",
    "Crie uma função chamada `concatenarArrays` que receba dois arrays como argumentos e retorne um novo array que seja a concatenação dos dois arrays."
   ]
  },
  {
   "cell_type": "code",
   "execution_count": 119,
   "metadata": {},
   "outputs": [
    {
     "name": "stdout",
     "output_type": "stream",
     "text": [
      "O array resultante da concatenação é: [1, 3, 5, 7, 9, 2, 4, 6, 8]\n"
     ]
    }
   ],
   "source": [
    "def concatenarArrays(array1, array2):\n",
    "    return array1 + array2\n",
    "\n",
    "array1 = input('Digite os elementos do primeiro array separados por vírgula: ').split(',')\n",
    "array2 = input('Digite os elementos do segundo array separados por vírgula: ').split(',')\n",
    "\n",
    "array1 = [int(x) for x in array1]\n",
    "array2 = [int(x) for x in array2]\n",
    "\n",
    "resultado = concatenarArrays(array1, array2)\n",
    "print(f'O array resultante da concatenação é: {resultado}')"
   ]
  },
  {
   "cell_type": "markdown",
   "metadata": {},
   "source": [
    "### 27. **Função de Memoização para Fatorial**:\n",
    "Crie uma função chamada `memoFatorial` que usa memoização para otimizar o cálculo do fatorial."
   ]
  },
  {
   "cell_type": "code",
   "execution_count": 122,
   "metadata": {},
   "outputs": [
    {
     "name": "stdout",
     "output_type": "stream",
     "text": [
      "Fatorial de 15 é: 1307674368000\n"
     ]
    }
   ],
   "source": [
    "memo = {}\n",
    "\n",
    "def memoFatorial(n):\n",
    "    if n in memo:\n",
    "        return memo[n]    \n",
    "    if n <= 1:\n",
    "        memo[n] = 1\n",
    "    else:\n",
    "        memo[n] = n * memoFatorial(n - 1)  \n",
    "    return memo[n]\n",
    "\n",
    "numero = int(input('Digite um número para calcular o fatorial: '))\n",
    "resultado = memoFatorial(numero)\n",
    "\n",
    "print(f'Fatorial de {numero} é: {resultado}')"
   ]
  },
  {
   "cell_type": "markdown",
   "metadata": {},
   "source": [
    "### 28. **Função para Verificar Substring**:\n",
    "Crie uma função chamada `contemSubstring` que receba duas strings como argumentos e retorne `true` se a primeira string contiver a segunda string, e `false` caso contrário."
   ]
  },
  {
   "cell_type": "code",
   "execution_count": 125,
   "metadata": {},
   "outputs": [
    {
     "name": "stdout",
     "output_type": "stream",
     "text": [
      "A primeira string contém a segunda string? True\n"
     ]
    }
   ],
   "source": [
    "def contemSubstring(string1, string2):\n",
    "    return string2 in string1\n",
    "\n",
    "string1 = input('Digite a frase: ')\n",
    "string2 = input('Digite a palavra: ')\n",
    "\n",
    "resultado = contemSubstring(string1, string2)\n",
    "\n",
    "print(f'A primeira string contém a segunda string? {resultado}')"
   ]
  },
  {
   "cell_type": "markdown",
   "metadata": {},
   "source": [
    "### 29. **Função de Curry**:\n",
    "Crie uma função chamada `currySoma` que usa currying para somar três números. A função deve ser chamada assim: `currySoma(a)(b)(c)`."
   ]
  },
  {
   "cell_type": "code",
   "execution_count": 126,
   "metadata": {},
   "outputs": [
    {
     "name": "stdout",
     "output_type": "stream",
     "text": [
      "A soma de 5, 2 e 8 é: 15\n"
     ]
    }
   ],
   "source": [
    "def currySoma(a):\n",
    "    def soma_b(b):\n",
    "        def soma_c(c):\n",
    "            return a + b + c\n",
    "        return soma_c\n",
    "    return soma_b\n",
    "\n",
    "a = int(input('Digite o primeiro número: '))\n",
    "b = int(input('Digite o segundo número: '))\n",
    "c = int(input('Digite o terceiro número: '))\n",
    "\n",
    "resultado = currySoma(a)(b)(c)\n",
    "\n",
    "print(f'A soma de {a}, {b} e {c} é: {resultado}')"
   ]
  },
  {
   "cell_type": "markdown",
   "metadata": {},
   "source": [
    "### 30. **Função para Reduzir um Array**:\n",
    "Crie uma função chamada `reduzirArray` que receba um array de números e uma função de redução (callback) como argumentos e retorne o valor reduzido."
   ]
  },
  {
   "cell_type": "code",
   "execution_count": 130,
   "metadata": {},
   "outputs": [
    {
     "name": "stdout",
     "output_type": "stream",
     "text": [
      "O resultado da operação mult. nos números [1, 2, 3, 4, 5, 6] é: 720\n"
     ]
    }
   ],
   "source": [
    "def reduzirArray(array, func_reducao):\n",
    "    resultado = array[0]  \n",
    "    for num in array[1:]: \n",
    "        resultado = func_reducao(resultado, num)  \n",
    "    return resultado  \n",
    "\n",
    "def soma(a, b):\n",
    "    return a + b\n",
    "\n",
    "def mult(a, b):\n",
    "    return a * b\n",
    "\n",
    "def main():\n",
    "    numeros = input('Digite os números separados por vírgula: ')\n",
    "    numeros = [int(x) for x in numeros.split(',')]  # Converte para lista de inteiros\n",
    "\n",
    "    operacao = input('Escolha a operação (soma ou mult.): ').strip().lower()\n",
    "\n",
    "    if operacao == 'soma':\n",
    "        func_reducao = soma\n",
    "    elif operacao == 'mult.':\n",
    "        func_reducao = produto\n",
    "    else:\n",
    "        print('Operação inválida. Escolha \"soma\" ou \"mult.\".')\n",
    "        return\n",
    "\n",
    "\n",
    "    resultado = reduzirArray(numeros, func_reducao)\n",
    "    print(f'O resultado da operação {operacao} nos números {numeros} é: {resultado}')\n",
    "\n",
    "main()\n",
    "\n"
   ]
  },
  {
   "cell_type": "code",
   "execution_count": 1,
   "metadata": {},
   "outputs": [
    {
     "name": "stdout",
     "output_type": "stream",
     "text": [
      "1046\n"
     ]
    }
   ],
   "source": [
    "#Função para Reduzir um Array\n",
    "def reduzirArray(lista, callback, valor_inicial=None):\n",
    "    if valor_inicial is None:\n",
    "        valor_inicial = lista[0]\n",
    "        lista = lista[1:]\n",
    "\n",
    "    valor_reduzido = valor_inicial\n",
    "    for item in lista:\n",
    "        valor_reduzido = callback(valor_reduzido, item)\n",
    "    return valor_reduzido\n",
    "\n",
    "#Entrada de dados\n",
    "numeros = [1,23,365,25,263,5,4,88,52,62,67,54,14,23]\n",
    "\n",
    "#Função de callback para somar os valores\n",
    "def soma(a, b):\n",
    "    return a + b\n",
    "\n",
    "#Saída de dados\n",
    "resultado_soma = reduzirArray(numeros, soma)\n",
    "print(resultado_soma)"
   ]
  },
  {
   "cell_type": "markdown",
   "metadata": {},
   "source": [
    "### 31. **Função para Remover Duplicatas de um Array**:\n",
    "Crie uma função chamada `removerDuplicatas` que receba um array como argumento e retorne um novo array sem duplicatas."
   ]
  },
  {
   "cell_type": "code",
   "execution_count": 141,
   "metadata": {},
   "outputs": [
    {
     "name": "stdout",
     "output_type": "stream",
     "text": [
      "[1, 2, 3, 4, 5]\n"
     ]
    }
   ],
   "source": [
    "def removerDuplicatas(array):\n",
    "    resultado = []\n",
    "    for item in array:\n",
    "        if item not in resultado:\n",
    "            resultado.append(item)\n",
    "    return resultado\n",
    "\n",
    "# Exemplo de uso\n",
    "array_com_duplicatas = [1, 2, 2, 3, 4, 4, 5]\n",
    "array_sem_duplicatas = removerDuplicatas(array_com_duplicatas)\n",
    "print(array_sem_duplicatas) "
   ]
  },
  {
   "cell_type": "markdown",
   "metadata": {},
   "source": [
    "### 32. **Função de Composição**:\n",
    "Crie uma função chamada `compor` que receba duas funções como argumentos e retorne uma nova função que é a composição das duas."
   ]
  },
  {
   "cell_type": "code",
   "execution_count": 142,
   "metadata": {},
   "outputs": [
    {
     "name": "stdout",
     "output_type": "stream",
     "text": [
      "36\n"
     ]
    }
   ],
   "source": [
    "def compor(f, g):\n",
    "    def funcao_composta(x):\n",
    "        return g(f(x))\n",
    "    \n",
    "    return funcao_composta\n",
    "\n",
    "def dobrar(x):\n",
    "    return x * 2\n",
    "\n",
    "def quadrado(x):\n",
    "    return x ** 2\n",
    "\n",
    "dobrar_e_quadrado = compor(dobrar, quadrado)\n",
    "\n",
    "resultado = dobrar_e_quadrado(3) \n",
    "print(resultado)\n"
   ]
  },
  {
   "cell_type": "markdown",
   "metadata": {},
   "source": [
    "### 33. **Função para Mapear um Array**:\n",
    "Crie uma função chamada `mapearArray` que receba um array e uma função de mapeamento (callback) como argumentos e retorne um novo array com os resultados da função de mapeamento aplicada a cada elemento."
   ]
  },
  {
   "cell_type": "code",
   "execution_count": 140,
   "metadata": {},
   "outputs": [
    {
     "name": "stdout",
     "output_type": "stream",
     "text": [
      "Resultado40: [25, 36, 9]\n"
     ]
    }
   ],
   "source": [
    "def mapearArray(array, f_mapeamento):\n",
    "    return [f_mapeamento(item) for item in array]\n",
    "\n",
    "def quadrado(x):\n",
    "    return x ** 2\n",
    "\n",
    "def cubo(x):\n",
    "    return x ** 3\n",
    "\n",
    "def ler_array():\n",
    "    entrada = input(\"Digite uma lista de números separados por vírgula (,): \")\n",
    "    return list(map(int, entrada.split(',')))\n",
    "\n",
    "def main():\n",
    "    array = ler_array()\n",
    "    escolha = input(\"Digite o número da opção desejada (1. Quadrado 2. Cubo): \")\n",
    "\n",
    "    if escolha == \"1\":\n",
    "        f_mapeamento = quadrado\n",
    "    elif escolha == \"2\":\n",
    "        f_mapeamento = cubo\n",
    "    else:\n",
    "        print(\"Opção inválida.\")\n",
    "        return\n",
    "\n",
    "    resultado = mapearArray(array, f_mapeamento)\n",
    "    print(f\"Resultado:\", resultado)\n",
    "\n",
    "if __name__ == \"__main__\":  \n",
    "    main()\n",
    "\n"
   ]
  },
  {
   "cell_type": "markdown",
   "metadata": {},
   "source": [
    "### 34. **Função de Ordenação Personalizada**:\n",
    "Crie uma função chamada `ordenarPersonalizado` que receba um array de objetos e uma função de comparação (callback) como argumentos e retorne o array ordenado."
   ]
  },
  {
   "cell_type": "code",
   "execution_count": 135,
   "metadata": {},
   "outputs": [
    {
     "name": "stdout",
     "output_type": "stream",
     "text": [
      "[{'nome': 'Matheus', 'idade': 29}, {'nome': 'Eduardo', 'idade': 30}, {'nome': 'Victoria', 'idade': 32}]\n"
     ]
    }
   ],
   "source": [
    "def ordenarPersonalizado(array, comparacao):\n",
    "    return sorted(array, key=comparacao)\n",
    "pessoas = [\n",
    "    {'nome': 'Victoria', 'idade': 32},\n",
    "    {'nome': 'Eduardo', 'idade': 30},\n",
    "    {'nome': 'Matheus', 'idade': 29} ]\n",
    "\n",
    "def comp_idade(pessoa):\n",
    "    return pessoa['idade']\n",
    "\n",
    "pessoas_ordenadas = ordenarPersonalizado(pessoas, comp_idade)\n",
    "\n",
    "print(pessoas_ordenadas)"
   ]
  }
 ],
 "metadata": {
  "kernelspec": {
   "display_name": "Python 3",
   "language": "python",
   "name": "python3"
  },
  "language_info": {
   "codemirror_mode": {
    "name": "ipython",
    "version": 3
   },
   "file_extension": ".py",
   "mimetype": "text/x-python",
   "name": "python",
   "nbconvert_exporter": "python",
   "pygments_lexer": "ipython3",
   "version": "3.12.5"
  }
 },
 "nbformat": 4,
 "nbformat_minor": 2
}
