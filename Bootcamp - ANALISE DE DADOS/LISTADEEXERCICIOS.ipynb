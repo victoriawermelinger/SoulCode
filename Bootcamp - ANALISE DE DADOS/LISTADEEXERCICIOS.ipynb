{
  "nbformat": 4,
  "nbformat_minor": 0,
  "metadata": {
    "colab": {
      "provenance": []
    },
    "kernelspec": {
      "name": "python3",
      "display_name": "Python 3"
    },
    "language_info": {
      "name": "python"
    }
  },
  "cells": [
    {
      "cell_type": "markdown",
      "source": [
        "1. Cálculo de Despesa com Desconto Progressivo\n",
        "\n",
        " Crie um programa que receba o custo de três produtos e calcule o valor total. Se o total exceder RS 500, aplique um desconto progressivo: 10% se o total for entre RS 500 e RS 1.000, e 15% se for acima de R$ 1.000. Mostre o valor final após o desconto."
      ],
      "metadata": {
        "id": "wvuYggOmCN2W"
      }
    },
    {
      "cell_type": "code",
      "source": [
        "produto1 = float(input('Digite o custo do primeiro produto: '))\n",
        "produto2 = float(input('Digite o custo do segundo produto: '))\n",
        "produto3 = float(input('Digite o custo do terceiro produto: '))\n",
        "total = produto1 + produto2 + produto3\n",
        "if 500 >= total >= 1000:\n",
        "  desconto = 0.15\n",
        "elif total > 15500:\n",
        "  desconto = 0.10\n",
        "else:\n",
        "  desconto = 0.00\n",
        "\n",
        "valor_final = total * (1 - desconto)\n",
        "print(f\"O valor final após o desconto é: R$ {valor_final:.2f} com a porcentagem {desconto * 100:.0f}%\")\n"
      ],
      "metadata": {
        "colab": {
          "base_uri": "https://localhost:8080/"
        },
        "id": "TSvnxH9IFoAE",
        "outputId": "5a8e6193-d1fc-4915-b555-3a9c9423fa25"
      },
      "execution_count": null,
      "outputs": [
        {
          "output_type": "stream",
          "name": "stdout",
          "text": [
            "Digite o custo do primeiro produto: 100\n",
            "Digite o custo do segundo produto: 0\n",
            "Digite o custo do terceiro produto: 1500\n",
            "O valor final após o desconto é: R$ 1440.00 com a porcentagem 10%\n"
          ]
        }
      ]
    },
    {
      "cell_type": "markdown",
      "source": [
        "\n",
        "2. Classificação de Idade com Mensagens Personalizadas\n",
        "\n",
        " Desenvolva um programa que receba a idade de uma pessoa e determine sua categoria: \"Criança\" (0-12 anos), \"Adolescente\" (13-17 anos), \"Adulto\" (18-64 anos) ou \"Idoso\" (65 anos ou mais). Exiba uma mensagem personalizada para cada faixa etária, como \"Você é uma criança cheia de energia!\" ou \"Você tem muita sabedoria como idoso!\"."
      ],
      "metadata": {
        "id": "xunbWHyhHo-e"
      }
    },
    {
      "cell_type": "code",
      "source": [
        "# Criança até 12 anos\n",
        "# Adolescente de 13 a 17 anos\n",
        "# Adulto de 18 a 59\n",
        "# Idoso acima de 60\n",
        "\n",
        "idade = int(input(\"Digite sua idade: \"))\n",
        "\n",
        "# Verificar e classificar a faixa etária\n",
        "if 0 <= idade <= 12:\n",
        "  print(\"Criança\", \"Você é uma criança cheia de energia!\")\n",
        "elif 13 <= idade <= 17:\n",
        "  print(\"Adolescente\", \"Você está na fase de muitas descobertas como adolescente!\")\n",
        "elif 18 <= idade <= 64:\n",
        "  print(\"Adulto\", \"Você é um adulto com muitas responsabilidades!\")\n",
        "elif 65 <= idade <= 150:\n",
        "  print (\"Idoso\", \"Você tem muita sabedoria como idoso!\")\n",
        "else:\n",
        "  print (\"A idade digitada é inválida.\")\n"
      ],
      "metadata": {
        "colab": {
          "base_uri": "https://localhost:8080/"
        },
        "id": "klsi0N3mHvqU",
        "outputId": "59eb2769-d3c3-475f-9f6b-af263d0512fe"
      },
      "execution_count": null,
      "outputs": [
        {
          "output_type": "stream",
          "name": "stdout",
          "text": [
            "Digite sua idade: 200\n",
            "A idade digitada é inválida.\n"
          ]
        }
      ]
    },
    {
      "cell_type": "markdown",
      "source": [
        "3. Verificação de Número Par, Ímpar e Positivo/Negativo\n",
        "   \n",
        "   Crie um programa que receba um número inteiro e informe se ele é par ou ímpar e, adicionalmente, se é positivo, negativo ou zero. Inclua uma mensagem especial para números que sejam múltiplos de 10."
      ],
      "metadata": {
        "id": "5LvZaneDL7Ob"
      }
    },
    {
      "cell_type": "code",
      "source": [
        "numero = int(input(\"Digite um número inteiro: \"))\n",
        "\n",
        "if numero % 2 == 0:\n",
        "    paridade = \"par\"\n",
        "else:\n",
        "    paridade = \"ímpar\"\n",
        "\n",
        "if numero > 0:\n",
        "    sinal = \"positivo\"\n",
        "elif numero < 0:\n",
        "    sinal = \"negativo\"\n",
        "else:\n",
        "    sinal = \"zero\"\n",
        "\n",
        "if numero % 10 != 0:\n",
        "    print(f\"O número {numero} não é múltiplo de 10.\")\n",
        "else:\n",
        "    print(f\"O número {numero} é múltiplo de 10.\")\n",
        "\n",
        "print(f\"O número {numero} é {paridade} e {sinal}.\")\n",
        "\n",
        "\n"
      ],
      "metadata": {
        "colab": {
          "base_uri": "https://localhost:8080/"
        },
        "id": "a_meF5ppL6fA",
        "outputId": "e0c725a9-474f-43ba-e3c2-b5008ffa3ee0"
      },
      "execution_count": null,
      "outputs": [
        {
          "output_type": "stream",
          "name": "stdout",
          "text": [
            "Digite um número inteiro: -50\n",
            "O número -50 é múltiplo de 10.\n",
            "O número -50 é par e negativo.\n"
          ]
        }
      ]
    },
    {
      "cell_type": "markdown",
      "source": [
        "4. Cálculo de Média com Condição de Recuperação\n",
        "\n",
        "  Desenvolva um programa que receba as notas de quatro provas e calcule a média. Se a média for menor que 5, informe que o aluno está reprovado. Se estiver entre 5 e 7, informe que o aluno está em recuperação, e se for maior ou igual a 7, informe que o aluno está aprovado."
      ],
      "metadata": {
        "id": "lNV8ujBoQ1ZW"
      }
    },
    {
      "cell_type": "code",
      "source": [
        "nota1 = float(input(\"Digite a nota da primeira prova: \"))\n",
        "nota2 = float(input(\"Digite a nota da segunda prova: \"))\n",
        "nota3 = float(input(\"Digite a nota da terceira prova: \"))\n",
        "nota4 = float(input(\"Digite a nota da quarta prova: \"))\n",
        "\n",
        "media = (nota1 + nota2 + nota3 + nota4) / 4\n",
        "\n",
        "if media < 5:\n",
        "    status = \"reprovado\"\n",
        "elif 5 <= media < 7:\n",
        "    status = \"em recuperação\"\n",
        "else:\n",
        "    status = \"aprovado\"\n",
        "\n",
        "print(f\"A média das notas é: {media:.2f}, o aluno está de {status}\")"
      ],
      "metadata": {
        "colab": {
          "base_uri": "https://localhost:8080/"
        },
        "id": "TKbF-EoJRJCt",
        "outputId": "de725b74-bda2-478b-8199-719941cda6fb"
      },
      "execution_count": null,
      "outputs": [
        {
          "output_type": "stream",
          "name": "stdout",
          "text": [
            "Digite a nota da primeira prova: 10\n",
            "Digite a nota da segunda prova: 2\n",
            "Digite a nota da terceira prova: 7\n",
            "Digite a nota da quarta prova: 3\n",
            "A média das notas é: 5.50, o aluno está de em recuperação\n"
          ]
        }
      ]
    },
    {
      "cell_type": "markdown",
      "source": [
        "5. Classificação e Ajuste de Salário com Reajuste\n",
        "   \n",
        "   Crie um programa que receba o salário de um funcionário e determine sua faixa salarial: \"Baixa\" (até RS 2.500), \"Média\" (de RS 2.501 a RS 5.000) ou \"Alta\" (acima de RS 5.000). Aplique um reajuste de 7% para a faixa baixa, 5% para a faixa média e 3% para a faixa alta. Mostre o salário reajustado."
      ],
      "metadata": {
        "id": "Qt2kuyaFSNx-"
      }
    },
    {
      "cell_type": "code",
      "source": [
        "salario = float(input(\"Digite o salário do funcionário: R$ \"))\n",
        "\n",
        "if salario <= 2500:\n",
        "    faixa = \"Baixa\"\n",
        "    reajuste = 0.07\n",
        "elif 2501 <= salario <= 5000:\n",
        "    faixa = \"Média\"\n",
        "    reajuste = 0.05\n",
        "else:\n",
        "    faixa = \"Alta\"\n",
        "    reajuste = 0.03\n",
        "\n",
        "salario_reajustado = salario * (1 + reajuste)\n",
        "\n",
        "print(f\"A faixa salarial é: {faixa}\")\n",
        "print(f\"O salário reajustado é: R$ {salario_reajustado:.2f}\")\n"
      ],
      "metadata": {
        "colab": {
          "base_uri": "https://localhost:8080/"
        },
        "id": "uwAahGFiSeeL",
        "outputId": "e7fe4a2a-7695-4559-d397-bd52f326a303"
      },
      "execution_count": null,
      "outputs": [
        {
          "output_type": "stream",
          "name": "stdout",
          "text": [
            "Digite o salário do funcionário: R$ 2200\n",
            "A faixa salarial é: Baixa\n",
            "O salário reajustado é: R$ 2354.00\n"
          ]
        }
      ]
    },
    {
      "cell_type": "markdown",
      "source": [
        "6. Verificação de Ano Bissexto com Mensagens\n",
        "\n",
        "   Desenvolva um programa que receba um ano e determine se ele é bissexto. Se for, informe que \"O ano é bissexto e possui 366 dias.\" Caso contrário, informe que \"O ano não é bissexto e possui 365 dias.\""
      ],
      "metadata": {
        "id": "doEh92yeTfT4"
      }
    },
    {
      "cell_type": "code",
      "source": [
        "# Solicitando o ano do usuário\n",
        "ano = int(input(\"Digite um ano: \"))\n",
        "\n",
        "# Determinando se o ano é bissexto\n",
        "if (ano % 4 == 0 and ano % 100 != 0) or (ano % 400 == 0):\n",
        "    bissexto = True\n",
        "    print(f\"O ano {ano} é bissexto e possui 366 dias.\")\n",
        "else:\n",
        "    bissexto = False\n",
        "    print(f\"O ano {ano} não é bissexto e possui 365 dias.\")"
      ],
      "metadata": {
        "colab": {
          "base_uri": "https://localhost:8080/"
        },
        "id": "vajWy-H4Tld_",
        "outputId": "cf640649-a774-4b42-fdaf-305135184ae3"
      },
      "execution_count": null,
      "outputs": [
        {
          "output_type": "stream",
          "name": "stdout",
          "text": [
            "Digite um ano: 2024\n",
            "O ano 2024 é bissexto e possui 366 dias.\n"
          ]
        }
      ]
    },
    {
      "cell_type": "markdown",
      "source": [
        "7. Conversão e Comparação de Temperatura\n",
        "\n",
        "   Crie um programa que receba uma temperatura em graus Celsius e a converta para Fahrenheit. Em seguida, verifique se a temperatura em Fahrenheit é inferior a 32°F (fria), entre 32°F e 68°F (amena), ou superior a 68°F (quente). Mostre a classificação junto com a temperatura convertida."
      ],
      "metadata": {
        "id": "vR3IyVekUnJm"
      }
    },
    {
      "cell_type": "code",
      "source": [
        "celsius = float(input(\"Digite a temperatura em graus Celsius: \"))\n",
        "\n",
        "fahrenheit = (celsius * 9/5) + 32\n",
        "\n",
        "if fahrenheit < 32:\n",
        "    classificacao = \"fria\"\n",
        "elif 32 <= fahrenheit <= 68:\n",
        "    classificacao = \"amena\"\n",
        "else:\n",
        "    classificacao = \"\" # Add a value here to complete the else statement\n",
        "    classificacao = \"quente\"\n",
        "\n",
        "print(f\"A temperatura em Fahrenheit é {fahrenheit:.2f}°F e é considerada {classificacao}.\")"
      ],
      "metadata": {
        "colab": {
          "base_uri": "https://localhost:8080/"
        },
        "id": "y6lDasUlUqFR",
        "outputId": "9d640f06-8990-47be-d33c-19f08bc45e0b"
      },
      "execution_count": null,
      "outputs": [
        {
          "output_type": "stream",
          "name": "stdout",
          "text": [
            "Digite a temperatura em graus Celsius: 40\n",
            "A temperatura em Fahrenheit é 104.00°F e é considerada quente.\n"
          ]
        }
      ]
    },
    {
      "cell_type": "markdown",
      "source": [
        "8. Comparação de Três Números com Verificação de Ordenação\n",
        "\n",
        "   Desenvolva um programa que receba três números inteiros e determine qual é o maior e o menor. Além disso, verifique e informe se os números estão em ordem crescente, decrescente ou se não estão ordenados."
      ],
      "metadata": {
        "id": "ihnWCwpRWHhq"
      }
    },
    {
      "cell_type": "code",
      "source": [
        "num1 = int(input(\"Digite o primeiro número: \"))\n",
        "num2 = int(input(\"Digite o segundo número: \"))\n",
        "num3 = int(input(\"Digite o terceiro número: \"))\n",
        "\n",
        "maior = max(num1, num2, num3)\n",
        "menor = min(num1, num2, num3)\n",
        "\n",
        "\n",
        "if num1 < num2 < num3:\n",
        "    ordem = \"crescente\"\n",
        "elif num1 > num2 > num3:\n",
        "    ordem = \"decrescente\"\n",
        "else:\n",
        "    ordem = \"desordenados\"\n",
        "\n",
        "\n",
        "print(f\"O maior número é: {maior}, O menor número é: {menor}, Os números estão em ordem {ordem}. \")\n",
        "\n"
      ],
      "metadata": {
        "colab": {
          "base_uri": "https://localhost:8080/"
        },
        "id": "U3ed0WvbWK48",
        "outputId": "ba2b004a-9c1c-41df-c292-3b11a2f37c9a"
      },
      "execution_count": null,
      "outputs": [
        {
          "output_type": "stream",
          "name": "stdout",
          "text": [
            "Digite o primeiro número: 5\n",
            "Digite o segundo número: 4\n",
            "Digite o terceiro número: 3\n",
            "O maior número é: 5, O menor número é: 3, Os números estão em ordem decrescente. \n"
          ]
        }
      ]
    },
    {
      "cell_type": "markdown",
      "source": [
        "9. Calculadora de Desconto com Condição de Pagamento\n",
        "\n",
        "  Crie um programa que receba o valor de uma compra e determine o desconto a ser aplicado. Aplique 20% de desconto para compras acima de RS 1.500, 10% para compras entre RS 800 e RS 1.500, e 5% para compras abaixo de RS 800. Se o pagamento for à vista, aplique um desconto adicional de 5% sobre o valor final com desconto."
      ],
      "metadata": {
        "id": "LtJgYBEBXL5-"
      }
    },
    {
      "cell_type": "code",
      "source": [
        "valor_compra = float(input(\"Digite o valor da compra: R$ \"))\n",
        "\n",
        "if valor_compra > 1500:\n",
        "    desconto = 0.20\n",
        "elif 800 <= valor_compra <= 1500:\n",
        "    desconto = 0.10\n",
        "else:\n",
        "    desconto = 0.05\n",
        "\n",
        "valor_com_desconto = valor_compra * (1 - desconto)\n",
        "\n",
        "pagamento_a_vista = input(\"O pagamento será à vista? (sim/não): \").strip().lower()\n",
        "\n",
        "if pagamento_a_vista == 'sim':\n",
        "    valor_com_desconto *= 0.95\n",
        "\n",
        "print(f\"O valor final da compra, com descontos aplicados, é: R$ {valor_com_desconto:.2f}\")"
      ],
      "metadata": {
        "colab": {
          "base_uri": "https://localhost:8080/"
        },
        "id": "72n5wg76XLVy",
        "outputId": "7d9c9423-73e7-4dbe-e5bc-443b72bf1f06"
      },
      "execution_count": null,
      "outputs": [
        {
          "output_type": "stream",
          "name": "stdout",
          "text": [
            "Digite o valor da compra: R$ 100\n",
            "O pagamento será à vista? (sim/não): SIM\n",
            "O valor final da compra, com descontos aplicados, é: R$ 90.25\n"
          ]
        }
      ]
    },
    {
      "cell_type": "markdown",
      "source": [
        "10. Verificação de Senha Segura com Requisitos Adicionais\n",
        "    \n",
        "   Desenvolva um programa que receba uma senha e verifique se ela é segura. Uma senha é considerada segura se tiver pelo menos 8 caracteres, incluir pelo menos uma letra maiúscula, uma letra minúscula, um número e um caractere especial (como !, @, #). Informe se a senha é segura ou não e liste quais requisitos estão faltando."
      ],
      "metadata": {
        "id": "n8tSOPDiaYvO"
      }
    },
    {
      "cell_type": "code",
      "source": [
        "senha = input(\"Digite a senha: \")\n",
        "\n",
        "# Verifica os requisitos\n",
        "tamanho = len(senha) >= 8\n",
        "maiuscula = any(c.isupper() for c in senha)\n",
        "minuscula = any(c.islower() for c in senha)\n",
        "numero = any(c.isdigit() for c in senha)\n",
        "especial = any(c in '!@#$%^&*()-_=+[]{}|;:,.<>?/`~' for c in senha)\n",
        "\n",
        "# Verifica se todos os requisitos são atendidos\n",
        "if tamanho and maiuscula and minuscula and numero and especial:\n",
        "    print(\"A senha é segura.\")\n",
        "else:\n",
        "    mensagem = \"A senha não é segura. Faltam os seguintes requisitos:\\n\"\n",
        "    if not tamanho:\n",
        "        mensagem += \"- Pelo menos 8 caracteres\\n\"\n",
        "    if not maiuscula:\n",
        "        mensagem += \"- Pelo menos uma letra maiúscula\\n\"\n",
        "    if not minuscula:\n",
        "        mensagem += \"- Pelo menos uma letra minúscula\\n\"\n",
        "    if not numero:\n",
        "        mensagem += \"- Pelo menos um número\\n\"\n",
        "    if not especial:\n",
        "        mensagem += \"- Pelo menos um caractere especial (!, @, #, etc.)\\n\"\n",
        "    print(mensagem)\n"
      ],
      "metadata": {
        "colab": {
          "base_uri": "https://localhost:8080/"
        },
        "id": "QG7UKMW5eXc7",
        "outputId": "fa34ff02-4242-4f48-8bfe-5218b082e790"
      },
      "execution_count": 45,
      "outputs": [
        {
          "output_type": "stream",
          "name": "stdout",
          "text": [
            "Digite a senha: vfsas1234\n",
            "A senha não é segura. Faltam os seguintes requisitos:\n",
            "- Pelo menos uma letra maiúscula\n",
            "- Pelo menos um caractere especial (!, @, #, etc.)\n",
            "\n"
          ]
        }
      ]
    }
  ]
}