{
 "cells": [
  {
   "cell_type": "markdown",
   "metadata": {},
   "source": [
    "# **Exercício 03 - Pandas**"
   ]
  },
  {
   "cell_type": "markdown",
   "metadata": {},
   "source": [
    "### 1 - Crie um DataFrame com as colunas nome, idade, altura, peso e sexo usando listas.\n",
    "### 2 - Exiba o DataFrame criado."
   ]
  },
  {
   "cell_type": "code",
   "execution_count": 1,
   "metadata": {},
   "outputs": [
    {
     "name": "stdout",
     "output_type": "stream",
     "text": [
      "       Nome  Idade  Altura  Peso Sexo\n",
      "0  Victoria     32    1.69    95    F\n",
      "1   Eduardo     30    1.80    90    M\n",
      "2   Matheus     66    1.75    70    M\n",
      "3    Samara     29    1.60    60    F\n",
      "4  Fernanda     29    1.65    55    F\n"
     ]
    }
   ],
   "source": [
    "import pandas as pd\n",
    "\n",
    "# Dados para o DataFrame\n",
    "nomes = [\"Victoria\", \"Eduardo\", \"Matheus\", \"Samara\", \"Fernanda\"]\n",
    "idades = [32, 30, 66, 29, 29]\n",
    "alturas = [1.69, 1.80, 1.75, 1.60, 1.65]\n",
    "pesos = [95, 90, 70, 60, 55]\n",
    "sexos = [\"F\", \"M\", \"M\", \"F\", \"F\"]\n",
    "\n",
    "# Criação do DataFrame\n",
    "df = pd.DataFrame({\n",
    "    \"Nome\": nomes,\n",
    "    \"Idade\": idades,\n",
    "    \"Altura\": alturas,\n",
    "    \"Peso\": pesos,\n",
    "    \"Sexo\": sexos })\n",
    "\n",
    "# Exibir o DataFrame\n",
    "print(df)"
   ]
  },
  {
   "cell_type": "markdown",
   "metadata": {},
   "source": [
    "### 3 - Selecione e exiba a coluna \"idade\" do DataFrame."
   ]
  },
  {
   "cell_type": "code",
   "execution_count": 2,
   "metadata": {},
   "outputs": [
    {
     "name": "stdout",
     "output_type": "stream",
     "text": [
      "0    32\n",
      "1    30\n",
      "2    66\n",
      "3    29\n",
      "4    29\n",
      "Name: Idade, dtype: int64\n"
     ]
    }
   ],
   "source": [
    "print(df[\"Idade\"]) # Seleção e exibição da coluna \"Idade\""
   ]
  },
  {
   "cell_type": "markdown",
   "metadata": {},
   "source": [
    "### 4 - Selecione e exiba a linha com índice 2 do DataFrame.\n",
    "### 5 - Selecione e exiba a linha com rótulo 2 do DataFrame."
   ]
  },
  {
   "cell_type": "code",
   "execution_count": 3,
   "metadata": {},
   "outputs": [
    {
     "name": "stdout",
     "output_type": "stream",
     "text": [
      "Linha com índice 2:\n",
      "Nome      Matheus\n",
      "Idade          66\n",
      "Altura       1.75\n",
      "Peso           70\n",
      "Sexo            M\n",
      "Name: 2, dtype: object\n",
      "\n",
      "Linha com rótulo 2:\n",
      "Nome      Matheus\n",
      "Idade          66\n",
      "Altura       1.75\n",
      "Peso           70\n",
      "Sexo            M\n",
      "Name: 2, dtype: object\n"
     ]
    }
   ],
   "source": [
    "linha_indice_2 = df.iloc[2] # Seleção e exibição da linha com índice 2\n",
    "print(\"Linha com índice 2:\")\n",
    "print(linha_indice_2)\n",
    "\n",
    "\n",
    "linha_rotulo_2 = df.loc[2] # Seleção e exibição da linha com rótulo 2\n",
    "print(\"\\nLinha com rótulo 2:\")\n",
    "print(linha_rotulo_2)"
   ]
  },
  {
   "cell_type": "markdown",
   "metadata": {},
   "source": [
    "### 6 - Selecione e exiba o valor da célula na linha de rótulo 3, coluna \"altura\"."
   ]
  },
  {
   "cell_type": "code",
   "execution_count": 4,
   "metadata": {},
   "outputs": [
    {
     "name": "stdout",
     "output_type": "stream",
     "text": [
      "Valor na linha de rótulo 3, coluna 'Altura': 1.6\n"
     ]
    }
   ],
   "source": [
    "valor_altura = df.loc[3, \"Altura\"] # Seleção e exibição do valor da célula na linha de rótulo 3, coluna \"Altura\"\n",
    "print(\"Valor na linha de rótulo 3, coluna 'Altura':\", valor_altura)"
   ]
  },
  {
   "cell_type": "markdown",
   "metadata": {},
   "source": [
    "### 7 - Renomeie as colunas \"sexo\" para \"genero\" e \"peso\" para \"massa\"."
   ]
  },
  {
   "cell_type": "code",
   "execution_count": 5,
   "metadata": {},
   "outputs": [
    {
     "name": "stdout",
     "output_type": "stream",
     "text": [
      "       Nome  Idade  Altura  Massa Gênero\n",
      "0  Victoria     32    1.69     95      F\n",
      "1   Eduardo     30    1.80     90      M\n",
      "2   Matheus     66    1.75     70      M\n",
      "3    Samara     29    1.60     60      F\n",
      "4  Fernanda     29    1.65     55      F\n"
     ]
    }
   ],
   "source": [
    "df.rename(columns={\"Sexo\": \"Gênero\", \"Peso\": \"Massa\"}, inplace=True) # Renomear as colunas \"sexo\" para \"gênero\" e \"peso\" para \"massa\"\n",
    "print(df) # Exibir após a renomeação"
   ]
  },
  {
   "cell_type": "markdown",
   "metadata": {},
   "source": [
    "### 8 - Selecione e exiba as colunas \"nome\" e \"altura\" do DataFrame."
   ]
  },
  {
   "cell_type": "code",
   "execution_count": 6,
   "metadata": {},
   "outputs": [
    {
     "name": "stdout",
     "output_type": "stream",
     "text": [
      "       Nome  Altura\n",
      "0  Victoria    1.69\n",
      "1   Eduardo    1.80\n",
      "2   Matheus    1.75\n",
      "3    Samara    1.60\n",
      "4  Fernanda    1.65\n"
     ]
    }
   ],
   "source": [
    "df_selecionado = df[[\"Nome\", \"Altura\"]] # Seleção e exibição das colunas \"Nome\" e \"Altura\"\n",
    "print(df_selecionado)"
   ]
  },
  {
   "cell_type": "markdown",
   "metadata": {},
   "source": [
    "### 9 - Filtre e exiba todas as linhas onde a idade é maior que 40."
   ]
  },
  {
   "cell_type": "code",
   "execution_count": 7,
   "metadata": {},
   "outputs": [
    {
     "name": "stdout",
     "output_type": "stream",
     "text": [
      "      Nome  Idade  Altura  Massa Gênero\n",
      "2  Matheus     66    1.75     70      M\n"
     ]
    }
   ],
   "source": [
    "\n",
    "df_filtrado = df[df[\"Idade\"] > 40] # Filtrar e exibir linhas onde a idade é maior que 40\n",
    "print(df_filtrado)"
   ]
  },
  {
   "cell_type": "markdown",
   "metadata": {},
   "source": [
    "### 10 - Adicione uma nova coluna chamada \"IMC\" ao DataFrame, calculando o Índice de Massa Corporal."
   ]
  },
  {
   "cell_type": "code",
   "execution_count": 8,
   "metadata": {},
   "outputs": [
    {
     "name": "stdout",
     "output_type": "stream",
     "text": [
      "       Nome  Idade  Altura  Massa Gênero        IMC\n",
      "0  Victoria     32    1.69     95      F  33.262141\n",
      "1   Eduardo     30    1.80     90      M  27.777778\n",
      "2   Matheus     66    1.75     70      M  22.857143\n",
      "3    Samara     29    1.60     60      F  23.437500\n",
      "4  Fernanda     29    1.65     55      F  20.202020\n"
     ]
    }
   ],
   "source": [
    "# df[\"IMC\"] = df[\"Peso\"] / (df[\"Altura\"] ** 2)# DEU ERRO !!! POR QUE MUDOU O NOME DA COLUNA. \n",
    "\n",
    "df[\"IMC\"] = df[\"Massa\"] / (df[\"Altura\"] ** 2) # Adicionar uma nova coluna \"IMC\" ao DataFrame\n",
    "print(df)"
   ]
  },
  {
   "cell_type": "markdown",
   "metadata": {},
   "source": [
    "### 11 - Ordene o DataFrame pela coluna \"altura\" em ordem crescente."
   ]
  },
  {
   "cell_type": "code",
   "execution_count": 9,
   "metadata": {},
   "outputs": [
    {
     "name": "stdout",
     "output_type": "stream",
     "text": [
      "       Nome  Idade  Altura  Massa Gênero        IMC\n",
      "3    Samara     29    1.60     60      F  23.437500\n",
      "4  Fernanda     29    1.65     55      F  20.202020\n",
      "0  Victoria     32    1.69     95      F  33.262141\n",
      "2   Matheus     66    1.75     70      M  22.857143\n",
      "1   Eduardo     30    1.80     90      M  27.777778\n"
     ]
    }
   ],
   "source": [
    "df_ordenado = df.sort_values(by=\"Altura\", ascending=True) # Ordenar o DataFrame pela coluna \"Altura\" em ordem crescente\n",
    "print(df_ordenado)"
   ]
  },
  {
   "cell_type": "markdown",
   "metadata": {},
   "source": [
    "### 12 - Filtre e exiba todas as linhas onde a altura é  maior que 1.65."
   ]
  },
  {
   "cell_type": "code",
   "execution_count": 10,
   "metadata": {},
   "outputs": [
    {
     "name": "stdout",
     "output_type": "stream",
     "text": [
      "       Nome  Idade  Altura  Massa Gênero        IMC\n",
      "0  Victoria     32    1.69     95      F  33.262141\n",
      "1   Eduardo     30    1.80     90      M  27.777778\n",
      "2   Matheus     66    1.75     70      M  22.857143\n"
     ]
    }
   ],
   "source": [
    "df_filtrado = df[df[\"Altura\"] > 1.65] # Filtrar e exibir linhas onde a altura é maior que 1.65\n",
    "print(df_filtrado)"
   ]
  },
  {
   "cell_type": "markdown",
   "metadata": {},
   "source": [
    "### 13 - Modifique a altura de alguém para 1.91 e exiba o DataFrame."
   ]
  },
  {
   "cell_type": "code",
   "execution_count": 11,
   "metadata": {},
   "outputs": [
    {
     "name": "stdout",
     "output_type": "stream",
     "text": [
      "       Nome  Idade  Altura  Massa Gênero        IMC\n",
      "0  Victoria     32    1.69     95      F  33.262141\n",
      "1   Eduardo     30    1.91     90      M  27.777778\n",
      "2   Matheus     66    1.75     70      M  22.857143\n",
      "3    Samara     29    1.60     60      F  23.437500\n",
      "4  Fernanda     29    1.65     55      F  20.202020\n"
     ]
    }
   ],
   "source": [
    "df.loc[df[\"Nome\"] == \"Eduardo\", \"Altura\"] = 1.91 # Modificar a altura \n",
    "print(df)"
   ]
  },
  {
   "cell_type": "markdown",
   "metadata": {},
   "source": [
    "### 14 - Crie uma coluna com valores de CPF para cada linha"
   ]
  },
  {
   "cell_type": "code",
   "execution_count": 12,
   "metadata": {},
   "outputs": [
    {
     "name": "stdout",
     "output_type": "stream",
     "text": [
      "       Nome  Idade  Altura  Massa Gênero        IMC             CPF\n",
      "0  Victoria     32    1.69     95      F  33.262141  123.456.789-00\n",
      "1   Eduardo     30    1.91     90      M  27.777778  234.567.890-11\n",
      "2   Matheus     66    1.75     70      M  22.857143  345.678.901-22\n",
      "3    Samara     29    1.60     60      F  23.437500  456.789.012-33\n",
      "4  Fernanda     29    1.65     55      F  20.202020  567.890.123-44\n"
     ]
    }
   ],
   "source": [
    "cpfs = [\"123.456.789-00\", \"234.567.890-11\", \"345.678.901-22\", \"456.789.012-33\", \"567.890.123-44\"] # Lista de CPFs correspondentes\n",
    "df[\"CPF\"] = cpfs # Adicionar a nova coluna CPF ao DataFrame\n",
    "print(df)"
   ]
  },
  {
   "cell_type": "markdown",
   "metadata": {},
   "source": [
    "### 15 - Exclua a coluna CPF do DataFrame."
   ]
  },
  {
   "cell_type": "code",
   "execution_count": 13,
   "metadata": {},
   "outputs": [
    {
     "name": "stdout",
     "output_type": "stream",
     "text": [
      "       Nome  Idade  Altura  Massa Gênero        IMC\n",
      "0  Victoria     32    1.69     95      F  33.262141\n",
      "1   Eduardo     30    1.91     90      M  27.777778\n",
      "2   Matheus     66    1.75     70      M  22.857143\n",
      "3    Samara     29    1.60     60      F  23.437500\n",
      "4  Fernanda     29    1.65     55      F  20.202020\n"
     ]
    }
   ],
   "source": [
    "df = df.drop(columns=[\"CPF\"]) # Excluir a coluna \"CPF\" do DataFrame\n",
    "print(df)"
   ]
  },
  {
   "cell_type": "markdown",
   "metadata": {},
   "source": [
    "### 16 - Resete o índice do DataFrame e exiba o resultado."
   ]
  },
  {
   "cell_type": "code",
   "execution_count": 14,
   "metadata": {},
   "outputs": [
    {
     "name": "stdout",
     "output_type": "stream",
     "text": [
      "       Nome  Idade  Altura  Massa Gênero        IMC\n",
      "0  Victoria     32    1.69     95      F  33.262141\n",
      "1   Eduardo     30    1.91     90      M  27.777778\n",
      "2   Matheus     66    1.75     70      M  22.857143\n",
      "3    Samara     29    1.60     60      F  23.437500\n",
      "4  Fernanda     29    1.65     55      F  20.202020\n"
     ]
    }
   ],
   "source": [
    "df_resetado = df.reset_index(drop=True) # Resetar o índice do DataFrame\n",
    "print(df_resetado)"
   ]
  },
  {
   "cell_type": "markdown",
   "metadata": {},
   "source": [
    "### 17 - Exiba as linhas do DataFrame onde a altura é maior que 1.70."
   ]
  },
  {
   "cell_type": "code",
   "execution_count": 15,
   "metadata": {},
   "outputs": [
    {
     "name": "stdout",
     "output_type": "stream",
     "text": [
      "      Nome  Idade  Altura  Massa Gênero        IMC\n",
      "1  Eduardo     30    1.91     90      M  27.777778\n",
      "2  Matheus     66    1.75     70      M  22.857143\n"
     ]
    }
   ],
   "source": [
    "dfmaior_170 = df[df[\"Altura\"] > 1.70] # Filtragem para altura maior que 1.70\n",
    "print(dfmaior_170)"
   ]
  },
  {
   "cell_type": "markdown",
   "metadata": {},
   "source": [
    "### 18 - Selecione e exiba as colunas \"nome\" e \"genero\"."
   ]
  },
  {
   "cell_type": "code",
   "execution_count": 16,
   "metadata": {},
   "outputs": [
    {
     "name": "stdout",
     "output_type": "stream",
     "text": [
      "       Nome Gênero\n",
      "0  Victoria      F\n",
      "1   Eduardo      M\n",
      "2   Matheus      M\n",
      "3    Samara      F\n",
      "4  Fernanda      F\n"
     ]
    }
   ],
   "source": [
    "df_ = df[[\"Nome\", \"Gênero\"]] # Selecionar e exibir as colunas\n",
    "print(df_)"
   ]
  },
  {
   "cell_type": "markdown",
   "metadata": {},
   "source": [
    "### 19 - Calcule e exiba a soma das idades."
   ]
  },
  {
   "cell_type": "code",
   "execution_count": 17,
   "metadata": {},
   "outputs": [
    {
     "name": "stdout",
     "output_type": "stream",
     "text": [
      "A soma das idades é: 186\n"
     ]
    }
   ],
   "source": [
    "somaid = df[\"Idade\"].sum() # Calcular e exibir a soma das idades\n",
    "\n",
    "print(\"A soma das idades é:\", somaid)"
   ]
  },
  {
   "cell_type": "markdown",
   "metadata": {},
   "source": [
    "### 20 - Salve o DataFrame em um arquivo CSV."
   ]
  },
  {
   "cell_type": "code",
   "execution_count": 18,
   "metadata": {},
   "outputs": [],
   "source": [
    "# Salvar o DataFrame em um arquivo CSV\n",
    "df.to_csv('Exercícios03.csv', index=False)"
   ]
  }
 ],
 "metadata": {
  "kernelspec": {
   "display_name": "Python 3",
   "language": "python",
   "name": "python3"
  },
  "language_info": {
   "codemirror_mode": {
    "name": "ipython",
    "version": 3
   },
   "file_extension": ".py",
   "mimetype": "text/x-python",
   "name": "python",
   "nbconvert_exporter": "python",
   "pygments_lexer": "ipython3",
   "version": "3.12.5"
  }
 },
 "nbformat": 4,
 "nbformat_minor": 2
}
