{
 "cells": [
  {
   "cell_type": "code",
   "execution_count": 23,
   "metadata": {},
   "outputs": [],
   "source": [
    "import findspark\n",
    "import pyspark\n",
    "import pandas as pd\n",
    "from pyspark.sql.functions import *\n",
    "from pyspark.sql.functions import col\n",
    "from pyspark.sql import SparkSession"
   ]
  },
  {
   "cell_type": "code",
   "execution_count": 24,
   "metadata": {},
   "outputs": [],
   "source": [
    "import os\n",
    "os.environ[\"JAVA_HOME\"] = \"/usr/lib/jvm/java-8-openjdk-amd64\"\n",
    "os.environ[\"SPARK_HOME\"] = \"/content/spark-3.1.1-bin-hadoop3.2\"\n",
    "# Torna o pyspark \"importável\"\n",
    "import findspark\n",
    "findspark.init()"
   ]
  },
  {
   "cell_type": "code",
   "execution_count": 33,
   "metadata": {},
   "outputs": [
    {
     "name": "stdout",
     "output_type": "stream",
     "text": [
      "<pyspark.sql.session.SparkSession object at 0x0000020D89CE31A0>\n",
      "+---+--------------+-----+----------+-------+-------------------+-----------------+\n",
      "| ID|          Nome|Idade|      Área|Salário|Data de Contratação|Status de Emprego|\n",
      "+---+--------------+-----+----------+-------+-------------------+-----------------+\n",
      "|  1|    João Silva|   29|Financeiro|   5500|         01/02/2020|            Ativo|\n",
      "|  2|   Maria Souza|   30|        RH|   4800|         15-03-2019|            ativo|\n",
      "|  3|Carlos Pereira| NULL| Finaceiro|   6200|         2020/04/01|            Ativo|\n",
      "|  4|     Ana Clara|   27| Marketing|   4800|         12/06/2018|            Ativo|\n",
      "|  5|  Fabio Santos|   31|      NULL|   5500|         20-11-2017|            ativo|\n",
      "|  6|   Sandra Lima|   28|        RH|   NULL|         05-05-2020|            Ativo|\n",
      "|  7|    José Alves|   34| Marketing|   5400|         2018/02/01|          inativo|\n",
      "|  8| Luciana Costa|   30|Financeiro|R$ 5200|         01.01.2019|            Ativo|\n",
      "|  9| Paulo Ricardo| NULL| Finaceiro|   6100|         12/12/2020|          Inativo|\n",
      "| 10| Fernanda Dias|   29|        RH|   4800|               NULL|            Ativo|\n",
      "|  1|    João Silva|   29|Financeiro|   5500|         01/02/2020|            Ativo|\n",
      "+---+--------------+-----+----------+-------+-------------------+-----------------+\n",
      "\n"
     ]
    }
   ],
   "source": [
    "import findspark\n",
    "findspark.init()\n",
    "\n",
    "from pyspark.sql import SparkSession\n",
    "\n",
    "# Criar uma sessão Spark\n",
    "spark = SparkSession.builder \\\n",
    "    .appName(\"Exemplo PySpark\") \\\n",
    "    .getOrCreate()\n",
    "\n",
    "# Verificar se a sessão foi criada corretamente\n",
    "print(spark)\n",
    "\n",
    "# Carregar o arquivo CSV em um DataFrame\n",
    "arquivo = r\"C:\\Users\\victoria\\Documents\\MeusProjetos- GIT\\SoulCode\\Bootcamp - ANALISE DE DADOS\\Banco de Dados_base_suja.csv\"\n",
    "df_base_suja= spark\\\n",
    "        .read.format(\"csv\")\\\n",
    "        .option(\"inferSchema\", \"True\")\\\n",
    "        .option(\"header\", \"True\")\\\n",
    "        .csv(arquivo)\n",
    "df_base_suja.show()"
   ]
  },
  {
   "cell_type": "code",
   "execution_count": 39,
   "metadata": {},
   "outputs": [
    {
     "name": "stdout",
     "output_type": "stream",
     "text": [
      "+----------+-----------------+\n",
      "|      Area|Status de Emprego|\n",
      "+----------+-----------------+\n",
      "|financeiro|            ativo|\n",
      "|        rh|            ativo|\n",
      "| finaceiro|            ativo|\n",
      "| marketing|            ativo|\n",
      "|      NULL|            ativo|\n",
      "|        rh|            ativo|\n",
      "| marketing|          inativo|\n",
      "|financeiro|            ativo|\n",
      "| finaceiro|          inativo|\n",
      "|        rh|            ativo|\n",
      "|financeiro|            ativo|\n",
      "+----------+-----------------+\n",
      "\n"
     ]
    }
   ],
   "source": [
    "#1. Análise de Consistência de Dados: \n",
    "# Identificar e corrigir inconsistências nos valores de Área e Status de Emprego(e.g.,diferenças de maiúsculas/minúsculas).\n",
    "\n",
    "# Renomear a coluna \"Área\" para \"Area\" e converter as colunas para minúsculas em uma única linha\n",
    "status_area = df_base_suja.withColumnRenamed(\"Área\", \"Area\") \\\n",
    "    .selectExpr(\"lower(Area) as Area\", \"lower(`Status de Emprego`) as `Status de Emprego`\")\n",
    "\n",
    "# Mostrar o resultado\n",
    "status_area.show()"
   ]
  },
  {
   "cell_type": "code",
   "execution_count": null,
   "metadata": {},
   "outputs": [],
   "source": [
    "# 2. Limpeza de Dados Faltantes: Detectar e tratar os valores ausentes na coluna \"Idade\" e \"Área\".\n"
   ]
  }
 ],
 "metadata": {
  "kernelspec": {
   "display_name": "Python 3",
   "language": "python",
   "name": "python3"
  },
  "language_info": {
   "codemirror_mode": {
    "name": "ipython",
    "version": 3
   },
   "file_extension": ".py",
   "mimetype": "text/x-python",
   "name": "python",
   "nbconvert_exporter": "python",
   "pygments_lexer": "ipython3",
   "version": "3.12.5"
  }
 },
 "nbformat": 4,
 "nbformat_minor": 2
}
