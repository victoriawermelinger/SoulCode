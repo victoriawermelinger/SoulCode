{
  "nbformat": 4,
  "nbformat_minor": 0,
  "metadata": {
    "colab": {
      "provenance": []
    },
    "kernelspec": {
      "name": "python3",
      "display_name": "Python 3"
    },
    "language_info": {
      "name": "python"
    }
  },
  "cells": [
    {
      "cell_type": "markdown",
      "source": [
        "##Listas##"
      ],
      "metadata": {
        "id": "F0v3FwS6FYhy"
      }
    },
    {
      "cell_type": "markdown",
      "source": [
        "**Definição** - são coleções ordenadas e mutáveis que permitem armazenar múltiplos itens em uma única variável."
      ],
      "metadata": {
        "id": "9eKZGroZFb8u"
      }
    },
    {
      "cell_type": "code",
      "source": [
        "#Definir uma lista\n",
        "numeros = [1,2,3,4,5,6]\n",
        "print(numeros)\n",
        "\n",
        "# Acessando elementos\n",
        "print(numeros[2])\n",
        "\n",
        "# Modificando elementos da lista\n",
        "numeros[2] = 100\n",
        "# numeros[2] = int(input(\"Digite um numero: \"))\n",
        "print(numeros)\n",
        "\n",
        "# Adicionando novos elementos a lista\n",
        "numeros.append(1500)\n",
        "print(numeros)\n",
        "\n",
        "# Removendo elementos da lista\n",
        "numeros.remove(5)\n",
        "print(numeros)\n",
        "\n",
        "# ORDENAR ELEMENTOS DE UMA LISTA (método sort())\n",
        "numeros.sort()\n",
        "print(numeros)\n",
        "\n",
        "# ORDEM REVERSA\n",
        "numeros.sort(reverse=True)\n",
        "print(numeros)\n",
        "\n",
        "# ORDENAR ELEMENTOS DE UMA LISTA (função sorted())\n",
        "numeros_ordenados = sorted(numeros)\n",
        "numeros_ordenados_decrescente = sorted(numeros, reverse=True)\n",
        "print(\"Lista Ordenada: \", numeros_ordenados)\n",
        "print(\"Lista Ordenada Decrescente: \", numeros_ordenados_decrescente)\n",
        "print(\"Lista Original: \", numeros)\n",
        "\n",
        "# Adicionando elemento em qualquer posição desejada (método insert())\n",
        "numeros.insert(2, 9999)\n",
        "print(numeros)\n",
        "# Adicionando no inicio da lista\n",
        "numeros.insert(0, 33)\n",
        "print(numeros)\n",
        "\n",
        "# Adicionando no final da lista\n",
        "numeros.insert(len(numeros), 500)\n",
        "numeros.sort() # ordenando os numeros\n",
        "print(numeros)\n",
        "\n",
        "dobro = [algo * 2 for algo in numeros]\n",
        "print(dobro)\n",
        "# outra forma de usar o for\n",
        "resposta = []\n",
        "for x in numeros:\n",
        "  resposta.append(x * 2)\n",
        "\n",
        "print(resposta)\n",
        "\n",
        "# somar os elementos de uma lista (função sum())\n",
        "total = sum(numeros)\n",
        "print(total)\n",
        "\n",
        "# somar usando o for\n",
        "total2 = 0\n",
        "for num in numeros:\n",
        "  total2 += num\n",
        "print(total2)\n",
        "\n",
        "# Menor valor (min())\n",
        "print(min(numeros))\n",
        "\n",
        "# Maior valor (max())\n",
        "print(max(numeros))\n",
        "\n",
        "# Media\n",
        "media = sum(numeros) /len(numeros)\n",
        "media_arredondada = round(media,2)\n",
        "print(\"Media normal: \", media)\n",
        "print(\"Média Arredondada: \", media_arredondada)\n",
        "print(f\" {media:.2f}\")\n",
        "\n",
        "\n"
      ],
      "metadata": {
        "colab": {
          "base_uri": "https://localhost:8080/"
        },
        "collapsed": true,
        "id": "few-jPhwFqfS",
        "outputId": "16d8b1a0-0cc2-42e3-b78e-f48c23f4a87b"
      },
      "execution_count": null,
      "outputs": [
        {
          "output_type": "stream",
          "name": "stdout",
          "text": [
            "[1, 2, 3, 4, 5, 6]\n",
            "3\n",
            "[1, 2, 100, 4, 5, 6]\n",
            "[1, 2, 100, 4, 5, 6, 1500]\n",
            "[1, 2, 100, 4, 6, 1500]\n",
            "[1, 2, 4, 6, 100, 1500]\n",
            "[1500, 100, 6, 4, 2, 1]\n",
            "Lista Ordenada:  [1, 2, 4, 6, 100, 1500]\n",
            "Lista Ordenada Decrescente:  [1500, 100, 6, 4, 2, 1]\n",
            "Lista Original:  [1500, 100, 6, 4, 2, 1]\n",
            "[1500, 100, 9999, 6, 4, 2, 1]\n",
            "[33, 1500, 100, 9999, 6, 4, 2, 1]\n",
            "[1, 2, 4, 6, 33, 100, 500, 1500, 9999]\n",
            "[2, 4, 8, 12, 66, 200, 1000, 3000, 19998]\n",
            "[2, 4, 8, 12, 66, 200, 1000, 3000, 19998]\n",
            "12145\n",
            "12145\n",
            "1\n",
            "9999\n",
            "Media normal:  1349.4444444444443\n",
            "Média Arredondada:  1349.44\n",
            " 1349.44\n"
          ]
        }
      ]
    },
    {
      "cell_type": "code",
      "source": [
        "#Objetos Imutáveis - são aqueles cujo conteúdo ou estado não podem ser modificados.\n",
        "texto = \"Hello\"\n",
        "print(texto[0])\n",
        "# texto[0] = \"X\" --- não é permitido\n",
        "\n",
        "# Objetos Mutáveis - são aqueles cujo conteúdo ou estado podem ser modificados.\n",
        "\n",
        "\n"
      ],
      "metadata": {
        "colab": {
          "base_uri": "https://localhost:8080/",
          "height": 193
        },
        "id": "VaJWLRY2J7f0",
        "outputId": "cf7a93b3-570e-472d-fe63-9750dd192add"
      },
      "execution_count": null,
      "outputs": [
        {
          "output_type": "stream",
          "name": "stdout",
          "text": [
            "H\n"
          ]
        },
        {
          "output_type": "error",
          "ename": "TypeError",
          "evalue": "'str' object does not support item assignment",
          "traceback": [
            "\u001b[0;31m---------------------------------------------------------------------------\u001b[0m",
            "\u001b[0;31mTypeError\u001b[0m                                 Traceback (most recent call last)",
            "\u001b[0;32m<ipython-input-13-957f41f7dff1>\u001b[0m in \u001b[0;36m<cell line: 4>\u001b[0;34m()\u001b[0m\n\u001b[1;32m      2\u001b[0m \u001b[0mtexto\u001b[0m \u001b[0;34m=\u001b[0m \u001b[0;34m\"Hello\"\u001b[0m\u001b[0;34m\u001b[0m\u001b[0;34m\u001b[0m\u001b[0m\n\u001b[1;32m      3\u001b[0m \u001b[0mprint\u001b[0m\u001b[0;34m(\u001b[0m\u001b[0mtexto\u001b[0m\u001b[0;34m[\u001b[0m\u001b[0;36m0\u001b[0m\u001b[0;34m]\u001b[0m\u001b[0;34m)\u001b[0m\u001b[0;34m\u001b[0m\u001b[0;34m\u001b[0m\u001b[0m\n\u001b[0;32m----> 4\u001b[0;31m \u001b[0mtexto\u001b[0m\u001b[0;34m[\u001b[0m\u001b[0;36m0\u001b[0m\u001b[0;34m]\u001b[0m \u001b[0;34m=\u001b[0m \u001b[0;34m\"X\"\u001b[0m\u001b[0;34m\u001b[0m\u001b[0;34m\u001b[0m\u001b[0m\n\u001b[0m",
            "\u001b[0;31mTypeError\u001b[0m: 'str' object does not support item assignment"
          ]
        }
      ]
    },
    {
      "cell_type": "markdown",
      "source": [
        "##Dicionários#"
      ],
      "metadata": {
        "id": "VuyJbosTQhad"
      }
    },
    {
      "cell_type": "markdown",
      "source": [
        "**Definição** - é coleção de pares (chave-valor) separados por dois pontos."
      ],
      "metadata": {
        "id": "bluk82fbQnmr"
      }
    },
    {
      "cell_type": "code",
      "source": [
        "#Criando um dicionario\n",
        "pessoa = {\n",
        "    \"nome\": \"Adriano\",\n",
        "    \"idade\": 41,\n",
        "    \"cidade\": \"Mossoró\"\n",
        "}\n",
        "print(pessoa)\n",
        "\n",
        "#Acessando valores do dicionario\n",
        "meuNome = pessoa[\"nome\"]\n",
        "print(meuNome)\n",
        "print(pessoa[\"idade\"])\n",
        "\n",
        "# Adicionando ou Modificando itens\n",
        "pessoa[\"idade\"] = 42 # modificando a idade para 42\n",
        "pessoa[\"email\"] = \"adriano.gomes@soulcode.com\"\n",
        "print(pessoa)\n",
        "\n",
        "# Removendo Itens\n",
        "# pessoa.pop(\"cidade\")\n",
        "# print(pessoa)\n",
        "\n",
        "#Remover o ultimo\n",
        "# pessoa.popitem()\n",
        "# print(pessoa)\n",
        "\n",
        "# Iterando sobre as chaves\n",
        "for chave in pessoa:\n",
        "    print(chave)\n",
        "\n",
        "# Iterando sobre os valores\n",
        "for valor in pessoa.values():\n",
        "    print(valor)\n",
        "\n",
        "# Iterando sobre os pares chave-valor\n",
        "for chave, valor in pessoa.items():\n",
        "    print(f\"{chave}: {valor}\")\n",
        "\n",
        "# Verificar a Existência de uma chave\n",
        "if \"idades\" in pessoa:\n",
        "    print(\"A chave 'idade' existe no dicionário.\")\n",
        "else:\n",
        "  print(\"A chave 'idade' NÃO existe no dicionário.\")\n"
      ],
      "metadata": {
        "colab": {
          "base_uri": "https://localhost:8080/"
        },
        "id": "pOwIA3Y2Q0L9",
        "outputId": "507ca2fe-45a0-4e9b-8b21-d1c3ac5a4b80"
      },
      "execution_count": null,
      "outputs": [
        {
          "output_type": "stream",
          "name": "stdout",
          "text": [
            "{'nome': 'Adriano', 'idade': 41, 'cidade': 'Mossoró'}\n",
            "Adriano\n",
            "41\n",
            "{'nome': 'Adriano', 'idade': 42, 'cidade': 'Mossoró', 'email': 'adriano.gomes@soulcode.com'}\n",
            "nome\n",
            "idade\n",
            "cidade\n",
            "email\n",
            "Adriano\n",
            "42\n",
            "Mossoró\n",
            "adriano.gomes@soulcode.com\n",
            "nome: Adriano\n",
            "idade: 42\n",
            "cidade: Mossoró\n",
            "email: adriano.gomes@soulcode.com\n",
            "A chave 'idade' NÃo existe no dicionário.\n"
          ]
        }
      ]
    },
    {
      "cell_type": "markdown",
      "source": [
        "##Tuplas##"
      ],
      "metadata": {
        "id": "ZbW0GMvBE4Jv"
      }
    },
    {
      "cell_type": "markdown",
      "source": [
        "**Definição:** - São semelhantes às lista, mas com uma diferença CRUCIAL: *SÃO IMUTÁVEIS*."
      ],
      "metadata": {
        "id": "ef5-hvGFE88C"
      }
    },
    {
      "cell_type": "code",
      "source": [
        "#Criação de Tuplas\n",
        "tupla = (1,2,3,4,5)\n",
        "print(tupla)\n",
        "\n",
        "#Tuplas sem Parênteses\n",
        "tupla2 = 1,2,3,4,5\n",
        "print(tupla2)\n",
        "\n",
        "#Acessando Elementos\n",
        "print(tupla2[3])\n",
        "\n",
        "#Tuplas aninhadas\n",
        "tupla3 = (\"Helen\", (1,2,5,9), \"Silas\")\n",
        "tuplaN = tupla3[1]\n",
        "tuplaT = tupla3[0] + \", \" + tupla3[2]\n",
        "print(tupla3)\n",
        "print(tuplaN)\n",
        "print(tuplaT)\n",
        "print(tupla3[1][2])\n",
        "\n",
        "# tupla3[0] = 99 --- erro por ser imutavel\n",
        "\n",
        "\n",
        "# Desempacotamento de Tuplas\n",
        "a, b, c = tupla3\n",
        "x,y,z,k = b\n",
        "\n",
        "print(a)\n",
        "print(b)\n",
        "print(c)\n",
        "print(k)\n"
      ],
      "metadata": {
        "colab": {
          "base_uri": "https://localhost:8080/"
        },
        "collapsed": true,
        "id": "GgOdd19YFOnk",
        "outputId": "1a9c4a69-47e6-4e6a-e54d-fc5879cce61b"
      },
      "execution_count": null,
      "outputs": [
        {
          "output_type": "stream",
          "name": "stdout",
          "text": [
            "(1, 2, 3, 4, 5)\n",
            "(1, 2, 3, 4, 5)\n",
            "4\n",
            "('Helen', (1, 2, 5, 9), 'Silas')\n",
            "(1, 2, 5, 9)\n",
            "Helen, Silas\n",
            "5\n",
            "Helen\n",
            "(1, 2, 5, 9)\n",
            "Silas\n",
            "9\n"
          ]
        }
      ]
    },
    {
      "cell_type": "markdown",
      "source": [
        "**Operações com Tuplas**"
      ],
      "metadata": {
        "id": "39oVGzvoNzqM"
      }
    },
    {
      "cell_type": "code",
      "source": [
        "#Concatenação\n",
        "tupla1 = (1,2,3)\n",
        "tupla2 = (4,5)\n",
        "tupla3 = tupla1 + tupla2\n",
        "print(tupla3)\n",
        "\n",
        "#Repetição\n",
        "tupla_duplicada = tupla3 * 2\n",
        "print(tupla_duplicada)\n",
        "\n",
        "#Fatiamento\n",
        "print(tupla_duplicada[1:4])\n",
        "\n",
        "#Verificar a existência\n",
        "print(3 in tupla_duplicada)\n",
        "\n",
        "#Verificar o comprimento\n",
        "print(len(tupla_duplicada))\n",
        "\n",
        "#Contagem de elementos\n",
        "tuplaAnimais = (\"gato\", \"cachorro\", \"gato\", \"Gato\")\n",
        "print(tupla_duplicada.count(4))\n",
        "print(tuplaAnimais.count(\"gato\") + tuplaAnimais.count(\"Gato\"))\n",
        "\n",
        "#Transformar ou criar uma cópia de uma tupla para uma lista\n",
        "listaAnimais = list(tuplaAnimais)\n",
        "print(listaAnimais)\n",
        "\n",
        "#Converter a tupla em um dicionário com a contagem de cada animal\n",
        "dicionarioAnimais = {\n",
        "    x: tuplaAnimais.count(x) for x in tuplaAnimais\n",
        "}\n",
        "print(dicionarioAnimais)\n",
        "\n",
        "# Criando um dicionario com a chave \"TipoAnimal\"\n",
        "dicionarioAnimais2 = {\"tipoAnimal\": tuplaAnimais}\n",
        "print(dicionarioAnimais2)\n",
        "\n",
        "#Outra forma\n",
        "dicionarioAnimais3 = {\"tipoAnimal\": list(tuplaAnimais)}\n",
        "print(dicionarioAnimais3)\n",
        "\n",
        "\n",
        "#Solicitando dois inputs ao usuário\n",
        "animal1 = input(\"Digite o primeiro animal: \")\n",
        "animal2 = input(\"Digite o segundo animal: \")\n",
        "\n",
        "#Criando uma tupla com os inputs\n",
        "animaisT = (animal1, animal2)\n",
        "\n",
        "#Convertendo\n",
        "dicionarioSaida = {\"tipoAnimal\": list(animaisT)}\n",
        "print(dicionarioSaida)"
      ],
      "metadata": {
        "colab": {
          "base_uri": "https://localhost:8080/"
        },
        "collapsed": true,
        "id": "7A9tU_6cN4mD",
        "outputId": "38697ff8-ae6c-426e-eec5-0b4d14a80bb2"
      },
      "execution_count": null,
      "outputs": [
        {
          "output_type": "stream",
          "name": "stdout",
          "text": [
            "(1, 2, 3, 4, 5)\n",
            "(1, 2, 3, 4, 5, 1, 2, 3, 4, 5)\n",
            "(2, 3, 4)\n",
            "True\n",
            "10\n",
            "2\n",
            "3\n",
            "['gato', 'cachorro', 'gato', 'Gato']\n",
            "{'gato': 2, 'cachorro': 1, 'Gato': 1}\n",
            "{'tipoAnimal': ('gato', 'cachorro', 'gato', 'Gato')}\n",
            "{'tipoAnimal': ['gato', 'cachorro', 'gato', 'Gato']}\n",
            "Digite o primeiro animal: peixe\n",
            "Digite o segundo animal: pássaro\n",
            "{'tipoAnimal': ['peixe', 'pássaro']}\n"
          ]
        }
      ]
    },
    {
      "cell_type": "markdown",
      "source": [
        "##Sets##"
      ],
      "metadata": {
        "id": "5hQyEDe0VxMt"
      }
    },
    {
      "cell_type": "markdown",
      "source": [
        "**Definição:** - Conjuntos - estrutura de dados que armazenam elementos únicos e desordenados."
      ],
      "metadata": {
        "id": "NTl7zHdLV19l"
      }
    },
    {
      "cell_type": "code",
      "source": [
        "#Criando um set vazio\n",
        "meu_set = set()\n",
        "\n",
        "# Criando um set com elementos\n",
        "meu_set = {1,2,3,4,5,6}\n",
        "print(meu_set)\n",
        "\n",
        "#Criando um set com elementos duplicados\n",
        "meu_set = {1,2,3,4,5,6, 1,2,3,4,5,5,5,5,9,10}\n",
        "print(meu_set)\n",
        "\n",
        "#Adicionar elementos\n",
        "meu_set.add(100)\n",
        "meu_set.add(11)\n",
        "meu_set.add(15)\n",
        "print(meu_set)\n",
        "\n",
        "#Removendo elementos\n",
        "meu_set.remove(4) # Levanta um erro se o elemento não existir\n",
        "meu_set.discard(999) # Não Levanta  erro se o elemento não existir\n",
        "print(meu_set)\n",
        "\n",
        "#União de Sets\n",
        "set1 = {20,21,22}\n",
        "uniaoSet = meu_set | set1\n",
        "uniaoSet2 = meu_set.union(set1)\n",
        "print(uniaoSet)\n",
        "\n",
        "#Interseção de Sets\n",
        "intersecaoSet = set1 & uniaoSet\n",
        "intersecaoSet2 = set1.intersection(uniaoSet)\n",
        "print(intersecaoSet)\n",
        "\n",
        "#Diferenças de Sets\n",
        "diferencaSet = set1 - uniaoSet\n",
        "diferencaSet = uniaoSet.difference(set1)\n",
        "print(diferencaSet)\n",
        "\n",
        "#Diferenças simétricas de Sets\n",
        "diferencaSet2 = set1 ^ uniaoSet\n",
        "diferencaSet2 = uniaoSet.symmetric_difference(set1)\n",
        "diferencaSet3 = set1.symmetric_difference(uniaoSet)\n",
        "print(diferencaSet2)\n",
        "print(diferencaSet3)\n",
        "\n",
        "set1.clear()\n"
      ],
      "metadata": {
        "colab": {
          "base_uri": "https://localhost:8080/"
        },
        "id": "d5QL6PI8X8a9",
        "outputId": "fc18f221-36e0-46da-9db8-2eb369c6f34d"
      },
      "execution_count": null,
      "outputs": [
        {
          "output_type": "stream",
          "name": "stdout",
          "text": [
            "{1, 2, 3, 4, 5, 6}\n",
            "{1, 2, 3, 4, 5, 6, 9, 10}\n",
            "{1, 2, 3, 4, 5, 6, 100, 9, 10, 11, 15}\n",
            "{1, 2, 3, 5, 6, 100, 9, 10, 11, 15}\n",
            "{1, 2, 3, 100, 5, 6, 9, 10, 11, 15, 20, 21, 22}\n",
            "{20, 21, 22}\n",
            "{1, 2, 3, 100, 5, 6, 9, 10, 11, 15}\n",
            "{1, 2, 3, 100, 5, 6, 9, 10, 11, 15}\n",
            "{1, 2, 3, 100, 5, 6, 9, 10, 11, 15}\n"
          ]
        }
      ]
    }
  ]
}