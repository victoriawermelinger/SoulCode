{
  "nbformat": 4,
  "nbformat_minor": 0,
  "metadata": {
    "colab": {
      "provenance": []
    },
    "kernelspec": {
      "name": "python3",
      "display_name": "Python 3"
    },
    "language_info": {
      "name": "python"
    }
  },
  "cells": [
    {
      "cell_type": "markdown",
      "source": [
        "##Criação de Strings##"
      ],
      "metadata": {
        "id": "Jq3WfWbF6SZD"
      }
    },
    {
      "cell_type": "code",
      "source": [
        "# Strings podem ser criadas usandos aspas simples ou duplas\n",
        "s1 = 'Hello, World!'\n",
        "s2 = \"Hello, World!\"\n",
        "\n",
        "# Strings de múltiplas linhas usando três aspas simples ou duplas\n",
        "s3 = ''' Essa é minha frase\n",
        "contendo múltiplas linhas\n",
        "na mesma variáveis '''\n",
        "\n",
        "s4 = \"\"\" Essa é minha frase\n",
        "contendo múltiplas linhas\n",
        "na mesma variáveis \"\"\""
      ],
      "metadata": {
        "id": "cEqCcY7m6WhJ"
      },
      "execution_count": null,
      "outputs": []
    },
    {
      "cell_type": "markdown",
      "source": [
        "##Acessando Caracteres e Substrings##"
      ],
      "metadata": {
        "id": "mB04FAzp8tIL"
      }
    },
    {
      "cell_type": "code",
      "source": [
        "s = \"Hello, World!\"\n",
        "\n",
        "#Acessar um caractere\n",
        "print(s[0])\n",
        "print(s[-1])\n",
        "\n",
        "#Acessar uma substring\n",
        "print(s[0:5]) # acessa a substring do início até o índice 5 (excluindo o 5).\n",
        "print(s[7:])  # acessa a substring do índice 7 até o final da string.\n",
        "print(s[:5])  # acessa a substring do início até o índice 5 (excluindo o 5)."
      ],
      "metadata": {
        "colab": {
          "base_uri": "https://localhost:8080/"
        },
        "id": "zsEMm_QR8422",
        "outputId": "0c4d23d7-208b-4fef-d867-ee764b66dc11"
      },
      "execution_count": null,
      "outputs": [
        {
          "output_type": "stream",
          "name": "stdout",
          "text": [
            "H\n",
            "!\n",
            "Hello\n",
            "World!\n",
            "Hello\n"
          ]
        }
      ]
    },
    {
      "cell_type": "markdown",
      "source": [
        "##Métodos Comuns de Strings##"
      ],
      "metadata": {
        "id": "WDhW98o0-5x8"
      }
    },
    {
      "cell_type": "markdown",
      "source": [
        "**len()** - Retorna o comprimento da string"
      ],
      "metadata": {
        "id": "EzgZD3li-_s-"
      }
    },
    {
      "cell_type": "code",
      "source": [
        "s = \"Essa é minha frase contendo múltiplas linhas na mesma variáveis \"\n",
        "print(len(s))\n"
      ],
      "metadata": {
        "colab": {
          "base_uri": "https://localhost:8080/"
        },
        "id": "RQKmRj8d_Gud",
        "outputId": "104e6b6e-5681-46ef-b781-bc4ac874e909"
      },
      "execution_count": null,
      "outputs": [
        {
          "output_type": "stream",
          "name": "stdout",
          "text": [
            "64\n"
          ]
        }
      ]
    },
    {
      "cell_type": "markdown",
      "source": [
        "**lower()** - Converter todos os caracteres da string para minúsculas."
      ],
      "metadata": {
        "id": "g45I0qFn_3tW"
      }
    },
    {
      "cell_type": "code",
      "source": [
        "s = \"Essa é minha frase contendo múltiplas linhas na mesma variáveis \"\n",
        "print(s.lower())"
      ],
      "metadata": {
        "colab": {
          "base_uri": "https://localhost:8080/"
        },
        "collapsed": true,
        "id": "ctauGvLZAC66",
        "outputId": "0830b0dd-177d-4ae4-82f4-0c8b6fbbe933"
      },
      "execution_count": null,
      "outputs": [
        {
          "output_type": "stream",
          "name": "stdout",
          "text": [
            "essa é minha frase contendo múltiplas linhas na mesma variáveis \n"
          ]
        }
      ]
    },
    {
      "cell_type": "markdown",
      "source": [
        "**upper()** - Converter todos os caracteres da string para maiúsculas."
      ],
      "metadata": {
        "id": "0YE4oE4aAXHL"
      }
    },
    {
      "cell_type": "code",
      "source": [
        "s = input(\"Digite uma frase: \")\n",
        "print(s)\n",
        "print(s.upper())\n",
        "print(s)\n",
        "\n",
        "s2 = input(\"Digite uma frase: \").upper()\n",
        "print(s2)"
      ],
      "metadata": {
        "colab": {
          "base_uri": "https://localhost:8080/"
        },
        "collapsed": true,
        "id": "ul8w76hGAdHV",
        "outputId": "8fc64e1f-e3ec-4716-d0f4-472b36fba641"
      },
      "execution_count": null,
      "outputs": [
        {
          "output_type": "stream",
          "name": "stdout",
          "text": [
            "Digite uma frase: minha frase\n",
            "minha frase\n",
            "MINHA FRASE\n",
            "minha frase\n",
            "Digite uma frase: minha frase\n",
            "MINHA FRASE\n"
          ]
        }
      ]
    },
    {
      "cell_type": "markdown",
      "source": [
        "**strip()** - Remove espaços em branco do início e do fim de uma string"
      ],
      "metadata": {
        "id": "IHjK9AqeB3h-"
      }
    },
    {
      "cell_type": "code",
      "source": [
        "s = input(\"Digite uma frase: \")\n",
        "print(len(s))\n",
        "s = s.strip()\n",
        "print(len(s))\n",
        "\n",
        "\n",
        "s2 = input(\"Digite uma frase: \").strip()\n",
        "print(len(s))\n"
      ],
      "metadata": {
        "colab": {
          "base_uri": "https://localhost:8080/"
        },
        "collapsed": true,
        "id": "vwxW5codGJcn",
        "outputId": "c0c970a0-fc02-462c-acbb-71db35e6eb86"
      },
      "execution_count": null,
      "outputs": [
        {
          "output_type": "stream",
          "name": "stdout",
          "text": [
            "Digite uma frase:  minha frase de efeito       \n",
            "29\n",
            "21\n",
            "Digite uma frase:  minha frase de efeito       \n",
            "21\n"
          ]
        }
      ]
    },
    {
      "cell_type": "markdown",
      "source": [
        "**split()** - Divide a string em uma lista de substrings com base em um delimitador"
      ],
      "metadata": {
        "id": "-xRVgL49IC7H"
      }
    },
    {
      "cell_type": "code",
      "source": [
        "import re\n",
        "\n",
        "s = input(\"Digite uma frase: \")\n",
        "print (s.split())\n",
        "print (s.split('-'))\n",
        "\n",
        "s.upper()\n",
        "resultado = re.split(r'[ ,]', s)\n",
        "print(resultado)\n"
      ],
      "metadata": {
        "colab": {
          "base_uri": "https://localhost:8080/"
        },
        "collapsed": true,
        "id": "b0Ka2MO6IeST",
        "outputId": "0508a509-8d4d-40bd-92a0-c90fdc49a0bd"
      },
      "execution_count": null,
      "outputs": [
        {
          "output_type": "stream",
          "name": "stdout",
          "text": [
            "Digite uma frase: Hello, World!\n",
            "['Hello,', 'World!']\n",
            "['Hello, World!']\n",
            "['Hello', '', 'World!']\n"
          ]
        }
      ]
    },
    {
      "cell_type": "markdown",
      "source": [
        "**replace()** - substitui as ocorrências de uma string por outra substring"
      ],
      "metadata": {
        "id": "okM3K2u5Kjes"
      }
    },
    {
      "cell_type": "code",
      "source": [
        "s = \"Hello, World!\"\n",
        "print(s.replace('World', 'Python'))"
      ],
      "metadata": {
        "colab": {
          "base_uri": "https://localhost:8080/"
        },
        "id": "uVoOXGGGKqt0",
        "outputId": "75014883-01eb-4a3a-b845-40742ec41ed5"
      },
      "execution_count": null,
      "outputs": [
        {
          "output_type": "stream",
          "name": "stdout",
          "text": [
            "Hello, Python!\n"
          ]
        }
      ]
    },
    {
      "cell_type": "markdown",
      "source": [
        "**join()** - Une uma lista de strings em uma única string usando delimitador"
      ],
      "metadata": {
        "id": "R7SO31QzLB63"
      }
    },
    {
      "cell_type": "code",
      "source": [
        "words = [\"Hello\", \"World\", \"Python\"]\n",
        "print (' '.join(words))\n",
        "print (', '.join(words))\n"
      ],
      "metadata": {
        "colab": {
          "base_uri": "https://localhost:8080/"
        },
        "collapsed": true,
        "id": "tn8VgqL7LLlE",
        "outputId": "483b39a7-c0e8-484a-94b1-17c8dcce86c0"
      },
      "execution_count": null,
      "outputs": [
        {
          "output_type": "stream",
          "name": "stdout",
          "text": [
            "Hello World Python\n",
            "Hello, World, Python\n"
          ]
        }
      ]
    },
    {
      "cell_type": "markdown",
      "source": [
        "**find()** - Retorna o indice da primeira ocorrência ou -1 se não encontrar"
      ],
      "metadata": {
        "id": "7swV2OubLtVv"
      }
    },
    {
      "cell_type": "code",
      "source": [
        "s = \"Hello, World!\"\n",
        "print(s.find('World'))\n",
        "print(s.find('Python'))"
      ],
      "metadata": {
        "colab": {
          "base_uri": "https://localhost:8080/"
        },
        "id": "vKzc4ZHpL5EM",
        "outputId": "ef4bf385-623b-4c85-f807-bc2eaba6040b"
      },
      "execution_count": null,
      "outputs": [
        {
          "output_type": "stream",
          "name": "stdout",
          "text": [
            "7\n",
            "-1\n"
          ]
        }
      ]
    },
    {
      "cell_type": "markdown",
      "source": [
        "**count()** - Conta o número de ocorrências de uma substring"
      ],
      "metadata": {
        "id": "X4zMT2p9MIs5"
      }
    },
    {
      "cell_type": "code",
      "source": [
        "s = \"Hello, World, Hello!\"\n",
        "print(s.count('Hello'))"
      ],
      "metadata": {
        "colab": {
          "base_uri": "https://localhost:8080/"
        },
        "id": "9HrDaifoMQc9",
        "outputId": "99e1c9e3-d889-4830-add8-cbffb745be1e"
      },
      "execution_count": null,
      "outputs": [
        {
          "output_type": "stream",
          "name": "stdout",
          "text": [
            "2\n"
          ]
        }
      ]
    },
    {
      "cell_type": "markdown",
      "source": [
        "**startswith() e endswith()** - Verifica se a string começa ou termina com uma determina substring"
      ],
      "metadata": {
        "id": "BksUpLFSMxV0"
      }
    },
    {
      "cell_type": "code",
      "source": [
        "s = \"Hello, World, Hello!\"\n",
        "\n",
        "print(s.startswith('Hello'))\n",
        "print(s.endswith('!'))"
      ],
      "metadata": {
        "colab": {
          "base_uri": "https://localhost:8080/"
        },
        "id": "c76qN-3wNFgQ",
        "outputId": "c8a2562d-ed64-4af2-b8f6-8602086e4668"
      },
      "execution_count": null,
      "outputs": [
        {
          "output_type": "stream",
          "name": "stdout",
          "text": [
            "True\n",
            "True\n"
          ]
        }
      ]
    },
    {
      "cell_type": "markdown",
      "source": [
        "**Técnica Slicing** - fatiamento de uma string"
      ],
      "metadata": {
        "id": "G1InZJZ5kPr3"
      }
    },
    {
      "cell_type": "code",
      "source": [
        "#sequencia[inicio:fim:passo]\n",
        "#inicio: índice onde o fatiamento começa (inclusivo). Se omitido, o padrão é o início da sequência.\n",
        "#fim: índice onde o fatiamento termina (exclusivo). Se omitido, o padrão é o final da sequência.\n",
        "#passo: tamanho do passo ou incremento entre índices. Se omitido, o padrão é 1.\n",
        "s = input(\"Digite uma frase: \")\n",
        "print(s)\n",
        "\n",
        "#Inverter uma string usando slicing\n",
        "x = s[::-1] # O slicing [::-1] começa do início até o final da sequência, mas com um passo de -1, o que inverte a string.\n",
        "# y = s[0:5:2]\n",
        "print(x)"
      ],
      "metadata": {
        "colab": {
          "base_uri": "https://localhost:8080/"
        },
        "collapsed": true,
        "id": "mJocp-PwkiEu",
        "outputId": "5e250bfe-2afb-403a-e72a-2358a8816440"
      },
      "execution_count": null,
      "outputs": [
        {
          "output_type": "stream",
          "name": "stdout",
          "text": [
            "Digite uma frase: Hello World\n",
            "Hello World\n",
            "Hlo\n"
          ]
        }
      ]
    },
    {
      "cell_type": "markdown",
      "source": [
        "**capitalize()** - Converte o primeiro caractere da string para maiúscula."
      ],
      "metadata": {
        "id": "_0yowQiEPGsX"
      }
    },
    {
      "cell_type": "code",
      "source": [
        "s = \"hello, world!\"\n",
        "print(s.capitalize())"
      ],
      "metadata": {
        "colab": {
          "base_uri": "https://localhost:8080/"
        },
        "id": "UB-j9LZ_PSY3",
        "outputId": "6f7a35b3-539f-4086-eaf3-8c121fa08645"
      },
      "execution_count": null,
      "outputs": [
        {
          "output_type": "stream",
          "name": "stdout",
          "text": [
            "Hello, world!\n"
          ]
        }
      ]
    },
    {
      "cell_type": "markdown",
      "source": [
        "**title()** - Converte a primeira letra de cada palavra para maiúscula."
      ],
      "metadata": {
        "id": "pufRqWdMP3n8"
      }
    },
    {
      "cell_type": "code",
      "source": [
        "s = \"hello, world!\"\n",
        "print(s.title())\n",
        "\n",
        "s2 = \"hello, world!\"\n",
        "resposta = ' '.join(word.capitalize() for word in s2.split())\n",
        "print(resposta)\n",
        "\n",
        "\n",
        "def capitalizar(algo):\n",
        "  words = algo.split() # words = [\"hello\",\"world\"]\n",
        "                                        #x = world\n",
        "  capitalizar_palavras = [x.capitalize() for x in words]\n",
        "  return ' '.join(capitalizar_palavras)\n",
        "\n",
        "frase = input(\"Digite sua frase: \")\n",
        "print(capitalizar(frase))\n",
        "\n"
      ],
      "metadata": {
        "colab": {
          "base_uri": "https://localhost:8080/"
        },
        "collapsed": true,
        "id": "Hz28wmYeQGu5",
        "outputId": "4ea5be77-8bb6-4543-c2df-528855767224"
      },
      "execution_count": null,
      "outputs": [
        {
          "output_type": "stream",
          "name": "stdout",
          "text": [
            "Hello, World!\n",
            "Hello, World!\n",
            "Digite sua frase: minha frase preferida\n",
            "MINHA FRASE PREFERIDA\n"
          ]
        }
      ]
    },
    {
      "cell_type": "markdown",
      "source": [
        "**casefold()** - É uma maneira mais agressiva que o lower() de converter uma string em minúscula."
      ],
      "metadata": {
        "id": "Xa2cc64JUER6"
      }
    },
    {
      "cell_type": "code",
      "source": [
        "# s = \"ß\"\n",
        "# print(s.lower())\n",
        "# print(s.casefold())\n",
        "\n",
        "s1 = \"Große\"\n",
        "s2 = \"Grosse\"\n",
        "\n",
        "print(s1.lower() == s2.lower())\n",
        "print(s1.casefold() == s2.casefold())\n"
      ],
      "metadata": {
        "colab": {
          "base_uri": "https://localhost:8080/"
        },
        "id": "YDKUEzHPUdSK",
        "outputId": "ec6e013f-365c-4ed2-fcb7-5304ccf415b8"
      },
      "execution_count": null,
      "outputs": [
        {
          "output_type": "stream",
          "name": "stdout",
          "text": [
            "False\n",
            "True\n"
          ]
        }
      ]
    },
    {
      "cell_type": "markdown",
      "source": [
        "**center()** - Centraliza a string, preenchendo com caracteres espeficificos, padrão espaço"
      ],
      "metadata": {
        "id": "cOr1uNK8W7cC"
      }
    },
    {
      "cell_type": "code",
      "source": [
        "s = \"hello\"\n",
        "print(s)\n",
        "print(s.center(10))\n",
        "print(s.center(11, '*'))"
      ],
      "metadata": {
        "colab": {
          "base_uri": "https://localhost:8080/"
        },
        "collapsed": true,
        "id": "RzqZHPDlXHTk",
        "outputId": "b2dc1a8f-8b95-4edd-f450-07f13aa9b70d"
      },
      "execution_count": null,
      "outputs": [
        {
          "output_type": "stream",
          "name": "stdout",
          "text": [
            "hello\n",
            "  hello   \n",
            "***hello***\n"
          ]
        }
      ]
    },
    {
      "cell_type": "markdown",
      "source": [
        "**expandtabs()** - Expande tabulações ('\\t')"
      ],
      "metadata": {
        "id": "6RbC3bXkXvpX"
      }
    },
    {
      "cell_type": "code",
      "source": [
        "s = \"hello\\tworld\"\n",
        "\n",
        "print(s.expandtabs(1))"
      ],
      "metadata": {
        "colab": {
          "base_uri": "https://localhost:8080/"
        },
        "id": "F6tCTUrgX4uw",
        "outputId": "7122e26a-bc45-49dc-f486-e6542188b0b2"
      },
      "execution_count": null,
      "outputs": [
        {
          "output_type": "stream",
          "name": "stdout",
          "text": [
            "hello world\n"
          ]
        }
      ]
    },
    {
      "cell_type": "markdown",
      "source": [
        "**isalnum()** - se todos os caracteres sao alfanuméricos"
      ],
      "metadata": {
        "id": "1PTyOLQOYiHK"
      }
    },
    {
      "cell_type": "code",
      "source": [
        "s = \"hello123\"\n",
        "print(s.isalnum())"
      ],
      "metadata": {
        "colab": {
          "base_uri": "https://localhost:8080/"
        },
        "id": "wPnloWpKYrFt",
        "outputId": "096f3151-526d-46ca-8cf9-ca84d28b76a5"
      },
      "execution_count": null,
      "outputs": [
        {
          "output_type": "stream",
          "name": "stdout",
          "text": [
            "False\n"
          ]
        }
      ]
    },
    {
      "cell_type": "markdown",
      "source": [
        "**isalpha()** - se todos os caracteres sao letras"
      ],
      "metadata": {
        "id": "w7ypvUSjY8CZ"
      }
    },
    {
      "cell_type": "code",
      "source": [
        "s = \"hello1\"\n",
        "print(s.isalpha())"
      ],
      "metadata": {
        "colab": {
          "base_uri": "https://localhost:8080/"
        },
        "id": "4ckW7x2PZBel",
        "outputId": "0681032f-acde-4d94-c418-5b26b1cf6316"
      },
      "execution_count": null,
      "outputs": [
        {
          "output_type": "stream",
          "name": "stdout",
          "text": [
            "False\n"
          ]
        }
      ]
    },
    {
      "cell_type": "markdown",
      "source": [
        "**isdigit()** - se todos os caracteres sao digitos"
      ],
      "metadata": {
        "id": "VYRL94ejZOlU"
      }
    },
    {
      "cell_type": "code",
      "source": [
        "s = \"123456\"\n",
        "print(s.isdigit())"
      ],
      "metadata": {
        "colab": {
          "base_uri": "https://localhost:8080/"
        },
        "id": "U_hMSm2cZTlG",
        "outputId": "f12bc23c-9363-40f1-be77-f3c22ce8f831"
      },
      "execution_count": null,
      "outputs": [
        {
          "output_type": "stream",
          "name": "stdout",
          "text": [
            "False\n"
          ]
        }
      ]
    },
    {
      "cell_type": "markdown",
      "source": [
        "**islower()** - se todos são minúsculas\n",
        "**isupper()** - se todos são maiúsculas"
      ],
      "metadata": {
        "id": "G-Jht1rLZdPu"
      }
    },
    {
      "cell_type": "markdown",
      "source": [
        "**isspace()** - se todos os caracteres são espaços em branco"
      ],
      "metadata": {
        "id": "11pHyoAbZsKv"
      }
    },
    {
      "cell_type": "code",
      "source": [
        "s = \"       \"\n",
        "print(s.isspace())"
      ],
      "metadata": {
        "colab": {
          "base_uri": "https://localhost:8080/"
        },
        "id": "0EVuhpuvZyQE",
        "outputId": "73936d53-d34a-4bd3-de20-30df59f470e3"
      },
      "execution_count": null,
      "outputs": [
        {
          "output_type": "stream",
          "name": "stdout",
          "text": [
            "True\n"
          ]
        }
      ]
    },
    {
      "cell_type": "markdown",
      "source": [
        "##Formatação de Strings##"
      ],
      "metadata": {
        "id": "PESGr7Jx84_8"
      }
    },
    {
      "cell_type": "markdown",
      "source": [
        "**format()** - Substitui os marcadores {} de posição na string por valores especificados."
      ],
      "metadata": {
        "id": "lmC98eNT9KsC"
      }
    },
    {
      "cell_type": "code",
      "source": [
        "nome = \"Helen\"\n",
        "idade = 30\n",
        "mensagem = \"Hello, {}. You are {} years old.\".format(nome, idade)\n",
        "print(mensagem)"
      ],
      "metadata": {
        "colab": {
          "base_uri": "https://localhost:8080/"
        },
        "id": "1feuZ11P9Ysd",
        "outputId": "91fa1a0b-b80d-49af-97c2-b875a91d48f9"
      },
      "execution_count": null,
      "outputs": [
        {
          "output_type": "stream",
          "name": "stdout",
          "text": [
            "Hello, Helen. You are 30 years old.\n"
          ]
        }
      ]
    },
    {
      "cell_type": "markdown",
      "source": [
        "**f-strings** - Funciona a partir do Python 3.6. Permite inserir expressões dentro da string."
      ],
      "metadata": {
        "id": "JCR9GEi--W01"
      }
    },
    {
      "cell_type": "code",
      "source": [
        "nome = \"Helen\"\n",
        "idade = 30\n",
        "\n",
        "mensagem = f\"Hello, {nome}. You are {idade} years old.\"\n",
        "print(mensagem)\n",
        "\n",
        "print(f\"Hello, {nome}. You are {idade} years old.\")"
      ],
      "metadata": {
        "colab": {
          "base_uri": "https://localhost:8080/"
        },
        "id": "9tWgmRpV-mgY",
        "outputId": "4eecfc2e-a035-44de-851d-2f2e6b6fda1f"
      },
      "execution_count": null,
      "outputs": [
        {
          "output_type": "stream",
          "name": "stdout",
          "text": [
            "Hello, Helen. You are 30 years old.\n",
            "Hello, Helen. You are 30 years old.\n"
          ]
        }
      ]
    }
  ]
}