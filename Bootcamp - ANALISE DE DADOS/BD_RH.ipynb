{
  "nbformat": 4,
  "nbformat_minor": 0,
  "metadata": {
    "colab": {
      "provenance": []
    },
    "kernelspec": {
      "name": "python3",
      "display_name": "Python 3"
    },
    "language_info": {
      "name": "python"
    }
  },
  "cells": [
    {
      "cell_type": "markdown",
      "source": [
        "##Criação das Tabelas"
      ],
      "metadata": {
        "id": "GXYJ1qE-IFWh"
      }
    },
    {
      "cell_type": "code",
      "execution_count": null,
      "metadata": {
        "id": "FXtLEfroIBV5"
      },
      "outputs": [],
      "source": [
        "CREATE TABLE Departamentos (\n",
        "    id INT PRIMARY KEY AUTO_INCREMENT,\n",
        "    nome VARCHAR(100) NOT NULL\n",
        ");\n",
        "\n",
        "CREATE TABLE Funcionarios (\n",
        "    id INT PRIMARY KEY AUTO_INCREMENT,\n",
        "    nome VARCHAR(100) NOT NULL,\n",
        "    cargo VARCHAR(50) NOT NULL,\n",
        "    departamento_id INT,\n",
        "    data_admissao DATE,\n",
        "    salario DECIMAL(10, 2),\n",
        "    FOREIGN KEY (departamento_id) REFERENCES Departamentos(id)\n",
        ");\n",
        "\n",
        "CREATE TABLE Avaliacoes (\n",
        "    id INT PRIMARY KEY AUTO_INCREMENT,\n",
        "    funcionario_id INT,\n",
        "    pontuacao INT CHECK (pontuacao >= 0 AND pontuacao <= 10),\n",
        "    data_avaliacao DATE,\n",
        "    comentario TEXT,\n",
        "    FOREIGN KEY (funcionario_id) REFERENCES Funcionarios(id)\n",
        ");\n",
        "\n",
        "-- Índices para otimizar consultas\n",
        "CREATE INDEX idx_funcionario ON Avaliacoes(funcionario_id);\n",
        "CREATE INDEX idx_departamento ON Funcionarios(departamento_id);\n",
        "CREATE INDEX idx_data_admissao ON Funcionarios(data_admissao);\n"
      ]
    },
    {
      "cell_type": "markdown",
      "source": [
        "##Insert Departamentos"
      ],
      "metadata": {
        "id": "_yjuQKXKIJKO"
      }
    },
    {
      "cell_type": "code",
      "source": [
        "INSERT INTO Departamentos (nome) VALUES\n",
        "('Recursos Humanos'),\n",
        "('TI'),\n",
        "('Financeiro'),\n",
        "('Marketing'),\n",
        "('Vendas'),\n",
        "('Operações'),\n",
        "('Suporte'),\n",
        "('Desenvolvimento'),\n",
        "('Pesquisa e Desenvolvimento'),\n",
        "('Administração'),\n",
        "('Jurídico'),\n",
        "('Qualidade'),\n",
        "('Logística'),\n",
        "('Compras'),\n",
        "('Comunicação'),\n",
        "('Treinamento'),\n",
        "('Atendimento ao Cliente'),\n",
        "('Planejamento'),\n",
        "('Estratégia'),\n",
        "('Inovação');\n"
      ],
      "metadata": {
        "id": "RGg7hKWOIL4m"
      },
      "execution_count": null,
      "outputs": []
    },
    {
      "cell_type": "markdown",
      "source": [
        "##Inserts Funcionarios"
      ],
      "metadata": {
        "id": "-xytC7hcIOr9"
      }
    },
    {
      "cell_type": "code",
      "source": [
        "INSERT INTO Funcionarios (nome, cargo, departamento_id, data_admissao, salario) VALUES\n",
        "('Ana Silva', 'Gerente', 1, '2019-03-10', 8000.00),\n",
        "('Carlos Souza', 'Analista', 2, '2020-07-15', 5000.00),\n",
        "('Mariana Lima', 'Coordenadora', 1, '2018-11-20', 7000.00),\n",
        "('João Santos', 'Desenvolvedor', 8, '2021-01-12', 6000.00),\n",
        "('Laura Costa', 'Analista', 5, '2022-06-30', 4500.00),\n",
        "('Roberto Pereira', 'Gerente', 3, '2017-09-05', 8500.00),\n",
        "('Fernanda Almeida', 'Coordenadora', 4, '2016-12-25', 7500.00),\n",
        "('Juliano Rocha', 'Assistente', 1, '2023-02-10', 3500.00),\n",
        "('Patrícia Gomes', 'Analista', 6, '2020-08-18', 4800.00),\n",
        "('Felipe Martins', 'Gerente', 7, '2018-05-22', 9000.00),\n",
        "('Simone Alves', 'Coordenadora', 2, '2021-03-15', 7200.00),\n",
        "('Ricardo Mendes', 'Desenvolvedor', 8, '2019-10-30', 6100.00),\n",
        "('Beatriz Nunes', 'Analista', 5, '2021-04-02', 4700.00),\n",
        "('Lucas Ribeiro', 'Assistente', 3, '2022-09-01', 3200.00),\n",
        "('Sofia Dias', 'Gerente', 4, '2015-10-10', 8200.00),\n",
        "('Thiago Oliveira', 'Analista', 6, '2020-05-25', 4900.00),\n",
        "('Amanda Martins', 'Coordenadora', 1, '2019-12-20', 7000.00),\n",
        "('Gabriel Ferreira', 'Desenvolvedor', 8, '2021-11-17', 6500.00),\n",
        "('Isabela Santos', 'Analista', 2, '2022-01-09', 4600.00),\n",
        "('Rafael Silva', 'Gerente', 3, '2018-07-14', 8800.00),\n",
        "('Lívia Costa', 'Coordenadora', 4, '2017-03-30', 7400.00),\n",
        "('Cláudia Mendes', 'Assistente', 1, '2022-03-15', 3400.00),\n",
        "('Ricardo Lima', 'Desenvolvedor', 8, '2021-04-20', 5800.00),\n",
        "('Tatiane Costa', 'Coordenadora', 4, '2020-06-10', 7200.00),\n",
        "('Felipe Alves', 'Gerente', 5, '2018-01-25', 8300.00),\n",
        "('Bianca Silva', 'Analista', 2, '2021-08-30', 4500.00),\n",
        "('Jéssica Ferreira', 'Gerente', 3, '2019-11-12', 9000.00),\n",
        "('Marcelo Santos', 'Analista', 7, '2022-07-05', 4900.00),\n",
        "('Juliana Martins', 'Coordenadora', 6, '2021-02-14', 7500.00),\n",
        "('Daniel Rocha', 'Desenvolvedor', 8, '2020-09-11', 6200.00),\n",
        "('Lucas Gomes', 'Analista', 5, '2023-01-15', 4700.00),\n",
        "('Vanessa Almeida', 'Assistente', 1, '2022-05-10', 3300.00),\n",
        "('Rogério Nunes', 'Gerente', 4, '2017-12-18', 8600.00),\n",
        "('Sérgio Dias', 'Coordenador', 3, '2018-03-23', 7800.00),\n",
        "('Kelly Santos', 'Desenvolvedora', 8, '2020-11-01', 6000.00),\n",
        "('Priscila Lima', 'Analista', 2, '2022-04-05', 4400.00),\n",
        "('Fernando Alves', 'Gerente', 5, '2016-06-14', 8700.00),\n",
        "('Aline Costa', 'Coordenadora', 6, '2019-05-17', 7400.00),\n",
        "('Thiago Rocha', 'Desenvolvedor', 8, '2020-10-19', 6400.00),\n",
        "('Natália Ferreira', 'Analista', 1, '2022-07-30', 4100.00),\n",
        "('Gustavo Ribeiro', 'Assistente', 3, '2021-09-22', 3000.00),\n",
        "('Tânia Silva', 'Gerente', 4, '2015-08-11', 8800.00),\n",
        "('Eduardo Santos', 'Coordenador', 2, '2022-02-01', 7700.00),\n",
        "('Carla Almeida', 'Desenvolvedora', 8, '2023-03-13', 6500.00),\n",
        "('Mariana Nunes', 'Analista', 6, '2020-04-25', 4800.00),\n",
        "('Rodrigo Lima', 'Gerente', 5, '2017-10-30', 8400.00),\n",
        "('Renata Santos', 'Coordenadora', 1, '2021-12-14', 7300.00),\n",
        "('Carlos Martins', 'Desenvolvedor', 8, '2019-09-02', 6200.00),\n",
        "('Patricia Alves', 'Analista', 4, '2023-02-18', 4900.00),\n",
        "('Marcos Ferreira', 'Assistente', 3, '2022-01-25', 3100.00),\n",
        "('Joana Silva', 'Gerente', 2, '2016-11-10', 8500.00),\n",
        "('Roberta Costa', 'Coordenadora', 5, '2021-08-12', 7600.00),\n",
        "('Fábio Rocha', 'Desenvolvedor', 8, '2020-05-22', 6300.00),\n",
        "('Simone Ribeiro', 'Analista', 6, '2022-11-30', 4500.00),\n",
        "('Cristiano Nunes', 'Gerente', 1, '2018-06-17', 9100.00),\n",
        "('Vânia Dias', 'Coordenadora', 4, '2017-07-24', 7200.00),\n",
        "('Leandro Silva', 'Desenvolvedor', 8, '2023-02-20', 5800.00),\n",
        "('André Almeida', 'Analista', 3, '2021-06-28', 4600.00),\n",
        "('Nathalia Ferreira', 'Assistente', 2, '2022-03-15', 3400.00),\n",
        "('Cláudio Costa', 'Gerente', 5, '2015-12-01', 8000.00),\n",
        "('Juliana Santos', 'Coordenadora', 1, '2018-02-20', 7500.00),\n",
        "('Paulo Lima', 'Desenvolvedor', 8, '2020-09-10', 6200.00),\n",
        "('Sofia Nunes', 'Analista', 4, '2023-01-05', 4700.00),\n",
        "('Marcelo Ferreira', 'Assistente', 3, '2021-07-19', 3000.00),\n",
        "('Jessica Almeida', 'Gerente', 2, '2019-10-30', 9300.00),\n",
        "('Antonio Dias', 'Coordenador', 5, '2017-04-18', 7400.00),\n",
        "('Tatiane Rocha', 'Desenvolvedora', 8, '2022-11-10', 6000.00),\n",
        "('Renan Ribeiro', 'Analista', 6, '2020-12-20', 4800.00);\n"
      ],
      "metadata": {
        "id": "3pdy-NPCIQwi"
      },
      "execution_count": null,
      "outputs": []
    },
    {
      "cell_type": "markdown",
      "source": [
        "##Inserts Avaliações"
      ],
      "metadata": {
        "id": "5yKfuNpjIYw-"
      }
    },
    {
      "cell_type": "code",
      "source": [
        "INSERT INTO Avaliacoes (funcionario_id, pontuacao, data_avaliacao, comentario) VALUES\n",
        "(1, 9, '2023-06-10', 'Ótimo desempenho'),\n",
        "(2, 7, '2023-05-15', 'Bom trabalho, mas pode melhorar'),\n",
        "(3, 8, '2023-04-20', 'Cumpriu as metas estabelecidas'),\n",
        "(4, 9, '2023-03-25', 'Excelente código!'),\n",
        "(5, 6, '2023-02-18', 'Precisa de mais experiência'),\n",
        "(6, 10, '2023-01-12', 'Desempenho exemplar!'),\n",
        "(7, 8, '2023-06-05', 'Bom trabalho em equipe'),\n",
        "(8, 9, '2023-05-20', 'Inovador e criativo'),\n",
        "(9, 7, '2023-04-15', 'Regular, mas comprometido'),\n",
        "(10, 10, '2023-03-10', 'Foco e determinação'),\n",
        "(11, 6, '2023-02-10', 'Pode melhorar no atendimento'),\n",
        "(12, 8, '2023-01-15', 'Bons resultados e proatividade'),\n",
        "(13, 9, '2023-06-12', 'Excelente feedback de clientes'),\n",
        "(14, 5, '2023-05-05', 'Precisa de mais apoio'),\n",
        "(15, 10, '2023-04-22', 'Superou expectativas'),\n",
        "(16, 8, '2023-03-30', 'Criou soluções inovadoras'),\n",
        "(17, 7, '2023-02-20', 'Resultados satisfatórios'),\n",
        "(18, 9, '2023-01-10', 'Grande impacto na equipe'),\n",
        "(19, 6, '2023-06-15', 'Desempenho abaixo do esperado'),\n",
        "(20, 10, '2023-05-12', 'Impressionante trabalho em equipe');\n"
      ],
      "metadata": {
        "id": "poDGK0rnIbZJ"
      },
      "execution_count": null,
      "outputs": []
    }
  ]
}