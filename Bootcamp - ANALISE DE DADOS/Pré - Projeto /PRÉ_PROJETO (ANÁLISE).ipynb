{
 "cells": [
  {
   "cell_type": "markdown",
   "metadata": {},
   "source": [
    "Esse projeto se desenvolve em quatro etapas principais, cada uma focada em uma parte do fluxo de dados, desde a criação de infraestrutura até a visualização final. Vamos detalhá-las:\n",
    "\n",
    "### **Etapa 01: Armazenamento e Modelagem**\n",
    "- **Bucket no Google Cloud Storage:** Criar um bucket chamado **dados brutos** e armazenar os dados originais.\n",
    "- **Instância MySQL no Google Cloud SQL:** Criar um banco relacional e carregar a mesma base de dados. Junto ao projeto, entregar o Modelo Entidade-Relacionamento (MER) que descreva a estrutura do banco de dados.\n",
    "\n",
    "### **Etapa 02: Extração e Transformação**\n",
    "- **Criação de um Colab:** No Google Colab, será necessário criar scripts para extrair os dados do bucket no **Google Cloud Storage** ou do banco relacional no **Google Cloud SQL** (ou ambos, para mostrar domínio das ferramentas).\n",
    "- **Documentação:** Todos os códigos devem estar bem comentados para facilitar o entendimento do avaliador.\n",
    "\n",
    "### **Etapa 03: Transformação e Carga**\n",
    "- **Transformações:** Aqui, os dados serão tratados, o que pode incluir a criação de novas colunas e tabelas resultantes de agrupamentos e análises exploratórias.\n",
    "- **Carga dos dados tratados:**\n",
    "  - **Google Big Query:** Carregar os dados tratados.\n",
    "  - **Google Cloud Storage:** Manter uma cópia dos dados transformados.\n",
    "  - **Atlas/MongoDB:** Uma cópia adicional será armazenada no Atlas/MongoDB para fins de demonstração.\n",
    "\n",
    "### **Etapa 04: Visualização e Relatório**\n",
    "- **Ferramentas de Visualização:** Criar dashboards no **Looker Studio** ou **Power BI** (obrigatório). **Tableau** ou **Oracle Analytics** são opcionais.\n",
    "- **Dashboards:** Os dashboards devem responder às perguntas de negócios levantadas pelo grupo e fornecer insights claros e acionáveis.\n",
    "\n",
    "Essa estrutura te permitirá demonstrar o fluxo completo de ETL (extração, transformação e carga), a modelagem relacional e a visualização de dados."
   ]
  }
 ],
 "metadata": {
  "language_info": {
   "name": "python"
  }
 },
 "nbformat": 4,
 "nbformat_minor": 2
}
