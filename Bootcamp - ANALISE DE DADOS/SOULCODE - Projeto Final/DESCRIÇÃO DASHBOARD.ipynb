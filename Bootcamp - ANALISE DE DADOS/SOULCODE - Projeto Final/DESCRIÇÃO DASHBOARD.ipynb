{
 "cells": [
  {
   "cell_type": "markdown",
   "metadata": {},
   "source": [
    "### **Análise de Compensação e Distribuição de Funcionários**\n",
    "\n",
    "Este dashboard oferece uma visão abrangente da **distribuição de funcionários**, **compensação salarial** e **desempenho por departamento** e **gênero**, permitindo uma análise detalhada de diversos aspectos que impactam a gestão de pessoas e remuneração na empresa.\n",
    "\n",
    "1. **Funcionários Ativos e Inativos**: A distribuição de funcionários entre **ativos (64)** e **inativos (36)** é exibida, permitindo monitorar a rotatividade e a estabilidade do quadro de funcionários.\n",
    "\n",
    "2. **Distribuição de Gênero**: O gráfico de barras apresenta a contagem de funcionários por **gênero**, destacando a diversidade na organização. Podemos observar um equilíbrio entre gêneros com destaque para o grupo **feminino** e **masculino**, além da inclusão da categoria **Outro**.\n",
    "\n",
    "3. **Média e Soma de Compensação Anual por Departamento**: Este gráfico de linhas e colunas exibe a **média e a soma total da compensação anual** por departamento. Departamentos como **TI** e **Financeiro** apresentam maiores somas de compensação, enquanto áreas como **RH** e **Vendas** têm menores valores. Isso ajuda a identificar discrepâncias salariais e planejar ações de ajuste, se necessário.\n",
    "\n",
    "4. **Contagem de Funcionários por Departamento**: Visualizamos a **distribuição do número de funcionários por departamento**, o que proporciona uma visão clara de onde estão concentrados os colaboradores da empresa. **Operações** e **Financeiro** têm as maiores contagens de funcionários, seguidos de **TI** e **Marketing**.\n",
    "\n",
    "5. **Soma de Salário por Departamento**: Um gráfico de barras invertido destaca a **soma de salários** pagos em cada departamento. **Operações** lidera com o maior montante, enquanto **RH** aparece com o menor. Este dado é essencial para verificar como os custos com pessoal estão distribuídos por área.\n",
    "\n",
    "6. **Soma de Avaliação de Desempenho**: Por fim, temos um medidor que indica a **soma das avaliações de desempenho**, atingindo **529,70** em uma escala de até **1,06 milhão**. Isso oferece uma visão quantitativa da performance geral dos departamentos e pode ser correlacionado com a remuneração e outros indicadores.\n",
    "\n",
    "---\n",
    "\n",
    "Este dashboard foi desenvolvido para facilitar a **gestão de pessoas** e **planejamento estratégico**, proporcionando uma visão clara de como os funcionários estão distribuídos entre os departamentos, a compensação por área, e a performance geral. Com essas informações, a empresa pode tomar decisões mais assertivas, seja para ajustes salariais, contratações estratégicas ou iniciativas de diversidade e inclusão.\n",
    "\n"
   ]
  },
  {
   "cell_type": "markdown",
   "metadata": {},
   "source": [
    "**segundo dashboard**\n",
    "### **Indicadores de Satisfação e Retenção de Funcionários**\n",
    "\n",
    "Este dashboard apresenta uma análise detalhada dos **indicadores de satisfação** e **retenção de funcionários**, permitindo um acompanhamento claro das variáveis que impactam o engajamento, absenteísmo e os motivos de desligamento.\n",
    "\n",
    "1. **Média de Satisfação**: Com um valor de **5,46**, este indicador mostra a média de satisfação dos funcionários com a empresa, com base em pesquisas internas. Esse dado é essencial para identificar o clima organizacional e a percepção dos colaboradores em relação ao ambiente de trabalho.\n",
    "\n",
    "2. **Média de Salário**: O salário médio dos funcionários é de **86,69 mil**, o que ajuda a traçar o perfil de remuneração na empresa e a comparar com benchmarks de mercado.\n",
    "\n",
    "3. **Contagem de Funcionários por Plano de Saúde**: Esse gráfico exibe a quantidade de funcionários por tipo de plano de saúde: **Básico**, **Completo**, e **Premium**. A maioria dos funcionários possui planos **Básico** e **Completo**, enquanto uma menor parcela opta pelo **Premium**.\n",
    "\n",
    "4. **Contagem de Funcionários por Motivo de Ausência**: Este gráfico apresenta os principais motivos de ausência dos colaboradores, como **férias** (36), **licença** (33), e **doença** (28). Esse monitoramento é importante para controlar o absenteísmo e identificar padrões que possam impactar a produtividade.\n",
    "\n",
    "5. **Média de Pesquisa de Satisfação e Média de Salário por Departamento**: Um gráfico de linhas que compara a **média de satisfação** com a **média salarial** em cada departamento. Podemos observar que áreas como **TI** e **Financeiro** têm maiores médias salariais, enquanto a satisfação varia entre os departamentos, sendo **RH** um dos mais altos.\n",
    "\n",
    "6. **Contagem de Funcionários por Motivo de Saída**: Este gráfico destaca os motivos de saída dos funcionários, como **motivo padrão** (13), **rescisão voluntária** (10), **aposentadoria** (7), e **demissão** (6). Esta análise permite uma visão clara das razões mais comuns para o desligamento, auxiliando na definição de estratégias para aumentar a retenção.\n",
    "\n",
    "---\n",
    "\n",
    "Este dashboard proporciona uma visão estratégica e gerencial dos principais fatores que influenciam a **satisfação** e a **retenção de funcionários** na empresa. Com esses dados, é possível identificar pontos de atenção, como a **insatisfação em determinados departamentos** ou **altas taxas de ausências** que podem impactar a produtividade, além de permitir a formulação de **políticas de retenção mais assertivas**.\n",
    "\n"
   ]
  }
 ],
 "metadata": {
  "language_info": {
   "name": "python"
  }
 },
 "nbformat": 4,
 "nbformat_minor": 2
}
